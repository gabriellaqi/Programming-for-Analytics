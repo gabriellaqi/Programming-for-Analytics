{
 "cells": [
  {
   "cell_type": "markdown",
   "metadata": {},
   "source": [
    "Collecting Data"
   ]
  },
  {
   "cell_type": "code",
   "execution_count": 91,
   "metadata": {
    "colab": {
     "base_uri": "https://localhost:8080/",
     "height": 680
    },
    "colab_type": "code",
    "executionInfo": {
     "elapsed": 7967,
     "status": "ok",
     "timestamp": 1576133632613,
     "user": {
      "displayName": "Hyunsoo Kim",
      "photoUrl": "",
      "userId": "13555375600564903636"
     },
     "user_tz": 300
    },
    "id": "eEZD6AbndZ4a",
    "outputId": "dd84e4ae-a4e4-45f0-fa88-63ad235f040d"
   },
   "outputs": [
    {
     "name": "stdout",
     "output_type": "stream",
     "text": [
      "Requirement already satisfied: quandl in c:\\users\\gabriella\\anaconda3\\lib\\site-packages (3.4.8)\n",
      "Requirement already satisfied: requests>=2.7.0 in c:\\users\\gabriella\\anaconda3\\lib\\site-packages (from quandl) (2.23.0)\n",
      "Requirement already satisfied: python-dateutil in c:\\users\\gabriella\\anaconda3\\lib\\site-packages (from quandl) (2.8.1)\n",
      "Requirement already satisfied: six in c:\\users\\gabriella\\anaconda3\\lib\\site-packages (from quandl) (1.14.0)\n",
      "Requirement already satisfied: more-itertools<=5.0.0 in c:\\users\\gabriella\\anaconda3\\lib\\site-packages (from quandl) (5.0.0)\n",
      "Requirement already satisfied: inflection>=0.3.1 in c:\\users\\gabriella\\anaconda3\\lib\\site-packages (from quandl) (0.3.1)\n",
      "Requirement already satisfied: numpy>=1.8 in c:\\users\\gabriella\\anaconda3\\lib\\site-packages (from quandl) (1.18.1)\n",
      "Requirement already satisfied: ndg-httpsclient in c:\\users\\gabriella\\anaconda3\\lib\\site-packages (from quandl) (0.5.1)\n",
      "Requirement already satisfied: pyasn1 in c:\\users\\gabriella\\anaconda3\\lib\\site-packages (from quandl) (0.4.8)\n",
      "Requirement already satisfied: pandas>=0.14 in c:\\users\\gabriella\\anaconda3\\lib\\site-packages (from quandl) (1.0.3)\n",
      "Requirement already satisfied: pyOpenSSL in c:\\users\\gabriella\\anaconda3\\lib\\site-packages (from quandl) (19.1.0)\n",
      "Requirement already satisfied: urllib3!=1.25.0,!=1.25.1,<1.26,>=1.21.1 in c:\\users\\gabriella\\anaconda3\\lib\\site-packages (from requests>=2.7.0->quandl) (1.25.8)\n",
      "Requirement already satisfied: idna<3,>=2.5 in c:\\users\\gabriella\\anaconda3\\lib\\site-packages (from requests>=2.7.0->quandl) (2.9)\n",
      "Requirement already satisfied: chardet<4,>=3.0.2 in c:\\users\\gabriella\\anaconda3\\lib\\site-packages (from requests>=2.7.0->quandl) (3.0.4)\n",
      "Requirement already satisfied: certifi>=2017.4.17 in c:\\users\\gabriella\\anaconda3\\lib\\site-packages (from requests>=2.7.0->quandl) (2020.11.8)\n",
      "Requirement already satisfied: pytz>=2017.2 in c:\\users\\gabriella\\anaconda3\\lib\\site-packages (from pandas>=0.14->quandl) (2020.1)\n",
      "Requirement already satisfied: cryptography>=2.8 in c:\\users\\gabriella\\anaconda3\\lib\\site-packages (from pyOpenSSL->quandl) (2.9.2)\n",
      "Requirement already satisfied: cffi!=1.11.3,>=1.8 in c:\\users\\gabriella\\anaconda3\\lib\\site-packages (from cryptography>=2.8->pyOpenSSL->quandl) (1.14.0)\n",
      "Requirement already satisfied: pycparser in c:\\users\\gabriella\\anaconda3\\lib\\site-packages (from cffi!=1.11.3,>=1.8->cryptography>=2.8->pyOpenSSL->quandl) (2.20)\n"
     ]
    }
   ],
   "source": [
    "import numpy as np\n",
    "import pandas as pd\n",
    "import datetime\n",
    "!pip install quandl\n",
    "import quandl"
   ]
  },
  {
   "cell_type": "markdown",
   "metadata": {},
   "source": [
    "1. Choose five distinct equities or assets (oil, gold, bonds, currency pairs, bitcoins, etc…). Verify there is data available to import from Quandl or Yahoo.\n",
    "2. Import daily prices (adj closing or spot) for all five assets. Use 1/1/2018 as the start date and 12/31/2018 as the end date. Display the first 5 rows and the total count for each asset."
   ]
  },
  {
   "cell_type": "code",
   "execution_count": 92,
   "metadata": {
    "colab": {
     "base_uri": "https://localhost:8080/",
     "height": 235
    },
    "colab_type": "code",
    "executionInfo": {
     "elapsed": 794,
     "status": "ok",
     "timestamp": 1576133637151,
     "user": {
      "displayName": "Hyunsoo Kim",
      "photoUrl": "",
      "userId": "13555375600564903636"
     },
     "user_tz": 300
    },
    "id": "k0Lv_F4yiHjl",
    "outputId": "f0570b46-0937-4810-8c2d-01bc370d4974"
   },
   "outputs": [
    {
     "data": {
      "text/html": [
       "<div>\n",
       "<style scoped>\n",
       "    .dataframe tbody tr th:only-of-type {\n",
       "        vertical-align: middle;\n",
       "    }\n",
       "\n",
       "    .dataframe tbody tr th {\n",
       "        vertical-align: top;\n",
       "    }\n",
       "\n",
       "    .dataframe thead th {\n",
       "        text-align: right;\n",
       "    }\n",
       "</style>\n",
       "<table border=\"1\" class=\"dataframe\">\n",
       "  <thead>\n",
       "    <tr style=\"text-align: right;\">\n",
       "      <th></th>\n",
       "      <th>Hong Kong 8:30</th>\n",
       "      <th>Hong Kong 14:00</th>\n",
       "      <th>London 09:00</th>\n",
       "      <th>New York 9:30</th>\n",
       "    </tr>\n",
       "    <tr>\n",
       "      <th>Date</th>\n",
       "      <th></th>\n",
       "      <th></th>\n",
       "      <th></th>\n",
       "      <th></th>\n",
       "    </tr>\n",
       "  </thead>\n",
       "  <tbody>\n",
       "    <tr>\n",
       "      <th>2018-01-02</th>\n",
       "      <td>1073.0</td>\n",
       "      <td>1078.0</td>\n",
       "      <td>1077.0</td>\n",
       "      <td>1089.0</td>\n",
       "    </tr>\n",
       "    <tr>\n",
       "      <th>2018-01-03</th>\n",
       "      <td>1100.0</td>\n",
       "      <td>1098.0</td>\n",
       "      <td>1095.0</td>\n",
       "      <td>1091.0</td>\n",
       "    </tr>\n",
       "    <tr>\n",
       "      <th>2018-01-04</th>\n",
       "      <td>1088.0</td>\n",
       "      <td>1090.0</td>\n",
       "      <td>1104.0</td>\n",
       "      <td>1104.0</td>\n",
       "    </tr>\n",
       "    <tr>\n",
       "      <th>2018-01-05</th>\n",
       "      <td>1106.0</td>\n",
       "      <td>1106.0</td>\n",
       "      <td>1104.0</td>\n",
       "      <td>1096.0</td>\n",
       "    </tr>\n",
       "    <tr>\n",
       "      <th>2018-01-08</th>\n",
       "      <td>1100.0</td>\n",
       "      <td>1101.0</td>\n",
       "      <td>1104.0</td>\n",
       "      <td>1097.0</td>\n",
       "    </tr>\n",
       "  </tbody>\n",
       "</table>\n",
       "</div>"
      ],
      "text/plain": [
       "            Hong Kong 8:30  Hong Kong 14:00  London 09:00  New York 9:30\n",
       "Date                                                                    \n",
       "2018-01-02          1073.0           1078.0        1077.0         1089.0\n",
       "2018-01-03          1100.0           1098.0        1095.0         1091.0\n",
       "2018-01-04          1088.0           1090.0        1104.0         1104.0\n",
       "2018-01-05          1106.0           1106.0        1104.0         1096.0\n",
       "2018-01-08          1100.0           1101.0        1104.0         1097.0"
      ]
     },
     "execution_count": 92,
     "metadata": {},
     "output_type": "execute_result"
    }
   ],
   "source": [
    "# palladium\n",
    "quandl.ApiConfig.api_key = 'sGoMaA6d9ssqDr7J88iS'\n",
    "palladium_data = quandl.get(\"JOHNMATT/PALL\", start_date = \"2018-01-01\", end_date = \"2018-12-31\")\n",
    "palladium_data.head()"
   ]
  },
  {
   "cell_type": "code",
   "execution_count": 93,
   "metadata": {
    "colab": {
     "base_uri": "https://localhost:8080/",
     "height": 34
    },
    "colab_type": "code",
    "executionInfo": {
     "elapsed": 458,
     "status": "ok",
     "timestamp": 1576133638548,
     "user": {
      "displayName": "Hyunsoo Kim",
      "photoUrl": "",
      "userId": "13555375600564903636"
     },
     "user_tz": 300
    },
    "id": "UWLzPkayF3ex",
    "outputId": "4910bd21-b570-4bd1-e215-1d9b2f4d16f9"
   },
   "outputs": [
    {
     "data": {
      "text/plain": [
       "246"
      ]
     },
     "execution_count": 93,
     "metadata": {},
     "output_type": "execute_result"
    }
   ],
   "source": [
    "palladium_data['New York 9:30'].count()"
   ]
  },
  {
   "cell_type": "code",
   "execution_count": 94,
   "metadata": {
    "colab": {
     "base_uri": "https://localhost:8080/",
     "height": 235
    },
    "colab_type": "code",
    "executionInfo": {
     "elapsed": 781,
     "status": "ok",
     "timestamp": 1576133640209,
     "user": {
      "displayName": "Hyunsoo Kim",
      "photoUrl": "",
      "userId": "13555375600564903636"
     },
     "user_tz": 300
    },
    "id": "W6EuL9zOiZQK",
    "outputId": "808ed2a6-2092-43c7-a433-1b44517dba0c"
   },
   "outputs": [
    {
     "data": {
      "text/html": [
       "<div>\n",
       "<style scoped>\n",
       "    .dataframe tbody tr th:only-of-type {\n",
       "        vertical-align: middle;\n",
       "    }\n",
       "\n",
       "    .dataframe tbody tr th {\n",
       "        vertical-align: top;\n",
       "    }\n",
       "\n",
       "    .dataframe thead th {\n",
       "        text-align: right;\n",
       "    }\n",
       "</style>\n",
       "<table border=\"1\" class=\"dataframe\">\n",
       "  <thead>\n",
       "    <tr style=\"text-align: right;\">\n",
       "      <th></th>\n",
       "      <th>Value</th>\n",
       "    </tr>\n",
       "    <tr>\n",
       "      <th>Date</th>\n",
       "      <th></th>\n",
       "    </tr>\n",
       "  </thead>\n",
       "  <tbody>\n",
       "    <tr>\n",
       "      <th>2018-01-01</th>\n",
       "      <td>1291.00</td>\n",
       "    </tr>\n",
       "    <tr>\n",
       "      <th>2018-01-02</th>\n",
       "      <td>1312.05</td>\n",
       "    </tr>\n",
       "    <tr>\n",
       "      <th>2018-01-03</th>\n",
       "      <td>1314.90</td>\n",
       "    </tr>\n",
       "    <tr>\n",
       "      <th>2018-01-04</th>\n",
       "      <td>1314.50</td>\n",
       "    </tr>\n",
       "    <tr>\n",
       "      <th>2018-01-05</th>\n",
       "      <td>1317.15</td>\n",
       "    </tr>\n",
       "  </tbody>\n",
       "</table>\n",
       "</div>"
      ],
      "text/plain": [
       "              Value\n",
       "Date               \n",
       "2018-01-01  1291.00\n",
       "2018-01-02  1312.05\n",
       "2018-01-03  1314.90\n",
       "2018-01-04  1314.50\n",
       "2018-01-05  1317.15"
      ]
     },
     "execution_count": 94,
     "metadata": {},
     "output_type": "execute_result"
    }
   ],
   "source": [
    "# gold\n",
    "gold_data = quandl.get(\"WGC/GOLD_DAILY_USD\", start_date = \"2018-01-01\", end_date = \"2018-12-31\")\n",
    "gold_data.head()"
   ]
  },
  {
   "cell_type": "code",
   "execution_count": 95,
   "metadata": {
    "colab": {
     "base_uri": "https://localhost:8080/",
     "height": 51
    },
    "colab_type": "code",
    "executionInfo": {
     "elapsed": 510,
     "status": "ok",
     "timestamp": 1576133641661,
     "user": {
      "displayName": "Hyunsoo Kim",
      "photoUrl": "",
      "userId": "13555375600564903636"
     },
     "user_tz": 300
    },
    "id": "PHlnbMovGJOc",
    "outputId": "59870584-74e2-435d-d6b3-85ddda8182a1"
   },
   "outputs": [
    {
     "data": {
      "text/plain": [
       "Value    261\n",
       "dtype: int64"
      ]
     },
     "execution_count": 95,
     "metadata": {},
     "output_type": "execute_result"
    }
   ],
   "source": [
    "gold_data.count()"
   ]
  },
  {
   "cell_type": "code",
   "execution_count": 96,
   "metadata": {
    "colab": {
     "base_uri": "https://localhost:8080/",
     "height": 235
    },
    "colab_type": "code",
    "executionInfo": {
     "elapsed": 1006,
     "status": "ok",
     "timestamp": 1576133643056,
     "user": {
      "displayName": "Hyunsoo Kim",
      "photoUrl": "",
      "userId": "13555375600564903636"
     },
     "user_tz": 300
    },
    "id": "W3kl4xEJ29Ez",
    "outputId": "f099364e-8a01-4bd7-b0ef-b65f28c7a3ab"
   },
   "outputs": [
    {
     "data": {
      "text/html": [
       "<div>\n",
       "<style scoped>\n",
       "    .dataframe tbody tr th:only-of-type {\n",
       "        vertical-align: middle;\n",
       "    }\n",
       "\n",
       "    .dataframe tbody tr th {\n",
       "        vertical-align: top;\n",
       "    }\n",
       "\n",
       "    .dataframe thead th {\n",
       "        text-align: right;\n",
       "    }\n",
       "</style>\n",
       "<table border=\"1\" class=\"dataframe\">\n",
       "  <thead>\n",
       "    <tr style=\"text-align: right;\">\n",
       "      <th></th>\n",
       "      <th>USD AM</th>\n",
       "      <th>EUR AM</th>\n",
       "      <th>GBP AM</th>\n",
       "      <th>USD PM</th>\n",
       "      <th>EUR PM</th>\n",
       "      <th>GBP PM</th>\n",
       "    </tr>\n",
       "    <tr>\n",
       "      <th>Date</th>\n",
       "      <th></th>\n",
       "      <th></th>\n",
       "      <th></th>\n",
       "      <th></th>\n",
       "      <th></th>\n",
       "      <th></th>\n",
       "    </tr>\n",
       "  </thead>\n",
       "  <tbody>\n",
       "    <tr>\n",
       "      <th>2018-01-02</th>\n",
       "      <td>937.0</td>\n",
       "      <td>776.63</td>\n",
       "      <td>690.75</td>\n",
       "      <td>936.0</td>\n",
       "      <td>776.44</td>\n",
       "      <td>690.52</td>\n",
       "    </tr>\n",
       "    <tr>\n",
       "      <th>2018-01-03</th>\n",
       "      <td>944.0</td>\n",
       "      <td>784.05</td>\n",
       "      <td>694.88</td>\n",
       "      <td>951.0</td>\n",
       "      <td>790.85</td>\n",
       "      <td>701.59</td>\n",
       "    </tr>\n",
       "    <tr>\n",
       "      <th>2018-01-04</th>\n",
       "      <td>953.0</td>\n",
       "      <td>791.86</td>\n",
       "      <td>703.84</td>\n",
       "      <td>959.0</td>\n",
       "      <td>794.53</td>\n",
       "      <td>708.53</td>\n",
       "    </tr>\n",
       "    <tr>\n",
       "      <th>2018-01-05</th>\n",
       "      <td>963.0</td>\n",
       "      <td>799.50</td>\n",
       "      <td>711.75</td>\n",
       "      <td>966.0</td>\n",
       "      <td>801.33</td>\n",
       "      <td>712.13</td>\n",
       "    </tr>\n",
       "    <tr>\n",
       "      <th>2018-01-08</th>\n",
       "      <td>967.0</td>\n",
       "      <td>806.51</td>\n",
       "      <td>714.97</td>\n",
       "      <td>971.0</td>\n",
       "      <td>811.19</td>\n",
       "      <td>716.87</td>\n",
       "    </tr>\n",
       "  </tbody>\n",
       "</table>\n",
       "</div>"
      ],
      "text/plain": [
       "            USD AM  EUR AM  GBP AM  USD PM  EUR PM  GBP PM\n",
       "Date                                                      \n",
       "2018-01-02   937.0  776.63  690.75   936.0  776.44  690.52\n",
       "2018-01-03   944.0  784.05  694.88   951.0  790.85  701.59\n",
       "2018-01-04   953.0  791.86  703.84   959.0  794.53  708.53\n",
       "2018-01-05   963.0  799.50  711.75   966.0  801.33  712.13\n",
       "2018-01-08   967.0  806.51  714.97   971.0  811.19  716.87"
      ]
     },
     "execution_count": 96,
     "metadata": {},
     "output_type": "execute_result"
    }
   ],
   "source": [
    "# platinum\n",
    "platinum_prices = quandl.get(\"LPPM/PLAT\", start_date = \"2018-01-01\", end_date = \"2018-12-31\")\n",
    "platinum_prices.head()"
   ]
  },
  {
   "cell_type": "code",
   "execution_count": 97,
   "metadata": {
    "colab": {
     "base_uri": "https://localhost:8080/",
     "height": 34
    },
    "colab_type": "code",
    "executionInfo": {
     "elapsed": 325,
     "status": "ok",
     "timestamp": 1576133643270,
     "user": {
      "displayName": "Hyunsoo Kim",
      "photoUrl": "",
      "userId": "13555375600564903636"
     },
     "user_tz": 300
    },
    "id": "BJom_XpnHk9N",
    "outputId": "3bfa5bb7-e428-43ff-920e-0e851437af96"
   },
   "outputs": [
    {
     "data": {
      "text/plain": [
       "250"
      ]
     },
     "execution_count": 97,
     "metadata": {},
     "output_type": "execute_result"
    }
   ],
   "source": [
    "platinum_prices['USD PM'].count()"
   ]
  },
  {
   "cell_type": "code",
   "execution_count": 98,
   "metadata": {
    "colab": {
     "base_uri": "https://localhost:8080/",
     "height": 235
    },
    "colab_type": "code",
    "executionInfo": {
     "elapsed": 982,
     "status": "ok",
     "timestamp": 1576133644856,
     "user": {
      "displayName": "Hyunsoo Kim",
      "photoUrl": "",
      "userId": "13555375600564903636"
     },
     "user_tz": 300
    },
    "id": "5FbkZ1R3HNbr",
    "outputId": "a0d2491f-bb8e-40ad-c493-c364e6b087fd"
   },
   "outputs": [
    {
     "data": {
      "text/html": [
       "<div>\n",
       "<style scoped>\n",
       "    .dataframe tbody tr th:only-of-type {\n",
       "        vertical-align: middle;\n",
       "    }\n",
       "\n",
       "    .dataframe tbody tr th {\n",
       "        vertical-align: top;\n",
       "    }\n",
       "\n",
       "    .dataframe thead th {\n",
       "        text-align: right;\n",
       "    }\n",
       "</style>\n",
       "<table border=\"1\" class=\"dataframe\">\n",
       "  <thead>\n",
       "    <tr style=\"text-align: right;\">\n",
       "      <th></th>\n",
       "      <th>Value</th>\n",
       "    </tr>\n",
       "    <tr>\n",
       "      <th>Date</th>\n",
       "      <th></th>\n",
       "    </tr>\n",
       "  </thead>\n",
       "  <tbody>\n",
       "    <tr>\n",
       "      <th>2018-01-01</th>\n",
       "      <td>14165.575000</td>\n",
       "    </tr>\n",
       "    <tr>\n",
       "      <th>2018-01-02</th>\n",
       "      <td>13812.186667</td>\n",
       "    </tr>\n",
       "    <tr>\n",
       "      <th>2018-01-03</th>\n",
       "      <td>15005.856667</td>\n",
       "    </tr>\n",
       "    <tr>\n",
       "      <th>2018-01-04</th>\n",
       "      <td>15053.261667</td>\n",
       "    </tr>\n",
       "    <tr>\n",
       "      <th>2018-01-05</th>\n",
       "      <td>15199.355000</td>\n",
       "    </tr>\n",
       "  </tbody>\n",
       "</table>\n",
       "</div>"
      ],
      "text/plain": [
       "                   Value\n",
       "Date                    \n",
       "2018-01-01  14165.575000\n",
       "2018-01-02  13812.186667\n",
       "2018-01-03  15005.856667\n",
       "2018-01-04  15053.261667\n",
       "2018-01-05  15199.355000"
      ]
     },
     "execution_count": 98,
     "metadata": {},
     "output_type": "execute_result"
    }
   ],
   "source": [
    "# bitcoin\n",
    "bitcoin_data = quandl.get(\"BCHAIN/MKPRU\", start_date = \"2018-01-01\", end_date = \"2018-12-31\")\n",
    "bitcoin_data.head()"
   ]
  },
  {
   "cell_type": "code",
   "execution_count": 99,
   "metadata": {
    "colab": {
     "base_uri": "https://localhost:8080/",
     "height": 51
    },
    "colab_type": "code",
    "executionInfo": {
     "elapsed": 288,
     "status": "ok",
     "timestamp": 1576133645056,
     "user": {
      "displayName": "Hyunsoo Kim",
      "photoUrl": "",
      "userId": "13555375600564903636"
     },
     "user_tz": 300
    },
    "id": "065QQmQdH3yd",
    "outputId": "0399c0e6-0db1-4331-b51d-bd6e3c72fec3"
   },
   "outputs": [
    {
     "data": {
      "text/plain": [
       "Value    365\n",
       "dtype: int64"
      ]
     },
     "execution_count": 99,
     "metadata": {},
     "output_type": "execute_result"
    }
   ],
   "source": [
    "bitcoin_data.count()"
   ]
  },
  {
   "cell_type": "code",
   "execution_count": 100,
   "metadata": {
    "colab": {
     "base_uri": "https://localhost:8080/",
     "height": 235
    },
    "colab_type": "code",
    "executionInfo": {
     "elapsed": 895,
     "status": "ok",
     "timestamp": 1576133646432,
     "user": {
      "displayName": "Hyunsoo Kim",
      "photoUrl": "",
      "userId": "13555375600564903636"
     },
     "user_tz": 300
    },
    "id": "TT-DHP9UINvV",
    "outputId": "5aaf6c8a-1e37-4943-ae98-31231e0614c9"
   },
   "outputs": [
    {
     "data": {
      "text/html": [
       "<div>\n",
       "<style scoped>\n",
       "    .dataframe tbody tr th:only-of-type {\n",
       "        vertical-align: middle;\n",
       "    }\n",
       "\n",
       "    .dataframe tbody tr th {\n",
       "        vertical-align: top;\n",
       "    }\n",
       "\n",
       "    .dataframe thead th {\n",
       "        text-align: right;\n",
       "    }\n",
       "</style>\n",
       "<table border=\"1\" class=\"dataframe\">\n",
       "  <thead>\n",
       "    <tr style=\"text-align: right;\">\n",
       "      <th></th>\n",
       "      <th>Cash Price</th>\n",
       "      <th>Basis</th>\n",
       "      <th>Fall Price</th>\n",
       "      <th>Fall Basis</th>\n",
       "    </tr>\n",
       "    <tr>\n",
       "      <th>Date</th>\n",
       "      <th></th>\n",
       "      <th></th>\n",
       "      <th></th>\n",
       "      <th></th>\n",
       "    </tr>\n",
       "  </thead>\n",
       "  <tbody>\n",
       "    <tr>\n",
       "      <th>2018-01-02</th>\n",
       "      <td>3.32</td>\n",
       "      <td>-0.21</td>\n",
       "      <td>3.60</td>\n",
       "      <td>-0.27</td>\n",
       "    </tr>\n",
       "    <tr>\n",
       "      <th>2018-01-03</th>\n",
       "      <td>3.32</td>\n",
       "      <td>-0.21</td>\n",
       "      <td>3.59</td>\n",
       "      <td>-0.27</td>\n",
       "    </tr>\n",
       "    <tr>\n",
       "      <th>2018-01-04</th>\n",
       "      <td>3.30</td>\n",
       "      <td>-0.21</td>\n",
       "      <td>3.58</td>\n",
       "      <td>-0.27</td>\n",
       "    </tr>\n",
       "    <tr>\n",
       "      <th>2018-01-05</th>\n",
       "      <td>3.30</td>\n",
       "      <td>-0.21</td>\n",
       "      <td>3.58</td>\n",
       "      <td>-0.27</td>\n",
       "    </tr>\n",
       "    <tr>\n",
       "      <th>2018-01-08</th>\n",
       "      <td>3.27</td>\n",
       "      <td>-0.20</td>\n",
       "      <td>3.54</td>\n",
       "      <td>-0.27</td>\n",
       "    </tr>\n",
       "  </tbody>\n",
       "</table>\n",
       "</div>"
      ],
      "text/plain": [
       "            Cash Price  Basis  Fall Price  Fall Basis\n",
       "Date                                                 \n",
       "2018-01-02        3.32  -0.21        3.60       -0.27\n",
       "2018-01-03        3.32  -0.21        3.59       -0.27\n",
       "2018-01-04        3.30  -0.21        3.58       -0.27\n",
       "2018-01-05        3.30  -0.21        3.58       -0.27\n",
       "2018-01-08        3.27  -0.20        3.54       -0.27"
      ]
     },
     "execution_count": 100,
     "metadata": {},
     "output_type": "execute_result"
    }
   ],
   "source": [
    "# corn\n",
    "cornprices = quandl.get(\"TFGRAIN/CORN\", start_date = \"2018-01-01\", end_date = \"2018-12-31\")\n",
    "cornprices.head()"
   ]
  },
  {
   "cell_type": "code",
   "execution_count": 101,
   "metadata": {
    "colab": {
     "base_uri": "https://localhost:8080/",
     "height": 34
    },
    "colab_type": "code",
    "executionInfo": {
     "elapsed": 309,
     "status": "ok",
     "timestamp": 1576133646664,
     "user": {
      "displayName": "Hyunsoo Kim",
      "photoUrl": "",
      "userId": "13555375600564903636"
     },
     "user_tz": 300
    },
    "id": "bkhKkaoRIVEX",
    "outputId": "c2fb9826-5c1a-4c0c-efd9-2d50452559ca"
   },
   "outputs": [
    {
     "data": {
      "text/plain": [
       "251"
      ]
     },
     "execution_count": 101,
     "metadata": {},
     "output_type": "execute_result"
    }
   ],
   "source": [
    "cornprices['Cash Price'].count()"
   ]
  },
  {
   "cell_type": "code",
   "execution_count": 102,
   "metadata": {
    "colab": {},
    "colab_type": "code",
    "id": "XvNEvvr_2_Qs"
   },
   "outputs": [],
   "source": [
    "import requests\n",
    "import json"
   ]
  },
  {
   "cell_type": "markdown",
   "metadata": {},
   "source": [
    "3. Import daily prices for the S&P 500. Use 1/1/2018 as the start date and 12/31/2018 as the end date. Display the first 5 rows and the total count of the S&P."
   ]
  },
  {
   "cell_type": "code",
   "execution_count": 103,
   "metadata": {},
   "outputs": [],
   "source": [
    "# S&P 500 INDEX\n",
    "url = 'https://www.alphavantage.co/query?function=TIME_SERIES_DAILY_ADJUSTED&symbol=AAPL&outputsize=full&apikey=0ZEWHW9LZGSWFJIR'\n",
    "resp = requests.get(url)"
   ]
  },
  {
   "cell_type": "code",
   "execution_count": 104,
   "metadata": {},
   "outputs": [],
   "source": [
    "data = resp.json()"
   ]
  },
  {
   "cell_type": "code",
   "execution_count": 105,
   "metadata": {},
   "outputs": [
    {
     "data": {
      "text/html": [
       "<div>\n",
       "<style scoped>\n",
       "    .dataframe tbody tr th:only-of-type {\n",
       "        vertical-align: middle;\n",
       "    }\n",
       "\n",
       "    .dataframe tbody tr th {\n",
       "        vertical-align: top;\n",
       "    }\n",
       "\n",
       "    .dataframe thead th {\n",
       "        text-align: right;\n",
       "    }\n",
       "</style>\n",
       "<table border=\"1\" class=\"dataframe\">\n",
       "  <thead>\n",
       "    <tr style=\"text-align: right;\">\n",
       "      <th></th>\n",
       "      <th>1. open</th>\n",
       "      <th>2. high</th>\n",
       "      <th>3. low</th>\n",
       "      <th>4. close</th>\n",
       "      <th>5. adjusted close</th>\n",
       "      <th>6. volume</th>\n",
       "      <th>7. dividend amount</th>\n",
       "      <th>8. split coefficient</th>\n",
       "    </tr>\n",
       "  </thead>\n",
       "  <tbody>\n",
       "    <tr>\n",
       "      <th>2018-01-02</th>\n",
       "      <td>170.16</td>\n",
       "      <td>172.3</td>\n",
       "      <td>169.26</td>\n",
       "      <td>172.26</td>\n",
       "      <td>41.4400863936</td>\n",
       "      <td>25048048</td>\n",
       "      <td>0.0000</td>\n",
       "      <td>1.0</td>\n",
       "    </tr>\n",
       "    <tr>\n",
       "      <th>2018-01-03</th>\n",
       "      <td>172.53</td>\n",
       "      <td>174.55</td>\n",
       "      <td>171.96</td>\n",
       "      <td>172.23</td>\n",
       "      <td>41.432869381</td>\n",
       "      <td>28819653</td>\n",
       "      <td>0.0000</td>\n",
       "      <td>1.0</td>\n",
       "    </tr>\n",
       "    <tr>\n",
       "      <th>2018-01-04</th>\n",
       "      <td>172.54</td>\n",
       "      <td>173.47</td>\n",
       "      <td>172.08</td>\n",
       "      <td>173.03</td>\n",
       "      <td>41.6253230506</td>\n",
       "      <td>22211345</td>\n",
       "      <td>0.0000</td>\n",
       "      <td>1.0</td>\n",
       "    </tr>\n",
       "    <tr>\n",
       "      <th>2018-01-05</th>\n",
       "      <td>173.44</td>\n",
       "      <td>175.37</td>\n",
       "      <td>173.05</td>\n",
       "      <td>175.0</td>\n",
       "      <td>42.0992402118</td>\n",
       "      <td>23016177</td>\n",
       "      <td>0.0000</td>\n",
       "      <td>1.0</td>\n",
       "    </tr>\n",
       "    <tr>\n",
       "      <th>2018-01-08</th>\n",
       "      <td>174.35</td>\n",
       "      <td>175.61</td>\n",
       "      <td>173.93</td>\n",
       "      <td>174.35</td>\n",
       "      <td>41.9428716053</td>\n",
       "      <td>20134092</td>\n",
       "      <td>0.0000</td>\n",
       "      <td>1.0</td>\n",
       "    </tr>\n",
       "  </tbody>\n",
       "</table>\n",
       "</div>"
      ],
      "text/plain": [
       "           1. open 2. high  3. low 4. close 5. adjusted close 6. volume  \\\n",
       "2018-01-02  170.16   172.3  169.26   172.26     41.4400863936  25048048   \n",
       "2018-01-03  172.53  174.55  171.96   172.23      41.432869381  28819653   \n",
       "2018-01-04  172.54  173.47  172.08   173.03     41.6253230506  22211345   \n",
       "2018-01-05  173.44  175.37  173.05    175.0     42.0992402118  23016177   \n",
       "2018-01-08  174.35  175.61  173.93   174.35     41.9428716053  20134092   \n",
       "\n",
       "           7. dividend amount 8. split coefficient  \n",
       "2018-01-02             0.0000                  1.0  \n",
       "2018-01-03             0.0000                  1.0  \n",
       "2018-01-04             0.0000                  1.0  \n",
       "2018-01-05             0.0000                  1.0  \n",
       "2018-01-08             0.0000                  1.0  "
      ]
     },
     "execution_count": 105,
     "metadata": {},
     "output_type": "execute_result"
    }
   ],
   "source": [
    "sp500 = pd.DataFrame(data[\"Time Series (Daily)\"]) #constructing a DataFrame using the JSON\n",
    "sp500 = sp500.T\n",
    "dateRange = pd.DataFrame(sp500.loc['2018-12-31':'2018-01-01']) #constructing a new DataFrame with a specific date range \n",
    "dateRange.iloc[::-1].head()"
   ]
  },
  {
   "cell_type": "code",
   "execution_count": 106,
   "metadata": {
    "colab": {
     "base_uri": "https://localhost:8080/",
     "height": 34
    },
    "colab_type": "code",
    "executionInfo": {
     "elapsed": 9305,
     "status": "ok",
     "timestamp": 1576133657755,
     "user": {
      "displayName": "Hyunsoo Kim",
      "photoUrl": "",
      "userId": "13555375600564903636"
     },
     "user_tz": 300
    },
    "id": "_kMxCOgF6rHd",
    "outputId": "04e459b5-a6ed-41ba-8046-34ef83ee86fc"
   },
   "outputs": [
    {
     "data": {
      "text/plain": [
       "251"
      ]
     },
     "execution_count": 106,
     "metadata": {},
     "output_type": "execute_result"
    }
   ],
   "source": [
    "len(dateRange)"
   ]
  },
  {
   "cell_type": "markdown",
   "metadata": {
    "colab_type": "text",
    "id": "9pIANmisI6KX"
   },
   "source": [
    "Processing Data"
   ]
  },
  {
   "cell_type": "markdown",
   "metadata": {
    "colab_type": "text",
    "id": "QuCb3ZBkJDbH"
   },
   "source": [
    "4. Calculate daily % change for each of the asset and the S&P. Display the first 5 rows and the total count for each data set."
   ]
  },
  {
   "cell_type": "code",
   "execution_count": 107,
   "metadata": {
    "colab": {
     "base_uri": "https://localhost:8080/",
     "height": 136
    },
    "colab_type": "code",
    "executionInfo": {
     "elapsed": 7082,
     "status": "ok",
     "timestamp": 1576133657759,
     "user": {
      "displayName": "Hyunsoo Kim",
      "photoUrl": "",
      "userId": "13555375600564903636"
     },
     "user_tz": 300
    },
    "id": "0-ijaeDJJHNr",
    "outputId": "d51767bc-7b24-45d4-a792-421a601e31b4"
   },
   "outputs": [
    {
     "data": {
      "text/plain": [
       "Date\n",
       "2018-01-02         NaN\n",
       "2018-01-03    0.001837\n",
       "2018-01-04    0.011916\n",
       "2018-01-05   -0.007246\n",
       "2018-01-08    0.000912\n",
       "Name: New York 9:30, dtype: float64"
      ]
     },
     "execution_count": 107,
     "metadata": {},
     "output_type": "execute_result"
    }
   ],
   "source": [
    "palladium = palladium_data['New York 9:30'].pct_change() # palladium\n",
    "palladium.head()"
   ]
  },
  {
   "cell_type": "code",
   "execution_count": 108,
   "metadata": {
    "colab": {
     "base_uri": "https://localhost:8080/",
     "height": 235
    },
    "colab_type": "code",
    "executionInfo": {
     "elapsed": 4412,
     "status": "ok",
     "timestamp": 1576133657761,
     "user": {
      "displayName": "Hyunsoo Kim",
      "photoUrl": "",
      "userId": "13555375600564903636"
     },
     "user_tz": 300
    },
    "id": "OnLvZOfKJkjl",
    "outputId": "fae89af3-7950-4665-dedd-07449efdd814"
   },
   "outputs": [
    {
     "data": {
      "text/html": [
       "<div>\n",
       "<style scoped>\n",
       "    .dataframe tbody tr th:only-of-type {\n",
       "        vertical-align: middle;\n",
       "    }\n",
       "\n",
       "    .dataframe tbody tr th {\n",
       "        vertical-align: top;\n",
       "    }\n",
       "\n",
       "    .dataframe thead th {\n",
       "        text-align: right;\n",
       "    }\n",
       "</style>\n",
       "<table border=\"1\" class=\"dataframe\">\n",
       "  <thead>\n",
       "    <tr style=\"text-align: right;\">\n",
       "      <th></th>\n",
       "      <th>Value</th>\n",
       "    </tr>\n",
       "    <tr>\n",
       "      <th>Date</th>\n",
       "      <th></th>\n",
       "    </tr>\n",
       "  </thead>\n",
       "  <tbody>\n",
       "    <tr>\n",
       "      <th>2018-01-01</th>\n",
       "      <td>NaN</td>\n",
       "    </tr>\n",
       "    <tr>\n",
       "      <th>2018-01-02</th>\n",
       "      <td>0.016305</td>\n",
       "    </tr>\n",
       "    <tr>\n",
       "      <th>2018-01-03</th>\n",
       "      <td>0.002172</td>\n",
       "    </tr>\n",
       "    <tr>\n",
       "      <th>2018-01-04</th>\n",
       "      <td>-0.000304</td>\n",
       "    </tr>\n",
       "    <tr>\n",
       "      <th>2018-01-05</th>\n",
       "      <td>0.002016</td>\n",
       "    </tr>\n",
       "  </tbody>\n",
       "</table>\n",
       "</div>"
      ],
      "text/plain": [
       "               Value\n",
       "Date                \n",
       "2018-01-01       NaN\n",
       "2018-01-02  0.016305\n",
       "2018-01-03  0.002172\n",
       "2018-01-04 -0.000304\n",
       "2018-01-05  0.002016"
      ]
     },
     "execution_count": 108,
     "metadata": {},
     "output_type": "execute_result"
    }
   ],
   "source": [
    "gold = gold_data.pct_change() # gold\n",
    "gold.head()"
   ]
  },
  {
   "cell_type": "code",
   "execution_count": 109,
   "metadata": {
    "colab": {
     "base_uri": "https://localhost:8080/",
     "height": 235
    },
    "colab_type": "code",
    "executionInfo": {
     "elapsed": 3489,
     "status": "ok",
     "timestamp": 1576133657763,
     "user": {
      "displayName": "Hyunsoo Kim",
      "photoUrl": "",
      "userId": "13555375600564903636"
     },
     "user_tz": 300
    },
    "id": "wSw5g4UsJk5v",
    "outputId": "0c22779b-b90b-4c25-bb31-fde9177ec23d"
   },
   "outputs": [
    {
     "data": {
      "text/html": [
       "<div>\n",
       "<style scoped>\n",
       "    .dataframe tbody tr th:only-of-type {\n",
       "        vertical-align: middle;\n",
       "    }\n",
       "\n",
       "    .dataframe tbody tr th {\n",
       "        vertical-align: top;\n",
       "    }\n",
       "\n",
       "    .dataframe thead th {\n",
       "        text-align: right;\n",
       "    }\n",
       "</style>\n",
       "<table border=\"1\" class=\"dataframe\">\n",
       "  <thead>\n",
       "    <tr style=\"text-align: right;\">\n",
       "      <th></th>\n",
       "      <th>Value</th>\n",
       "    </tr>\n",
       "    <tr>\n",
       "      <th>Date</th>\n",
       "      <th></th>\n",
       "    </tr>\n",
       "  </thead>\n",
       "  <tbody>\n",
       "    <tr>\n",
       "      <th>2018-01-01</th>\n",
       "      <td>NaN</td>\n",
       "    </tr>\n",
       "    <tr>\n",
       "      <th>2018-01-02</th>\n",
       "      <td>-0.024947</td>\n",
       "    </tr>\n",
       "    <tr>\n",
       "      <th>2018-01-03</th>\n",
       "      <td>0.086422</td>\n",
       "    </tr>\n",
       "    <tr>\n",
       "      <th>2018-01-04</th>\n",
       "      <td>0.003159</td>\n",
       "    </tr>\n",
       "    <tr>\n",
       "      <th>2018-01-05</th>\n",
       "      <td>0.009705</td>\n",
       "    </tr>\n",
       "  </tbody>\n",
       "</table>\n",
       "</div>"
      ],
      "text/plain": [
       "               Value\n",
       "Date                \n",
       "2018-01-01       NaN\n",
       "2018-01-02 -0.024947\n",
       "2018-01-03  0.086422\n",
       "2018-01-04  0.003159\n",
       "2018-01-05  0.009705"
      ]
     },
     "execution_count": 109,
     "metadata": {},
     "output_type": "execute_result"
    }
   ],
   "source": [
    "bitcoin = bitcoin_data.pct_change() # bitcoin\n",
    "bitcoin.head()"
   ]
  },
  {
   "cell_type": "code",
   "execution_count": 110,
   "metadata": {
    "colab": {
     "base_uri": "https://localhost:8080/",
     "height": 136
    },
    "colab_type": "code",
    "executionInfo": {
     "elapsed": 2833,
     "status": "ok",
     "timestamp": 1576133657767,
     "user": {
      "displayName": "Hyunsoo Kim",
      "photoUrl": "",
      "userId": "13555375600564903636"
     },
     "user_tz": 300
    },
    "id": "AGZdHjsOJlOb",
    "outputId": "0cf3f332-95ef-407e-e587-1b3c97a87045"
   },
   "outputs": [
    {
     "data": {
      "text/plain": [
       "Date\n",
       "2018-01-02         NaN\n",
       "2018-01-03    0.016026\n",
       "2018-01-04    0.008412\n",
       "2018-01-05    0.007299\n",
       "2018-01-08    0.005176\n",
       "Name: USD PM, dtype: float64"
      ]
     },
     "execution_count": 110,
     "metadata": {},
     "output_type": "execute_result"
    }
   ],
   "source": [
    "platinum = platinum_prices['USD PM'].pct_change() # platinum\n",
    "platinum.head()"
   ]
  },
  {
   "cell_type": "code",
   "execution_count": 111,
   "metadata": {
    "colab": {
     "base_uri": "https://localhost:8080/",
     "height": 136
    },
    "colab_type": "code",
    "executionInfo": {
     "elapsed": 2238,
     "status": "ok",
     "timestamp": 1576133657769,
     "user": {
      "displayName": "Hyunsoo Kim",
      "photoUrl": "",
      "userId": "13555375600564903636"
     },
     "user_tz": 300
    },
    "id": "t8_O-AFPJlg5",
    "outputId": "56a3bc8a-bb78-4ad0-dca5-2b142eb59841"
   },
   "outputs": [
    {
     "data": {
      "text/plain": [
       "Date\n",
       "2018-01-02         NaN\n",
       "2018-01-03    0.000000\n",
       "2018-01-04   -0.006024\n",
       "2018-01-05    0.000000\n",
       "2018-01-08   -0.009091\n",
       "Name: Cash Price, dtype: float64"
      ]
     },
     "execution_count": 111,
     "metadata": {},
     "output_type": "execute_result"
    }
   ],
   "source": [
    "corn = cornprices['Cash Price'].pct_change() # corn\n",
    "corn.head()"
   ]
  },
  {
   "cell_type": "code",
   "execution_count": 112,
   "metadata": {
    "colab": {
     "base_uri": "https://localhost:8080/",
     "height": 119
    },
    "colab_type": "code",
    "executionInfo": {
     "elapsed": 1668,
     "status": "ok",
     "timestamp": 1576133657771,
     "user": {
      "displayName": "Hyunsoo Kim",
      "photoUrl": "",
      "userId": "13555375600564903636"
     },
     "user_tz": 300
    },
    "id": "RZKSpJpXJl19",
    "outputId": "95feb8a1-dfd4-408a-8fb8-2e57f097c2bd"
   },
   "outputs": [
    {
     "data": {
      "text/plain": [
       "2018-01-02         NaN\n",
       "2018-01-03   -0.000174\n",
       "2018-01-04    0.004645\n",
       "2018-01-05    0.011385\n",
       "2018-01-08   -0.003714\n",
       "Name: 4. close, dtype: float64"
      ]
     },
     "execution_count": 112,
     "metadata": {},
     "output_type": "execute_result"
    }
   ],
   "source": [
    "sp500_close = dateRange.iloc[::-1]['4. close'].astype(np.float64).pct_change() # sp500\n",
    "sp500_close.head()"
   ]
  },
  {
   "cell_type": "markdown",
   "metadata": {
    "colab_type": "text",
    "id": "pxaw0V11KGwr"
   },
   "source": [
    "5. Plot the daily % change data using a bar graph for each asset."
   ]
  },
  {
   "cell_type": "code",
   "execution_count": 113,
   "metadata": {
    "colab": {},
    "colab_type": "code",
    "id": "v7BClHY_KQSp"
   },
   "outputs": [],
   "source": [
    "import matplotlib.pyplot as plt\n",
    "%matplotlib notebook\n",
    "import matplotlib.ticker as ticker"
   ]
  },
  {
   "cell_type": "code",
   "execution_count": 114,
   "metadata": {
    "colab": {},
    "colab_type": "code",
    "id": "HrvOAhVTKW0C"
   },
   "outputs": [
    {
     "data": {
      "application/javascript": [
       "/* Put everything inside the global mpl namespace */\n",
       "window.mpl = {};\n",
       "\n",
       "\n",
       "mpl.get_websocket_type = function() {\n",
       "    if (typeof(WebSocket) !== 'undefined') {\n",
       "        return WebSocket;\n",
       "    } else if (typeof(MozWebSocket) !== 'undefined') {\n",
       "        return MozWebSocket;\n",
       "    } else {\n",
       "        alert('Your browser does not have WebSocket support. ' +\n",
       "              'Please try Chrome, Safari or Firefox ≥ 6. ' +\n",
       "              'Firefox 4 and 5 are also supported but you ' +\n",
       "              'have to enable WebSockets in about:config.');\n",
       "    };\n",
       "}\n",
       "\n",
       "mpl.figure = function(figure_id, websocket, ondownload, parent_element) {\n",
       "    this.id = figure_id;\n",
       "\n",
       "    this.ws = websocket;\n",
       "\n",
       "    this.supports_binary = (this.ws.binaryType != undefined);\n",
       "\n",
       "    if (!this.supports_binary) {\n",
       "        var warnings = document.getElementById(\"mpl-warnings\");\n",
       "        if (warnings) {\n",
       "            warnings.style.display = 'block';\n",
       "            warnings.textContent = (\n",
       "                \"This browser does not support binary websocket messages. \" +\n",
       "                    \"Performance may be slow.\");\n",
       "        }\n",
       "    }\n",
       "\n",
       "    this.imageObj = new Image();\n",
       "\n",
       "    this.context = undefined;\n",
       "    this.message = undefined;\n",
       "    this.canvas = undefined;\n",
       "    this.rubberband_canvas = undefined;\n",
       "    this.rubberband_context = undefined;\n",
       "    this.format_dropdown = undefined;\n",
       "\n",
       "    this.image_mode = 'full';\n",
       "\n",
       "    this.root = $('<div/>');\n",
       "    this._root_extra_style(this.root)\n",
       "    this.root.attr('style', 'display: inline-block');\n",
       "\n",
       "    $(parent_element).append(this.root);\n",
       "\n",
       "    this._init_header(this);\n",
       "    this._init_canvas(this);\n",
       "    this._init_toolbar(this);\n",
       "\n",
       "    var fig = this;\n",
       "\n",
       "    this.waiting = false;\n",
       "\n",
       "    this.ws.onopen =  function () {\n",
       "            fig.send_message(\"supports_binary\", {value: fig.supports_binary});\n",
       "            fig.send_message(\"send_image_mode\", {});\n",
       "            if (mpl.ratio != 1) {\n",
       "                fig.send_message(\"set_dpi_ratio\", {'dpi_ratio': mpl.ratio});\n",
       "            }\n",
       "            fig.send_message(\"refresh\", {});\n",
       "        }\n",
       "\n",
       "    this.imageObj.onload = function() {\n",
       "            if (fig.image_mode == 'full') {\n",
       "                // Full images could contain transparency (where diff images\n",
       "                // almost always do), so we need to clear the canvas so that\n",
       "                // there is no ghosting.\n",
       "                fig.context.clearRect(0, 0, fig.canvas.width, fig.canvas.height);\n",
       "            }\n",
       "            fig.context.drawImage(fig.imageObj, 0, 0);\n",
       "        };\n",
       "\n",
       "    this.imageObj.onunload = function() {\n",
       "        fig.ws.close();\n",
       "    }\n",
       "\n",
       "    this.ws.onmessage = this._make_on_message_function(this);\n",
       "\n",
       "    this.ondownload = ondownload;\n",
       "}\n",
       "\n",
       "mpl.figure.prototype._init_header = function() {\n",
       "    var titlebar = $(\n",
       "        '<div class=\"ui-dialog-titlebar ui-widget-header ui-corner-all ' +\n",
       "        'ui-helper-clearfix\"/>');\n",
       "    var titletext = $(\n",
       "        '<div class=\"ui-dialog-title\" style=\"width: 100%; ' +\n",
       "        'text-align: center; padding: 3px;\"/>');\n",
       "    titlebar.append(titletext)\n",
       "    this.root.append(titlebar);\n",
       "    this.header = titletext[0];\n",
       "}\n",
       "\n",
       "\n",
       "\n",
       "mpl.figure.prototype._canvas_extra_style = function(canvas_div) {\n",
       "\n",
       "}\n",
       "\n",
       "\n",
       "mpl.figure.prototype._root_extra_style = function(canvas_div) {\n",
       "\n",
       "}\n",
       "\n",
       "mpl.figure.prototype._init_canvas = function() {\n",
       "    var fig = this;\n",
       "\n",
       "    var canvas_div = $('<div/>');\n",
       "\n",
       "    canvas_div.attr('style', 'position: relative; clear: both; outline: 0');\n",
       "\n",
       "    function canvas_keyboard_event(event) {\n",
       "        return fig.key_event(event, event['data']);\n",
       "    }\n",
       "\n",
       "    canvas_div.keydown('key_press', canvas_keyboard_event);\n",
       "    canvas_div.keyup('key_release', canvas_keyboard_event);\n",
       "    this.canvas_div = canvas_div\n",
       "    this._canvas_extra_style(canvas_div)\n",
       "    this.root.append(canvas_div);\n",
       "\n",
       "    var canvas = $('<canvas/>');\n",
       "    canvas.addClass('mpl-canvas');\n",
       "    canvas.attr('style', \"left: 0; top: 0; z-index: 0; outline: 0\")\n",
       "\n",
       "    this.canvas = canvas[0];\n",
       "    this.context = canvas[0].getContext(\"2d\");\n",
       "\n",
       "    var backingStore = this.context.backingStorePixelRatio ||\n",
       "\tthis.context.webkitBackingStorePixelRatio ||\n",
       "\tthis.context.mozBackingStorePixelRatio ||\n",
       "\tthis.context.msBackingStorePixelRatio ||\n",
       "\tthis.context.oBackingStorePixelRatio ||\n",
       "\tthis.context.backingStorePixelRatio || 1;\n",
       "\n",
       "    mpl.ratio = (window.devicePixelRatio || 1) / backingStore;\n",
       "\n",
       "    var rubberband = $('<canvas/>');\n",
       "    rubberband.attr('style', \"position: absolute; left: 0; top: 0; z-index: 1;\")\n",
       "\n",
       "    var pass_mouse_events = true;\n",
       "\n",
       "    canvas_div.resizable({\n",
       "        start: function(event, ui) {\n",
       "            pass_mouse_events = false;\n",
       "        },\n",
       "        resize: function(event, ui) {\n",
       "            fig.request_resize(ui.size.width, ui.size.height);\n",
       "        },\n",
       "        stop: function(event, ui) {\n",
       "            pass_mouse_events = true;\n",
       "            fig.request_resize(ui.size.width, ui.size.height);\n",
       "        },\n",
       "    });\n",
       "\n",
       "    function mouse_event_fn(event) {\n",
       "        if (pass_mouse_events)\n",
       "            return fig.mouse_event(event, event['data']);\n",
       "    }\n",
       "\n",
       "    rubberband.mousedown('button_press', mouse_event_fn);\n",
       "    rubberband.mouseup('button_release', mouse_event_fn);\n",
       "    // Throttle sequential mouse events to 1 every 20ms.\n",
       "    rubberband.mousemove('motion_notify', mouse_event_fn);\n",
       "\n",
       "    rubberband.mouseenter('figure_enter', mouse_event_fn);\n",
       "    rubberband.mouseleave('figure_leave', mouse_event_fn);\n",
       "\n",
       "    canvas_div.on(\"wheel\", function (event) {\n",
       "        event = event.originalEvent;\n",
       "        event['data'] = 'scroll'\n",
       "        if (event.deltaY < 0) {\n",
       "            event.step = 1;\n",
       "        } else {\n",
       "            event.step = -1;\n",
       "        }\n",
       "        mouse_event_fn(event);\n",
       "    });\n",
       "\n",
       "    canvas_div.append(canvas);\n",
       "    canvas_div.append(rubberband);\n",
       "\n",
       "    this.rubberband = rubberband;\n",
       "    this.rubberband_canvas = rubberband[0];\n",
       "    this.rubberband_context = rubberband[0].getContext(\"2d\");\n",
       "    this.rubberband_context.strokeStyle = \"#000000\";\n",
       "\n",
       "    this._resize_canvas = function(width, height) {\n",
       "        // Keep the size of the canvas, canvas container, and rubber band\n",
       "        // canvas in synch.\n",
       "        canvas_div.css('width', width)\n",
       "        canvas_div.css('height', height)\n",
       "\n",
       "        canvas.attr('width', width * mpl.ratio);\n",
       "        canvas.attr('height', height * mpl.ratio);\n",
       "        canvas.attr('style', 'width: ' + width + 'px; height: ' + height + 'px;');\n",
       "\n",
       "        rubberband.attr('width', width);\n",
       "        rubberband.attr('height', height);\n",
       "    }\n",
       "\n",
       "    // Set the figure to an initial 600x600px, this will subsequently be updated\n",
       "    // upon first draw.\n",
       "    this._resize_canvas(600, 600);\n",
       "\n",
       "    // Disable right mouse context menu.\n",
       "    $(this.rubberband_canvas).bind(\"contextmenu\",function(e){\n",
       "        return false;\n",
       "    });\n",
       "\n",
       "    function set_focus () {\n",
       "        canvas.focus();\n",
       "        canvas_div.focus();\n",
       "    }\n",
       "\n",
       "    window.setTimeout(set_focus, 100);\n",
       "}\n",
       "\n",
       "mpl.figure.prototype._init_toolbar = function() {\n",
       "    var fig = this;\n",
       "\n",
       "    var nav_element = $('<div/>');\n",
       "    nav_element.attr('style', 'width: 100%');\n",
       "    this.root.append(nav_element);\n",
       "\n",
       "    // Define a callback function for later on.\n",
       "    function toolbar_event(event) {\n",
       "        return fig.toolbar_button_onclick(event['data']);\n",
       "    }\n",
       "    function toolbar_mouse_event(event) {\n",
       "        return fig.toolbar_button_onmouseover(event['data']);\n",
       "    }\n",
       "\n",
       "    for(var toolbar_ind in mpl.toolbar_items) {\n",
       "        var name = mpl.toolbar_items[toolbar_ind][0];\n",
       "        var tooltip = mpl.toolbar_items[toolbar_ind][1];\n",
       "        var image = mpl.toolbar_items[toolbar_ind][2];\n",
       "        var method_name = mpl.toolbar_items[toolbar_ind][3];\n",
       "\n",
       "        if (!name) {\n",
       "            // put a spacer in here.\n",
       "            continue;\n",
       "        }\n",
       "        var button = $('<button/>');\n",
       "        button.addClass('ui-button ui-widget ui-state-default ui-corner-all ' +\n",
       "                        'ui-button-icon-only');\n",
       "        button.attr('role', 'button');\n",
       "        button.attr('aria-disabled', 'false');\n",
       "        button.click(method_name, toolbar_event);\n",
       "        button.mouseover(tooltip, toolbar_mouse_event);\n",
       "\n",
       "        var icon_img = $('<span/>');\n",
       "        icon_img.addClass('ui-button-icon-primary ui-icon');\n",
       "        icon_img.addClass(image);\n",
       "        icon_img.addClass('ui-corner-all');\n",
       "\n",
       "        var tooltip_span = $('<span/>');\n",
       "        tooltip_span.addClass('ui-button-text');\n",
       "        tooltip_span.html(tooltip);\n",
       "\n",
       "        button.append(icon_img);\n",
       "        button.append(tooltip_span);\n",
       "\n",
       "        nav_element.append(button);\n",
       "    }\n",
       "\n",
       "    var fmt_picker_span = $('<span/>');\n",
       "\n",
       "    var fmt_picker = $('<select/>');\n",
       "    fmt_picker.addClass('mpl-toolbar-option ui-widget ui-widget-content');\n",
       "    fmt_picker_span.append(fmt_picker);\n",
       "    nav_element.append(fmt_picker_span);\n",
       "    this.format_dropdown = fmt_picker[0];\n",
       "\n",
       "    for (var ind in mpl.extensions) {\n",
       "        var fmt = mpl.extensions[ind];\n",
       "        var option = $(\n",
       "            '<option/>', {selected: fmt === mpl.default_extension}).html(fmt);\n",
       "        fmt_picker.append(option);\n",
       "    }\n",
       "\n",
       "    // Add hover states to the ui-buttons\n",
       "    $( \".ui-button\" ).hover(\n",
       "        function() { $(this).addClass(\"ui-state-hover\");},\n",
       "        function() { $(this).removeClass(\"ui-state-hover\");}\n",
       "    );\n",
       "\n",
       "    var status_bar = $('<span class=\"mpl-message\"/>');\n",
       "    nav_element.append(status_bar);\n",
       "    this.message = status_bar[0];\n",
       "}\n",
       "\n",
       "mpl.figure.prototype.request_resize = function(x_pixels, y_pixels) {\n",
       "    // Request matplotlib to resize the figure. Matplotlib will then trigger a resize in the client,\n",
       "    // which will in turn request a refresh of the image.\n",
       "    this.send_message('resize', {'width': x_pixels, 'height': y_pixels});\n",
       "}\n",
       "\n",
       "mpl.figure.prototype.send_message = function(type, properties) {\n",
       "    properties['type'] = type;\n",
       "    properties['figure_id'] = this.id;\n",
       "    this.ws.send(JSON.stringify(properties));\n",
       "}\n",
       "\n",
       "mpl.figure.prototype.send_draw_message = function() {\n",
       "    if (!this.waiting) {\n",
       "        this.waiting = true;\n",
       "        this.ws.send(JSON.stringify({type: \"draw\", figure_id: this.id}));\n",
       "    }\n",
       "}\n",
       "\n",
       "\n",
       "mpl.figure.prototype.handle_save = function(fig, msg) {\n",
       "    var format_dropdown = fig.format_dropdown;\n",
       "    var format = format_dropdown.options[format_dropdown.selectedIndex].value;\n",
       "    fig.ondownload(fig, format);\n",
       "}\n",
       "\n",
       "\n",
       "mpl.figure.prototype.handle_resize = function(fig, msg) {\n",
       "    var size = msg['size'];\n",
       "    if (size[0] != fig.canvas.width || size[1] != fig.canvas.height) {\n",
       "        fig._resize_canvas(size[0], size[1]);\n",
       "        fig.send_message(\"refresh\", {});\n",
       "    };\n",
       "}\n",
       "\n",
       "mpl.figure.prototype.handle_rubberband = function(fig, msg) {\n",
       "    var x0 = msg['x0'] / mpl.ratio;\n",
       "    var y0 = (fig.canvas.height - msg['y0']) / mpl.ratio;\n",
       "    var x1 = msg['x1'] / mpl.ratio;\n",
       "    var y1 = (fig.canvas.height - msg['y1']) / mpl.ratio;\n",
       "    x0 = Math.floor(x0) + 0.5;\n",
       "    y0 = Math.floor(y0) + 0.5;\n",
       "    x1 = Math.floor(x1) + 0.5;\n",
       "    y1 = Math.floor(y1) + 0.5;\n",
       "    var min_x = Math.min(x0, x1);\n",
       "    var min_y = Math.min(y0, y1);\n",
       "    var width = Math.abs(x1 - x0);\n",
       "    var height = Math.abs(y1 - y0);\n",
       "\n",
       "    fig.rubberband_context.clearRect(\n",
       "        0, 0, fig.canvas.width / mpl.ratio, fig.canvas.height / mpl.ratio);\n",
       "\n",
       "    fig.rubberband_context.strokeRect(min_x, min_y, width, height);\n",
       "}\n",
       "\n",
       "mpl.figure.prototype.handle_figure_label = function(fig, msg) {\n",
       "    // Updates the figure title.\n",
       "    fig.header.textContent = msg['label'];\n",
       "}\n",
       "\n",
       "mpl.figure.prototype.handle_cursor = function(fig, msg) {\n",
       "    var cursor = msg['cursor'];\n",
       "    switch(cursor)\n",
       "    {\n",
       "    case 0:\n",
       "        cursor = 'pointer';\n",
       "        break;\n",
       "    case 1:\n",
       "        cursor = 'default';\n",
       "        break;\n",
       "    case 2:\n",
       "        cursor = 'crosshair';\n",
       "        break;\n",
       "    case 3:\n",
       "        cursor = 'move';\n",
       "        break;\n",
       "    }\n",
       "    fig.rubberband_canvas.style.cursor = cursor;\n",
       "}\n",
       "\n",
       "mpl.figure.prototype.handle_message = function(fig, msg) {\n",
       "    fig.message.textContent = msg['message'];\n",
       "}\n",
       "\n",
       "mpl.figure.prototype.handle_draw = function(fig, msg) {\n",
       "    // Request the server to send over a new figure.\n",
       "    fig.send_draw_message();\n",
       "}\n",
       "\n",
       "mpl.figure.prototype.handle_image_mode = function(fig, msg) {\n",
       "    fig.image_mode = msg['mode'];\n",
       "}\n",
       "\n",
       "mpl.figure.prototype.updated_canvas_event = function() {\n",
       "    // Called whenever the canvas gets updated.\n",
       "    this.send_message(\"ack\", {});\n",
       "}\n",
       "\n",
       "// A function to construct a web socket function for onmessage handling.\n",
       "// Called in the figure constructor.\n",
       "mpl.figure.prototype._make_on_message_function = function(fig) {\n",
       "    return function socket_on_message(evt) {\n",
       "        if (evt.data instanceof Blob) {\n",
       "            /* FIXME: We get \"Resource interpreted as Image but\n",
       "             * transferred with MIME type text/plain:\" errors on\n",
       "             * Chrome.  But how to set the MIME type?  It doesn't seem\n",
       "             * to be part of the websocket stream */\n",
       "            evt.data.type = \"image/png\";\n",
       "\n",
       "            /* Free the memory for the previous frames */\n",
       "            if (fig.imageObj.src) {\n",
       "                (window.URL || window.webkitURL).revokeObjectURL(\n",
       "                    fig.imageObj.src);\n",
       "            }\n",
       "\n",
       "            fig.imageObj.src = (window.URL || window.webkitURL).createObjectURL(\n",
       "                evt.data);\n",
       "            fig.updated_canvas_event();\n",
       "            fig.waiting = false;\n",
       "            return;\n",
       "        }\n",
       "        else if (typeof evt.data === 'string' && evt.data.slice(0, 21) == \"data:image/png;base64\") {\n",
       "            fig.imageObj.src = evt.data;\n",
       "            fig.updated_canvas_event();\n",
       "            fig.waiting = false;\n",
       "            return;\n",
       "        }\n",
       "\n",
       "        var msg = JSON.parse(evt.data);\n",
       "        var msg_type = msg['type'];\n",
       "\n",
       "        // Call the  \"handle_{type}\" callback, which takes\n",
       "        // the figure and JSON message as its only arguments.\n",
       "        try {\n",
       "            var callback = fig[\"handle_\" + msg_type];\n",
       "        } catch (e) {\n",
       "            console.log(\"No handler for the '\" + msg_type + \"' message type: \", msg);\n",
       "            return;\n",
       "        }\n",
       "\n",
       "        if (callback) {\n",
       "            try {\n",
       "                // console.log(\"Handling '\" + msg_type + \"' message: \", msg);\n",
       "                callback(fig, msg);\n",
       "            } catch (e) {\n",
       "                console.log(\"Exception inside the 'handler_\" + msg_type + \"' callback:\", e, e.stack, msg);\n",
       "            }\n",
       "        }\n",
       "    };\n",
       "}\n",
       "\n",
       "// from http://stackoverflow.com/questions/1114465/getting-mouse-location-in-canvas\n",
       "mpl.findpos = function(e) {\n",
       "    //this section is from http://www.quirksmode.org/js/events_properties.html\n",
       "    var targ;\n",
       "    if (!e)\n",
       "        e = window.event;\n",
       "    if (e.target)\n",
       "        targ = e.target;\n",
       "    else if (e.srcElement)\n",
       "        targ = e.srcElement;\n",
       "    if (targ.nodeType == 3) // defeat Safari bug\n",
       "        targ = targ.parentNode;\n",
       "\n",
       "    // jQuery normalizes the pageX and pageY\n",
       "    // pageX,Y are the mouse positions relative to the document\n",
       "    // offset() returns the position of the element relative to the document\n",
       "    var x = e.pageX - $(targ).offset().left;\n",
       "    var y = e.pageY - $(targ).offset().top;\n",
       "\n",
       "    return {\"x\": x, \"y\": y};\n",
       "};\n",
       "\n",
       "/*\n",
       " * return a copy of an object with only non-object keys\n",
       " * we need this to avoid circular references\n",
       " * http://stackoverflow.com/a/24161582/3208463\n",
       " */\n",
       "function simpleKeys (original) {\n",
       "  return Object.keys(original).reduce(function (obj, key) {\n",
       "    if (typeof original[key] !== 'object')\n",
       "        obj[key] = original[key]\n",
       "    return obj;\n",
       "  }, {});\n",
       "}\n",
       "\n",
       "mpl.figure.prototype.mouse_event = function(event, name) {\n",
       "    var canvas_pos = mpl.findpos(event)\n",
       "\n",
       "    if (name === 'button_press')\n",
       "    {\n",
       "        this.canvas.focus();\n",
       "        this.canvas_div.focus();\n",
       "    }\n",
       "\n",
       "    var x = canvas_pos.x * mpl.ratio;\n",
       "    var y = canvas_pos.y * mpl.ratio;\n",
       "\n",
       "    this.send_message(name, {x: x, y: y, button: event.button,\n",
       "                             step: event.step,\n",
       "                             guiEvent: simpleKeys(event)});\n",
       "\n",
       "    /* This prevents the web browser from automatically changing to\n",
       "     * the text insertion cursor when the button is pressed.  We want\n",
       "     * to control all of the cursor setting manually through the\n",
       "     * 'cursor' event from matplotlib */\n",
       "    event.preventDefault();\n",
       "    return false;\n",
       "}\n",
       "\n",
       "mpl.figure.prototype._key_event_extra = function(event, name) {\n",
       "    // Handle any extra behaviour associated with a key event\n",
       "}\n",
       "\n",
       "mpl.figure.prototype.key_event = function(event, name) {\n",
       "\n",
       "    // Prevent repeat events\n",
       "    if (name == 'key_press')\n",
       "    {\n",
       "        if (event.which === this._key)\n",
       "            return;\n",
       "        else\n",
       "            this._key = event.which;\n",
       "    }\n",
       "    if (name == 'key_release')\n",
       "        this._key = null;\n",
       "\n",
       "    var value = '';\n",
       "    if (event.ctrlKey && event.which != 17)\n",
       "        value += \"ctrl+\";\n",
       "    if (event.altKey && event.which != 18)\n",
       "        value += \"alt+\";\n",
       "    if (event.shiftKey && event.which != 16)\n",
       "        value += \"shift+\";\n",
       "\n",
       "    value += 'k';\n",
       "    value += event.which.toString();\n",
       "\n",
       "    this._key_event_extra(event, name);\n",
       "\n",
       "    this.send_message(name, {key: value,\n",
       "                             guiEvent: simpleKeys(event)});\n",
       "    return false;\n",
       "}\n",
       "\n",
       "mpl.figure.prototype.toolbar_button_onclick = function(name) {\n",
       "    if (name == 'download') {\n",
       "        this.handle_save(this, null);\n",
       "    } else {\n",
       "        this.send_message(\"toolbar_button\", {name: name});\n",
       "    }\n",
       "};\n",
       "\n",
       "mpl.figure.prototype.toolbar_button_onmouseover = function(tooltip) {\n",
       "    this.message.textContent = tooltip;\n",
       "};\n",
       "mpl.toolbar_items = [[\"Home\", \"Reset original view\", \"fa fa-home icon-home\", \"home\"], [\"Back\", \"Back to previous view\", \"fa fa-arrow-left icon-arrow-left\", \"back\"], [\"Forward\", \"Forward to next view\", \"fa fa-arrow-right icon-arrow-right\", \"forward\"], [\"\", \"\", \"\", \"\"], [\"Pan\", \"Pan axes with left mouse, zoom with right\", \"fa fa-arrows icon-move\", \"pan\"], [\"Zoom\", \"Zoom to rectangle\", \"fa fa-square-o icon-check-empty\", \"zoom\"], [\"\", \"\", \"\", \"\"], [\"Download\", \"Download plot\", \"fa fa-floppy-o icon-save\", \"download\"]];\n",
       "\n",
       "mpl.extensions = [\"eps\", \"jpeg\", \"pdf\", \"png\", \"ps\", \"raw\", \"svg\", \"tif\"];\n",
       "\n",
       "mpl.default_extension = \"png\";var comm_websocket_adapter = function(comm) {\n",
       "    // Create a \"websocket\"-like object which calls the given IPython comm\n",
       "    // object with the appropriate methods. Currently this is a non binary\n",
       "    // socket, so there is still some room for performance tuning.\n",
       "    var ws = {};\n",
       "\n",
       "    ws.close = function() {\n",
       "        comm.close()\n",
       "    };\n",
       "    ws.send = function(m) {\n",
       "        //console.log('sending', m);\n",
       "        comm.send(m);\n",
       "    };\n",
       "    // Register the callback with on_msg.\n",
       "    comm.on_msg(function(msg) {\n",
       "        //console.log('receiving', msg['content']['data'], msg);\n",
       "        // Pass the mpl event to the overridden (by mpl) onmessage function.\n",
       "        ws.onmessage(msg['content']['data'])\n",
       "    });\n",
       "    return ws;\n",
       "}\n",
       "\n",
       "mpl.mpl_figure_comm = function(comm, msg) {\n",
       "    // This is the function which gets called when the mpl process\n",
       "    // starts-up an IPython Comm through the \"matplotlib\" channel.\n",
       "\n",
       "    var id = msg.content.data.id;\n",
       "    // Get hold of the div created by the display call when the Comm\n",
       "    // socket was opened in Python.\n",
       "    var element = $(\"#\" + id);\n",
       "    var ws_proxy = comm_websocket_adapter(comm)\n",
       "\n",
       "    function ondownload(figure, format) {\n",
       "        window.open(figure.imageObj.src);\n",
       "    }\n",
       "\n",
       "    var fig = new mpl.figure(id, ws_proxy,\n",
       "                           ondownload,\n",
       "                           element.get(0));\n",
       "\n",
       "    // Call onopen now - mpl needs it, as it is assuming we've passed it a real\n",
       "    // web socket which is closed, not our websocket->open comm proxy.\n",
       "    ws_proxy.onopen();\n",
       "\n",
       "    fig.parent_element = element.get(0);\n",
       "    fig.cell_info = mpl.find_output_cell(\"<div id='\" + id + \"'></div>\");\n",
       "    if (!fig.cell_info) {\n",
       "        console.error(\"Failed to find cell for figure\", id, fig);\n",
       "        return;\n",
       "    }\n",
       "\n",
       "    var output_index = fig.cell_info[2]\n",
       "    var cell = fig.cell_info[0];\n",
       "\n",
       "};\n",
       "\n",
       "mpl.figure.prototype.handle_close = function(fig, msg) {\n",
       "    var width = fig.canvas.width/mpl.ratio\n",
       "    fig.root.unbind('remove')\n",
       "\n",
       "    // Update the output cell to use the data from the current canvas.\n",
       "    fig.push_to_output();\n",
       "    var dataURL = fig.canvas.toDataURL();\n",
       "    // Re-enable the keyboard manager in IPython - without this line, in FF,\n",
       "    // the notebook keyboard shortcuts fail.\n",
       "    IPython.keyboard_manager.enable()\n",
       "    $(fig.parent_element).html('<img src=\"' + dataURL + '\" width=\"' + width + '\">');\n",
       "    fig.close_ws(fig, msg);\n",
       "}\n",
       "\n",
       "mpl.figure.prototype.close_ws = function(fig, msg){\n",
       "    fig.send_message('closing', msg);\n",
       "    // fig.ws.close()\n",
       "}\n",
       "\n",
       "mpl.figure.prototype.push_to_output = function(remove_interactive) {\n",
       "    // Turn the data on the canvas into data in the output cell.\n",
       "    var width = this.canvas.width/mpl.ratio\n",
       "    var dataURL = this.canvas.toDataURL();\n",
       "    this.cell_info[1]['text/html'] = '<img src=\"' + dataURL + '\" width=\"' + width + '\">';\n",
       "}\n",
       "\n",
       "mpl.figure.prototype.updated_canvas_event = function() {\n",
       "    // Tell IPython that the notebook contents must change.\n",
       "    IPython.notebook.set_dirty(true);\n",
       "    this.send_message(\"ack\", {});\n",
       "    var fig = this;\n",
       "    // Wait a second, then push the new image to the DOM so\n",
       "    // that it is saved nicely (might be nice to debounce this).\n",
       "    setTimeout(function () { fig.push_to_output() }, 1000);\n",
       "}\n",
       "\n",
       "mpl.figure.prototype._init_toolbar = function() {\n",
       "    var fig = this;\n",
       "\n",
       "    var nav_element = $('<div/>');\n",
       "    nav_element.attr('style', 'width: 100%');\n",
       "    this.root.append(nav_element);\n",
       "\n",
       "    // Define a callback function for later on.\n",
       "    function toolbar_event(event) {\n",
       "        return fig.toolbar_button_onclick(event['data']);\n",
       "    }\n",
       "    function toolbar_mouse_event(event) {\n",
       "        return fig.toolbar_button_onmouseover(event['data']);\n",
       "    }\n",
       "\n",
       "    for(var toolbar_ind in mpl.toolbar_items){\n",
       "        var name = mpl.toolbar_items[toolbar_ind][0];\n",
       "        var tooltip = mpl.toolbar_items[toolbar_ind][1];\n",
       "        var image = mpl.toolbar_items[toolbar_ind][2];\n",
       "        var method_name = mpl.toolbar_items[toolbar_ind][3];\n",
       "\n",
       "        if (!name) { continue; };\n",
       "\n",
       "        var button = $('<button class=\"btn btn-default\" href=\"#\" title=\"' + name + '\"><i class=\"fa ' + image + ' fa-lg\"></i></button>');\n",
       "        button.click(method_name, toolbar_event);\n",
       "        button.mouseover(tooltip, toolbar_mouse_event);\n",
       "        nav_element.append(button);\n",
       "    }\n",
       "\n",
       "    // Add the status bar.\n",
       "    var status_bar = $('<span class=\"mpl-message\" style=\"text-align:right; float: right;\"/>');\n",
       "    nav_element.append(status_bar);\n",
       "    this.message = status_bar[0];\n",
       "\n",
       "    // Add the close button to the window.\n",
       "    var buttongrp = $('<div class=\"btn-group inline pull-right\"></div>');\n",
       "    var button = $('<button class=\"btn btn-mini btn-primary\" href=\"#\" title=\"Stop Interaction\"><i class=\"fa fa-power-off icon-remove icon-large\"></i></button>');\n",
       "    button.click(function (evt) { fig.handle_close(fig, {}); } );\n",
       "    button.mouseover('Stop Interaction', toolbar_mouse_event);\n",
       "    buttongrp.append(button);\n",
       "    var titlebar = this.root.find($('.ui-dialog-titlebar'));\n",
       "    titlebar.prepend(buttongrp);\n",
       "}\n",
       "\n",
       "mpl.figure.prototype._root_extra_style = function(el){\n",
       "    var fig = this\n",
       "    el.on(\"remove\", function(){\n",
       "\tfig.close_ws(fig, {});\n",
       "    });\n",
       "}\n",
       "\n",
       "mpl.figure.prototype._canvas_extra_style = function(el){\n",
       "    // this is important to make the div 'focusable\n",
       "    el.attr('tabindex', 0)\n",
       "    // reach out to IPython and tell the keyboard manager to turn it's self\n",
       "    // off when our div gets focus\n",
       "\n",
       "    // location in version 3\n",
       "    if (IPython.notebook.keyboard_manager) {\n",
       "        IPython.notebook.keyboard_manager.register_events(el);\n",
       "    }\n",
       "    else {\n",
       "        // location in version 2\n",
       "        IPython.keyboard_manager.register_events(el);\n",
       "    }\n",
       "\n",
       "}\n",
       "\n",
       "mpl.figure.prototype._key_event_extra = function(event, name) {\n",
       "    var manager = IPython.notebook.keyboard_manager;\n",
       "    if (!manager)\n",
       "        manager = IPython.keyboard_manager;\n",
       "\n",
       "    // Check for shift+enter\n",
       "    if (event.shiftKey && event.which == 13) {\n",
       "        this.canvas_div.blur();\n",
       "        // select the cell after this one\n",
       "        var index = IPython.notebook.find_cell_index(this.cell_info[0]);\n",
       "        IPython.notebook.select(index + 1);\n",
       "    }\n",
       "}\n",
       "\n",
       "mpl.figure.prototype.handle_save = function(fig, msg) {\n",
       "    fig.ondownload(fig, null);\n",
       "}\n",
       "\n",
       "\n",
       "mpl.find_output_cell = function(html_output) {\n",
       "    // Return the cell and output element which can be found *uniquely* in the notebook.\n",
       "    // Note - this is a bit hacky, but it is done because the \"notebook_saving.Notebook\"\n",
       "    // IPython event is triggered only after the cells have been serialised, which for\n",
       "    // our purposes (turning an active figure into a static one), is too late.\n",
       "    var cells = IPython.notebook.get_cells();\n",
       "    var ncells = cells.length;\n",
       "    for (var i=0; i<ncells; i++) {\n",
       "        var cell = cells[i];\n",
       "        if (cell.cell_type === 'code'){\n",
       "            for (var j=0; j<cell.output_area.outputs.length; j++) {\n",
       "                var data = cell.output_area.outputs[j];\n",
       "                if (data.data) {\n",
       "                    // IPython >= 3 moved mimebundle to data attribute of output\n",
       "                    data = data.data;\n",
       "                }\n",
       "                if (data['text/html'] == html_output) {\n",
       "                    return [cell, data, j];\n",
       "                }\n",
       "            }\n",
       "        }\n",
       "    }\n",
       "}\n",
       "\n",
       "// Register the function which deals with the matplotlib target/channel.\n",
       "// The kernel may be null if the page has been refreshed.\n",
       "if (IPython.notebook.kernel != null) {\n",
       "    IPython.notebook.kernel.comm_manager.register_target('matplotlib', mpl.mpl_figure_comm);\n",
       "}\n"
      ],
      "text/plain": [
       "<IPython.core.display.Javascript object>"
      ]
     },
     "metadata": {},
     "output_type": "display_data"
    },
    {
     "data": {
      "text/html": [
       "<img src=\"data:image/png;base64,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\" width=\"640\">"
      ],
      "text/plain": [
       "<IPython.core.display.HTML object>"
      ]
     },
     "metadata": {},
     "output_type": "display_data"
    }
   ],
   "source": [
    "month = [\" \",\"Jan\", \"Feb\",\"Mar\", \"Apr\", \"May\", \"June\", \"July\", \"Aug\", \"Sep\", \"Oct\", \"Nov\", \"Dec\",\" \"]\n",
    "graph_1 = palladium.plot.bar()\n",
    "plt.ylabel('Daily Percentage Change')\n",
    "plt.xlabel('Date')\n",
    "plt.title('Palladium')\n",
    "graph_1.xaxis.set_major_locator(ticker.MultipleLocator(22.00))\n",
    "graph_1.xaxis.set_minor_locator(ticker.MultipleLocator(0.5))\n",
    "graph_1.xaxis.set_major_formatter(ticker.FixedFormatter(month))\n",
    "minors = [\"\"] + [\"%.2f\" % (x-int(x)) \n",
    "                 if (x-int(x))\n",
    "                 else \"\" \n",
    "                 for x in np.arange(0, 13, 1.0)]\n",
    "graph_1.xaxis.set_minor_formatter(ticker.FixedFormatter(minors))"
   ]
  },
  {
   "cell_type": "code",
   "execution_count": 115,
   "metadata": {
    "colab": {},
    "colab_type": "code",
    "id": "60FQ1euYKbSp"
   },
   "outputs": [],
   "source": [
    "#plt.rcParams['figure.figsize'] = (16,10) # to increase the size of the plot (to better see)"
   ]
  },
  {
   "cell_type": "code",
   "execution_count": 116,
   "metadata": {
    "colab": {
     "base_uri": "https://localhost:8080/",
     "height": 17
    },
    "colab_type": "code",
    "executionInfo": {
     "elapsed": 809,
     "status": "ok",
     "timestamp": 1576133726156,
     "user": {
      "displayName": "Hyunsoo Kim",
      "photoUrl": "",
      "userId": "13555375600564903636"
     },
     "user_tz": 300
    },
    "id": "DKxvFricKjcD",
    "outputId": "54b59753-026d-4135-f3a4-10bda824a434"
   },
   "outputs": [
    {
     "data": {
      "application/javascript": [
       "/* Put everything inside the global mpl namespace */\n",
       "window.mpl = {};\n",
       "\n",
       "\n",
       "mpl.get_websocket_type = function() {\n",
       "    if (typeof(WebSocket) !== 'undefined') {\n",
       "        return WebSocket;\n",
       "    } else if (typeof(MozWebSocket) !== 'undefined') {\n",
       "        return MozWebSocket;\n",
       "    } else {\n",
       "        alert('Your browser does not have WebSocket support. ' +\n",
       "              'Please try Chrome, Safari or Firefox ≥ 6. ' +\n",
       "              'Firefox 4 and 5 are also supported but you ' +\n",
       "              'have to enable WebSockets in about:config.');\n",
       "    };\n",
       "}\n",
       "\n",
       "mpl.figure = function(figure_id, websocket, ondownload, parent_element) {\n",
       "    this.id = figure_id;\n",
       "\n",
       "    this.ws = websocket;\n",
       "\n",
       "    this.supports_binary = (this.ws.binaryType != undefined);\n",
       "\n",
       "    if (!this.supports_binary) {\n",
       "        var warnings = document.getElementById(\"mpl-warnings\");\n",
       "        if (warnings) {\n",
       "            warnings.style.display = 'block';\n",
       "            warnings.textContent = (\n",
       "                \"This browser does not support binary websocket messages. \" +\n",
       "                    \"Performance may be slow.\");\n",
       "        }\n",
       "    }\n",
       "\n",
       "    this.imageObj = new Image();\n",
       "\n",
       "    this.context = undefined;\n",
       "    this.message = undefined;\n",
       "    this.canvas = undefined;\n",
       "    this.rubberband_canvas = undefined;\n",
       "    this.rubberband_context = undefined;\n",
       "    this.format_dropdown = undefined;\n",
       "\n",
       "    this.image_mode = 'full';\n",
       "\n",
       "    this.root = $('<div/>');\n",
       "    this._root_extra_style(this.root)\n",
       "    this.root.attr('style', 'display: inline-block');\n",
       "\n",
       "    $(parent_element).append(this.root);\n",
       "\n",
       "    this._init_header(this);\n",
       "    this._init_canvas(this);\n",
       "    this._init_toolbar(this);\n",
       "\n",
       "    var fig = this;\n",
       "\n",
       "    this.waiting = false;\n",
       "\n",
       "    this.ws.onopen =  function () {\n",
       "            fig.send_message(\"supports_binary\", {value: fig.supports_binary});\n",
       "            fig.send_message(\"send_image_mode\", {});\n",
       "            if (mpl.ratio != 1) {\n",
       "                fig.send_message(\"set_dpi_ratio\", {'dpi_ratio': mpl.ratio});\n",
       "            }\n",
       "            fig.send_message(\"refresh\", {});\n",
       "        }\n",
       "\n",
       "    this.imageObj.onload = function() {\n",
       "            if (fig.image_mode == 'full') {\n",
       "                // Full images could contain transparency (where diff images\n",
       "                // almost always do), so we need to clear the canvas so that\n",
       "                // there is no ghosting.\n",
       "                fig.context.clearRect(0, 0, fig.canvas.width, fig.canvas.height);\n",
       "            }\n",
       "            fig.context.drawImage(fig.imageObj, 0, 0);\n",
       "        };\n",
       "\n",
       "    this.imageObj.onunload = function() {\n",
       "        fig.ws.close();\n",
       "    }\n",
       "\n",
       "    this.ws.onmessage = this._make_on_message_function(this);\n",
       "\n",
       "    this.ondownload = ondownload;\n",
       "}\n",
       "\n",
       "mpl.figure.prototype._init_header = function() {\n",
       "    var titlebar = $(\n",
       "        '<div class=\"ui-dialog-titlebar ui-widget-header ui-corner-all ' +\n",
       "        'ui-helper-clearfix\"/>');\n",
       "    var titletext = $(\n",
       "        '<div class=\"ui-dialog-title\" style=\"width: 100%; ' +\n",
       "        'text-align: center; padding: 3px;\"/>');\n",
       "    titlebar.append(titletext)\n",
       "    this.root.append(titlebar);\n",
       "    this.header = titletext[0];\n",
       "}\n",
       "\n",
       "\n",
       "\n",
       "mpl.figure.prototype._canvas_extra_style = function(canvas_div) {\n",
       "\n",
       "}\n",
       "\n",
       "\n",
       "mpl.figure.prototype._root_extra_style = function(canvas_div) {\n",
       "\n",
       "}\n",
       "\n",
       "mpl.figure.prototype._init_canvas = function() {\n",
       "    var fig = this;\n",
       "\n",
       "    var canvas_div = $('<div/>');\n",
       "\n",
       "    canvas_div.attr('style', 'position: relative; clear: both; outline: 0');\n",
       "\n",
       "    function canvas_keyboard_event(event) {\n",
       "        return fig.key_event(event, event['data']);\n",
       "    }\n",
       "\n",
       "    canvas_div.keydown('key_press', canvas_keyboard_event);\n",
       "    canvas_div.keyup('key_release', canvas_keyboard_event);\n",
       "    this.canvas_div = canvas_div\n",
       "    this._canvas_extra_style(canvas_div)\n",
       "    this.root.append(canvas_div);\n",
       "\n",
       "    var canvas = $('<canvas/>');\n",
       "    canvas.addClass('mpl-canvas');\n",
       "    canvas.attr('style', \"left: 0; top: 0; z-index: 0; outline: 0\")\n",
       "\n",
       "    this.canvas = canvas[0];\n",
       "    this.context = canvas[0].getContext(\"2d\");\n",
       "\n",
       "    var backingStore = this.context.backingStorePixelRatio ||\n",
       "\tthis.context.webkitBackingStorePixelRatio ||\n",
       "\tthis.context.mozBackingStorePixelRatio ||\n",
       "\tthis.context.msBackingStorePixelRatio ||\n",
       "\tthis.context.oBackingStorePixelRatio ||\n",
       "\tthis.context.backingStorePixelRatio || 1;\n",
       "\n",
       "    mpl.ratio = (window.devicePixelRatio || 1) / backingStore;\n",
       "\n",
       "    var rubberband = $('<canvas/>');\n",
       "    rubberband.attr('style', \"position: absolute; left: 0; top: 0; z-index: 1;\")\n",
       "\n",
       "    var pass_mouse_events = true;\n",
       "\n",
       "    canvas_div.resizable({\n",
       "        start: function(event, ui) {\n",
       "            pass_mouse_events = false;\n",
       "        },\n",
       "        resize: function(event, ui) {\n",
       "            fig.request_resize(ui.size.width, ui.size.height);\n",
       "        },\n",
       "        stop: function(event, ui) {\n",
       "            pass_mouse_events = true;\n",
       "            fig.request_resize(ui.size.width, ui.size.height);\n",
       "        },\n",
       "    });\n",
       "\n",
       "    function mouse_event_fn(event) {\n",
       "        if (pass_mouse_events)\n",
       "            return fig.mouse_event(event, event['data']);\n",
       "    }\n",
       "\n",
       "    rubberband.mousedown('button_press', mouse_event_fn);\n",
       "    rubberband.mouseup('button_release', mouse_event_fn);\n",
       "    // Throttle sequential mouse events to 1 every 20ms.\n",
       "    rubberband.mousemove('motion_notify', mouse_event_fn);\n",
       "\n",
       "    rubberband.mouseenter('figure_enter', mouse_event_fn);\n",
       "    rubberband.mouseleave('figure_leave', mouse_event_fn);\n",
       "\n",
       "    canvas_div.on(\"wheel\", function (event) {\n",
       "        event = event.originalEvent;\n",
       "        event['data'] = 'scroll'\n",
       "        if (event.deltaY < 0) {\n",
       "            event.step = 1;\n",
       "        } else {\n",
       "            event.step = -1;\n",
       "        }\n",
       "        mouse_event_fn(event);\n",
       "    });\n",
       "\n",
       "    canvas_div.append(canvas);\n",
       "    canvas_div.append(rubberband);\n",
       "\n",
       "    this.rubberband = rubberband;\n",
       "    this.rubberband_canvas = rubberband[0];\n",
       "    this.rubberband_context = rubberband[0].getContext(\"2d\");\n",
       "    this.rubberband_context.strokeStyle = \"#000000\";\n",
       "\n",
       "    this._resize_canvas = function(width, height) {\n",
       "        // Keep the size of the canvas, canvas container, and rubber band\n",
       "        // canvas in synch.\n",
       "        canvas_div.css('width', width)\n",
       "        canvas_div.css('height', height)\n",
       "\n",
       "        canvas.attr('width', width * mpl.ratio);\n",
       "        canvas.attr('height', height * mpl.ratio);\n",
       "        canvas.attr('style', 'width: ' + width + 'px; height: ' + height + 'px;');\n",
       "\n",
       "        rubberband.attr('width', width);\n",
       "        rubberband.attr('height', height);\n",
       "    }\n",
       "\n",
       "    // Set the figure to an initial 600x600px, this will subsequently be updated\n",
       "    // upon first draw.\n",
       "    this._resize_canvas(600, 600);\n",
       "\n",
       "    // Disable right mouse context menu.\n",
       "    $(this.rubberband_canvas).bind(\"contextmenu\",function(e){\n",
       "        return false;\n",
       "    });\n",
       "\n",
       "    function set_focus () {\n",
       "        canvas.focus();\n",
       "        canvas_div.focus();\n",
       "    }\n",
       "\n",
       "    window.setTimeout(set_focus, 100);\n",
       "}\n",
       "\n",
       "mpl.figure.prototype._init_toolbar = function() {\n",
       "    var fig = this;\n",
       "\n",
       "    var nav_element = $('<div/>');\n",
       "    nav_element.attr('style', 'width: 100%');\n",
       "    this.root.append(nav_element);\n",
       "\n",
       "    // Define a callback function for later on.\n",
       "    function toolbar_event(event) {\n",
       "        return fig.toolbar_button_onclick(event['data']);\n",
       "    }\n",
       "    function toolbar_mouse_event(event) {\n",
       "        return fig.toolbar_button_onmouseover(event['data']);\n",
       "    }\n",
       "\n",
       "    for(var toolbar_ind in mpl.toolbar_items) {\n",
       "        var name = mpl.toolbar_items[toolbar_ind][0];\n",
       "        var tooltip = mpl.toolbar_items[toolbar_ind][1];\n",
       "        var image = mpl.toolbar_items[toolbar_ind][2];\n",
       "        var method_name = mpl.toolbar_items[toolbar_ind][3];\n",
       "\n",
       "        if (!name) {\n",
       "            // put a spacer in here.\n",
       "            continue;\n",
       "        }\n",
       "        var button = $('<button/>');\n",
       "        button.addClass('ui-button ui-widget ui-state-default ui-corner-all ' +\n",
       "                        'ui-button-icon-only');\n",
       "        button.attr('role', 'button');\n",
       "        button.attr('aria-disabled', 'false');\n",
       "        button.click(method_name, toolbar_event);\n",
       "        button.mouseover(tooltip, toolbar_mouse_event);\n",
       "\n",
       "        var icon_img = $('<span/>');\n",
       "        icon_img.addClass('ui-button-icon-primary ui-icon');\n",
       "        icon_img.addClass(image);\n",
       "        icon_img.addClass('ui-corner-all');\n",
       "\n",
       "        var tooltip_span = $('<span/>');\n",
       "        tooltip_span.addClass('ui-button-text');\n",
       "        tooltip_span.html(tooltip);\n",
       "\n",
       "        button.append(icon_img);\n",
       "        button.append(tooltip_span);\n",
       "\n",
       "        nav_element.append(button);\n",
       "    }\n",
       "\n",
       "    var fmt_picker_span = $('<span/>');\n",
       "\n",
       "    var fmt_picker = $('<select/>');\n",
       "    fmt_picker.addClass('mpl-toolbar-option ui-widget ui-widget-content');\n",
       "    fmt_picker_span.append(fmt_picker);\n",
       "    nav_element.append(fmt_picker_span);\n",
       "    this.format_dropdown = fmt_picker[0];\n",
       "\n",
       "    for (var ind in mpl.extensions) {\n",
       "        var fmt = mpl.extensions[ind];\n",
       "        var option = $(\n",
       "            '<option/>', {selected: fmt === mpl.default_extension}).html(fmt);\n",
       "        fmt_picker.append(option);\n",
       "    }\n",
       "\n",
       "    // Add hover states to the ui-buttons\n",
       "    $( \".ui-button\" ).hover(\n",
       "        function() { $(this).addClass(\"ui-state-hover\");},\n",
       "        function() { $(this).removeClass(\"ui-state-hover\");}\n",
       "    );\n",
       "\n",
       "    var status_bar = $('<span class=\"mpl-message\"/>');\n",
       "    nav_element.append(status_bar);\n",
       "    this.message = status_bar[0];\n",
       "}\n",
       "\n",
       "mpl.figure.prototype.request_resize = function(x_pixels, y_pixels) {\n",
       "    // Request matplotlib to resize the figure. Matplotlib will then trigger a resize in the client,\n",
       "    // which will in turn request a refresh of the image.\n",
       "    this.send_message('resize', {'width': x_pixels, 'height': y_pixels});\n",
       "}\n",
       "\n",
       "mpl.figure.prototype.send_message = function(type, properties) {\n",
       "    properties['type'] = type;\n",
       "    properties['figure_id'] = this.id;\n",
       "    this.ws.send(JSON.stringify(properties));\n",
       "}\n",
       "\n",
       "mpl.figure.prototype.send_draw_message = function() {\n",
       "    if (!this.waiting) {\n",
       "        this.waiting = true;\n",
       "        this.ws.send(JSON.stringify({type: \"draw\", figure_id: this.id}));\n",
       "    }\n",
       "}\n",
       "\n",
       "\n",
       "mpl.figure.prototype.handle_save = function(fig, msg) {\n",
       "    var format_dropdown = fig.format_dropdown;\n",
       "    var format = format_dropdown.options[format_dropdown.selectedIndex].value;\n",
       "    fig.ondownload(fig, format);\n",
       "}\n",
       "\n",
       "\n",
       "mpl.figure.prototype.handle_resize = function(fig, msg) {\n",
       "    var size = msg['size'];\n",
       "    if (size[0] != fig.canvas.width || size[1] != fig.canvas.height) {\n",
       "        fig._resize_canvas(size[0], size[1]);\n",
       "        fig.send_message(\"refresh\", {});\n",
       "    };\n",
       "}\n",
       "\n",
       "mpl.figure.prototype.handle_rubberband = function(fig, msg) {\n",
       "    var x0 = msg['x0'] / mpl.ratio;\n",
       "    var y0 = (fig.canvas.height - msg['y0']) / mpl.ratio;\n",
       "    var x1 = msg['x1'] / mpl.ratio;\n",
       "    var y1 = (fig.canvas.height - msg['y1']) / mpl.ratio;\n",
       "    x0 = Math.floor(x0) + 0.5;\n",
       "    y0 = Math.floor(y0) + 0.5;\n",
       "    x1 = Math.floor(x1) + 0.5;\n",
       "    y1 = Math.floor(y1) + 0.5;\n",
       "    var min_x = Math.min(x0, x1);\n",
       "    var min_y = Math.min(y0, y1);\n",
       "    var width = Math.abs(x1 - x0);\n",
       "    var height = Math.abs(y1 - y0);\n",
       "\n",
       "    fig.rubberband_context.clearRect(\n",
       "        0, 0, fig.canvas.width / mpl.ratio, fig.canvas.height / mpl.ratio);\n",
       "\n",
       "    fig.rubberband_context.strokeRect(min_x, min_y, width, height);\n",
       "}\n",
       "\n",
       "mpl.figure.prototype.handle_figure_label = function(fig, msg) {\n",
       "    // Updates the figure title.\n",
       "    fig.header.textContent = msg['label'];\n",
       "}\n",
       "\n",
       "mpl.figure.prototype.handle_cursor = function(fig, msg) {\n",
       "    var cursor = msg['cursor'];\n",
       "    switch(cursor)\n",
       "    {\n",
       "    case 0:\n",
       "        cursor = 'pointer';\n",
       "        break;\n",
       "    case 1:\n",
       "        cursor = 'default';\n",
       "        break;\n",
       "    case 2:\n",
       "        cursor = 'crosshair';\n",
       "        break;\n",
       "    case 3:\n",
       "        cursor = 'move';\n",
       "        break;\n",
       "    }\n",
       "    fig.rubberband_canvas.style.cursor = cursor;\n",
       "}\n",
       "\n",
       "mpl.figure.prototype.handle_message = function(fig, msg) {\n",
       "    fig.message.textContent = msg['message'];\n",
       "}\n",
       "\n",
       "mpl.figure.prototype.handle_draw = function(fig, msg) {\n",
       "    // Request the server to send over a new figure.\n",
       "    fig.send_draw_message();\n",
       "}\n",
       "\n",
       "mpl.figure.prototype.handle_image_mode = function(fig, msg) {\n",
       "    fig.image_mode = msg['mode'];\n",
       "}\n",
       "\n",
       "mpl.figure.prototype.updated_canvas_event = function() {\n",
       "    // Called whenever the canvas gets updated.\n",
       "    this.send_message(\"ack\", {});\n",
       "}\n",
       "\n",
       "// A function to construct a web socket function for onmessage handling.\n",
       "// Called in the figure constructor.\n",
       "mpl.figure.prototype._make_on_message_function = function(fig) {\n",
       "    return function socket_on_message(evt) {\n",
       "        if (evt.data instanceof Blob) {\n",
       "            /* FIXME: We get \"Resource interpreted as Image but\n",
       "             * transferred with MIME type text/plain:\" errors on\n",
       "             * Chrome.  But how to set the MIME type?  It doesn't seem\n",
       "             * to be part of the websocket stream */\n",
       "            evt.data.type = \"image/png\";\n",
       "\n",
       "            /* Free the memory for the previous frames */\n",
       "            if (fig.imageObj.src) {\n",
       "                (window.URL || window.webkitURL).revokeObjectURL(\n",
       "                    fig.imageObj.src);\n",
       "            }\n",
       "\n",
       "            fig.imageObj.src = (window.URL || window.webkitURL).createObjectURL(\n",
       "                evt.data);\n",
       "            fig.updated_canvas_event();\n",
       "            fig.waiting = false;\n",
       "            return;\n",
       "        }\n",
       "        else if (typeof evt.data === 'string' && evt.data.slice(0, 21) == \"data:image/png;base64\") {\n",
       "            fig.imageObj.src = evt.data;\n",
       "            fig.updated_canvas_event();\n",
       "            fig.waiting = false;\n",
       "            return;\n",
       "        }\n",
       "\n",
       "        var msg = JSON.parse(evt.data);\n",
       "        var msg_type = msg['type'];\n",
       "\n",
       "        // Call the  \"handle_{type}\" callback, which takes\n",
       "        // the figure and JSON message as its only arguments.\n",
       "        try {\n",
       "            var callback = fig[\"handle_\" + msg_type];\n",
       "        } catch (e) {\n",
       "            console.log(\"No handler for the '\" + msg_type + \"' message type: \", msg);\n",
       "            return;\n",
       "        }\n",
       "\n",
       "        if (callback) {\n",
       "            try {\n",
       "                // console.log(\"Handling '\" + msg_type + \"' message: \", msg);\n",
       "                callback(fig, msg);\n",
       "            } catch (e) {\n",
       "                console.log(\"Exception inside the 'handler_\" + msg_type + \"' callback:\", e, e.stack, msg);\n",
       "            }\n",
       "        }\n",
       "    };\n",
       "}\n",
       "\n",
       "// from http://stackoverflow.com/questions/1114465/getting-mouse-location-in-canvas\n",
       "mpl.findpos = function(e) {\n",
       "    //this section is from http://www.quirksmode.org/js/events_properties.html\n",
       "    var targ;\n",
       "    if (!e)\n",
       "        e = window.event;\n",
       "    if (e.target)\n",
       "        targ = e.target;\n",
       "    else if (e.srcElement)\n",
       "        targ = e.srcElement;\n",
       "    if (targ.nodeType == 3) // defeat Safari bug\n",
       "        targ = targ.parentNode;\n",
       "\n",
       "    // jQuery normalizes the pageX and pageY\n",
       "    // pageX,Y are the mouse positions relative to the document\n",
       "    // offset() returns the position of the element relative to the document\n",
       "    var x = e.pageX - $(targ).offset().left;\n",
       "    var y = e.pageY - $(targ).offset().top;\n",
       "\n",
       "    return {\"x\": x, \"y\": y};\n",
       "};\n",
       "\n",
       "/*\n",
       " * return a copy of an object with only non-object keys\n",
       " * we need this to avoid circular references\n",
       " * http://stackoverflow.com/a/24161582/3208463\n",
       " */\n",
       "function simpleKeys (original) {\n",
       "  return Object.keys(original).reduce(function (obj, key) {\n",
       "    if (typeof original[key] !== 'object')\n",
       "        obj[key] = original[key]\n",
       "    return obj;\n",
       "  }, {});\n",
       "}\n",
       "\n",
       "mpl.figure.prototype.mouse_event = function(event, name) {\n",
       "    var canvas_pos = mpl.findpos(event)\n",
       "\n",
       "    if (name === 'button_press')\n",
       "    {\n",
       "        this.canvas.focus();\n",
       "        this.canvas_div.focus();\n",
       "    }\n",
       "\n",
       "    var x = canvas_pos.x * mpl.ratio;\n",
       "    var y = canvas_pos.y * mpl.ratio;\n",
       "\n",
       "    this.send_message(name, {x: x, y: y, button: event.button,\n",
       "                             step: event.step,\n",
       "                             guiEvent: simpleKeys(event)});\n",
       "\n",
       "    /* This prevents the web browser from automatically changing to\n",
       "     * the text insertion cursor when the button is pressed.  We want\n",
       "     * to control all of the cursor setting manually through the\n",
       "     * 'cursor' event from matplotlib */\n",
       "    event.preventDefault();\n",
       "    return false;\n",
       "}\n",
       "\n",
       "mpl.figure.prototype._key_event_extra = function(event, name) {\n",
       "    // Handle any extra behaviour associated with a key event\n",
       "}\n",
       "\n",
       "mpl.figure.prototype.key_event = function(event, name) {\n",
       "\n",
       "    // Prevent repeat events\n",
       "    if (name == 'key_press')\n",
       "    {\n",
       "        if (event.which === this._key)\n",
       "            return;\n",
       "        else\n",
       "            this._key = event.which;\n",
       "    }\n",
       "    if (name == 'key_release')\n",
       "        this._key = null;\n",
       "\n",
       "    var value = '';\n",
       "    if (event.ctrlKey && event.which != 17)\n",
       "        value += \"ctrl+\";\n",
       "    if (event.altKey && event.which != 18)\n",
       "        value += \"alt+\";\n",
       "    if (event.shiftKey && event.which != 16)\n",
       "        value += \"shift+\";\n",
       "\n",
       "    value += 'k';\n",
       "    value += event.which.toString();\n",
       "\n",
       "    this._key_event_extra(event, name);\n",
       "\n",
       "    this.send_message(name, {key: value,\n",
       "                             guiEvent: simpleKeys(event)});\n",
       "    return false;\n",
       "}\n",
       "\n",
       "mpl.figure.prototype.toolbar_button_onclick = function(name) {\n",
       "    if (name == 'download') {\n",
       "        this.handle_save(this, null);\n",
       "    } else {\n",
       "        this.send_message(\"toolbar_button\", {name: name});\n",
       "    }\n",
       "};\n",
       "\n",
       "mpl.figure.prototype.toolbar_button_onmouseover = function(tooltip) {\n",
       "    this.message.textContent = tooltip;\n",
       "};\n",
       "mpl.toolbar_items = [[\"Home\", \"Reset original view\", \"fa fa-home icon-home\", \"home\"], [\"Back\", \"Back to previous view\", \"fa fa-arrow-left icon-arrow-left\", \"back\"], [\"Forward\", \"Forward to next view\", \"fa fa-arrow-right icon-arrow-right\", \"forward\"], [\"\", \"\", \"\", \"\"], [\"Pan\", \"Pan axes with left mouse, zoom with right\", \"fa fa-arrows icon-move\", \"pan\"], [\"Zoom\", \"Zoom to rectangle\", \"fa fa-square-o icon-check-empty\", \"zoom\"], [\"\", \"\", \"\", \"\"], [\"Download\", \"Download plot\", \"fa fa-floppy-o icon-save\", \"download\"]];\n",
       "\n",
       "mpl.extensions = [\"eps\", \"jpeg\", \"pdf\", \"png\", \"ps\", \"raw\", \"svg\", \"tif\"];\n",
       "\n",
       "mpl.default_extension = \"png\";var comm_websocket_adapter = function(comm) {\n",
       "    // Create a \"websocket\"-like object which calls the given IPython comm\n",
       "    // object with the appropriate methods. Currently this is a non binary\n",
       "    // socket, so there is still some room for performance tuning.\n",
       "    var ws = {};\n",
       "\n",
       "    ws.close = function() {\n",
       "        comm.close()\n",
       "    };\n",
       "    ws.send = function(m) {\n",
       "        //console.log('sending', m);\n",
       "        comm.send(m);\n",
       "    };\n",
       "    // Register the callback with on_msg.\n",
       "    comm.on_msg(function(msg) {\n",
       "        //console.log('receiving', msg['content']['data'], msg);\n",
       "        // Pass the mpl event to the overridden (by mpl) onmessage function.\n",
       "        ws.onmessage(msg['content']['data'])\n",
       "    });\n",
       "    return ws;\n",
       "}\n",
       "\n",
       "mpl.mpl_figure_comm = function(comm, msg) {\n",
       "    // This is the function which gets called when the mpl process\n",
       "    // starts-up an IPython Comm through the \"matplotlib\" channel.\n",
       "\n",
       "    var id = msg.content.data.id;\n",
       "    // Get hold of the div created by the display call when the Comm\n",
       "    // socket was opened in Python.\n",
       "    var element = $(\"#\" + id);\n",
       "    var ws_proxy = comm_websocket_adapter(comm)\n",
       "\n",
       "    function ondownload(figure, format) {\n",
       "        window.open(figure.imageObj.src);\n",
       "    }\n",
       "\n",
       "    var fig = new mpl.figure(id, ws_proxy,\n",
       "                           ondownload,\n",
       "                           element.get(0));\n",
       "\n",
       "    // Call onopen now - mpl needs it, as it is assuming we've passed it a real\n",
       "    // web socket which is closed, not our websocket->open comm proxy.\n",
       "    ws_proxy.onopen();\n",
       "\n",
       "    fig.parent_element = element.get(0);\n",
       "    fig.cell_info = mpl.find_output_cell(\"<div id='\" + id + \"'></div>\");\n",
       "    if (!fig.cell_info) {\n",
       "        console.error(\"Failed to find cell for figure\", id, fig);\n",
       "        return;\n",
       "    }\n",
       "\n",
       "    var output_index = fig.cell_info[2]\n",
       "    var cell = fig.cell_info[0];\n",
       "\n",
       "};\n",
       "\n",
       "mpl.figure.prototype.handle_close = function(fig, msg) {\n",
       "    var width = fig.canvas.width/mpl.ratio\n",
       "    fig.root.unbind('remove')\n",
       "\n",
       "    // Update the output cell to use the data from the current canvas.\n",
       "    fig.push_to_output();\n",
       "    var dataURL = fig.canvas.toDataURL();\n",
       "    // Re-enable the keyboard manager in IPython - without this line, in FF,\n",
       "    // the notebook keyboard shortcuts fail.\n",
       "    IPython.keyboard_manager.enable()\n",
       "    $(fig.parent_element).html('<img src=\"' + dataURL + '\" width=\"' + width + '\">');\n",
       "    fig.close_ws(fig, msg);\n",
       "}\n",
       "\n",
       "mpl.figure.prototype.close_ws = function(fig, msg){\n",
       "    fig.send_message('closing', msg);\n",
       "    // fig.ws.close()\n",
       "}\n",
       "\n",
       "mpl.figure.prototype.push_to_output = function(remove_interactive) {\n",
       "    // Turn the data on the canvas into data in the output cell.\n",
       "    var width = this.canvas.width/mpl.ratio\n",
       "    var dataURL = this.canvas.toDataURL();\n",
       "    this.cell_info[1]['text/html'] = '<img src=\"' + dataURL + '\" width=\"' + width + '\">';\n",
       "}\n",
       "\n",
       "mpl.figure.prototype.updated_canvas_event = function() {\n",
       "    // Tell IPython that the notebook contents must change.\n",
       "    IPython.notebook.set_dirty(true);\n",
       "    this.send_message(\"ack\", {});\n",
       "    var fig = this;\n",
       "    // Wait a second, then push the new image to the DOM so\n",
       "    // that it is saved nicely (might be nice to debounce this).\n",
       "    setTimeout(function () { fig.push_to_output() }, 1000);\n",
       "}\n",
       "\n",
       "mpl.figure.prototype._init_toolbar = function() {\n",
       "    var fig = this;\n",
       "\n",
       "    var nav_element = $('<div/>');\n",
       "    nav_element.attr('style', 'width: 100%');\n",
       "    this.root.append(nav_element);\n",
       "\n",
       "    // Define a callback function for later on.\n",
       "    function toolbar_event(event) {\n",
       "        return fig.toolbar_button_onclick(event['data']);\n",
       "    }\n",
       "    function toolbar_mouse_event(event) {\n",
       "        return fig.toolbar_button_onmouseover(event['data']);\n",
       "    }\n",
       "\n",
       "    for(var toolbar_ind in mpl.toolbar_items){\n",
       "        var name = mpl.toolbar_items[toolbar_ind][0];\n",
       "        var tooltip = mpl.toolbar_items[toolbar_ind][1];\n",
       "        var image = mpl.toolbar_items[toolbar_ind][2];\n",
       "        var method_name = mpl.toolbar_items[toolbar_ind][3];\n",
       "\n",
       "        if (!name) { continue; };\n",
       "\n",
       "        var button = $('<button class=\"btn btn-default\" href=\"#\" title=\"' + name + '\"><i class=\"fa ' + image + ' fa-lg\"></i></button>');\n",
       "        button.click(method_name, toolbar_event);\n",
       "        button.mouseover(tooltip, toolbar_mouse_event);\n",
       "        nav_element.append(button);\n",
       "    }\n",
       "\n",
       "    // Add the status bar.\n",
       "    var status_bar = $('<span class=\"mpl-message\" style=\"text-align:right; float: right;\"/>');\n",
       "    nav_element.append(status_bar);\n",
       "    this.message = status_bar[0];\n",
       "\n",
       "    // Add the close button to the window.\n",
       "    var buttongrp = $('<div class=\"btn-group inline pull-right\"></div>');\n",
       "    var button = $('<button class=\"btn btn-mini btn-primary\" href=\"#\" title=\"Stop Interaction\"><i class=\"fa fa-power-off icon-remove icon-large\"></i></button>');\n",
       "    button.click(function (evt) { fig.handle_close(fig, {}); } );\n",
       "    button.mouseover('Stop Interaction', toolbar_mouse_event);\n",
       "    buttongrp.append(button);\n",
       "    var titlebar = this.root.find($('.ui-dialog-titlebar'));\n",
       "    titlebar.prepend(buttongrp);\n",
       "}\n",
       "\n",
       "mpl.figure.prototype._root_extra_style = function(el){\n",
       "    var fig = this\n",
       "    el.on(\"remove\", function(){\n",
       "\tfig.close_ws(fig, {});\n",
       "    });\n",
       "}\n",
       "\n",
       "mpl.figure.prototype._canvas_extra_style = function(el){\n",
       "    // this is important to make the div 'focusable\n",
       "    el.attr('tabindex', 0)\n",
       "    // reach out to IPython and tell the keyboard manager to turn it's self\n",
       "    // off when our div gets focus\n",
       "\n",
       "    // location in version 3\n",
       "    if (IPython.notebook.keyboard_manager) {\n",
       "        IPython.notebook.keyboard_manager.register_events(el);\n",
       "    }\n",
       "    else {\n",
       "        // location in version 2\n",
       "        IPython.keyboard_manager.register_events(el);\n",
       "    }\n",
       "\n",
       "}\n",
       "\n",
       "mpl.figure.prototype._key_event_extra = function(event, name) {\n",
       "    var manager = IPython.notebook.keyboard_manager;\n",
       "    if (!manager)\n",
       "        manager = IPython.keyboard_manager;\n",
       "\n",
       "    // Check for shift+enter\n",
       "    if (event.shiftKey && event.which == 13) {\n",
       "        this.canvas_div.blur();\n",
       "        // select the cell after this one\n",
       "        var index = IPython.notebook.find_cell_index(this.cell_info[0]);\n",
       "        IPython.notebook.select(index + 1);\n",
       "    }\n",
       "}\n",
       "\n",
       "mpl.figure.prototype.handle_save = function(fig, msg) {\n",
       "    fig.ondownload(fig, null);\n",
       "}\n",
       "\n",
       "\n",
       "mpl.find_output_cell = function(html_output) {\n",
       "    // Return the cell and output element which can be found *uniquely* in the notebook.\n",
       "    // Note - this is a bit hacky, but it is done because the \"notebook_saving.Notebook\"\n",
       "    // IPython event is triggered only after the cells have been serialised, which for\n",
       "    // our purposes (turning an active figure into a static one), is too late.\n",
       "    var cells = IPython.notebook.get_cells();\n",
       "    var ncells = cells.length;\n",
       "    for (var i=0; i<ncells; i++) {\n",
       "        var cell = cells[i];\n",
       "        if (cell.cell_type === 'code'){\n",
       "            for (var j=0; j<cell.output_area.outputs.length; j++) {\n",
       "                var data = cell.output_area.outputs[j];\n",
       "                if (data.data) {\n",
       "                    // IPython >= 3 moved mimebundle to data attribute of output\n",
       "                    data = data.data;\n",
       "                }\n",
       "                if (data['text/html'] == html_output) {\n",
       "                    return [cell, data, j];\n",
       "                }\n",
       "            }\n",
       "        }\n",
       "    }\n",
       "}\n",
       "\n",
       "// Register the function which deals with the matplotlib target/channel.\n",
       "// The kernel may be null if the page has been refreshed.\n",
       "if (IPython.notebook.kernel != null) {\n",
       "    IPython.notebook.kernel.comm_manager.register_target('matplotlib', mpl.mpl_figure_comm);\n",
       "}\n"
      ],
      "text/plain": [
       "<IPython.core.display.Javascript object>"
      ]
     },
     "metadata": {},
     "output_type": "display_data"
    },
    {
     "data": {
      "text/html": [
       "<img src=\"data:image/png;base64,iVBORw0KGgoAAAANSUhEUgAABQAAAAPACAYAAABq3NR5AAAgAElEQVR4XuzdCfjVxL3/8S+7ICpSFlFQkUUQbhEFWVQU1AqiaC2itbZivYio9bpULe5YL+JSrVvLg1bRWysudamCUKsiamWraFHBhU1E9iqogMryf2ba3+/P4fc7J8nJJJmZvPM8fVo4yWTm9Z2EnE+Tkxrbtm3bJiwIIIAAAggggAACCCCAAAIIIIAAAggg4KVADQJAL+vKoBBAAAEEEEAAAQQQQAABBBBAAAEEENACBIBMBAQQQAABBBBAAAEEEEAAAQQQQAABBDwWIAD0uLgMDQEEEEAAAQQQQAABBBBAAAEEEEAAAQJA5gACCCCAAAIIIIAAAggggAACCCCAAAIeCxAAelxchoYAAggggAACCCCAAAIIIIAAAggggAABIHMAAQQQQAABBBBAAAEEEEAAAQQQQAABjwUIAD0uLkNDAAEEEEAAAQQQQAABBBBAAAEEEECAAJA5gAACCCCAAAIIIIAAAggggAACCCCAgMcCBIAeF5ehIYAAAggggAACCCCAAAIIIIAAAgggQADIHEAAAQQQQAABBBBAAAEEEEAAAQQQQMBjAQJAj4vL0BBAAAEEEEAAAQQQQAABBBBAAAEEECAAZA4ggAACCCCAAAIIIIAAAggggAACCCDgsQABoMfFZWgIIIAAAggggAACCCCAAAIIIIAAAggQADIHEEAAAQQQQAABBBBAAAEEEEAAAQQQ8FiAANDj4jI0BBBAAAEEEEAAAQQQQAABBBBAAAEECACZAwgggAACCCCAAAIIIIAAAggggAACCHgsQADocXEZGgIIIIAAAggggAACCCCAAAIIIIAAAgSAzAEEEEAAAQQQQAABBBBAAAEEEEAAAQQ8FiAA9Li4DA0BBBBAAAEEEEAAAQQQQAABBBBAAAECQOYAAggggAACCCCAAAIIIIAAAggggAACHgsQAHpcXIaGAAIIIIAAAggggAACCCCAAAIIIIAAASBzAAEEEEAAAQQQQAABBBBAAAEEEEAAAY8FCAA9Li5DQwABBBBAAAEEEEAAAQQQQAABBBBAgACQOYAAAggggAACCCCAAAIIIIAAAggggIDHAgSAHheXoSGAAAIIIIAAAggggAACCCCAAAIIIEAAyBxAAAEEEEAAAQQQQAABBBBAAAEEEEDAYwECQI+Ly9AQQAABBBBAAAEEEEAAAQQQQAABBBAgAGQOIIAAAggggAACCCCAAAIIIIAAAggg4LEAAaDHxWVoCCCAAAIIIIAAAggggAACCCCAAAIIEAAyBxBAAAEEEEAAAQQQQAABBBBAAAEEEPBYgADQ4+IyNAQQQAABBBBAAAEEEEAAAQQQQAABBAgAmQMIIIAAAggggAACCCCAAAIIIIAAAgh4LEAA6HFxGRoCCCCAAAIIIIAAAggggAACCCCAAAIEgMwBBBBAAAEEEEAAAQQQQAABBBBAAAEEPBYgAPS4uAwNAQQQQAABBBBAAAEEEEAAAQQQQAABAkDmAAIIIIAAAggggAACCCCAAAIIIIAAAh4LEAB6XFyGhgACCCCAAAIIIIAAAggggAACCCCAAAEgcwABBBBAAAEEEEAAAQQQQAABBBBAAAGPBQgAPS4uQ0MAAQQQQAABBBBAAAEEEEAAAQQQQIAAkDmAAAIIIIAAAggggAACCCCAAAIIIICAxwIEgB4Xl6EhgAACCCCAAAIIIIAAAggggAACCCBAAMgcQAABBBBAAAEEEEAAAQQQQAABBBBAwGMBAkCPi8vQEEAAAQQQQAABBBBAAAEEEEAAAQQQIABkDiCAAAIIIIAAAggggAACCCCAAAIIIOCxAAGgx8VlaAgggAACCCCAAAIIIIAAAggggAACCBAAMgcQQAABBBBAAAEEEEAAAQQQQAABBBDwWIAA0OPiMjQEEEAAAQQQQAABBBBAAAEEEEAAAQQIAJkDCCCAAAIIIIAAAggggAACCCCAAAIIeCxAAOhxcRkaAggggAACCCCAAAIIIIAAAggggAACBIDMAQQQQAABBBBAAAEEEEAAAQQQQAABBDwWIAD0uLgMDQEEEEAAAQQQQAABBBBAAAEEEEAAAQJA5gACCCCAAAIIIIAAAggggAACCCCAAAIeCxAAelxchoYAAggggAACCCCAAAIIIIAAAggggAABIHMAAQQQQAABBBBAAAEEEEAAAQQQQAABjwUIAD0uLkNDAAEEEEAAAQQQQAABBBBAAAEEEECAAJA5gAACCCCAAAIIIIAAAggggAACCCCAgMcCBIAeF5ehIYAAAggggAACCCCAAAIIIIAAAgggQADIHEAAAQQQQAABBBBAAAEEEEAAAQQQQMBjAQJAj4vL0BBAAAEEEEAAAQQQQAABBBBAAAEEECAAZA4ggAACCCCAAAIIIIAAAggggAACCCDgsQABoMfFZWgIIIAAAggggAACCCCAAAIIIIAAAggQADIHEEAAAQQQQAABBBBAAAEEEEAAAQQQ8FiAANDj4jI0BBBAAAEEEEAAAQQQQAABBBBAAAEECACZAwgggAACCCCAAAIIIIAAAggggAACCHgsQADocXEZGgIIIIAAAggggAACCCCAAAIIIIAAAgSAzAEEEEAAAQQQQAABBBBAAAEEEEAAAQQ8FiAA9Li4DA0BBBBAAAEEEEAAAQQQQAABBBBAAAECQOYAAggggAACCCCAAAIIIIAAAggggAACHgsQAHpcXIaGAAIIIIAAAggggAACCCCAAAIIIIAAASBzAAEEEEAAAQQQQAABBBBAAAEEEEAAAY8FCAA9Li5DQwABBBBAAAEEEEAAAQQQQAABBBBAgACQOYAAAggggAACCCCAAAIIIIAAAggggIDHAgSAHheXoSGAAAIIIIAAAlkLXH/99TJq1Cjdjeuuu07Un+MuU6dOlb59++pmjjjiCFF/ZkEAAQQQQAABBBAoLkAAyOxAAAEEEEAAAQQcFtiwYYNMmTJFXnrpJZkxY4asXLlS1q5dK1u2bJFGjRpJ8+bNpUuXLtK9e3c58cQTZe+99051tASAqXKzMwQQQAABBBBAoFoBAkAmBgIIIIAAAggg4KDAxo0b5d5775Vbb71VVq1aFXoEvXv3liuvvFIGDhwYeps4KxIAxtFjWwQQQAABBBBAwIwAAaAZR1pBAAEEEEAAAQRSE1i6dKmcdNJJ8tZbbxXss2nTpnLQQQdJkyZNpEGDBrJmzRpZtmyZXm/z5s0F695+++1y8cUXJ95nAsDEidkBAggggAACCCAQKEAAGEjECggggAACCCCAgD0Cixcvll69esmKFSt0p2rUqCGDBw+WK664Qod/6s87Ll9++aV+RPiee+7R/62WX//613L11VcnPjACwMSJ2QECCCCAAAIIIBAoQAAYSMQKCCCAAAIIIICAHQKbNm2Sww47TP7xj3/oDqm7/P70pz/p3/YLu8yaNUvOPvtsGTJkCAFgWDTWQwABBBBAAAEEHBcgAHS8gHQfAQQQQAABBPIjoO7au/baaysH/PTTT+tHgaMu3377rXz00UfSqVOnqJtGXp87ACOTsQECCCCAAAIIIGBcgADQOCkNIoAAAggggAAC5gXU237VG3zVG37V8uMf/1jf/Zfkot4u/Nhjj8nrr7+uHzn+7rvvpFmzZvpR40GDBskZZ5whderUKdmFqAHgp59+Knfffbc8//zzsmTJEt1+q1at5IQTTpDhw4drg6lTp0rfvn31fo844gj9ZxYEEEAAAQQQQACB4gIEgMwOBBBAAAEEEEDAAYGHHnpIhg4dWtnTmTNnSvfu3RPpuXqr8Omnn175e4HFdtKuXTsdQnbr1q1oP6IEgI8//rgMGzZM1q9fX217u+66qyiHRo0aEQAmUnkaRQABBBBAAAFfBQgAfa0s40IAAQQQQAABrwRU+KfCL7W0bt1aFi5cmMj4Vq5cKYceeqgsWLCgsv02bdpIjx49pF69evL+++/LjBkzKj9r2LChTJ48WW9T3RI2APzLX/4iJ598smzZskU3U6tWLTn88MNF7XvdunX6Lj/1VmN1R+Do0aPlsssu0+txB2Ai04BGEUAAAQQQQMAzAQJAzwrKcBBAAAEEEEDATwEVhFWEfqeddpo8+uijiQz0uOOOkxdeeEG3rV4yct999+m7AbdfZs+eLaeeemplf9Qjuv/85z/1nXk7LmECQBXsdezYUQd8aunatat+9FjdYVixqN8tvOaaa+SWW26RunXrivozAWAiU4BGEUAAAQQQQMBDAQJAD4vKkBBAAAEEEEDAPwF159vmzZv1wEaNGlXwMhBTo33llVekX79+lc09++yz+rf+qlsWL14sBx54oL47r1SfwgSAV155pdx00026nT322EPmzp0rTZo0qXa/I0aMkLFjx1Z+xh2ApqpPOwgggAACCCDgswABoM/VZWwIIIAAAggg4IWA+k283XbbrXIsd955p1x44YUlxzZp0iRR/ym13HDDDdK4cePKVdSdherOO7Wol26ox3JLLepuvCuuuEKv0qJFC1m2bJnUqFGjYJOgAHDr1q2y11576ZeMqEWFe+plH8UWFTi2bNlSvvrqK70KAaAXU5xBIIAAAggggEDCAgSACQPTPAIIIIAAAgggEFdABWsq9KpY7r//fjn77LNLNrt98FZsxUWLFsm+++5b+XHz5s1FvQBELU8//bScdNJJJfexevVqfceeCvHUMm/ePOnQoUPBNkEB4HvvvSedO3fW29SuXVs/Brx92FldB9Tbhx955BH9EQFg3NnF9ggggAACCCCQBwECwDxUmTEigAACCCCAgNMC5dwBGDUA3DFkVC8DadasWaCb+u2++fPn6/VUKLfj7wUGBYBqGxXoqUUFgerx36DlnnvukV/84hcEgEFQfI4AAggggAACCPxHgACQqYAAAggggAACCDggYOI3ANXv9qk3CFcs298B+Pbbb+uXb6ilfv36smHDhlAqAwYM0G8BVkt1jyYHBYC//e1v5eKLL9bbqxeQTJw4MXC/6rcJK+5O5A7AQC5WQAABBBBAAAEEhACQSYAAAggggAACCDggYOItwKUCwNdff10OP/xwLaFewKEe7w2zDB48WP785z/rVW+88Ua56qqrCjYLCgDVNurtvmpRbT3xxBOBu/3b3/4mxxxzjF6PADCQixUQQAABBBBAAAECQOYAAggggAACCCDggsDQoUPloYce0l3db7/9ZMGCBZG7zR2AkcnYAAEEEEAAAQQQ8EKAOwC9KCODQAABBBBAAAHfBVT4p0LAimXWrFnSrVu3SMMuFQDu+BuA6g5AdSdg0HLAAQfol3+ohd8ADNLicwQQQAABBBBAIBsBAsBs3NkrAggggAACCCAQSeDrr7+WffbZR9auXau3Uy/bqHgTbtiGSgWAqo3t3wKsfmdv0KBBJZtWfVEvCuEtwGErwHoIIIAAAggggEA2AgSA2bizVwQQQAABBBBAILLAqFGjRP2mXsUSJqTbfidBAeBpp50mjz32mN7khz/8oTz11FMl+3j77bfLpZdeqtfZc8895dNPP5UaNWoUbBP0G4AqPFTbqrcOq2Xs2LEyfPjwovtdt26dtGzZUr766iu9Dr8BGHkasQECCCCAAAII5FCAADCHRWfICCCAAAIIIOCmwKZNm6R3794yZ84cPYCdd95ZJkyYIMcff3yoAQUFgK+88or069evsq0XXnhB+vfvX23bS5culS5dusjnn3+uP1fh5LXXXltl3aAAUG0wcuRIGTNmjN62RYsW8s9//rPo48cjRozQIWHFQgAYqvSshAACCCCAAAI5FyAAzPkEYPgIIIAAAggg4JbAokWLpGfPnrJq1Srd8Zo1a8qpp54ql112mXTt2rXawai77KZNmyajR4+WF198sXId1da+++5bsM1xxx0nKvhTS8OGDeWBBx6QU045pWAdFUCqfX700Uf671u1aqVDu0aNGlXZf5gAUP3eYMeOHSsfb1bjePzxx6Vt27aV7X377bc6YLz55pulbt26ov6sFgJAt+YvvUUAAQQQQACBbAQIALNxZ68IIIAAAggggEDZAkuWLJETTzxR3nnnnYI21O/xHXzwwfruOXV3oPrdQPVYrgrnKn47sGKDvn37inqEeJdddiloQz2Ke+ihhxa8Zbhdu3bSo0cPHbypF35Mnz5dtm3bprdT+5kyZYreprolTACotnv66ad10LhlyxbdTK1atXS4p954vH79elF3J6qgsE6dOvK///u/cvnllxMAlj2D2BABBBBAAAEE8iZAAJi3ijNeBBBAAAEEEPBCYMOGDXLXXXfJb37zG1mzZk2oManf5zvssMP07/apALHYokJA9ZKRl19+uWS76g69P/3pT9K9e/ei64UNAFUDjz76qJxzzjmVv++3Y6MqrBw/frw0btxYVICpFu4ADFV6VkIAAQQQQACBnAsQAOZ8AjB8BBBAAAEEEHBbQN3lN3nyZHnppZdkxowZ+tFgdbefeuxXPZLbtGlTOfDAA3VIp34rUN1RF3ZRd/ap3xh8/fXXZcWKFfLdd9/pt/6qR3RPOukkOeOMM/QdeaWWKAGgakf9tqAKNidOnCiffPKJ1K5dWz9irB5NPvfcc6V169YydepUAsCwRWQ9BBBAAAEEEEBARAgAmQYIIIAAAggggAACCCCAAAIIIIAAAgh4LEAA6HFxGRoCCCCAAAIIIIAAAggggAACCCCAAAIEgMwBBBBAAAEEEEAAAQQQQAABBBBAAAEEPBYgAPS4uAwNAQQQQAABBBBAAAEEEEAAAQQQQAABAkDmAAIIIIAAAggggAACCCCAAAIIIIAAAh4LEAB6XFyGhgACCCCAAAIIIIAAAggggAACCCCAAAEgcwABBBBAAAEEEEAAAQQQQAABBBBAAAGPBQgAPS4uQ0MAAQQQQAABBBBAAAEEEEAAAQQQQIAAkDmAAAIIIIAAAggggAACCCCAAAIIIICAxwIEgB4Xl6EhgAACCCCAAAIIIIAAAggggAACCCBAAMgcQAABBBBAAAEEEEAAAQQQQAABBBBAwGMBAkCPi8vQEEAAAQQQQAABBBBAAAEEEEAAAQQQIABkDiCAAAIIIIAAAggggAACCCCAAAIIIOCxAAGgx8VlaAgggAACCCCAAAIIIIAAAggggAACCBAAMgcyEdi0aZPMnTtX77tp06ZSu3btTPrBThFAAAEEEEAAAQQQQAABBBDwWWDz5s2yevVqPcT/+q//kp122snn4TK2IgIEgEyNTARmzZolhxxySCb7ZqcIIIAAAggggAACCCCAAAII5FFg5syZ0r179zwOPfdjJgDM/RTIBoAAMBt39ooAAggggAACCCCAAAIIIJBfAQLA/NaeADC/tc905IsXL5bWrVvrPqgTUIsWLTLtDztHAAEEEEAAAQQQQAABBBBAwEeB5cuXVz6Bt2jRItl33319HCZjChAgAGSKZCLw6aefSqtWrfS+ly5dKi1btsykH+wUAQQQQAABBBBAAAEEEEAAAZ8F+P7tc3XDj40AMLwVaxoU4ARkEJOmEEAAAQQQQAABBBBAAAEEECgiwPdvpoYSIABkHmQiwAkoE3Z2igACCCCAAAIIIIAAAgggkDMBvn/nrOBFhksAyDzIRIATUCbs7BQBBBBAAAEEEEAAAQQQQCBnAnz/zlnBCQApuE0CnIBsqgZ9QQABBBBAAAEEEEAAAQQQ8FWA79++VjbauLgDMJoXaxsS4ARkCJJmEEAAAQQQQAABBBBAAAEEECghwPdvpocSIABkHmQiwAkoE3Z2igACCCCAAAIIIIAAAgggkDMBvn/nrOBFhksAyDzIRIATUCbs7BQBBBBAAAEEEEAAAQQQQCBnAnz/zlnBCQApuE0CnIBsqgZ9QQABBBBAAAEEEEAAAQQQ8FWA79++VjbauLgDMJoXaxsS4ARkCJJmEEAAAQQQQAABBBBAAAEEECghwPdvpocSIABkHmQiwAkoE3Z2igACCCCAAAIIIIAAAgggkDMBvn/nrOBFhksAyDzIRIATUCbs7BQBBBBAAAEEEEAAAQREZNOmTfLFF1/Ihg0bZMuWLZggYLVArVq1pEGDBtKoUSPZaaedIveV79+RybzcgADQy7LaPyhOQPbXiB4igAACCCCAAAIIIOCbwLZt22T58uWybt0634bGeHIisNtuu0mLFi2kRo0aoUfM9+/QVF6vSADodXntHRwnIHtrQ88QQAABBBBAAAEEEPBVYM2aNbJ69eqC4dWuXdvX4TIuTwQ2b95cMJKmTZtKkyZNQo+O79+hqbxekQDQ6/LaOzhOQPbWhp4hgAACCCCAAAIIIOCjwLfffisLFiyoHFqzZs30I5Xq8UoWBGwWUI+pq0fWV61aVdnNNm3aSN26dUN1m+/foZi8X4kA0PsS2zlATkB21oVeIYAAAggggAACCCDgq8C//vUvWblypR7e9773PVEBIAsCLgmoAHDt2rW6y82bN5fGjRuH6j7fv0Mxeb8SAaD3JbZzgJyA7KwLvUIAAQQQQAABBBBAwFeBpUuXyldffaWH17p167JepuCrDeNyQ0C9vGbRokW6sw0bNpRWrVqF6jjfv0Mxeb8SAaD3JbZzgJyA7KwLvUIAAQQQQAABBBBAwFcB9fivegxYvTxh//33j/QSBV9NGJdbAuolNh988IGo/1aP/6rHgMMsfP8Oo+T/OgSA/tfYyhFyArKyLHQKAQQQQAABBBBAAAFvBT766CNRL1NQL/1o166dt+NkYH4LlDOP+f7t95wIOzoCwLBSrGdUgBOQUU4aQwABBBBAAAEEEEAAgQCBcoITUBGwTaCcecz3b9uqmE1/CACzcc/9XjkB5X4KAIAAAggggAACCCCAQKoC5QQnqXaQnSEQQqCcecz37xCwOViFADAHRbZxiJyAbKwKfUIAAQQQQAABBBBAwF+BcoITfzUYmasC5cxjvn+7Wm2z/SYANOtJayEFOAGFhGI1BBBAAAEEEEAAAQQQMCJQTnBiZMc0goBBgXLmMd+/DRbA4aYIAB0unstd5wTkcvXoOwIIIIAAAggggAAC7gmUE5y4N0p6XJ3A2LFjZcSIEfqj5cuXyx577OEsVDnzmO/fzpbbaMcJAI1y0lhYAU5AYaVYDwEEEEAAAQQQQAABBEwIlBOcmNhv3toYPny4jBs3Tg/75Zdflr59+4YmeOmll+Too4/W659//vlyzz33hN621IoEgJ9Kq1atNNHSpUulZcuWRlxpxC0BAkC36uVNbwkAvSklA0EAAQQQQAABBBBAwAkBAsB0yvTGG2/IYYcdpnd21llnyQMPPBB6x2r98ePH6/WnT58uPXr0CL0tAWBxAb5/G5lGzjdCAOh8Cd0cACcgN+tGrxFAAAEEEEAAAQQQcFUgagC4768mujrUwH4vHjMwcJ04K7Rt21YWLFggu+yyi6xcuVLq168f2NzGjRulefPm8uWXX8r+++8v8+fPD9wm7ArcAcgdgGHnis/rEQD6XF2Lx0YAaHFx6BoCCCCAAAIIIIAAAh4KEAD+/6ImHQDecMMNct111+kdPvroo3LaaacFzii13umnn67Xu/HGG+Wqq64K3CbsCgSABIBh54rP6xEA+lxdi8dGAGhxcegaAggggAACCCCAAAIeChAAphcALlq0SNq0aSPbtm2T4447TiZODL6bUq33wgsvSI0aNURtv88++xibhQSABIDGJpPDDREAOlw8l7tOAOhy9eg7AggggAACCCCAAALuCRAAphcAqj316dNHXnvtNaldu7YsW7ZMmjVrVnTSqMeE1YspNm/eLEceeaS88sorBeu+88478uyzz+r23n//fVm9erXUrVtX9txzT/17g+edd55069ataPtBAaB6K7Dqg3qBiVq32KLuZHzssccCH1Fes2aN3HvvvTJp0iT5+OOP5auvvpImTZrIIYccon8XcdCgQWUfQFHnsdoR37/L5vZqQwJAr8rpzmA4AblTK3qKAAIIIIAAAggggIAPAlGDE34DMF7V77//fhk2bJhu5Le//a38z//8T9EG1ecXX3yx/ly9NESFZBXL5MmTZcCAAYGdUY8cX3/99dWul2YA+Mwzz8iZZ54p69evL9rnH/7wh/LHP/5RGjRoEDiuHVeIOo8JACMTe7sBAaC3pbV7YASAdteH3iGAAAIIIIAAAggg4JtA1OCEADDeDFABmLqzTr3c4+CDD5bZs2cXbVB9/tZbb+lAbMWKFfrlIRXL888/Lz/+8Y/l+OOPl379+um77ypeLjJ37ly566679B1uain2e4NpBYCqryeeeKJs3bpVPwI9YsQI6d69u+6v6uMjjzyi7yBUi/q9Q/XnqEvUeUwAGFXY3/UJAP2trdUjKxUAVvxDm/QP01oNROcQQAABBBBAAAEEEEDAqEDU4IQAMD6/Cu4mTJigG1KP7nbs2LFKo+rvO3XqVDQUW7VqldSrV0922223aju0adMm6d+/v7z66qvSvn17/fZg9TuC2y9pBIDr1q3Tod/atWt1WPnEE0/ITjvtVKXPd999t1x44YX6719//XU59NBDI0FHnccEgJF4vV6ZANDr8to7OAJAe2tDzxBAAAEEEEAAAQQQ8FEganBCABh/FqiXeqiXe6hl5MiRMnr06CqNqr8fM2aM/nv1uO+xxx4becczZsyQnj176u3efffdykCxoqE0AsDbbrtNLrvsMtl5553lk08+kcaNGxcdx4EHHijqdw3PPvtsUY9KR1mizmMCwCi6fq9LAOh3fa0dHQGgtaWhYwgggAACCCCAAAIIeCkQNTghAIw/DbZs2SKtWrWS5cuXy9577y2LFy8uuDtPvSVYve136dKl0qJFC/3ftWrVKrljdcefuitQvVhDPWqrlq+//royAFSP1arHa7df0ggADz/8cH1Hn3oEWP0OYKnlF7/4hdxzzz1ywAEHyHvvvRcJOuo8JgCMxOv1ygSAXpfX3sERANpbG3qGAAIIIIAAAggggHv8WOMAACAASURBVICPAlGDEwJAM7Pgl7/8pfzmN7/Rjam3+6q3/FYs6s/qd/3Ucumll4q6i6665csvv5Q777xT/37evHnzRAWLxRa1XsUjthXrpBEA1q9fX1Q4GWVRdwmqR4ajLFHnsWqb3+CPIuzvugSA/tbW6pERAFpdHjqHAAIIIIAAAggggIB3AlGDEwJAM1NAvajj+9//vm7s5z//ufzhD3+obFj9+cEHH9R/Vo/EVqy3/Z5V3Y4++mj9WG2YRT1OfMUVVxSsmnQAqALKXXfdNUz3CtZRvxGoXpISZYk6jwkAo+j6vS4BoN/1tXZ0BIDWloaOIYAAAggggAACCCDgpUDU4IQA0Nw0qPjNOxWSqbf8qrvlVPCl3hKs3hbcpUsXefvtt6vdoXqLrnqDsHqxx7Bhw2TIkCHSoUMHadKkiX45iFo2bNigf3tPLTfddJP86le/SjUA/OKLL2T33XfX+zzjjDOqBJDFJGvWrKkfA46yRJ3HBIBRdP1elwDQ7/paOzoCQGtLQ8cQQAABBBBAAAEEEPBSIGpwQgBobhrccccdcskll+gG1VuBTz31VP3f6i3BalGPCFd8vv1eVSjYtWtX/Vc33HCDXHPNNdV2atmyZdKyZUv9WTkB4J577ql/p1AFjOPGjSs68BNOOEGef/552X///fXbhisW9VuGdevWlc2bN8ugQYPk2WefNYe3Q0tR57HanEeAEyuHUw0TADpVLn86SwDoTy0ZCQIIIIAAAggggAACLghEDU4IAM1VdeXKlTqgUwHZwIEDdYim/nvSpEn6pR/q+6G6G3DHRb3QQ91Rp5YPP/xQ2rVrV22nVOB20kknlR0AqkBPtT948GB54oknig68ffv2oubRjgGg2qBbt27yj3/8Qxo1aqTvcqy4O9Gc4r9bijqPCQBNV8Dd9ggA3a2d0z0nAHS6fHQeAQQQQAABBBBAAAHnBKIGJwSAZktcEfjVrl1b5syZo+/sU4HggAEDdBBY3fLQQw/J0KFD9UfqbkD1qHB1i2pj8uTJZQeA/fv3lylTpkjr1q1l4cKF1e5DPYasHkdWS3UBoLpD8brrrtOf33XXXaLe9JvEEnUeEwAmUQU32yQAdLNuzveaAND5EjIABBBAAAEEEEAAAQScEoganBAAmi3v448/rh/9VUunTp3kvffe0//70UcfldNOO63anf3973+XQw89VH928cUXy+23315lve0fL1YflvMIsNrmyiuv1G3/+c9/lpNPPrlgP+o3/tTbi9WLStRSXQD4r3/9S9q0aSNqXfUbh88995wcddRRRRFfffVVqVOnjvTu3TsSdNR5rBrnEeBIxN6uTADobWntHhgBoN31oXcIIIAAAggggAACCPgmEDU4IQA0OwM2bdokLVq00AFZxbL9S0Gq29uWLVv0SzLU47nqJSDqcWAVFqrHhZcsWSIPP/ywPPPMMzokfOONN3QT5QSAn332majHe7/++mtp0KCBXHXVVfrNw+q3/WbOnKmDx1WrVulHkFUIWF0AqPY9ceJE/RuAW7duFfWCDxV4/vCHP9R3Fqq21O8MqjsJn3rqKR2A3nffffLf//3fkaCjzmMCwEi8Xq9MAOh1ee0dHAGgvbWhZwgggAACCCCAAAII+CgQNTghADQ/C8455xwdelUsZ599ttx///0ldzRr1iw55phjZN26ddWud9BBB+kQcO+99y47AFQb/vGPf5QzzzxTh3c7LioU/NOf/qTvVnzssceKBoBqO/Uo8U9/+lNZvXp1IGDFC1ECV9xuhajzmAAwiq7f6xIA+l1fa0dHAGhtaegYAggggAACCCCAAAJeCkQNTggAzU8DdZfeYYcdVtmwegy2T58+gTtatGiRvrNPhWvqLjp156C6G0/dYTdixAh9d5167FYt5dwBWNEB9cjxLbfcou8mXL9+vb7TUN0JeNlll0mHDh303YdBAaBqS91J+Ic//EHfETh37lxZu3atviOwWbNm+o7GI444Qr9wpG3btoFj33GFqPOYADAysbcbEAB6W1q7B0YAaHd96B0CCCCAAAIIIIAAAr4JlBOc+GbAeNwXKGce8xuA7tfdxAgIAE0o0kZkAQLAyGRsgAACCCCAAAIIIIAAAjEEyglOYuyOTRFIRKCceUwAmEgpnGuUAHC7kn3yySf6dd3qNl31v+vVq6dvyR0yZIicd955+sdATSzq9eTjxo3TPyaqfhegadOmcsghh4j6PQT1+vFSyzfffKNfma5+B0Ftr/6jTgDqlme1VPx3UD/VD6iGWdStyVOnTg2zaqR1CAAjcbEyAggggAACCCCAAAIIxBQoJziJuUs2R8C4QDnzmADQeBmcbJAA8D9lU6HfT37yk6I/LKre8jNp0iTZb7/9yi60CufOPfdcHf4VW1QIOHbsWP2Go+qWs846S8aPH190ewLAssvDhggggAACCCCAAAIIIOCxQDnBicccDM1RgXLmMQGgo8U23G0CQBH9Gu/evXvLhg0bpGHDhjJy5Ejp27evbNy4UdRbeSreUqR+9FPdeafWKWdRrxIfPXq03rRr165y+eWXS5s2bWTBggX6h0bVnX1qUevdeOON1e5i6NCh8tBDD+nPdtllF1FvPPrggw9kxYoV+u+iBoDqB1PV3Y3Flp133lm/stz0wh2ApkVpDwEEEEAAAQQQQAABBEoJlBOcIIqAbQLlzGMCQNuqmE1/CABFdNinHnOtXbu2TJs2TXr16lVQjVtvvVWHdWoZNWqUXHvttZGr9fHHH0vHjh1l8+bN0q1bN72fircUqcZU+Kget509e7bux/z583U4uOOi3jikgsnu3bvr9tSbhI488khRb08qJwC87rrr5Prrr488nrgbEADGFWR7BBBAAAEEEEAAAQQQiCJQTnASpX3WRSANgXLmMQFgGpWxfx+5DwDVHX3q9/fUMnz4cP347Y7L1q1bpXPnzjJv3jzZfffdZeXKlVKnTp1I1T3//PPld7/7nd7mzTfflJ49e1bZfvr06ZXh4wUXXCB33313qH0QAIZiYiUEEEAAAQQQQAABBBDIsUA5wUmOuRi6pQLlzGMCQEuLmXK3ch8Abv9YrgrgevToUW0JxowZox8NVstf//pXOeaYY0KXSj2W26pVK1m2bJmox4hVkFhsUZ+rR3pbtmypX0QS5mUdBIChS2Htivv+aqIsHjPQ2v7RMQQQQAABBBBAAAEEXBcoJzhxfcz03z+BcuYxAaB/86CcEeU+AOzTp4+89tpron7r7osvvtCP31a3qLv21O8EqkU9AqweBQ67LFy4sPJx3mJ3GVa0pT6veEmI2i7M7+8RAIathL3rEQDaWxt6hgACCCCAAAIIIOCHQDnBiR8jZxQ+CZQzjwkAfZoB5Y8l9wFg06ZNZc2aNdKlSxd5++23i0p+/vnn0rhxY/35KaecIo8//nhodfWG4eOPP16vf8cdd8hFF11UdFv1+SWXXKI/V9sdd9xxgfuJEwAecMAB+ncJ1d2GKvzcY489dNCpXjaifhsxqYXfACyUJQBMaqbRLgIIIIAAAggggAAC/xYoJzjBDgHbBMqZxwSAtlUxm/7kOgDctGlT5Ys4Bg4cKM8//3zJKqi3/3799df69/vUHYFhF/W7guptu2p54oknZPDgwUU3ffLJJ3XAqBa1nbojMGiJEwCWavukk06S8ePHy2677RbUhSqfqxNMqWX58uWVv724dOlS/chzxaLCMLXk6ZFYAsDIU4wNEEAAAQQQQAABBBCIJFBOcBJpB6yMQAoC5cxjAsAUCuPALnIdAK5evVqaNWumy3TqqafKhAkTSpasefPmsmrVKv1CkLlz54Yu7/ZvEX7hhRekf//+RbdVn1fc9XfbbbfJpZdeGrifcgJA9cjzoEGD5KijjtK/S6jCTeWh3iasgse1a9fq/ao3E7/44ouRX3oS5rcLKwZGAChCABg4zVkBAQQQQAABBBBAAIFYAuUEJ7F2yMYIJCBQzjwmAEygEA42mesAUAVPe++9ty7bT3/6U3n44YdLllCtq7Zp06aNfPzxx6HL/etf/1r/bqBaXnrpJenXr1/RbV9++WUdyqlFbXf11VcH7qecAFD93mGjRo2qbVu95XjAgAEyZ84c/fmdd94pF154YWA/tl+BADASFwFgNC7WRgABBBBAAAEEEEAgskA5wUnknbABAgkLlDOPCQATLoojzec6AMzzHYBB81O9gKRjx47y7bffStu2bfXvZURZeAQ4ihZ3AEbTYm0EEEAAAQQQQAABBKILqO8433zzjaibFdq3by81a9aM3ghbIJChwNatW+XDDz+Ubdu2Sb169WS//fYL1RsCwFBM3q+U6wAwz78BGGZmqxeXqBeRqGXZsmWy5557htks1Dq8BKSQiUeAQ00bVkIAAQQQQAABBBBAoGyBzz77TNatW6e332uvvWTXXXctuy02RCALgfXr1+vv5mpRT/S1aNEiVDcIAEMxeb9SrgNAVd003gKsXi5ywgkn6Mlky1uAw8zsyy+/XNTvF6pl5syZ0r179zCbhVqHAJAAMNREYSUEEEAAAQQQQAABBAwJfPXVV/onndRSq1Yt2WOPPfRvoXMnoCFgmklMQN35p+bvihUrZMuWLXo/rVq10vM3zEIAGEbJ/3VyHwD26dNHXnvtNVEvxVC/i1e7du1qq67e+tu7d2/9mfo9v1GjRoWeHepWc/W7gWpRb/VVL9kotqjPx40bpz9W27Vu3TpwP+X8BmBgoyJy2WWXiXoRiVoIAMOIlb8OdwCWb8eWCCCAAAIIIIAAAgiEEVCPTS5ZskQ2btxYubp6HFiFgSwI2CygQj81fyuW+vXryz777KMfZw+zEACGUfJ/ndwHgFdeeaXcdNNNutLTp0+XHj16VFv1MWPGyMiRI/VnU6ZMkR/84AehZ4c6UFu2bCnqlnP1xt158+YV3Vb97t78+fP1Lenq/50Kc0AnFQAOHDhQJk2apPuqThiqT6YW7gAslCQANDWzaAcBBBBAAAEEEEAAgeIC6k6qTz75pCAExAsBlwRU+KdeUBrlzlUCQJcqnFxfcx8AqjvbKkK/YnfnqX8kOnfurIM79Zz9qlWrpE6dOpGqct5558nvf/97vY26m7Bnz55VtlcBZK9evfTfq/XvvffeUPtIIgBUdx+qsPK7777TPyy6YMGCUH0JuxIBIAFg2LnCeggggAACCCCAAAIImBRQN2h8/fXX8uWXX+ogsOKRSpP7oC0ETAqou1RV8LfLLrvopxfD3Ci0/f4JAE1Ww922ch8AqtJVPAasHv+dNm1aZQhXUVb1O3jq9/DUct1118n1119fUPGpU6dK37599d+deeaZMn78+CozQr2pp1OnTrJ582bp1q2b3o86gCsW9Q+P6sfs2bP1Y8jvv/++tGvXLtTMihoAPvfcczJgwICijzuvXLlSfz5nzhy9/9/85jdyySWXhOpL2JUIAAuluAMw7MxhPQQQQAABBBBAAAEEEEAAgSgCBIBRtPxdlwBQRAddhx56qP5/f9SPaKrHglWgp/48YcKEyt/kU6+KVwGdSt23X8IEgGp99QixepRYLV27dpUrrrhC/zagurvu5ptvrgzc1HqjR4+udtapH/2cPHlywWeqzQ8++ED/3YMPPljw2WGHHSZt27Yt+Lt9991X39n3ox/9SIed6s8qjFyzZo2osajfKFy7dq3eRm3/t7/9Tb9i3ORCAFioSQBocnbRFgIIIIAAAggggAACCCCAQIUAASBzQQkQAP5nHqi74s444wxRr9WublHh38SJE6uEaWrdsAGgepR42LBh8sADDxSdfWeffbYOHIs9z7/9vsJMYRUIDh06tEoAqH78NmhRAeH999+vH3s2vRAAEgCanlO0hwACCCCAAAIIIIAAAgggUFWAAJBZQQC4wxxQodidd96pgz51gNStW1cHfqeccopccMEF0qBBg2pnTdgAsGJj9WINFfLNmjVL33XXpEkT6d69u35DsHr0ttRiIgB89dVXRf1H/Rah+q0/1QcVfKq7H9WrxNXbjtWjzBW/R5jEoUIASACYxLyiTQQQQAABBBBAAAEEEEAAgUIBAkBmBAEgcyAzAQJAAsDMJh87RgABBBBAAAEEEEAAAQRyJEAAmKNilxgqjwAzDzIRIAAkAMxk4rFTBBBAAAEEEEAAAQQQQCBnAgSAOSt4keESADIPMhEgACQAzGTisVMEEEAAAQQQQAABBBBAIGcCBIA5KzgBIAW3SYAAkADQpvlIXxBAAAEEEEAAAQSyE9j3VxNl8ZiB2XWAPSPguQABoOcFDjk87gAMCcVqZgUIAAkAzc4oWkMAAQQQQAABBBBwVYAA0NXK0W9XBAgAXalUsv0kAEzWl9aLCBAAEgBycCCAAAIIIIAAAgggoAQIAJkHCCQrQACYrK8rrRMAulIpz/pJAEgA6NmUZjgIIIAAAggggAACZQoQAJYJx2YIhBQgAAwJ5flqBICeF9jW4REAEgDaOjfpFwIIIIAAAggggEC6AgSA6Xqzt/wJEADmr+bVjZgAkHmQiQABIAFgJhOPnSKAAAIIIIAAAghYJ0AAaF1J6JBnAgSAnhW0zOEQAJYJx2bxBAgACQDjzSC2RgABBBBAAAEEEPBFgADQl0oyDlsFCABtrUy6/SIATNebvf1HgACQAJCDAQEEEEAAAQQQQAABJUAAyDxAIFkBAsBkfV1pnQDQlUp51k8CQAJAz6Y0w0EAAQQQQAABBBAoU4AAsEw4NkMgpAABYEgoz1cjAPS8wLYOjwCQANDWuUm/EEAAAQQQQAABBNIVIABM15u95U+AADB/Na9uxASAzINMBAgACQAzmXjsFAEEEEAAAQQQQMA6AQJA60pChzwTIAD0rKBlDocAsEw4NosnQABIABhvBrE1AggggAACCCCAgC8CBIC+VJJx2CpAAGhrZdLtFwFgut7s7T8CBIAEgBwMCCCAAAIIIIAAAggoAQJA5gECyQoQACbr60rrBICuVMqzfhIAEgB6NqUZDgIIIIAAAggggECZAgSAZcKxGQIhBQgAQ0J5vhoBoOcFtnV4BIAEgLbOTfqFAAIIIIAAAgggkK4AAWC63uwtfwIEgPmreXUjJgBkHmQiQABIAJjJxGOnCCCAAAIIIIAAAtYJEABaVxI65JkAAaBnBS1zOASAZcKxWTwBAkACwHgziK0RQAABBBBAAAEEfBEgAPSlkozDVgECQFsrk26/CADT9WZv/xEgACQA5GBAAAEEEEAAAQQQQEAJEAAyDxBIVoAAMFlfV1onAHSlUp71kwCQANCzKc1wEEAAAQQQQAABBMoUyEMAmIcxlll+NktBgAAwBWQHdkEA6ECRfOwiASABoI/zmjEhgAACCCCAAAIIRBfIQziWhzFGrzxbpCVAAJiWtN37IQC0uz7e9o4AkADQ28nNwBBAAAEEEEAAAQQiCeQhHMvDGCMVnZVTFSAATJXb2p0RAFpbGr87RgBIAOj3DGd0CCCAAAIIIIAAAmEF8hCO5WGMYevNeukLEACmb27jHgkAbaxKDvpEAEgAmINp7sQQ1cWoWhaPGehEf+kkAggggAACCPgnkIdwLA9j9G9m+jMiAkB/ahlnJASAcfTYtmwBAkACwLInDxsaFSAANMpJYwgggAACCCBQhkAewrE8jLGM0rNJSgIEgClBW74bAkDLC+Rr9wgACQB9nduujYsA0LWK0V8EEEAAAQT8E8hDOJaHMfo3M/0ZEQGgP7WMMxICwDh6bFu2AAEgAWDZk4cNjQoQABrlpDEEEEAAAQQQKEMgD+FYHsZYRunZJCUBAsCUoC3fDQGg5QXytXsEgASAvs5t18ZFAOhaxegvAggggAAC6QikeY2Qh3AsD2NMZ2ayl3IECADLUfNvGwJA/2rqxIgIAAkAnZioOehkmhf3OeBkiAgggAACCHgjkOY1Qh7CsTyM0ZvJ7+FACAA9LGoZQyIALAONTeILEAASAMafRbRgQiDNi3sT/aUNBBBAAAEEEEhHIM1rhDyEY3kYYzozk72UI0AAWI6af9sQAPpXUydGRABIAOjERM1BJ9O8uM8BJ0NEAAEEEEDAG4E0rxHyEI7lYYzeTH4PB0IA6GFRyxgSAWAZaGwSX4AAkAAw/iyiBRMCaV7cm+gvbSCAAAIIIIBAOgJpXiPkIRzLwxjTmZnspRwBAsBy1PzbhgDQv5o6MSICQAJAJyZqDjqZ5sV9DjgZIgIIIIAAAt4IpHmNkIdwLA9j9GbyezgQAkAPi1rGkAgAy0Bjk/gCBIAEgPFnES2YEEjz4t5Ef2kDAQQQQAABBNIRSPMaIQ/hWB7GmM7MZC/lCBAAlqPm3zYEgP7V1IkREQASADoxUXPQyTQv7nPAyRARQAABBBDwRiDNa4Q8hGN5GKM3k9/DgRAAeljUMoZEAFgGGpvEFyAAJACMP4towYRAmhf3JvpLGwgggAACCCCQjkCa1wh5CMfyMMZ0ZiZ7KUeAALAcNf+2IQD0r6ZOjIgAkADQiYmag06meXGfA06GiAACCCCAgDcCaV4j5CEcy8MYvZn8Hg6EANDDopYxJALAMtDYJL4AASABYPxZRAsmBNK8uDfRX9pAAAEEEEAAgXQE0rxGyEM4locxpjMz2Us5AgSA5aj5tw0BoH81dWJEBIAEgE5M1Bx0Ms2L+xxwMkSDAsxNg5g0hQACCJQhkOZ5OA/hWB7GWMY0Y5OUBAgAU4K2fDcEgJYXyNfuEQASAPo6t10bV5oX967Z0N9sBZib2fqzdwQQQCDN83AewrE8jJGjxl4BAkB7a5NmzwgA09RmX5UCBIAEgBwOdgikeXFvx4jphSsCzE1XKkU/EUDAV4E0z8N5CMfyMEZfjwUfxkUA6EMV44+BADC+IS2UIUAASABYxrRhkwQE0ry4T6D7NOmxAHPT4+IyNAQiCHAuiIBleNU07fMQjuVhjIanIM0ZFCAANIjpcFMEgA4Xz+WuEwDmOwBM84LS5eMkjb5TizSU2Uc5AszNctTYBgH/BDgXZFfTNO3zEI7lYYzZzVb2HCRAABgklI/PCQDzUWfrRkkASACoBBaPGWjd3Mxbh9K8uM+bLeONJ8DcjOfH1gj4IsC5ILtKpmmfh3AsD2PMbray5yABAsAgoXx8TgCYjzpbN0oCQAJAAkA7Dss0L+7tGDG9cEWAuelKpegnAskKcC5I1rdU62na5yEcy8MYs5ut7DlIgAAwSCgfnxMA5qPO1o2SAJAAkADQjsMyzYt7O0ZML1wRYG66Uin6iUCyApwLkvUlAEzPlwAwPWv2VFWAAJBZoQQIAJkHmQgQABIAEgBmcuhV2SlfrOyoA72oKsDcZFYggIAS4FyQ3TxI0z4P4VgexpjdbGXPQQIEgEFC+ficADAfdbZulASABIAEgHYclmle3NsxYnrhigBz05VK0U8EkhVw8VzgYp+rq2Ka48hDOJaHMSZ7NqD1OAIEgHH0/NmWANCfWjo1EgJAAkACQDsO2TQv7u0YMb1wRYC56Uql6CcCyQq4eC5wsc82BYC++O1oSgCY7LmC1ksLEAAyQ5QAASDzIBMBAkACQALATA69Kjv19SLbDl16EUeAuRlHj20R8EfAxXOBi30mAEz+mCEATN6YPRQXIABkdhAAMgcyEyAAJAAkAMzs8CvYsS9fUuzQpBcmBZibJjVpCwF3BVw8F7jYZwLA5I8RAsDkjdkDASBzoLQAdwAyQzIRIAAkACQAzOTQq7JTX76k2KFJL0wKMDdNatIWAu4KuHgucLHPBIDJHyMEgMkbswcCQOYAASBzwEIBAkACQAJAOw5MX76k2KFJL0wKMDdNatIWAu4KuHgucLHPBIDJHyMEgMkbswcCQOYAASBzwEIBAkACQAJAOw5MX76k2KFJL0wKMDdNatIWAu4KuHgucLHPBIDJHyMEgMkbswcCQOYAASBzwEIBAkACQAJAOw5MX76k2KFJL0wKMDdNatIWAu4KuHgucLHPBIDJHyMEgMkbswcCQOYAASBzwEIBAkACQAJAOw5MX76k2KFJL0wKMDdNatIWAu4KuHgucLHPBIDJHyMEgMkbswcCQOYAASBzwEIBAkACQAJAOw5MX76k2KFJL0wKMDdNatIWAu4KuHgucLHPBIDJHyMEgMkbswcCQOYAASBzwEIBAkACQAJAOw5MX76k2KFJL0wKMDdNatIWAu4KuHgucLHPBIDJHyMEgMkbswcCQOYAASBzwEIBAkACQAJAOw5MX76k2KFJL0wKMDdNatIWAu4KuHgucLHPBIDJHyMEgMkbswcCQOYAASBzwEIBAkACQAJAOw5MX76k2KFJL0wKMDdNatIWAu4KuHgucLHPBIDJHyMEgMkbswcCQOYAASBzwEIBAkACQAJAOw5MX76k2KFJL0wKMDdNatIWAu4KuHgucLHPeQ0A06wVAaC75yEfel7q+7cP42MM4QRqbNu2bVu4VVkLAXMCBIAEgC4EgGleFJo7uqK1lIcxRhNhbVsEmJu2VIJ+IJCtgIvnAhf7TAA4MPGJTgCYODE7KCFAAMj0UAIEgMyDTAQIAAkACQAzOfSq7NSXLyl2aNILkwLMTZOatIWAuwIungtc7DMBIAGgu2cJeh5GgAAwjJL/6xAA+l9jK0dIAEgASABox6Hpy5cUOzTphUkB5qZJTdpCwF0BF88FLvaZAJAA0N2zBD0PI0AAGEbJ/3UIAP2vsZUjJAAkACQAtOPQ9OVLih2a9MKkAHPTpCZtIeCugIvnAhf7TABIAOjuWYKehxEgAAyj5P86BID+19jKERIAEgASANpxaPryJcUOTXphUoC5aVKTthBwV8DFc4GLfSYAJAB09yxBz8MIEACGUfJ/HQJA/2ts5QgJAAkACQDtODR9+ZJihya9MCnA3DSpSVsIuCvg4rnAxT4TABIAunuWoOdhBAgAwyj5vw4BoP81tnKEBIAEgASAdhyavnxJsUOTXpgUYG6axemUcwAAIABJREFU1KQtBNwVcPFc4GKfCQAJAN09S9DzMAIEgGGU/F+HAND/Gls5QgJAAkACQDsOTV++pNihSS9MCjA3TWrSFgLuCrh4LnCxzwSABIDuniXoeRgBAsAwSv6vQwDof42tHCEBIAEgAaAdh6YvX1Ls0KQXJgWYmyY1aQsBdwVcPBe42GcCQAJA284S6jhaPCb5utg27qT6QwCYlKxb7RIAulUvb3pLAEgASABox+Hsy5cUOzTphUkB5qZJTdpCwF0BF88FLvaZADD5oIlAK9p5CK9oXkFrEwAGCeXjcwLAfNTZulESABIAEgDacVj68iXFDk16YVKAuWlSk7YQcFfAxXOBi30mACQAtO0sQQBotiIEgGY9XW2NAHC7yn3yySdy1113ycSJE0X973r16knbtm1lyJAhct5550mDBg2M1Hny5Mkybtw4mTlzpqxevVqaNm0qhxxyiJxzzjnSv3//kvv45ptvZM6cOTJr1iy9vfrPRx99JNu2bdPbVfx32I6mNeYd+0MASABIABj2KE12PV++pCSrROtZCDA3s1BnnwjYJ+DiucDFPhMAEgDadvQTAJqtCAGgWU9XWyMA/E/lVOj3k5/8RNatW1dtLffff3+ZNGmS7LfffmXXWoVz5557rg7/ii0qBBw7dqzUqFGj2lXOOussGT9+fNHtowSAaYy5WEcJAAkACQDLPpUY3dCXLylGUWjMCgHmphVloBMIZC7g4rnAxT4TABIAZn6w79CBUgGgL8dYmuYEgGlq27svAkAReeedd6R3796yYcMGadiwoYwcOVL69u0rGzdulAkTJsh9992nK9ihQwd9551ap5zlqquuktGjR+tNu3btKpdffrm0adNGFixYILfccou+s08tar0bb7yx2l0MHTpUHnroIf3ZLrvsIgcddJB88MEHsmLFCv13YQPAtMZMABhupuTt/+Fy5R9tV/oZbpZVv1YexhjHh22zE2BuZmfPnhGwScDFc4GLfSYAJAC06bhXfSEANFsRAkCznq62RgAoosO+qVOnSu3atWXatGnSq1evgnreeuutOqxTy6hRo+Taa6+NXO+PP/5YOnbsKJs3b5Zu3brp/dSvX7+yHRU+HnHEETJ79mzdj/nz5+twcMflscce08Fk9+7ddXs1a9aUI488Ul599dVIAWAaYy6FxB2AhToEgJEPqVQ28OUCvhRWHsaYymRhJ8YFmJvGSWkQAScFXDwXuNhnAkACQNtOEASAZitCAGjW09XWch8Aqjv61O/vqWX48OH68dsdl61bt0rnzp1l3rx5svvuu8vKlSulTp06kWp+/vnny+9+9zu9zZtvvik9e/assv306dMrw8cLLrhA7r777lD7iBoApjVmAsBQ5dMrEQCGt0pzTV8u4AkA05w17MuUQB6OP1NWtIOAzwIungtc7DMBIAGgbecRAkCzFSEANOvpamu5DwC3fyxXBXA9evSotpZjxozRjwar5a9//ascc8wxoWuuHstt1aqVLFu2TD9GrILEYov6XD3S27JlS/0ikmK/Bbj99lEDwDTGHITDHYCFQgSAQTMmm899uYAnAMxm/rDXeAJ5OP7iCbE1AvkQcPFc4GKfCQAJAG07oxAAmq0IAaBZT1dby30A2KdPH3nttddk5513li+++EI/flvdou7aU78TqBb1CLB6FDjssnDhwsrHeYvdZVjRlvq84iUharvWrVsH7iZqAJjGmIM6TQBIAKgEFo9J/mIraC7mPRzz5UtKnDqzrZ0CzE0760KvEEhbwMVzgYt9JgBM/po0b/+Hf9xzBQFgXMHC7QkAzXq62lruA8CmTZvKmjVrpEuXLvL2228XrePnn38ujRs31p+fcsop8vjjj4euuXrb7vHHH6/Xv+OOO+Siiy4quq36/JJLLtGfq+2OO+64wP1EDQDTGHNQpwkACQAJAIOOknQ+9+VLSjpa7CVNAeZmmtrsCwF7BVw8F7jYZwJAAkDbzgIEgGYrQgBo1tPV1nIdAG7atKnyRRwDBw6U559/vmQd1dt/v/76a/37feqOwLCL+l3BESNG6NWfeOIJGTx4cNFNn3zySR0wqkVtp+4IDFqiBIBpjVmdYEoty5cvr/ztxaVLl+pHnisWXy6aguq2/ed5+38EXamxK/2MMtd2XDcPY4zjw7bZCTA3s7NnzwjYJODiucDFPhMAEgDadNyrvhAAmq0IAaBZT1dby3UAuHr1amnWrJmu3amnnioTJkwoWcfmzZvLqlWr9AtB5s6dG7rm279F+IUXXpD+/fsX3VZ9XnHX32233SaXXnpp4H6iBIBpjTnMbxdWDIwAkJeABE7yjFbw5QK+FF8expjR9GG3MQWYmzEB2RwBTwRcPBe42GcCQAJA204ZBIBmK0IAaNbT1dZyHQCq4GnvvffWtfvpT38qDz/8cMk6qnXVNm3atJGPP/44dM1//etf698NVMtLL70k/fr1K7rtyy+/LEcddZT+XG139dVXB+4nSgCY1pgJAAPLVrACdwBG80prbV8u4AkA05ox7MekQB6OP5NetIWArwIungtc7DMBIAGgbecQAkCzFSEANOvpamu5DgDTuhsuj3cA8ghwtFMCAWA0r7TW9uUCngAwrRnDfkwK5OH4M+lFWwj4KuDiucDFPhMAEgDadg4hADRbEQJAs56utpbrADCt38PL428ABh0QvASkUIgAMGjGZPO5LxfwBIDZzB/2Gk8gD8dfPCG2RiAfAi6eC1zsMwEgAaBtZxQCQLMVIQA06+lqa7kOAFXR0ngjrnq5yAknnKDnCG8B/vehQgBIAKgEFo9J/mIrzsnZlwt4AsA4s4BtsxLIw/GXlS37RcAlARfPBS72mQAw+WvSvP0f/nHPMwSAcQULtycANOvpamu5DwD79Okjr732muy8887yxRdfSO3atautpXrrb+/evfVn6vf8Ro0aFbrmCxcu1L8bqBb1Vl91R2CxRX0+btw4/bHarnXr1oH7ifIbgKqxNMYc1GkCQAJAAsCgoySdz335kpKOFntJU4C5maY2+0LAXgEXzwUu9pkAkADQtrMAAaDZihAAmvV0tbXcB4BXXnml3HTTTbp+06dPlx49elRbyzFjxsjIkSP1Z1OmTJEf/OAHoWu+bds2admypXz22WfSoUMHmTdvXtFtO3bsKPPnz5e99tpLv3AkzMs0ogaAaYw5CIcAkACQADDoKEnnc1++pKSjxV7SFGBupqnNvhCwV8DFc4GLfSYAJAC07SxAAGi2IgSAZj1dbS33AeDMmTMrQ79id+dt3bpVOnfurIO7Ro0ayapVq6ROnTqRan7eeefJ73//e72NupuwZ8+eVbZXAWSvXr3036v177333lD7iBoApjXmUp0nACQAJAAMdXgnvpIvX1ISh2IHqQswN1MnZ4cIWCng4rnAxT4TABIA2nYCIAA0WxECQLOerraW+wBQFa7ikVj1+O+0adMqQ7iKom7/Ft/rrrtOrr/++oJ6T506Vfr27av/7swzz5Tx48dXmQ8ffvihdOrUSTZv3izdunXT+6lfv37lehs3btT9mD17tn4M+f3335d27dqFmldRA0ATYw7VsRIrEQASABIAxj2KzGzvy5cUMxq0YpMAc9OmatAXBLITcPFc4GKfCQAJALM7yqvfMwGg2YoQAJr1dLU1AkARmTNnjhx66KGiQriGDRuKekRWBXrqzxMmTKj8Tb727dvrgG6XXXaJHACqDdQjxOpRYrV07dpVrrjiCv3bgAsWLJCbb75Z96NivdGjR1c7p1asWCGTJ08u+Ey1+cEHH+i/e/DBBws+O+yww6Rt27ZV2oo75rgTngCQAJAAMO5RZGZ7X76kmNGgFZsEmJs2VYO+IJCdgIvnAhf7TABIAJjdUU4AmIY9AWAayvbvgwDwPzV67rnn5IwzzpD169dXWzUV/k2cOLHaMC3MHYCqUfUo8bBhw+SBBx4oOjPOPvtsHTjWrFmz2nW231eY6aUCwaFDh1a7apwxh9l3qXUIAAkACQDjHkVmtvflS4oZDVqxSYC5aVM16AsC2Qm4eC5wsc8EgASA2R3lBIBp2BMApqFs/z4IALer0ZIlS+TOO+/UQZ86QOrWrasDv1NOOUUuuOACadCgQWAoV+wR4O03nDRpkg75Zs2aJWvWrJEmTZpI9+7d9RuCBwwYUHLWmAwA1Y7KHXPcqU0ASABIABj3KDKzvS9fUsxo0IpNAsxNm6pBXxDITsDFc4GLfSYAJADM7ignAEzDngAwDWX790EAaH+NvOwhASABIAGgHYe2L19S7NCkFyYFmJsmNWkLAXcFXDwXuNhnAkACQNvOEvwGoNmKEACa9XS1NQJAVyvneL9dCADTvHgr9Q+c46Wutvtp2sbxc6WfjDGOANvaKpCH489We/qFgE0CLp4LXOwzASABoE3HveoLAaDZihAAmvV0tTUCQFcr53i/CQALC0gAaOeE9uUCvpRuHsZo5+yiV0ECzM0gIT5HIB8CLp4LXOwzASABoG1nFAJAsxUhADTr6WprBICuVs7xfhMAEgAqgcVjkr/YinOo+HIBTwAYZxawbVYCeTj+srJlvwi4JODiucDFPhMAJn9Nmrf/wz/ueYYAMK5g4fYEgGY9XW2NANDVyjnebwJAAkACQDsOYl++pNihSS9MCjA3TWrSFgLuCrh4LnCxzwSABIC2nSUIAM1WhADQrKerrREAulo5x/tNAEgASABox0Hsy5cUOzTphUkB5qZJTdoKEmC+BQll97mLtXGxzwSABIDZHeXV75kA0GxFCADNerraGgGgq5VzvN8EgASABIB2HMS+fEmxQ5NemBRgbprUpK0gAeZbkFB2n7tYGxf7TABIAJjdUU4AmIY9AWAayvbvgwDQ/hp52UMCQAJAAkA7Dm1fvqTYoUkvTAowN01q0laQAPMtSCi7z12sjYt9JgAkAMzuKCcATMOeADANZfv3QQBof4287CEBIAEgAaAdh7YvX1Ls0KQXJgWYmyY1aStIgPkWJJTd5y7WxsU+EwASAGZ3lBMApmFPAJiGsv37IAC0v0Ze9pAAkACQANCOQ9uXLyl2aNILkwLMTZOatBUkwHwLEsrucxdr42KfCQAJALM7ygkA07AnAExD2f59EADaXyMve0gASABIAGjHoe3LlxQ7NOmFSQHmpklN2goSYL4FCWX3uYu1cbHPBIAEgNkd5QSAadgTAKahbP8+CADtr5GXPSQAJAAkALTj0PblS4odmvTCpABz06QmbQUJMN+ChLL73MXauNhnAkACwOyOcgLANOwJANNQtn8fBID218jLHhIAEgASANpxaPMlxY460IuqAr7MTWrrhgDzzd46uVgbF/tMAEgAaNtZQB1Hi8dUXxdfjrE0zQkA09S2d18EgPbWxuueEQASABIA2nGI+3IB5cs47JgVdvSCmtpRh7z0gvlmb6VdrI2LfSYAJAC07SxAAGi2IgSAZj1dbY0A0NXKOd5vAkACQAJAOw5ivqTYUQd6wR2AzIFsBXw5F2armMzeXayNi30mACQAVHPAprlLAGj2nEoAaNbT1dYIAF2tnOP9JgAkACQAtOMgtulCL46IL+OIY+DbttTUt4raPR7mm731cbE2LvaZAJAAkADQ3vNg1J5Vdw4iAIyq6Of6BIB+1tX6UREAEgASANpxmPIlxY460IuqAr7MTWrrhgDzzd46uVgbF/tMAEgASABo73kwas8IAKOK5Wd9AsD81NqqkRIAEgASANpxSPIlxY460AsCQOZAtgK+nAuzVUxm7y7WxsU+EwASABIAJnMOy6JVAsAs1N3YJwGgG3XyrpcEgASABIB2HNZ8SbGjDvSCAJA5kK2AL+fCbBWT2buLtXGxzwSABIAEgMmcw7JolQAwC3U39kkA6EadvOslASABIAGgHYc1X1LsqAO9IABkDmQr4Mu5MFvFZPbuYm1c7DMBIAEgAWAy57AsWiUAzELdjX0SALpRJ+96SQBIAEgAaMdhzZcUO+pALwgAmQPZCvhyLsxWMZm9u1gbF/tMAEgASACYzDksi1YJALNQd2OfBIBu1Mm7XhIAEgD6EAD6cIHvwxhsu2D17oSd0YB8mZsZ8bHbiALMt4hgKa7uYm1c7LPNAWCSnkm2vaOp2tfiMckHjXEOzzQ9gvpZysumfgaNI4vPCQCzUHdjnwSAbtTJu14SABIAEgDacVj7cgHlyzjCzoo8jDcPYwxbb9ZLXoD5lrxxuXtwsTYu9pkAMPlgjgAw2lmAADCa1/ZrEwCWb+f7lgSAvlfY0vERAOYvANz+H3FXLoyD+hn0uaWHX0G3fBiDGpAv4wg7Z/Iw3jyMMWy9WS95AeZb8sbl7sHF2rjYZwJAAkDbrqcIAMs9a1Z/XVzq+3f5e2JL1wQIAF2rmCf9JQAkAFQCrj8G4cMFvg9jsO2CNY3TtC91K2WVhzGmMVfYRzgB5ls4pyzWcrE2LvaZAJAA0LbrKQLA8s+43AFYvp3vWxIA+l5hS8dHAEgASABox8HJlxQ76hC1F77UjQAwauVZPymBPBxTSdkl3a6LtXGxzwSABIAuB4C+HHOmzqcEgKYk/WuHANC/mjoxIgJAAkACQDsOVV8umHwZR9hZkYfx5mGMYevNeskLMN+SNy53Dy7WxsU+EwASABIAlnuWsm87AkD7amJLjwgAbalEzvpBAEgASABox0HPlxQ76hC1F77UrdS48zDGqHVn/eQEmG/J2cZt2cXauNhnAkACQALAuGcre7YnALSnFrb1hADQtorkpD8EgASABIB2HOx8SbGjDlF74UvdCACjVp71kxLIwzGVlF3S7bpYGxf7TABIAEgAmPTZLL32CQDTs3ZtTwSArlXMk/4SABIAEgDacTDzJcWOOkTthS91IwCMWnnWT0ogD8dUUnZJt+tibVzsMwEgASABYNJns/TaJwBMz9q1PYUKANetWycbNmyQ5s2bS82aNV0bI/21UIAAkACQADC9A1NdBBR74zJfUtKrg8k9+VI3AkCTs4K24gjk4ZiK45Plti7WxsU+EwASABIAZnmmM7tvAkCznj61Vm0AuHXrVnnkkUfkwQcflBkzZsimTZukRo0a8s9//lMOOOCAyvFPmjRJXn/9ddl1113lV7/6lU8ujCVhAQJAAkACwIQPsu2aJwBMzzqtPfny5ZIAMK0Zw36CBPJwTAUZ2Pq5i7Vxsc8EgASABIC2ngXD9Wv7630CwHBmeVyrSgC4Zs0aOfnkk+WNN96Qbdu2VZqoAHDu3LkFAaD6c5cuXXQ4+NZbb+n/zYJAGAECQAJAAsAwR4qZdQgAzTja1IovXy4JAG2aVfnuSx6OKVcr7GJtXOwzASABIAGgq2fJf/ebANDt+qXV+4IAUN35d/jhh8ubb76pH/U96aSTpE+fPnLRRRfpkG/HAFB1slevXjJz5ky55ppr5Prrr0+r3+zHcQECQAJAAsD0DmICwPSs09qTL18uCQDTmjHsJ0ggD8dUkIGtn7tYGxf7TABIAEgAaOtZMFy/CADDOeV9rYIA8KGHHpKzzjpLateuLc8884wcd9xx2keFgcUCwJtuukmuuuoq6devn/ztb3/LuyfjDylAAEgASAAY8mAxsBoBoAFEy5rw5cslAaBlEyvH3cnDMeVqeV2sjYt9JgAkACQAdPUs+e9+EwC6Xb+0el8QAPbv319efPFFGTFihNxzzz2VfSgVAE6ZMkUGDBgge+21lyxdujStfrMfxwUIAAkACQDTO4gJANOzTmtPvny5JABMa8awnyCBPBxTQQa2fu5ibVzsMwEgASABoK1nwXD9IgAM55T3tQoCwD322ENWr14tKtQ7+uijQwWAc+bMkYMPPlh22mkn/aZgFgTCCBAAEgASAIY5UsysQwBoxtGmVnz5ckkAaNOsyndf8nBMuVphF2vjYp8JAAkACQBdPUv+u98EgG7XL63eFwSA9erVk82bN1d5oUepOwDV7//17NlT6tevL19//XVa/WY/jgsQABIAEgCmdxATAKZnndaefPlySQCY1oxhP0ECeTimggxs/dzF2rjYZwJAAkACQFvPguH6RQAYzinva1V7B6D6Lb++fftW2pQKAP/4xz/Kz372M2nVqpUsWbIk756MP6QAASABIAFgyIPFwGoEgAYQLWvCly+XBICWTawcdycPx5Sr5XWxNi72mQCQAJAA0NWz5L/7TQDodv3S6n1BAKhCv2nTpsmoUaPk6quvDhUAqheFqEeGTzzxRHnqqafS6jf7cVyAAJAAkAAwvYOYADA967T25MuXSwLAtGYM+wkSyMMxFWRg6+cu1sbFPhMAEgASANp6FgzXLwLAcE55X6sgALzjjjvk0ksvFfVbgO+//740atRI+xS7A/D//u//5Mwzz9RvCH7wwQf1nYAsCIQRIAAkACQADHOkmFmHANCMo02t+PLlkgDQplmV777k4ZhytcIu1sbFPhMAEgASALp6lvx3vwkA3a5fWr0vCADVSzzatWsnK1as0C/2ePjhh6VDhw5VAsDPPvtMbr31Vrn77rtl27Zt0qZNG5k3b57UqlUrrX6zH8cFCAAJAAkA0zuICQDTs05rT758uSQATGvGsJ8ggTwcU0EGtn7uYm1c7DMBIAEgAaCtZ8Fw/SIADOeU97UKAkCFMWPGDOnXr59s2rRJ23Tq1EneffddfZdfnz59ZM2aNTrsU8Gf+k/Dhg3ltddeky5duuTdkvFHECAAJAAkAIxwwMRc1ZYAMMkvREm2HZM/kc3zMN48jDGRyUGjZQkw38piS2UjF2vjYp8JAAkACQBTOaUlthMCwMRovWq4SgCoRvfOO+/I6aefroO+ikUFgGpRoV/F0r59e3n88cfl+9//vlcoDCZ5AQJAAkACwOSPs4o9EACmZ53Wnnz5clnKKw9jTGu+sJ9gAeZbsFFWa7hYGxf7TABIAEgAmNVZzsx+CQDNOPreSrUBYEXQ95e//EWeffZZmT17tqxatUq2bNki3/ve96Rr164yaNAgGTJkCI/9+j5DEhofASABIAFgQgdXNc0SAKZnndaefPlySQCY1oxhP0ECeTimggxs/dzF2rjYZwLA/AaAQcFRVueGKNevvhxzcayD6ljq+3ec/bKtWwJFA0C3hkFvXRMgACQAJABM76iNcgGVZK+SvDhLsu0kTcptOw/jzcMYy60/25kXYL6ZNzXVoou1cbHPBIAEgGoO2DR3o1y/2tRvU+e+qO0QAEYVy+f6BID5rHvmoyYAJAAkAEzvMIxyAZVkr5K8OEuy7SRNym07D+PNwxjLrT/bmRdgvpk3NdViWrUxuR+TbZlyLKedNMdRKrxIsh9Jtr2jeanrsXLqY2qboODI1H6ithPl+jXNOkYdR1rrB9WROwDTqoTd+yEAtLs+3vaOAJAAkAAwvcM7ygVUkr1K8uLMZNsm20rK04U+xh17HsYY14jtzQkw38xZmm4prdqY3I/Jtkx7RmkvzXEQAEapjNl1g4Ijs3sL31qU69c052r4EVRdM8l+BtWRADBO5fzZlgDQn1o6NRICQAJAAsD0DtkoF1BJ9irpix5TcyrJfprydaGPcceahzHGNWJ7cwLMN3OWpltKqzYm92OyLdOeUdpLcxwEgFEqY3bdoODI7N7Ctxbl+jXNuRp+BASAcazYNhmBggCwbt26kfei3g680047yW677Sbt2rWTnj17ys9+9jPZf//9I7fFBvkRIAAkADQV1iR51ARdTAR9nmTforQd5QIqSrtR103Sy2TbJtuKahR2fRf6GHYsxdbLwxjjGrG9OQHmmzlL0y2lVRuT+zHZlmnPKO2lOQ4CwCiVMbsuAaBZz1KtJXlMBdWROwDTq7PNeyoIAGvWrBm7ryoQVMu5554rd9xxh5QTKsbuBA1YL0AASABIAJjeYUoAGM06yYuzaD0pvrYLfYw71jyMMa4R25sTYL6ZszTdUlq1Mbkfk22Z9ozSXprjIACMUhmz6wYFR2b3Fr61KNevac7V8COoumaS/QyqIwFgnMr5s21BAHjNNdfokb344osyc+ZM/b87deok3bp1k6ZNm+o/r169WmbPni3vvfeeqLCve/fuctRRR8n69evl3XfflTfeeEM2b96sPzvllFNkwoQJ/mgxEmMCBIAEgASAxg6nwIaiXEAFNhZjhaQvekzNqST7GYOvYFMX+hh3rHkYY1wjtjcnwHwzZ2m6pbRqY3I/Jtsy7RmlvTTHQQAYpTJm1w0KjszuLXxrUa5f05yr4UdQdc0k+xlURwLAOJXzZ9sqvwF4yy23yMiRI+Wggw6ScePGSdeuXasd7VtvvSXnnHOOzJkzR2688Ua9jVqWLl0qQ4cOlVdeeUWHgJMmTZJjjz3WHzFGYkSAAJAA0FRYY2RCFmkk6B/poM+T7FuUtqNcQEVpN+q6SXqZbNtkW1GNwq7vQh/DjqXYenkYY1wjtjcnwHwzZ2m6pbRqY3I/Jtsy7RmlvTTHQQAYpTJm1w0KjszuLXxrUa5f05yr4UdQdc0k+xlURwLAOJXzZ9uCAHDatGnSt29f6dChg77Lr379+iVHumHDBn134AcffKDvGuzXr59ef+PGjfL9739fFi5cKKeddpo88sgj/ogxEiMCWQWApf4h2XFgSZ6gq9vX4jEDjdja2kjQP0o29jtoDgR9bsuYolxAJdnnJL1Mtm2yraQ8Xehj3LHnYYxxjdjenADzzZyl6ZbSqo3J/Zhsy7RnlPbSHAcBYJTKmF3X1mv0KNevac7VOPpJ9jOojgSAcSrnz7YFAeDJJ58szz77rDzwwANy5plnhhrl+PHj5ec//7kMGjRInnnmmcptbr/9dvnlL38p++67rw4CWRDYXoAAsHA+RAkmXZ1JQf8o2TiuoH+kgz63ZUxRLqCS7HOSXibbNtlWUp4u9DHu2PMwxrhGbG9OgPlmztJ0S2nVxuR+TLZl2jNKe2mOgwAwSmXMrmvrNXqU69c052oc/STUevCrAAAgAElEQVT7GVRHAsA4lfNn24IAsGXLlrJ8+XKZNWuWfgQ4zKIeBVZ3AbZo0UKWLVtWucnrr78uffr0kQYNGshXX30VpinWyZEAASABoBKw/a7HoH+kgz635ZCOcgGVZJ+T9DLZtsm2kvJ0oY9xx56HMcY1YntzAsw3c5amW0qrNib3Y7It055R2ktzHASAUSpjdt2g4Mjs3sK3FuX6Nc25Gn4EVddMsp9BdSQAjFM5f7YtCADVI7/ffvutvPTSS3LkkUeGGuWrr76qHxuuV6+efvS3YnnnnXf07wcSAIZizN1KBIAEgASA6R32US6gkuxV0hc9puZUkv005etCH+OONQ9jjGvE9uYEmG/mLE23lFZtTO7HZFumPaO0l+Y4CACjVMbsukHBkdm9hW8tyvVrmnM1/AgIAONYsW0yAgUBoHpcV73E48ILL5Q77rgj1B4vuugiueuuu2SfffaRRYsWVW6jXgKi3g6849+HapSVvBcgACQANBXWJHmwBF1MBH2eZN+itB3lAipKu1HXTdLLZNsm24pqFHZ9F/oYdizF1svDGOMasb05AeabOUvTLaVVG5P7MdmWac8o7aU5DgLAKJUxuy4BoFnPUq0leUwF1ZE7ANOrs817KggAhw8fLvfdd5/UqVNHnnzySTnhhBNK9v0vf/mLDB48WLZs2SLDhg2TsWPHVq5/2223yeWXXy69e/cW9TgwCwLbCxAAEgASAKZ3TiAAjGad5MVZtJ4UX9uFPsYdax7GGNeI7c0JMN/MWZpuKa3amNyPybZMe0ZpL81xEABGqYzZdYOCI7N7C99alOvXNOdq+BFUXTPJfgbVkQAwTuX82bYgAFy8eLF07ty58lHeIUOGyM9+9jM5+OCDpWnTpnrUq1ev1m8Ifvjhh+WJJ56Qbdu2yc477yzvvvuuvtuvYunZs6f+LcGrrrpKbrjhBn/EGIkRAQJAAkACQCOHUqhGolxAhWqwzJWSvugxNaeS7GeZdFU2c6GPcceahzHGNWJ7cwLMN3OWpltKqzYm92OyLdOeUdpLcxwEgFEqY3bdoODI7N7Ctxbl+jXNuRp+BASAcazYNhmBggBQ7WLy5Mnyox/9SIeANWrUKLlXFf6p3w186qmn5Nhjj61cd8GCBTJ06FD95zvvvDP0C0WSGSKt2ihAAFhYlVL/wNlYv3L6ZOvFRamxBF1MBH1ejlMS20S5gEpi/xVtJullsm2TbSXl6UIf4449D2OMa8T25gSYb+YsTbeUVm1M7sdkW6Y9o7SX5jgIAKNUxuy6tl6jR7l+TXOuxtFPsp9BdeQOwDiV82fbKgGgGtqHH34oF198sUyZMkW2bt1a7WhVONi/f3/9W4Ht27f3R4SRpCJAAOhfABj0D1rQP0qpTLyIOwkzJtWkC28zLtbHoDFGJCu5epL7Mtm2ybZM+m3flgt9jDv2PIwxrhHbmxNgvpmzNN1SWrUxuR+TbZn2jNJemuMgAIxSGbPr2nqNTgAYrc5BdSQAjObp69rVBoAVg1UvBFEv81CP937++ef6r3fffXfp1KmTfvPv3nvv7asL40pYgACQANCV4KxUP9O8MI5zSEa5gIqzn6Btk/Qy2bbJtoJMyv3chT6WO7aK7Wwao019ievK9tULUGN7Z0ZatTG5H5NtZVmZNMdBAJhdpYOCo6x6FuX6Nc25GscjyX4G1ZEAME7l/Nm2ZADozzAZiW0CBIAEgASA6R2VUS6gkuxV0hc9puZUkv005etCH+OO1aYx2tSXuK5sTwDo2hxI6/gzuR+TbWVZrzTHQQCYXaWDgqOsehbl+jXNuRrHI8l+BtWRADBO5fzZlgDQn1o6NRICQAJAU2FNkhM/6B/poM+T7FuUtqNcQEVpN+q6SXqZbNtkW1GNwq7vQh/DjqXYejaN0aa+xHVlewJA1+ZAWsefyf2YbCvLeqU5DgLA7CodFBxl1bMo169pztU4Hkn2M6iOBIBxKufPtgSA/tTSqZEQABIAEgCmd8hGuYBKsldJX/SYmlNJ9tOUrwt9jDtWm8ZoU1/iurI9AaBrcyCt48/kfky2lWW90hwHAWB2lQ4KjrLqWZTr1zTnahyPJPsZVEcCwDiV82fbogGg+s2/GTNmyMKFC+XLL7+ULVu2BI76yiuvDFyHFRBQAgSABICmwpokj6igf6SDPk+yb1HajnIBFaXdqOsm6WWybZNtRTUKu74LfQw7lmLr2TRGm/oS15XtCQBdmwNpHX8m92OyrSzrleY4CACzq3RQcJRVz6Jcv6Y5V+N4JNnPoDoSAMapnD/bVgkA16xZI5deeqk89thj8t1334UeqXor8ObNm0Ovz4r5FiAAJAAkAEzvHBDlAirJXiV90WNqTiXZT1O+LvQx7lhtGqNNfYnryvYEgK7NgbSOP5P7MdlWlvVKcxwEgNlVOig4yqpnUa5f05yrcTyS7GdQHQkA41TOn20LAsAvvvhCevXqJR9++KFs27Yt8ii3bt0aeRs2yKcAASABoKmwJskjKOgf6aDPk+xblLazuqjesY9Jepls22RbUeoUZV0X+hhlPNWta9MYbepLXFe2JwB0bQ6kdfyZ3I/JtrKsV5rjyOpaJasxZlnX6q7PFo8ZqP86TY8gAwLAIKHi3yerqyMBYDRPX9cuCABHjhwpN998sx5rv3795JJLLpGDDz5YGjduLDVr1gw0qFWrVuA6rICAEiAAJAAkAEzvXJDVRTUBYHI1tukCPalR2jRGm/qSlHfe26XG9s6AtGpjcj8m28qyMmmOI6trlazGmGVdCQCz009yvnEHYHZ1dWnPBQFgx44d9d1/AwYMkOeee07UY70sCCQhQABIAEgAmMSRVX2bWV1UEwAmV+MkLyCT63W0lm0ao019iabI2mEFqHFYqfTXS6s2Jvdjsq30xf//HtMcR1bXKlmNMcu6EgBmp5/kfCMAzK6uLu25IABs0KCBfPPNNzJx4kTp37+/S+Ogr44JEAASABIApnfQZnVRTQCYXI2TvIBMrtfRWrZpjDb1JZoia4cVoMZhpdJfL63amNyPybbSFycATMp8++uxpPZRTrtBwVE5bZrYppTXjseYK8dckv0MqiOPAJuYle63URAANm3aVP71r3/JP/7xDznwwAPdHx0jsFaAAJAAkAAwvcOTADCadZIXZ9F6UnxtF/oYd6w2jdGmvsR1ZfvqBaixvTMjrdqY3I/JtrKsTJrjyOpaJasxZlnXHfcdFBxl1VcCwGjyQXUkAIzm6evaBQGg+t2/V199VZ5++mkZNGiQr2NmXBYIEAASABIApncgZnVRXd0FZlJ1N3kBb7KtpKrsQh/jjt2mMdrUl7iubE8A6NocSOv4M7kfk21lWa80x5HVtUpWY8yyrgSA2eknOd8IALOrq0t7LggAJ0yYIKeffroMHjxYHn/8cZfGQV8dEyAAJABMKggyeSgE/SMd9LnJvsRpK6uLagLAOFUrva0rcy+OgE1jtKkvcUzZtrgANTY7O0x6mmyr1ChN7sdkW2YrE621NMeR1bVKVmOMVolk1w4KjpLde+nzcsXbiYOuKdOsYxyPJPsZVEfuAIxTOX+2LQgA1bBOO+00eeKJJ/TbgH/5y1/6M9IQI/nkk0/krrvu0r+BqP53vXr1pG3btjJkyBA577zzRP1Gooll8uTJMm7cOJk5c6asXr1a1KPXhxxyiJxzzjmhf3tx8+bN8oc//EEeeeQRmTdvnnz11Vey1157ydFHHy0XXnihHHDAASW7uu+++8qSJUsCh7PPPvvI4sWLA9eLugIBYKHY9ifsqJa2rB/0D1rQP0q2jGP7foQZk1q/2MWJLWPK6qI66GLNpE9QraLsy2RbUfYbZd24fYy7fZS+lruuTX20qS/lerJdaQFqbHaGmPQ02VapUZrcj8m2zFYmWmtpjiOra5WsxhitEsmubes1eqnvRzvWLc06xqlGkv0MqiMBYJzK+bNtQQD497//XVSwdOWVV8qbb74pPXr00HcEdujQIVT41bt3b2dlVOj3k5/8RNatW1ftGPbff3+ZNGmS7LfffmWPcdu2bXLuuefq8K/YokLAsWPHlnwD89q1a2XgwIEyY8aMaptRweXvfvc7+fnPf150PwSAwWVM8gRdXTBie4gUJBbkFfSPUlD7WXweZkyqX7bXLquLagLA5GZt0NwM2nPc7YPaN/G5TX20qS8mbGmjqgA1NjsrTHqabIsAMFqd07JXvcrqWiWrMUarRLJr23qNTgAYre5BdSQAjObp69oFAWDNmjVLBk+lEGrUqKHDQxeXd955R1R4uWHDBmnYsKGMHDlS+vbtKxs3bhT1WPR9992nh6WC0FmzZul1ylmuuuoqGT16tN60a9eucvnll0ubNm1kwYIFcsstt8icOXP0Z2q9G2+8sdpdbNmyRdRvNU6bNk1/fvLJJ8uwYcOkcePGOhBU261atUpq1aql72Q89thjq22nIgA88cQTi+5LbVi3bl1p3759OcMtuQ13ABbylPoHzjh+Qg0GXUAF/aOUULdiNRtmTGoHBIDhmIM8w7VS/Vom2zbZVpwxldo2bh/jbp/UuLZv16Y+2tSXNOzzuA9qbLbqJj1NtpXkedXW81ecyqZlr/pIABinUvG2tfUanQAwWl2D6kgAGM3T17WrBIDlDlQFgCqccnFRYd/UqVOldu3aOljr1atXwTBuvfVWHdapZdSoUXLttddGHubHH38sHTt21CFpt27d9H7q169f2Y4KH4844giZPXu27sf8+fN1OLjjMn78eDnrrLP0X6vHku+9996CVdR+Dj74YFm/fr20a9dO3n//fd3ejktFAHjmmWeKajPthQCwUJwAMO0ZGG5/QRe+QZ+H20vya2V1UV3lvPOrifqvkghMTdbCZFtJVTduH+Nun9S4tm/Xpj7a1Jc07PO4D2pstuomPU22VWqUJvdjsi2zlYnWWprjyOpaJasxRqtEsmsHBUfJ7r146yYDQFu+ayU534LqSACY1Uy2a78FAeBLL70Uq3dHHXVUrO2z2Fjd0ad+f08tw4cP14/f7rhs3bpVOnfurH9rb/fdd5eVK1dKnTp1InX3/PPP14/lqkU9Xt2zZ88q20+fPr0yfLzgggvk7rvvrrJOp06ddKin+qEO4up+l3DMmDH6Lka1PPnkk/KjH/2oSjsEgMHlS/IEvePebflHKVil9D/S6tNSP9Zb8VmatkmPqdSY4+zb5LZZXVRXN8+T8jI5p0y2ZbKO27cVt49xt09qXCbHaLKPLniZHG+abdlia0s/0rRPcl//j703AbujKNbHO5EdIhIjOwqyCIjsKLuCIAqiKIuCxA0RBBeuCChyRQRRQXFnVcSg7CKgRMXlKogoGJbLJlsE+QsRIluEACY3/6fG3/ky53wz/fY7Vd0z3/l6nuc+V9LVVW+9Vd1TXd/MGUs+LXX5fLa0Y6krZpyQ7pR+tFWrtOUj4j7lOGocpcQyWAdYfQSkK2etmPmG4pgbgG1lcrfsjvoISLfgxUdTfi1XGnDyu4dVV7mpdtVVV7mdd945GJz89t9qq63m/v73vxevEUsjse6S8bvuusutuuqqxYdI5MnK3nXPPfeMvI4rvyV42mmnVaqZNWuWW2mllYox+Q1H+VDI4JUbgDh8MTfoUfH45JVRnorCXtpJIL7QTckOiZ2mEJ/EWown2uy8aO+1mqo8t+JrMDYoVgyflroYu4ysFqN2PoO1qWyXMHYJS1M+uzqvK9x2BUdX48TisuTTUpfPD0s7lrpY7i3lU/qRG4CWkeN0dbVG9zXt2DowNwBd8fCQ9CTkevDBB4t+Q77GHwPjvgG4/fbbu2uuucYtvfTS7oknnqh8XVbSQp7a633kRF4BlleBQ6+ZM2eOvM5b95RhT5eM9z4SIvPWWGONETNnn322O+CAA4r/Pv/884svNtdd8tGSu+++2730pS+t/NpvbgDi6LVV9GBk3ZRAfHW1uNAcBpDPXYlUW0X1oP+WfLGFHxMLS5yMXUZWi1E7n8HaVLZLGLuEpSmfXZ3XFW67gqOrcWJxWfJpqUtzz2c4SIWZwdRENqUfbdUqbfnYJB6x5nS1Rs8NQC7iKI65AcjxOazS474B+JKXvMTNnj3bbbTRRu7mm2+ujfPjjz9efGhDrr333ttddNFFwTkhH+N485vfXMh/9atfdYcddljtXBn/+Mc/XozLvF133XVE9ogjjnBf/vKXi/+WD4ZsvPHGtXrk4x5XXHFF8QThnDlzigZn+eo1AKXBKB81kQ+RyJOKK6ywQvFK9L777utER/kJxGCHAwTzbwD2k9SVv0oFhK5WBBVQ6KaksR1rbohPYjs/ARgWAcRnmJb/SOUGoO73FC1jwcSNke0Sxi5hYTgcC7Jd4bYrOMZCzEIwWvJpqcuH3dKOpa4QvmPJpPQjNwBjRRHr7WqNnhuAOHZ95/vSG2VVazc3ADk+h1V6XDcAn3322ZEPcey2227upz/9qTfO0ih7+umni9/vkycCQy/5XcEPfehDhfjFF1/s9tprr9qp8pt90mCUS+bJE4G9S574u/DCC4v/fPTRR92UKVNq9chvCPY+ECIfFJEnAvs2iNVXr3wysCyzzTbbFPZWWWWVUFdH5GSD8V0PP/zwyG8vDj6CHLPYYBptMXEMcsPgooORaALiq6vFheYwgHxORD0001ZRXZXn8m8WDdPcAMwNQJj4hgKx1nosvYauR1fVFQ66giM64YkMWPJpqUtzz2eoS4WZwdRENqUfbdUqbfnYJB6x5nS1Rh+LDUCUT2hcE2MUx9wA1LA7PHNrG4APPPBA8QTZLbfcUjwhN3fu3OIJsbpLnhT7xS9+MaaYkSba8ssvX2B+xzve4S644AIvfnk67pFHHik+CHLrrbcG+1r+ivDPfvYz98Y3vrF2roz3nvqTp/0OP/zwEVlpUk6fPr34b4nHEkssUavnqKOOcieddFIxLl8Wli8Dl6911lmn+CrxG97whsKfZZddtngFWhqb8tuC0pSTS2Tk32ScuZgnB3MDsP832hieuySLbmjoptQlX3pYQnwSWYuGVkz/2yqqB31CfDIc5AZgbgAy+aKVtczdMpZYerX+ppzfFQ66giMl95a2hmFPtswBS12WcWJ1pfSjrVqlLR/ZWMSU72qNnhuAXNRRHHMDkONzWKVHNQClsfTRj37UnXPOOU6+fouuXlNQGj7z589H4p0al8aT/EaeXFOnTnXTpk3z4hNZmbPmmmu6e++9N9iX448/3snvBsolX1recccda+f+5je/cb2vKcu8Y445ZkRW/l3G5RKuJ06cWKtH7Ml8ueQ3Drfddts+WWn2vehFL6qcL68My1OK8rETuf7rv/7LnXLKKcH+imBuAFJ0Fa8zdr2JhDxCBRS6KSH9bYyH+CS4uh67torqwZghPpkYD8Nhk/HXmkvLWGj88M3tEsZYWGLpjRWTGHq7wkFXcMTgOIXOYdiTLXPAUleK+NXZSOlHW7VKWz62GdeqmqJXy6bkA3GQG4CIof5xdNbKDUCOz2GV7msASjNPnjKTJ/nkfy+33HLF12HkaTdp6Mirr/JbePI1WmlAyb+ttdZaI0/RSaNpLF3j+QlAFKcnn3yyaHT+85//LH4/8LHHHnOLLbYYmjYynl8BDqaqEMwNQI6vVNKoCELjqXAiO20V1dZNq7K+YThsorjFbI6NhdztEsZYWGLp1eRW6rld4aArOFLzb2VvGPZkyxyw1GUVoyZ6UvrRVq3Slo9N4hFrDmocxbKL9OYGIGIoNwA5hrK0MNDXAJTfn9tnn32Kxt7RRx/tPvvZz7o777zTbbjhhsW/9Z7wkyfE5Eu1xx57rJs0aZK79NJL3VZbbTXmGB3PvwEYEqzy7whee+21I19BDpmLZPJHQOo3bMRdV8dRAdXV4kLTZEE+dyVWbRXVuQEYLwO0uaedH8+zhZq7hDEWllh6U8THykZXOOgKDiteU+sZqw3AMm7LHLDUlTqWZXsp/WirVmnLxzbjWlWf5ScAbSKC8gmNa1Cgs1Z+AlDD7vDM7WsAvu1tb3OXX3558aTfH/7wh8LL22+/3b3qVa/qawD23P/jH//odthhh+L34eQLuiuuuOKYYybFV4Dl4yK77757wY3mK8Cf+MQn3Fe+8pVCj/YrwCGBOvXUU92hhx5aiMpXj3sfJwmZi2RyA7CfId9fuBCXXRlHNzR0U+qKH0zhi3zuik9tFdVVBab8m8Ur02P1sGmVE9rc08638sOnp0sYY2GJpTdFfKxsdIWDruCw4jW1nrG6J1s2AC11pY5fnb2U66KtWqUtH7sSY8HR1Rrddz5i95xUZy2UT2hckxcojrkBqGF3eOb2NQBXW20199BDD7nvfve77r3vfW/hpa8BKOPy+3Bf//rXnXx04gtf+MKYY2b77bcvfiNPXnOV38VbZJFFKn2QD2FsvfXWxZj8vt5xxx0X7OvMmTOL12nlkq/6ytd96y4Zl6cr5ZJ5a6yxxojo2Wef7Q444IDiv88//3wnXwWuu+Srv3fffXfxG4fyQZcml3xFWJ4ClCs3AJswGD4n1U0pHBEviW5o6KbEW4w/I8QnQWHR0IrpTVtF9aBPiE+GA7bw0+hm5qaS1XKpnZ/Czy5hjIUllt4U8bGy0RUOuoLDitfUetCerOFXMxfxYNm0s9SFcKcaj8l9VY1Q9xRaTBwxdft8TBXDEDtdrdFzAzAkegtlUBxzA5Djc1il+xqASy65pHv++efdb3/7W7fddtsVPt91113Fl2DlFeCnn3561Jdn5aMUO+20k3vlK19JfRm3K4TKq869xqU80fia17ymEtoXv/hF96lPfaoYk99IlK/nhl7ye4ryW4rSXF133XWL16rrLuH6L3/5i1tllVWKD46UP6YhDT1p7Ml18MEHF1/rrbpmzZrlVlpppWJo3333deedd14o1D45efpPngKU6/e//73bZpttGumpmpSfAOxnJTcAzVLLVBEqCtG4KRiFstwA5MgbC3HVYtTO5xhtJt0ljLGwxNLbjPF2ZnWFg67gaCcKequ5Afifp6jkkibWsORTSj/aqlXa8lG/6uw0oMaRnSVOU24ANuerKq9zA5Djc1il+xqA8hSc/C7ejBkz3MYbb1z4/PDDDxfNKGlEyZdvy0+kybjIbrHFFsVvAcqHI8badf311480/eqezpOvIW+wwQZF406+nPvII4+4RRddlHL1kEMOGWnYydOE8pr14CUNyN5vKYq8PIE3eK2//voFjsmTJxcNwqWWWmqUTLlZ2fTJvfJHQMSGfARk8cUXp3z2CecGYD87uQFollqmilBRiMZNwSiUtVVUD0K25AsdNhV0jYmDm5ZL7XwNv6Fzu4QxFpZYekM57oJcVzjoCo4uxKQJBrQna/jVzEW+WDbtLHUh3KnGY3JfVSPkJwBTRbb+HJIy5sjb3ABEDHFxzA1Ajs9hle5rAK699trFa6fyhJs81SeXPL22zDLLFI3Biy++2L397W/v40IaTPIqqjw9KE8IjsWr9xqwvP579dVXj/qgycknn+yOPPLIwjX58Il8HKV8yROT8luIcr3nPe9x55xzziga5Ok9eUpy3rx5bvPNNy/sCGe9a+7cuU5w/PnPfy5eQ77jjjucxGPwKr8GLE/ofetb3+oTue+++9ymm27qnnrqqeK1Y3macPC15p///Ofuta99bZ/9shL5yMtee+3lrrrqquKfP/KRj7hvfOMbpqHNDcD6DduU6ITKUMHQ1b8u+igK8Unm51eAwxIN8Rmm5T9S6LDJ6BqUtcSpwaHJTWR3PPiIOGDGY/EVSy/jW9uyXeGgKzjajkdT+2hP1vCrmYv8sWzaWepCuFONx+S+6t6bG4CpIlt/DkkZc+RtbgAihrg45gYgx+ewSvc1AKXp8+Mf/9h9+ctfLn7br3dJc0saVjvuuKP75S9/OfLv8lVgeVVYnlyTD4XccsstY5In+aCGvN4qTThpdsprweKz/PcFF1ww8pt866yzTtGgk6cdy1dIA1Dk5RVieTpPrk022aT43URp0knT7ktf+lLxYY+e3IknnljJpXAuzTv5Kq9ce+65pzvwwAPdcsst5+RpxuOPP754QnHixIlOPj7ypje9aZSe173udcXr2tLM3XbbbQsM4rf8BqI8nSivFsvThXLJK8fyQRh54tDyyg3A+g3bkueUulDBkBuAKaMRXhCguFmitrSFDpsa3JY4NTh8c7UYtfNj+VXW2yWMsbDE0psiPlY2usJBV3BY8ZpaD9qTNfxq5iIeLJt2lroQ7lTjMbkf9MFXJ8bEEVO3z8dUMQyx09UaPTcAQ6K3UAbFMTcAOT6HVbqvASivnMrTXvL7dvKUWO+aNm1a8VEQeQ1Ymkf77LOPe+aZZ4oPUUhDTP5dPopxzDHHjFmefvKTn7j999+/eHKu6pLm35VXXunWWmutUcOhDUB5lViadfIUX90lH/mQj4BIA6/umj17ttt1113dDTfcUCmy2GKLFU8Giq2qS2L4u9/9DsZKnkiU3w+UV8Ctr9wA7GfUd4Oz5j6WPlRAoZtSLFwavSE+if78BGAYy4jPMC3/kUKHTUbXoKwlTg0O31wtRu38WH6V9XYJYywssfSmiI+Vja5w0BUcVrym1oP2ZA2/mrmIB8umnaUuhDvVeEzuq+69+QnAVJGtP4ekjDnyNjcAEUNcHHMDkONzWKX7GoDye3/ysQppPt1zzz1u9dVXH/F7l112KZ7+K3+UQgblFeENN9yweHKs/ErrWCRMvpYrXzSWRp8sEGmkScNv7733Lr6GW/V7e+JnaAOwx8n06dOLJp808KSZN2XKlOJ3FOU3CKue2KviUl4lPuuss4oGnfwmoLx+vfLKK7vXv/717mMf+1jxunHdJU3bX//610XM5CMvgkGe/hP/RId8CEU+HiKN4MF4W8U1NwDrN2wrjlPrQQVDbgCmjshCe239Vb2quJd/s2iYosOmhm2UyxrdVs2qZUcAACAASURBVHO1GLXzrfzw6ekSxlhYYulNER8rG13hoCs4rHhNrQftyT5+EfdoXOOrZdPOUpfGJ8u5MbmvqhFyA9AyeuG6ulqj5wZgeAxFEsUxNwA5PodVuq8BKE7KV4ClqSfNr3LzR34DUJ7yk6fXHn300YIPeRV2v/32K15rXXbZZYeVo+xXBAZyAzA3AK0aQRHSc0QlKnzReExsjO7cAGTYGv10ITc7jbQ297TzU3jZJYyxsMTSmyI+Vja6wkFXcFjxmlpPbgDmrwBrc66tWiXl2vc1tLT8aeajxpFGt2ZubgBy7KE45gYgx+ewSo9qACJHpTkoDUB5Am2FFVZwL3jBC9CUPJ4ZGMVAbgDmBmBuAKbbGNoqqgc9tCyy0WFTw64lTg0O31wtRu38WH6V9XYJYywssfSmiI+Vja5w0BUcVrym1oP2ZB+/iHs0rvG1rFtrx1KXxifLuVpOGCxt1Spt+chwE1sWNY5i26/TnxuAHPMojrkByPE5rNJ0A3BYich+pWUgNwBzAzA3ANOtOaaojlkIW+pGh00Nu5Y4NThyA/DKggKLV8a1cYiVE7H0av1NOb8rHHQFR0ruLW2hPTlVA5CNo2XTzlKXZWw0ulg+tbbyK8AaBpvPRY2j5pp1M3MDkOMPxTE3ADk+h1U6NwCHNbId9ys3AHMDsCsHe02TJWVhrFnSuQHIsTcW4qrFqJ3PMdpMuksYY2GJpbcZ4+3M6goHXcHRThT0VnMDML8CrM0iplbR2irPT7n2fQ0tS59YXahxxOqzks8NQI5JFMfcAOT4HFbp3AAc1sh23K/cAMwNwNwATLdImaI6ZiFsqRsdNoe9savlUvM0TqrM1fpoiTMWllh6LX2PrasrHHQFR2y+Y+lHe7Jmz2Fiw8gKF2V5du4gl5a62mpQ+XyKlTs9vUytYolFG3cGS24AMmz1f9QC5SaKYyruQ3DEOgPlBiCXX+NVurIB+Pjjjxdfl73mmmvczJkz3Zw5c9z8+fO9HMkHQ+SLsvnKDIQwkBuAuQEY6+aHCoSQ/CwXoz6c6CbP2IopyxTVMX2y1I0Omz4+EQ40HjNWobq1GDWH8VCMWjmtj1r7KQ7gXfLRki9GV1c46AoOhrsuyaI9WbPnMLFhZIU/y6adpa4U+09I/rB8huisk2FqFY0dyzqRxZGqCaXBlTLmCKePL7TnVMU5xU+KIP7QOOIE1bd1r9HLvPwEoIbd4Zk7qgF46aWXugMPPNA98cQThZfy0Y+QSxqAqEkYoifLjA8GcgOwP85dLQiYbEQ3NPRXKcYWI4twoRupjNcVDBrdjA9aWaaojumTpW628GMOU5Y4tbHzHZR8uYnsag7jSLfVeJfiEAtLLL1WMUihpyscdAVHCs5j2EB7smbPYWLDyAoPlk07S13MPStGPHs6WT41WJhaRWNncG5bPlr6oNXVVo2OcOcGIGKo/jxZlde5AcjxOazSfQ3AG264wW2zzTZFI08af8svv7zbZJNN3OTJk93EiRMhB+eeey6UyQKZAWEgNwDrN+yxmiGogGqruEC4fHyjuWi8K7FkiuqYPlnqRofNYY+rlkvNYTxVXmt9tMQZC0ssvZa+x9bVFQ66giM237H0oz1Zs+cwsWFkcwMQZwPLJ9ZYL8HUKho7uQE4mr22anQUx9wARAzlBiDHUJYWBvoagHvttZeTJwCXWGIJd/rpp7upU6c6ebIvX5kBawZyAzA3AIWBLjyKP+yNot4BJ/TLejGLfUvd6LA57HHVcqk5jFvfD+r0xfSR9UGLJZaPrB9dlI/FLetrV3CwuLsij/ZkzZ7DxIaRzQ1AnD0sn1hjbgCmqH3ZOOQGIMuYP499Z5yYawrFMT8BaBfnsayprwG44oorukcffdR95jOfcccee+xY9itj7zgDuQGYG4C5AZhukTJ/VY9dmFjFHR02cwPQn1+aw3iqzNXmonZ+2U9LXSn0poqRhZ1Y3LLYuoKDxa3Z62LaYvZoxD0a16ypsm7GThV3lro0PsWMq6XuQV1MrcLgQHFF44wtJFv2EcmmHEeNo5RYBnM/9Gd4UBxTcR+Cw6oWZtaQyOYGYFuZ3C27fQ1AefLv3//+t/vDH/7gXvOa13QLaUYzVAzkBmB/OFPdlGImUcgNz/fDtLGwIVyaw5NGdyx/6w4l+QnAhcyguKHxlLGrs6XFmBuAXBS1fMeKI+dFN6Vjcct62xUcLG7NPSymrdwAvLKg1+JprzZzM6Xt3AC0XJGcrtwA5PjS7Lsx1xSKY24A2sV5LGvqawCuvvrq7sEHH3R//OMf3RZbbDGW/crYO85AbgDmBqBVYYxSXXOjRXPROMKWapwpqmP6ZKmbOVwO8oxwoPFUcdMUmAhjbgAihkbv0TH2rLGQaxxTvHRXOOgKDp7B+hkpfUJ7smbPYfxgZIW5sjw713dv0eoq67bUxeZXSttMrcL4gXxA44wtJFv2EcmmHEeNo5RYBnM/PwEYzj6KY24AhnM5zJJ9DcAPfOAD7nvf+5479dRT3UEHHTTMfmffWmYgNwBHHy4t/krcZlhRAYVuSrGwI1yaJotGdyx/q/QyRXVMnyx1o8PmsMdVy6XmMJ4qd2P6yPqgxVJnL5Ze1r825bvCQVdwWMYipU9oT9bsOYwfjGxuAOJsY/nEGuslmFqFsYN8QOOMLSSbG4CIofDzEdpzBi2l4h7lUxVuqzMgOmvlBiCXf8Mq3dcAvPPOO93mm2/uVl11VXfjjTe6pZdeelj9zn61zEBuAIbf4FoOVbD5kBtefgU4mE5TQaaoRnHUALPUzRZ+ZdwIBxrXcGA1V4uxPF/DpZU/VXosfdTi1GLJDUD/oV9GrQ5ATWMdK8ZN8VjMS+kT2kdyA7B5RFPGsappkmp9MrUKwybiD40ztpBsqiYUwuFrjqXkA+H08YX2HJ+PyK5mHOHKDUANu3muBQN9DUBReMkllxRf/91kk02KpwFf8YpXWNjJOjIDfQzkBmB/QnS1IGDSFhUM6K9SjC1GFuHy6UJz0TiDM6YsU1TH9MlSNyqwhj2uWi5zA5BbcVq+66zF0st51650VzjoCg7LaKT0Ce3JuQHYPLIp41jVNJF/S9GgZ2oVhk3EHxpnbCHZrtb7bdXoGr7QnpMbgKN/hzQ/AYgybnyMTzjwwAMXDLoqT//J/02cONFtvPHGbt1113VLLbWUl5EJEya4M844Y3ywlr1UM5AbgLkBmLKgbGoLFYVoXL1QjBQwRXVMnyx1s4VfmUqEA40bhUWlRouxKw1ATVMAEajliMkZhCU3AOsZsoxT0zjIvK7g0PjQdvOmfK9l9mjEPRrXrFXfXsjGwlKXxicWt0+e4V5rl6lVGFvIBzTO2EKyuQGIGAo/HzF7TG+PT9XIZvZCy5xAjdzcAOTyb1ilJ0ycOHFUA7Dn7IIFC5w09kKv+fPnh4pmuXHOQG4Aht/gxkqqoAIK3ZRi+YlwaQpfje5Y/lbpZYrqmD5Z6mYLP+YwZYkzVpy1GMdbA9CSL8uYanFZYmlLV1c46AoOyzik9AntyT4sCCcaZ/b3QX4tm3aWujQ+jeUcqvupGCYHfDGuq5HKDRtL/qqwpGhCsT60VaMjnL7mGNpz2uIe4aoat8oJFMfcAEQZNz7GJ6y66qq1DUCWAvmCcL4yAyEM5AZgbgCmLLaa2kIFJxoPWQspZHIDcPR68+XEWIirFmNuAHIrT8t3nbVYejnv2pXuCgddwWEZjZQ+sYdepsHF+MHICgbLpp2lLoYfy5xhm2eWtplahbGLcgKNM7aQrK+hhebGHEeNo5i2fbpzA5BjHsUxNwA5PodVetRvAA6ro9mvbjGQG4C5Adi0KcdmsqawQ3PROIs1ljxTVMf0yVI3OmyigjI3ABf+NoyGS23O+nJCmy+Wh3EtltwArM+UWNyyudkVHCxuzV4X0xazryDu0bimWRZrn2AwozhY6kK2cgOQZYiTzw1AO76YPUaspuIe4aoaz08AcnmRpXUM5Aagjr88uyEDuQGYG4C5Adhw8TSYlhuAo9dbrAZgqoOa1o7v0KvVzaRobgCO/pFuhr9hkE2Zb11plqWKW0pu2UMv07Rj/GBke02B3v2Anetrlml1MfzEzCdLPxBOplZBuhj+2vKR8SG2rI/72LbRvlzXHEN7TtX6tGq0IczlGhPhtGxMojjmJwDbzObu2M4NwO7EYlwhyQ3A3ADMDcB0S54pqmMWwpa6UUHFFGe+QxwbJUsfNT4g3LkBiBgavUfH2LNS5QvnbVrprnDQFRyW7Kf0Ce3JmmY/4wcjK1z79kI2Fpa6utLAYvlkORv0M/8GoIbB5nNR46i5Zt1MX3MM7Tm5AZi/AqzLvuGdPeHpp58ufgNwkUUWcYsttliwp88//7ybN29eIY++EBysNAuOGwZyA3D04TLFX6ViJhgqEtsqLhAuTZNFoztmLHxFDyqYYvpkqRv50VZcLX3U+IDyKzcAEUOj92j5F+t9OlW+cN6mle4KB13BYcl+Sp/QnpwbgM0ji+KIxptbTvt1bF+dqPERzUXjGv7aakKxmNuq0RHO3ABEDNWfJ6vyOj8ByPE5rNIjXwG+8MIL3V577RXs5yWXXOL22Wef4ivB3/72t93BBx8cPDcLZgZyAzA3AGMcpqtWlqawQ3PReFdWOlNUx/TJUjc6bGqaZxqcmrlMvmjt5AYgw3a8Q7A2jpwX3ZTuCgddwWEZpZQ+oT05NwCbRxbFEY03txxv76ur1/ITgJpoNZ+bG4DNuatq8pbPOCF7o9UfF1EccwPQLs5jWVPRADzooIPcqaeeSvtxyCGHuNNPP90tv/zy7m9/+xv1BCFtLE8YKgZyAzA3AHMDMN2Szg3A0evNl3+aw5RmLpMRWju5AciwHe8QrI0j50U3pbvCQVdwWEYppU8hh9y6fRfhRONlzhhZmefbC9lYWOpifGJ9ZvyKqbuqcZIbgEx07GRR48jOEqepjItttPnyi0PBSbN7oc9HznL/h06q1m5uALKMDqf8hEmTJi2YOXOmmzJlCu3h7Nmz3Zprrun+9a9/ufPPP794IjBfmYEQBnIDcHRDwuqvPyH8x5BBRWJbxQXC5eMCzUXjMXhuojM3AEevt7qD6OCBkOU7VU5o7eQGIBdZLd911mLp5bzTS2v80MzVI1+ooSs4xqpP7KG37CfiHo0zunxNBMZOVZxyA1CXvUytwlhCcUXjjC0ka9nsQbaY8bZqdIQxNwARQ/XnydwA5LgbT9IT3vWudy34wQ9+0Njnd7/73U7m77///m7atGmN9eSJ44uB3ACs37DHaiagAqqt4gLh8vGN5qLxrsSSKapj+mSpGx0224qrpY8aH1Du5QYgYmj0Hi3/Yv2HmlT5wnnLS8dcjzyaZjOGJRaaZlgz5v4zC+WAj1/EPRrX+GzZtLPUxfjE8MPGOKbuQSxMrcL4gXxA44wtJJsbgIih8PMR2nN8+cWh4KQRrqpxq9oCnbXyE4BcLIdVesK55567QJp3Ta8f/vCHburUqW699dZzt99+e1M1ed44YyA3AMNvcGMlNVABhW5KsfxEuHx20Vw0HssnVi9TVMf0yVI3KrDaiquljxofUI7kBiBiaPQeLf9iVaT3tKfKF85bXjrmeuTRNJsxLLEoe5/SJ5QDuQHYLC9lFoojGm9uGdvW6PY1aFA+MXYRP2icsYVkcwMQMRR+PmJzJBX3CFduAHI5kKXtGZhwzTXXLNh2220ba/7973/vtt9+e7fsssu6xx9/vLGePHF8MZAbgOE3uLGSGaiAyg3A9iKZG4BcMwflcszGXGiWaDAOHihRsRqKqYmcpimA7PmanGhu1cFU/i03AKuZ0+SQNpfZWNbJdwWHlT+D69xSb5UulAOatc7EhpFFeyHLmeWeU7aNfELjrB+MbY3uqn02/wagJaPhutqq0RFCX9MO7Tm+/EJ2NeMIV24AatjNcy0YmHDjjTcu2GSTTRrruummm9xmm23mFl10Uffcc8811pMnji8GcgOwP96p/ioVM8tQAdpWcYFw+ThBc9F4TL4Z3bkBOHq9yb/UNXM0cdXMZWPq8wHp8h1UU/kwePiuKtZj+Yj4scZSZy8l16zPjDw68Gj2WQaHRnZYYlHmIKVPKAdyA7B5dqI4ovHmlvMTgBruquZ2td5vq0ZH/OYGIGKo/jxZtS/kV4A5PodVesJVV121YOedd27s3y9/+Uu3yy67uBVWWME9/PDDjfXkieOLgdwArN+wx2omoAK0reIC4dIcTDW6U8a5qw1ADX/osNlWXDU+MTmhtZMbgAzb8Q7B2jhyXsSTjrke46EefR+Wf7F+yjMV/rpmQyqfUA7kBmDzTED7BBpvbjne3oeaYyifGJ8QP2icsYVkcwMQMRR+PmJzJBX3CFfVuNV9B521cgOQy79hlZ5wwgknLPj0pz/d2L8TTzzRHXPMMU6eIpwxY0ZjPXni+GKgiw1AtGHHjFCqm1JsH3wHDXRTioVNU9ihuWg8lk+s3twA5A76mrhq5jJx1drJDUCG7XiHYG0cOS/iSWvun13hoCs4LKOU0ieUA7kB2DyyKI5ovLnleHtfbgBqomI/t60aHXniOx+hPWdQd6qzFsKVG4Ao6nk8NgMTNtxwwwW33HJLYzsbbbSRu+2229xHPvIR97Wvfa2xnjxxfDGQG4CjGxJWf/1pK5NQAdpWcYFw+fhCc9F4W7HwFT1sYWLpA7LN2NLoQnFD45qcYXyMaSc3ALlIaHIiZhw5L+JJx1yP8VCPvg/Lv4z1e3HZq1h5W9e8KfPH5ATCicY1Pvv2Qjb3LHUxPjH8aHxi57LyvjpR4yOai8ZZP9Ce38U9pq0aHXGbG4CIofrzZFVe5ycAOT6HVXrCxIkTF5x66qnuoIMOon0888wz3cEHH+wmTJjgfvWrX7kddtiB1pEnjE8GcgOwfsMeqxmBCqi2iguECxVqvgOhRvegXUtdVbpDf1g7Ng7fAZHJfeZwyXKt4UAzV+M/M1dkcwOQYyxWXGPp5bzTS8dcj3p0YRpQLNB4mJW0UikxoxzwYUE40XiZVUYW7YVstHIDkGUsvHnBxpXJCY1u1mNfQ4vVZSnfVo2OfMgNQMRQ+BoSydwA5PgcVukJEyZMWCAf8Pj+97/v3vnOdwb7edFFF7mpU6e6efPmua222srJ14DzlRkIZSA3AOs37FAOuyaHCqi2iguEy8cjmovGmRhZ6hq06+MeHdoYH5CspS2NLsQ1GtfkDOIodFyDER16tbpDfRjEUZW38m9Nn5awPIzH4iSWXiYGFrIx16MFvhAdKBZoPMRGapmUmFEO5AZg8+ijOKLx5pbzK8Aa7qrm5gYgx2huADbnq2pfyA1Ajs9hlZ4wadKkBU8//XTh3x577OEOO+wwt91229X6K40+edX3xz/+sVuwYIFbZplliubfhhtuOKwcZb8iMJAbgP2kdrUgYEKPCtDcAPSzifhjYlHVSBlrTwAiPtBh08cXq5vhHulmdGl8QHZ8zbFUPghGTVNA4yOaW7WG5N+aNiPr7KXkmvWZkY+5HhkcGlkUCzSusR1rbkrMKAc0a53xg5Ed3IPYub59QqurrBvpQuOa/IqpW1OrMD4hH9A4YwvJdrXeb6tG1/CF9hxffiG7mnGEq2rcqrZAccwNQE1kh2fuhOnTpy/Ye++93TPPPFO8yivXC1/4QrfxxhsXX/ZdeumlnTQI//GPf7ibb77ZPfXUU4WMNP+WXHJJJ08C7rbbbsPDSPYkCQO5AdhPc1cLAiYZUAGFbkqMLUYW4fLpQnPReCqcyI6Pe1SoIN3MOGMLccvo8h3SqvAj25qcYfiKaafso4ZLrT+apgCy7fMRzWVzhtXXk9fkWlObMeZpcqgrHCAcaDwGr1qdKTGjHNCsdcYPRlb4jbVPsDh8ew7ShcY1eZRSN1OrMD4hH9A4YwvJln1EsinHfdynxFG1DuqaY2jPYXRZ+ohwVY3nBqBlBLIuxMCEBQsWLLj99tvdfvvt52699dYR+V4zsKxAmn69a4MNNnDnnXeek/+fr8wAy0BuAPYz1tWCgIkrKqDaKi4QLp+PaC4at+SP0eUretjCRGPXd6AZPHghWTTOxALJonFNzljxqcE4yD3KCSvMVXo0TQGEK9bBHtllxrVxZGzFlNXkUFc4QDg0Psbkvgv7UdV+zvDFcm/pc6x9AvmEcoLBpbVlySfyqzzua4Qw+YNsIn7QONLPjHe13tfU6DH58/HF5kgq7hEuX94zuVRXU9W98SPy+QlALcPDMb9oAPZcufzyy90555zjrrnmGvfYY4+N8nDy5MnF68Hve9/73Fve8pbhYCB70QoDXWgAsht0TKJS3ZRi+yD6fX+p892UYmHTFCZoLhpnfLLUNWjXV9ihdcD4gGQZW4gPRlcVHyhXfeNtHZZ8ByfEvY8DDZesXSYWKAeQbeYAzehCssy41kfGVkxZTQ51hQOEQ+NjTO67sB8JBsSPj1+We0ufY+0TyCeUEwwurS1LPpFfvvsYU6to7DD3IY1sFcau1vs+7hHXsfMvPwGIIrBwHMUxNwDDuRxmyb4GYNnRBx980M2ePdvNmTPHTZo0yU2ZMsWtttpqw8xF9i0hA7kB2E92VwsCJiVQAYBuSowtRhbh0hS+Gt3WRSXyI/8GYH+BJP8VWlSmyreUdnyHS8u8Rj5pmgKMbq1P2vl1WGPpRdxYj6PmD9qffOvRGmvTWGh8TOVDyvsKssXwhdYBGi9jYWRlHtNoQ3FsSxfrM/JDw6dGd24AMuzZympq9Nj5F1qrIRypzlpo76saz68A2+Zz1uZnoLYBmInLDMRkIDcA+9lNdVOKGVPmxotkLXFqbKG5aJzxw1JX1cEsNwAXsoK4RuNdaGZoMKJDr1a3Vd5rccQ6jDP+IVmtj13IxcF8qvrvruDU4ECHOhTrNsZj5lfVfUb+LfRewzSZGD8YWbQXsjGLtecgn9A46wcTG0vduQGoYVM3NzcAdfz51gy6d1ieAVEc8xOAdnEey5pyA3AsR28MY88NwP7gWW7+baUFKkDRTSkWboTL8kCo8UGDE9lliurYOHwHRObQgQqqtuIakz+Gn5Cc6MVCwyWyg8Z9fGm5jHUYRz4x41ofNXnO4ESymhyKyQHCzawpjY8MDkvZlNwifjRrnfGDkRWuY+0TLI7BuDO4tLba2keqcqZJAxmtGcQPGmf2iRAsVk97IVvMuKZGZ/hjMPXWZ34CMJw1FMfcAAzncpglcwNwmKPbYd9yA7A/OMPYAGQKu5ipqilM0Fw0zvhlqavqIBFaVMfG0Ws6DR68fIefKh7RYVNzoNFwoJmbMl98h8tUPmhzAPHFHKAZXUiWGY/JdUzdaL0ythlZhltWFuHQ7DksFit55JOVnaq1zPCFcKLxsh+M7CBudq5vHaTUpbWluV9qcoipEzU+orloXJNfvnpMw531XNQ4ajNHcgMwPNoojrkBGM7lMEvmBuAwR7fDvuUGYH9wyht2h8PmhYaKfXRTiuU3U9ihQy07zvikwYns+LhHcUO6mXHGFuKD0cXGDdluqxC2PoSIPimsNVwy8a+S9XGtiUPMg73WZ8s4diEXB7mu+u+u4NTgaHOdNMWtXUNMriN+NGud8YORjblPsDh89ymkC40zcWTvl5a6mVqFsYv4QeOWe3ZX631Njc7wx8Sttz5zAzCcNRTH3AAM53KYJXMDcJij22HfmAag5c2SKS5i3tCqCqwuvhLApFBI8Z+/AlzPaMx860reoxxhimxGF3ug0cRCM1ez3pi56NCbygfUKNLiKM+31MVy3bR5o7Wj9ZmxH3M9Mjg0sogvjY8aXGiuprGGdDPjiB8NThQb5t7hux8wdqq4ibXnIFxonIkje7+01M3UKoxdxA8a1+TXWKn3UeOozftYbgCGZzuKY24AhnM5zJK5ATjM0e2wb7EagOgmzhQXSJclvWVclnpT6gop/nMDsD4iMfOtK3mPcoQpshld7IFGEwvNXGa9au34Dqpa3VZ+aHHEOowz/iFZrY9tHcrQmmL8YmQRn5pxhEOz52hwobmaxhrSzYwjfjQ4UWyYe4cvdxk7VdzE2nMQLjTOxBGtbY0upJupVRgciB80rsmvKp+7+Ad/H/eIa4Y/pIvhC+05jC4WF3PvRTjL3GtxoDjmBqCW4eGYnxuAwxHHMefFsDcA2Zuh5ebfVjIwNziWH41PGltoLhpncFvq8hU9IXGS+TEKVGSbKbIZXejQwY4zhR+TA4ysNl98B1Wtbis/tDhiHcYZ/5Cs1scu5KJgiLkeEYdW4ygWGh+tMFbp8eFGPlniQvxocDJ+MLKDucvO9d07UurS2mprH6nKmdDfK2ZyF/GDxpnaBOHqar1fxsXwUbX/Iw6YcR9faM/x1cIMBlYW4fLlPWuLqfdFNjcAtQwPx/zcAByOOI45L6wagGiTZTZGVpdlwdTVgoBJLMSfprhgcPgKclYPKoLQOGPPUldbeY/8RTnCFNmMLjYnNLHQzEX8MfwgXWWcGi6RHTSuaQowurVx0c6vwxpLb+xDGVpTjF+MLIq5ZhzhaHOdNK03kE8avtgc0Kx1xg9GdnCdsHN9HKTUpbXVNL+0+eNrhFiuN8QPGre+98b4A6tFLJq+pcPwx+L0nY/YHPHpYnExawbhtMRV1lUVl9wAtIz02NWVG4BjN3ZjGnluAPaHz3LzbysxmBtczGIBHUoYfhBONG5pi9FVxUHoX9UtfUKxsDwQMriRLBpnCj9N3GLaKfuI1m4sH1CTShOHmAd7Sz60PsbMEcZPTQ7F5EDjg2b/YuxqZTX7qNa2rzHC5ATKATSuadD49kKWn7Z0MfxofGLnIvmqHAmtVZBuJicY/hjZKoxdrfdR46ite42PL2aP6dUEKZqvCJcv75m8RvlVlau5AahleDjm5wbgcMRxzHmRG4D9IetqQcAkVsgNr+lfFxkc6NDG6EKFHhq3tMXoquIgtKi29AnFQnNwRfmmKVY1HGjmPpP7ywAAIABJREFUMjHW2vEdVLW6rfzQ4oh1GGf8Q7JaHzV5jrAx4zHXI4NDI4tiofFRgwvN1eyjSDczjvjR4ESxKeNkZHtNAfn/VV9EZ/xvUxfrM+NXSt2+JpQGB5qLxjX55avHmDjElvVxj2wz/CFdDF9oz2F0sbiYey/CWeZeiwPFMTcAtQwPx/zcAByOOI45L3IDsD9klps/kwyWN23mBmdpF/mrsYXmonGEzbKoRMVIbgAuZAjFDY0jrnuHSSb+rKwGIzqoanUzvmiaAshOWbfWJ+38Oqyx9A7GGHGlHUf7fxfWDPIRxULjI7KtGY+5hhhciB8NThQbzb001j7BYK7imcGltaVZn5r6tSpnQmsVTW4OzmX4Y2Tr4priKTSGn979oukf6bWcoPzLXwEOj2Z5PVbFJTcAw7kcZsnaBuD999/vpk2b5q677jo3a9YsN3fuXHfllVe6Nddcc4SPO+64o/gxyaWXXtpts802w8xT9s2YgdwA7CdUU0BpQmN50w4p/psWF235iPhB4wxuS11VxW1oUR0bh2ALyQOEA+UbKijLODSHAcu5KfPFd7hE3DM4kaymKcDo1vqknV+HNZbe3oHOl+eIP2Y85npkcGhkUSw0Pmpwobkx1xCyXR5H/Ghwotj4cCAfmEZbV3Ux/CAf2Huapn7NDUA2GvHkUeNIU1NpUPvyC+05vlpYgwnNRbh8eY90o3EUx9wARAyOj/FRDcAFCxa4o48+2n3lK19x8+fPd/Lfck2YMMHdeuutbv311x9hRhqCu+++u1tkkUWcNAxXXnnl8cFa9lLNQG4A9lOoKaA0wbAsGkNueCGNH40/VXM1PqK5aJzxRaMLzfUVBChujA9IlrEV4pPYC8kpxq7oRLbbKoQ1h1zfoY7lB8WZGdc0BZCdWAd7ZJcZ1+QashNTty+f2DWUEqdm7ba5TpriTskt4kez1hk/GNnBXGXnMvsqWq8aXVrcvnsL0q2pX32NEJRPDJ8hPpTriabrLQSThq8Q/U1lfHUi0on4RfMR3/kJwHAGURxzAzCcy2GWHNUA/NCHPuTOPPPMovG34oorui233NJddtlllQ1AIUaeCJTm39e+9jX3kY98ZJi5yr4ZMpAbgP1ktlUQWN60UbGGbkqG6dWnSuMjmovGGZ80utBcH/cobowPSJaxFeJTuWBnDpesbuSX7/DEzGVkkQ9IV3k+Exeklx1n4qbRbckXiwMdbkIPnqxdrc+MPU0OpcSpiYXGR4ZLVjbmGmKwIH40OJkcYWTFP99eyPjfpi7WZ2YdIN2a+rUqZ0LfVmBiE+JD6D6MdCFcGr6Qbs24r05EerWcoHzMDUAUgYXjKI65ARjO5TBL9jUAr776ave6172uaPYdccQR7oQTTiie7ps4cWJtA/CTn/ykO+mkk9xb3vKWolGYr8xACAO5AdjPUlsFgeVNO6T4D3laKyR/GBmNj2guGu8SztCi2tKnQf9RjpTlEQ6NLlZ3qjimtOM79CJ+GJxIVtMUYHRrfdLOr8MaS+9gMwJxpR1n1iPaF7RYms5HsdD42BRTyLyYayjEfk8G8aPBiWLD3Dt8+cfYqeLGt68yXA6uX4QLjTO2URyr+Gv6m3ZVtkJrFY1Pmj1Iy3Vb9T7iq4yL9ZGVR1gG13OKBqClD2gN+fKe4aZuD/KdtXIDUMvwcMzvawDut99+7oILLnBvetObit/7612+BuCPf/xjt+eeexZPAt5zzz3DwUr2IjoDuQHYT3FbBUHqG15uANYvLU0s0FxfYYcKFcvNgLEV4pNgC8kpxu7gwYv1H+Fm9dXJa+34Dqpa3YyPmqYAshPrMI7sMuMxuY6pGx2gGduMLMMtK4twsPsIa7+pfMw1xGBC/GhwotgMNgzK9wbkQ6x9gsFcd5Dv+YF0oXHEgY8/pFtTv/oaISifND6h/cunG/GBcGn4Qro14746EenVcoL4zg1AFIGF4yiOuQEYzuUwS/Y1AF/2spcVH/W45JJL3Nve9rYRv30NwOuvv754TVg+BDJnzpxh5ir7ZshAbgD2k9lWQWB500bFGropGaZXnyqNj2guGmd80uhCc33co7gxPiBZxlaIT+VDHnO4ZHUjvzSHT0a3pR3foRfx0xQzOuRqDmVIt9Yn7fw6zmLpFXsxdaNYMbYZWcvcQz6g8bGAOyVGtL8zezTiHjUMyvcGlDO+vRDN9eHUcs/g0tjSxK23z+QnAMMzpa16HyHU1Oia/GNwoX0B4fBxj+YinL76LGSNNV1DVZzkJwCZaI1P2b4G4JJLLumef/55d+ONN7qNNtpohBFfA/Cmm25ym222mVtsscXcs88+Oz5ZzF7TDOQGYD9lbRUEqW94IU9r0ckEJmh8RHPROOOLRhea6yvsUGHC+IBkGVshPpUPeczhktWN/PIVfsxcRhb5gHT5Dpda3ch2KF9aHMwBGmHWYqnTH0tv72BeXiPIR804s7bRIU6DQzMXxULjowYXmsvsfUiXZhzxo8GJYhO6p1T5F2ufYDBrcWlsaeLW22eaNi+qbOdXgDWrsPlcX52ItGryL0R3fgIQsbRwHMUxPwEYzuUwS/Y1ACdPnuyefPJJd+211xZP9fUuXwPwiiuucHvssYdbYYUV3MMPPzzMXGXfDBnIDcB+MssbtiHNUJXlTTukiMwNwPqQaGKB5voKAhQ3mESEAGMrxCcxHZJTjN3egaasm3Ax2VNXiB+EOTcAEUOj9+imOeGzpI1jW7oH7bJrrDw/JgdMlBEOjY8MDlZW01hjbTH5xvDFcs/gQD7mBuB/fvKpaeNNU7/mBiDKznTjqHFkueYYr3z5xewxvdoutJnIYGTvh76819gd9LFqX80NQC3DwzG/rwG46aabultuucV961vfcvI14N7lawB+8IMfdN/5zneKj4f85je/GQ5WshfRGcgNwNGHy6Z/QdUECxXdjG50I9YUFwwOdCNmdCF+0LilLU3xlRuA/gNOypxhckITc2QnNwARQ6P36PIhmZtdL225h1jmMesf2v9j5jKLtU4exULjoxXGKj25Aahbq7kBmBuAaO2XM4yRrVuvbdT7aA/S1OhaTtD9IbRph3AwzUTEF8JcrhfQvUPTRK+67+dXgDXRGx9z+xqARx11lDv55JPdxhtv7GbMmFF8+VeuugagvP671VZbuX//+9/uxBNPdDI/X5mBEAaGoQFoeSOx3PxD+O/JoJulRhfzl13GDiur8RHNReMMVo0uNDc3AHMD0NccQsUpk8esbMzmRayDPesjc1AYK7p9+SRjaE+yPFBbcYYwt7lOmuYQ8smKu6qYM3whnGhck0+x9gkGc1UcGFwaWyhOSLemfmXqRISj6RpJvV9p+LJcr1V7eMgbFShXrTEyZy2UI4wujR/smrLMCV+9Lz7lJwA1kR2euX0NQEmKddZZxz333HPuAx/4gPv2t7/tFllkkcoG4OWXX+4OPPBAN3v2bPfCF77Q3X///e5FL3rR8DCTPYnKQG4A9tNrufkzgUM3S40uprBj7LCyGh/RXDTOYNXoQnN9BQEqVBgfkCxjK8QnsRdSsDJ22cMAaoQgTpqOI36QXt/hUqsb2Q49rGtxMAdohFmLpU5/LL3aPEZ8oLxn/GJkWVyMPMLB7iOMbY2sDzfySWOXzQENTsYPRnZwnbBzfRyk1KWxhfIa6S7XF2w+Vdlu+iqyz3aID+V6QqMLcaDhC+nWjPvqRKQX8YvmI77zE4DhDKI45gZgOJfDLNnXABRHzzzzTHfwwQcXT/+99KUvdbvvvnvxSrD89+GHH+7mzp3rfvnLX7p77rnHLViwoPj3H/zgB27fffcdZp6yb8YM5AZgP6FtFQSWN+2QIjKkWWOcatSTKOhAw44zvmhigeb6CgIUN8YHJMvYCvGpXLAzh0tWN/KrPI50M7pQURx6YKnSU8bJxMUKf08PEzfWts9HjS52bsw4tqUb7YXMOmBkLblHPqDxsYA7JUa0j2jWOuMHIysxjrVPsDh8+YZ0oXFmn0BxrMLZ9JXWKlu5ARhzl6vXjRpHTA5ZeuA7H1nmqmYNsfcKX95ruUNxzA1ALcPDMX9UA1DckibgYYcdVnzVt/ca8KC70vyTL//KU4IHHHDAcLCRvUjGQG4A9lPtu8HFDErqG15uAPqLLxltUkijOPoKAraA0uQjYyvEpzJfzOGS1c34jHQzumIW3L5DbyofBg/fqIhmuYt1sGdxxIxjW7pRrJgcYmQtuUc+oPGxgDslRrS/M3s04t4y72PtE1ruGVwaW5q49fbwJnVL1f7P1CrMXoD4QeNlW4xsFca26n3EF2ocWa45hGWQ7/wEYDhjKI65ARjO5TBLVjYAxeEHHnjAffWrX3XylV95vbd8rbjiisWTgUceeaRbc801h5mf7FskBnIDsJ/YtgoCbSHjK4qqisrcAKxfUJpYoLlMUY10abYEdNBgimyNLuQjGm+rEGb4QXHKDUDE0Og9Wv6l6UG3zpom15AHMXUP2mbWI5qL/Io1jvjS+BgLs+jVNNYscSF+NDhRbDR7I9NoQ3y1pYvhB60/FMeq+U33RaZOtPQRcRDzHt9WvR+Su6E1OpsjyDbiOzcAwxnMDcBwrsazZG0DsEzKY4895h555BE3f/589+IXv9hJAzBfmQENA7kBOPpw2bSA0sRBU1ChAoop7DQ+oLkaH9FcNI6waQ4tzNzcAMwfAfGt15TFPNo3mLxG6yvWYRzZZcYt9xCGWwZjiKwmh2JyEIK9J4NwaHxkcLCymsYaawsd1GW8ySucLPcMDuRjrH0C+WSJS2ML5TXSrWloMXUiwqHJCUY3I1uFScMXyhnNOGoc+e7NWk5Q7HIDMDyyKI75CcBwLodZMqgBOMwEZN/aYSA3APt5b6sgsLxphxSRoX9dtMxKjY9oLhpn/NDoQnNzAzA3AH3NIbR2mTxmZWM2L2Id7JGPaD36DlJINzPO4GD01h1qfc0fdMArz9ViaTof8dXmOmnKH/KpKVdNckCz1hk/GFnxI9Y+weJg9mifLBtTlNfID039WmW7SQMZ+RziQ+gehHSFYGnjD/4MLuQjyhlkixn35ReLg9HFYETrEeHUrKEq276zVm4AaiI7PHNzA3B4YjmmPMkNwP5wWW7+TCKgm7xGF1PYMXZYWY2PaC4aZ7BqdKG55fwKKURCC2HGv8GDVtV/l/WF+FTGyRwuWd2Mn0g3o8snq7XjO/RqdTM+MnFj9A7ml9YnZn4sWY3/7FxWHu0rMXOZxVonj+Km8dEKY5WemGuIwY340eBEsWHuHYM++fZCxv+Yew7yH40z6w/FsYq/pg0tpk609NGXAyjmGhy9HGnKF8LGjDPcI760nKD8zE8AhkfWV++LltwADOdymCVzA3CYo9th33IDsD84aMOOFUrLmzYqGseij4gfNM7ETaMLzfVxj+LG+IBkGVshPom9kKdKGbuDhzjkEyqM2fmh8ogfpMd36NXqRrZDD+taHLEO9sg/Bjcji+y2lYtVa4bxi5FlOWDkEQ52H2Fsa2R9uJFPGrso3xi+EE40HrqnVPkba59gMGtxaWyhOCHd5fqCzacq2/kJQJbFZvIM9+xab4aoepYvv1DuVuEObSZqfEC4fNxr7PbuxfkJQC2Lwz+/rwH4hje8gfZYvhK8xBJLuGWXXdatvfbabsstt3Q77bRT7deDaQN5wlAykBuA/WEt3+BQsWWZEJa2Qm54Ic0aS/+qDqaMfsQPGre05dOFcPjyC8WN8QHJMrZCfBJ7ITnF2I2dM4ij0HHED9LjO/RqdSPb5fGYzYtYB3vkH8MfI4vsokMaO5+RZ9dYaA4wGLSyKBYaH7XYmu7/yCdLXIgfzVpn/GBkB/d7dq5vzaXUpbGliVuPv6ZPtPkaIQgXk7uIHzRuuV+V6zHGB2tZhnt0b2H4Y/3w8cXmCKOLxenLEYTTMifKuqrikp8A1ER2eOb2NQAnTpxYNO4WLFgQ3MATWblkXu9aeeWV3SmnnOL23nvv4WEqe2LKQG4A9tOJNmxT8kvKLG/azA3O0i7iRmMLzUXjCJtVUYlw+PILxY3xAckytkJ8Enu5Abgbor1yvMwvE5dGxjyTfHFGOYCw+HxEc9GBxzefwc3IxsTM6kb8MH4xslqcmri1uU6a4k7JLeJHs9YZPxhZ4TXWPsHi8K0ppAuNM/mD4liFMzcAw3emcj0WPstesirOIfXU4Jqp+m9LtD6+LHNVs4bY+6GPey13vnpfdOcGoJbh4Zjf1wDcdttti0beP/7xD3fvvfeOePiyl73MveQlLyn++9FHH3UPPPBA8b9Fdq211nJTpkxxTz31lLvnnnvc888/PzJ20kknucMPP3w4mMpemDKQG4D9dKINmynemEClvuGFFheMD0hW4yOai8YRtvK4Rhea68svtoBifGKLIoYPBjcjqy1mUSw0/DH8IDu+Q28qHxDXWhyxDvaavEZzUdyYcS1/GluMbUaWwcTKIhzsPsLabyrvw418amqzah7iR4OT8YORHdyD2Lm+9ZxSl8aWJm49/nIDMHwlaer9cCtYsiruoTV6SM40zYmqNRX62i5aB2XuY96LQ/gR+2W+Y/BVxUduAOK1MR4kRv0G4K9//Wv3zne+082fP9/993//t5s6dWrR4Ctfs2fPdtOmTXMnnHCCe8ELXuB++MMfOnl9WJp/P/rRj9wRRxzhHnrooWLs1ltvdeuuu+544DL7SDCQG4D9ZGkKAnTD84VFMxfdPDXFBZFKUFTjI5qLxiG4koBGF5rryy9UqDA+IFnGVohPgwVU+b/LWBi7gwdC5BNaB+z8UHnED9JTns/yg3Qz45qmALLj8xHNZeKq4U8bx1T7O+Krqxwg3L59AuVAzNhpcDFzGX6QLMoBzVpnuGZkB/d7dq4vR1Lq0tjSxK3HX9PmBVMnWvqI1nbMfdVXj6E1ZjnOcI/48unSYi7zxeKokg9tJmpws2vK5yOLA+VXbgCyjA6nfF8DcObMmW7TTTctGnd/+MMf3Cte8Qqv13fddZfbaqutimbhjBkziqcB5frrX/9a6JGnAg855BD3zW9+czjZy141ZiA3APupQxt2rGJEU1CxN2KNj40TbeD1HlYP4geNM/Y0utBcH/eoUGF8QLKMrRCfxF7IX6wZu4MHQuQTWgfs/FB5xA/SU57P8oN0M+OapgCy4/ORjRuDk4kNI4v8ZX1i9TH3IcYvRtYSM8tXW+sE8cPkZkr+GL40PrJx9MkjHIg/Zs+x1KXBjeKEdJfrC+QTihVTqzC2Qnwo1xPMXsfg6NUXIXULq5eVr4p7KK6QnGnaFK7KkdCmXUicQ3WxfJblQ/gp55tmDfn4quIjNwA1kR2euX0NwEMPPdSddtpp7otf/KI78sgjg7z80pe+5D71qU+5Aw880J1xxhkjcz75yU86eQV4/fXXd7fddluQriw0fhgY7w1AzY0XFVBMFqGbpUaXpY8MjpT8xOYvtIBCOJiiGumyjIXm4IoKLKYYS5kzPlwMt9o4+Q6qWt1WfmhxMIdxZIvJVaTLKgcQzwwOpAuNM+vRcr0hXMw44kvjI4OD5YfJTQ0ONBfxo8GJYqNZU8w+wXDAYK7Sy+DS2NLETXBrmhdMnYhw+mKD+EHjmvyqWs+hjTaUb5pxhnu0J/l0aTCi/GJzopyr7FzGD6Q7FV9VeZ0bgEwkh1e2rwG45ppruvvvv794+u81r3lNkNd/+tOfiqcAV199dSdPEPauq666yr3xjW90L3zhC90TTzwRpCsLjR8GcgPwyiLYVb//wBQivZtjWReTRawtpsDSFBeMD0hW4yOai8YRNl9RyRTVCAdT9CBdjE9s0Yj4GFwzvv9mdCGcjM8Mf4ysJcbBfQMVq4z/rKyPAw0/yEeWTwYng5uRteSW1YXkNTkUkwOE27dPoBxJhRvZYXKT4YOVRTmgwYk4YOLoiytjp4qf8vyUujS2NHHr7bOhf6wMWVN1zTGEk6lPEQ6NLrRufPUYmms5rqnRUSyY+hX55NOFcFTFOTS/EC4mRxDOWHxV7Qu5AaiJ7PDM7WsALrnkksXv+F133XXu1a9+dZCXvQbgEkss4Z555pmRObfccovbZJNN3OKLL+7mzp0bpKttob/97W/uG9/4hrvyyiud/G/BLq8177PPPsWrzEsttZQJxJ///OfuzDPPdNdff33xURX5wIrw/cEPfrBomoZc8+bNc9/97neL31+888473b/+9S+3yiqruJ122sl99KMfLZ68DLn++c9/Fj5fdtllRfNXvuq8xhpruD322KPQ8+IXvzhEDS2TG4C5AShJ07RoZBLOsjDWFI0Is68YY+dqih4NXyxO5kAYUkDV5RSaaxlXhj9G1hKj6PIdVDW4UA4wfmhxMIdxZEuTq8xBgeWvLd0ojojP8nxG1pIf5AMaT4Ub2WFyMyV/zL6r8RHFCfnM7BNd1YX4Y/YJJm69e0nTWo5pQrG4mD2G4Y+RreK93OzR6kL5yMY99MlEFIuyjxqMKL8QDk0trMGNcPnyXmN3kK+q/MoNQC3DwzG/rwG44oorFg0p5uu9X/7yl4vXhVdYYQX38MMPj7AiTcRtttnGrbzyysUnp7t+SdPvXe96l3vyyScrocrvIU6fPt29/OUvb+yKNNcOPvjgovlXd0kT8PTTTy++sFx3SdNut912c9J8rbqkcXnqqae697///V6sN9xwg3vrW9/aF7fyBInd5Zdf7jbffPPGPtdNzA3A3ACU3GhaNDIJqSmw0Fw0rsHJFFAIh6/gRIUK4wOSZWwhWTTuK/5D+Gqan0i3Dxfiz2pur0js+chwyWAMkY3ZvGAO9ihuDE6kyzKOPo4ZHCGxYmwxthlZLU7Gh0HZttYJ4ofJzZT8MXxpfERxQj4z+0RXdSH+mLxn4ta7lzSt5XyNEISD8RnJonHLPdtXj6H8shxnuEdrzKdLi7nMF4ujSj4/Afj/udVWW62g5sEHH3SrrrqqNkR5/hhkoK8B+Pa3v714Ekye+pKn0+RJMN8lr/zKq8KPPfZY0Ui69NJLR8S/853vFE+0bbzxxu7GG2/sNDXytOLWW29dPMG4zDLLFL9puMMOOxRPLl5wwQXurLPOKvDL14ylaSYyTa5Pf/rT7sQTTyymytOR0jiV167vu+++oul60003FWMiJ19Yrrrkgys77riju/rqq4thiZn8/uLkyZOLhqDMe+SRR4oPuUhTc5dddqnU8/e//91tttlm7h//+IdbZJFF3Mc//nH35je/uZD96U9/6k455RQnTxlKY1c+8CJPF1peuQGYG4CST02LRiYXmcIOFRfsuAanr+hhcfgKTlRkMz4gWcYWkkXjZSyMrMyLmTM+XIg/q7mDPrL8MDiRbMzmBXOwRzFncCJdlnH08cvgQHFC45ocSolTw5fGR8SfJa5U+YXuQwxfKAfQuMZnZp9AcWxLF8OPZdx695KmtRzThGLyCfnIjmvyq8pW6JN2KN804wz3iK/cAOxnCOVqKr6q9oX8BKBm1QzP3L4G4O9+97uiuSTXlClT3Oc+9zm33377uUmTJvV5PGfOnOLV02OPPbZ4YlCeVvvtb3/rtttuuxE5eYX0Jz/5SfHE27e//e1OMybNPsEvjTBprMlvGpavk08+eeSjKMcdd5z7zGc+Q/tz7733uvXWW69oqskTdWJHXrnuXdJ8fO1rX+v+/Oc/Fzj+8pe/FM3Bweucc85x73vf+4p/lteSB7kVO9LYky8wr7322u6OO+4o9A1e733ve933v//94p8vuugit/fee/eJXHzxxcWrz3KJvbPPPpv22TchNwBzA1Dyo2nRyCSjZWGMiiAGF9KVG4Cj10g5Z1CBVeaXkZV5MXPGh4vJHw3GQR9ZfhicSJZprCFdvjWF+NKMa/hDdlmfrfKLtdtVDhg/UCw0PjI40L2BGUc+aXAhHAxfCCca1+R9W007xD2Di+HHMm69e0nTWo5pQjH5hHxkxzX5VWUrNwBR9i8c99XCbE6UdTWZW65BfR4g3bkBGB7/LBmHgb4GoJiQpt9nP/vZkVdQ5Uky+R285ZdfvkAgT5dJk0meRJNXWuUS+XJTTJ4MXGedddz//d//uSuuuGLkybI4Lui0yhN9vd87POigg4rXbwcv8WODDTYofmtvueWWK56aW3TRRSnD8oVleS1XLnk9essttxw1/49//ONI8/HDH/6w++Y3vzlK5pWvfGXR1BMc0kSr+l1C+YqzPMUo1yWXXOL23HPPPj2CX57okxjKE4Lym4RVl/we4S9+8YviaUJ5YlCeBrS6cgMwNwBDb6TanLMsjKsKOSs/NAUB8pEpepAuTTxQUVTWjWTROKPLMq4Mf4ysJUbR5TtcanCx+eGzpcVheYBmcDK4GVlLblldSJ5Zj9a5jLCFjqNYaHwMxVAlx+Ly7X0aHGgu4odZQ5ocQXz5dLNzu6JLg1sTt969pGlDy1f3aHEx64Dhj5GtW89N+UJrkBlnuEfrUVO/Iszl+pXFUSXf9BVgJu5s7vp8RPwwPopsfgKQZXQ45Uc1AMXNc8891x1++OFu9uzZI173fpOu1/STAXlV+Ktf/arbf//9R7EjzSW5pHnU5av8Wq404Oq+flxuqskXjnfeeedgt4Qzed9emmjyGrE0EusuGb/rrruKd/LlQyTl3wK85557isaqXPJk5WmnnVapZtasWW6llVYqxuQJTnlas3zJK83yerZc8orzO97xjko9MrbvvvsWY/K7hfKqsdWVG4C5ASi51PSvxkweMjftqhupD6dGN7LFFAQIR1kXW5gwXCNZZLs8H8micUYXigXyy2fLNxfFLdZc0Vu2zXDJcBEiq2kKIP0+H9mYMziZuDKyyF/WJ1Yfk4+MX4ysJWaWr7bWCeKHyc2U/DF8aXxk4+iTRzgQf8yeY6lLgxvFCen21ReMj737UmiDBuFi7suWukJ8zg1AxNLCcV8tjHK3aq2H5pdmX0G4qsatzkNoPeYGYHjuDbMeoyXJAAAgAElEQVRkZQNQHH722Wfdj370I/frX//a3Xbbbe7xxx8veJAnz+QptNe//vXFk2Xl11jHIlHbb7+9u+aaa9zSSy/tnnjiicrXZcUveWpPfidQLnnaUV4FDr3kicje67x1Txn2dMl47yMhMq/8O4zyGu4BBxxQiJ5//vnune98Zy0E+WjJ3Xff7V760pe6Bx54oE/u3e9+d9HklUs+3CIff6m6ZEw+BCKXzOm9Mhzqt08uNwBzA1Dyw+qG58s1prBjb/ga3ciWr+hBczVFj6VPCCdzcGULqrJtNBfhZPY8hj9G1hKj6PIdVDW4GK4GcaT0kbWlydVY+xPius04MrYZWeSzZhzhYPcRDRbf/sXkLvLJCmPVWmb4QjjROMOXjz/GThV3vn2V5ZrRpcGN4oR0o4YDs//5dCGcjB1mDfVy26ppp+GLzSGGEwYXigVTvyKffLoQDk0tzOYIU3NW4bY6D6E45gYgyrjxMV7bABwf7jv3kpe8pHjScaONNnI333xzrdvSAJUPbcglv5cnv5sXesnHOHof2JAnJg877LDaqTIuH+SQS+btuuuuI7JHHHGEk68uyyUfDJEPrNRd8lEWef1aniCU32yUBmfv2mKLLYrfGlx22WWLpqfvEhn5PUGZIx+GsbpyAzA3ACWXrG54TJHD5HBI4Wvlh6YgCMEZ+ldPpIvhDxVQmqYKU/gxsoJZwwEzl5FFXLJx8R0uNbg0OFL6yNrS5Gqs/Qlx3WYcGduMLPJZM45wsPuIBkt5LouLmWuFsWrfZPjS+MiuZZ88woH48u2raK4GlwY3ihPSjRoOzP7n04VwMnbYnNH4WGUrtB5jc4aR99WcITEv176a+hVhLnOP4haCuyn3SLdv30W56/MR8cPkl8jmBiDL6HDKj+sGoDzl2HuCcbfddiu+fuu75Ou/Tz/9dPH7ffJEYOglvyv4oQ99qBCXj2vstddetVPlN/t6H+SQefJEYO+SJ/4uvPDC4j/l4yvyoZa6S35DsPeBEPmgiDwR2LvkiT/5HUB5klOe7vRd8tuHt99+e/GUoDwRGHrJBuO7RFfvtxcHP0PO3EjQpspsjBpd6KaExjXFBcMXwhEa3yo5xJ/GR0tcjC50w0fjGltMQYBwxCqqGf9EFuVIWR+SReOMLst1gWLhw8XwydhB65XhksEYIuvzI6aPbMwZnAxuRjaET6v80tpi/GJkWVyMPMLR1jphcXU1B5g1xK5Pjc9lXIhrlE9t6dLgRnmNdGtqO1/9qsXF5ERMHzXnEJRvmnGGe7Qefbo0GHt1Y93DAihHLLlHOcLUnKn4qsKcG4DajByO+eO6AShNtN7HTeR38OQ373yXfARDPoIiTbFbb701OAPKXxH+2c9+5uTjGnWXjPee+pOn/eS3GHuXNCmnT59e/OfcuXPdEkssUavnqKOOcieddFIxLk/7yZeBe5c8DShfHZbfO5TfPfRdIiNP/knzU54kDL3Kv12I5uQG4H8aI01fL9DcSJgbGoojuhFrfES2feMaH9FcNM7gjhlHH/cobowPSJaxhWTROFOMVRWJ8m9NnlBlcoKRtcQounwHVQ2umDmAdPs4Qj5pxplctI5jrL1Pw/VgfiFdiHs032oc4dDEWYORxaXZ+yxxMnxpfNSuKd9eyPLRli7EH7NPMHHrrfUY9SvCwfiMZEPGm/pYlZ9Nn0Jj85GNe6iPIbFpUj9V4S3Xr2ita+IYMje0Lgzhp6zL5yMbc1+9L7pyA5BldDjlYQNQPmDx5JNPFg2n8gdAqujo/V7cWKFKGk/yG3lyTZ061U2bNs0LXWRljvyen3wJOfQ6/vjjR76SLL+puOOOO9ZO/c1vflP8vqJcMu+YY44ZkZV/l3G55CMrEydOrNUjv1Mo8+WS3zjcdtttR2TlwyzyZePtttvOXX311V43er+RKHPmzZsX6nLfx0vQpMEGIHPDQrrRho7ml8d9upAdNM74zOhCN6GQm2mKQgXhrBpviovRhfipGg/FlTKOTJ4jn1Fx0dQWwweywepi1jbKVR9/CBfSzeBEcUQc+vY+H07kA7Kbykc2FqH3gir/GE6QLMM9ygFGF8JleQ+zxMXoQnxpfET8lcc1uSkY0fy21rZmDcXcVy3jyuiyzDeki8kvzR7N4EB22HFfbYdwseNN15CFT6KjXGfGqDk1fKC5zF6IdCE+mb0Q6arCEtowZXTHxCw4cgOQicbwylY2AB977LHi9dHLLruseEU0pPEjT3yFyHWJyvwEYLwnADWvAGsKKO3NoqlttGGjccYuowvdaBFfvmYPgwOte4TTV9ihuRof0VymIGBxMgUmixPFA9nuetHD5ibTdGLjyBy8kG4Gp2VOMLiQLMq9VD6iHNHgQNwzuhGfsfKLscvGlOXe5yOLU8OX5j7N4GT5QflmhRv5gPLAd19h5oqsJo6IX3T/k/Em90BkF40z/Plixdipigsz3zJnUI5U2Qp9dTTVGkI+IBw+HxHXTNwQDsYPFhdzf0Q4ND6H6G6yD4ToLe8xSJ4dzw1AlrHhlB/VAPzTn/7k3va2txW/EYee+CtTIg1AeSptLF35NwDj/QYgyoOmGxC7mbPyTKGsKcYQP0wBymBGfGiKC8YnVFyEFAyhf/UMsRV6Ew/hLxQX0qXJAUY3ihuTE0gXk6spdTEFJ8pNX76huCDdDE6U9wy/DC4ki+ym8pGNBbPfI+4ZHxGf5XHWJ59uxi6KKTtuiYvRheLG7F+aWLBzY+L25RfCyfClyRGEA+Uyg9NSl2XckC5mn0CxQHxrahdkm41VbgA2a1ajfGLihNYMGre89zK4kazgDj07IF0aHxndItv0/M3ayfLdZqCvAShP/q233nrFByaWWmop9/73v9+96EUvcieccELxSqd8lEK+hiu/KfeTn/zEPf/8826bbbZx73nPewovDzjggG57W4EuxVeA5eMiu+++e2Fd8xXgT3ziE+4rX/lKoUfzFeDNN9/czZgxo7NfAWZu8CjhmEJFowvZQeOMz4wu5sYqGKrkQxtaiD+Nj5a4GF1sEeQrCNhYaIpoJkdQ3DR8Id2xih7Wf588ihuyxRy8NLYYHExc6vYF+feqvQH5gGwzsWDXJ5NvGhwIF6Mb8Rkrvxi7KKbsuM82i4vRheKmuYch3Zo4It0a3D5caM9h7GpyBOFAOcPgtNRlGTeki8kvFAvEt6Z2QbbZWOUGYG4AlmsVTX5VrbHcALRkNOtKyUBfA/Bzn/uc++xnP+sWX3xxJ08CbrjhhsUXYF/1qlcVDcDyE35///vf3X777ed+//vfu09+8pPu85//fErcZrZ6v3EnH8Z44okn3CKLLFKpW776u/XWWxdj8vt6xx13XDCGmTNnFr8bKJd81VcaqXWXjJ955pnFsMxbY401RkTPPvvskSbr+eef7+SrwHWXfPX37rvvLn7j8IEHHugTe/e73+3OPffc4t/ka7zyhd+qS8Z6v+soc77//e8H+4wEm/4Fgik8BAMrzxQXZVlkB40zdhldbLHKNHsYHCgfEE5LXIyuqhu+/JuvqAxtmDL8IX5YnCgevtwWLF0vehhu0T6BuEe2mIOXxhaDg4l/FT9MUwXhYnIX6ULjVns2YyeEP7TeynsOwz3iltGFcpPNqab3PISDGUdxRONM3JhYILvacQa3b/9COJgYs/ljua8yOFF+MbpQTljqYvhCsWDiruEL4UD8lWsVJMuON11DFj4N3g9i1JwaPti5TI4wuYdqOzYWVX51vRau8rHp+VvLV57fLQb6GoBbbbVV8cXXD37wg+60004rkNY1AGVMviQrTcK//vWvTj5u8brXva5b3gWgOfroo90XvvCFQlK+iCtfva26vvjFL7pPfepTxdAvfvEL94Y3vCFA+39E5FXqVVdd1T300ENu3XXXdXfeeWftXHkC8y9/+YtbZZVVig+OlL+mKw09aezJdfDBB4/EaFDZrFmz3EorrVT887777uvOO++8PhFpMEqjUS758rF8AbnqkjGZL9cZZ5xR5IXVlWoDYm8WPv98upAdNM7YZXQxN1bBUCUfWlxY5UYdDvn3kB8+RjgYHwd1Ie7LBWeIbNknyxxAthFH5XENXxo7zFw2Tow8WkOIa+bgpbHF4GC5ZXAhWWQ71T6r4QvNRfnF+Ij4jJVfjF0UU3bcZ5vFxehCcYu5R2viGBO3Dxe7Dnz3FU2OIBwoZzRxRbYZn2PqYvILxUKDk5mLcKC8L9djSJYdRzXSYL0aWushHEw9psl7hIOJDYo5gxPpssSNfCznF4uL2XMQDnY81fmbxZXl0zLQ1wCcMmVK8YrvJZdcUvwOoFx33HGH22CDDYpGlLzyK1+DLV+nnnqq+/CHP+z23ntvd+GFF6ZFb2BNGp69pl/d03nyxVzhQBp38kr0I4884hZddFHK+iGHHDLSsJOnCbfccstR86UBKU1YuURePsQyeK2//voFjsmTJxcNQnlVe/AqNysvuuiiIjblSxqE0mAUv3bZZRf385//vNKXN77xjUWzU742LE981j0pSBHx/4RTbUCpNmVkB40zNwNGF3NjFQya4qJJHtTNQbg1N17GR7aYYHCljKMmNhq+GLsMH0gvq8snH5KLgifkVSOES2OL1Y04LI8zuJAsssvEgl2fPp8YXYhrpIvxEfFZHrfExdhFMWXHfbZZXIwuFDfL+3RMXEweMHwiWSbODMYqvUzea3CjuYwfSBaNa/Yvhi8URw1OZi7Cgdar2Aq5L6P8QjgscyTEp3K9UfYxJQ7EiVWuIj4Qjtj5lp8ARBHI411loK8BuNhiixWv+d5www1u0003LTDLa6hrrbVW0QD85z//WTTAypc00KSZtdpqq4161bSrTg/i6r0GLK//Xn311SNNuJ7cySef7I488sjiP4899tjiNeny9dvf/tbtsMMOxT/J7yGec845o1yXp/de+cpXFl9Klt/gEztLLrnkiNzcuXOd4JDfVxQc0nhde+21R+kpvwZ86KGHum9961t9Mvfdd18Ru6eeeqp47VieJqx6rbn8GvDFF1/s9tprrz498m/77LOP1ydNfHMDMJw9dFP3aWLnVsnnJwAXMoyKCV8xpilktHEMz7bRkkxOWNpJqcsXV8R9SE6IL7KOGFmZg2yXOWJ1M/wiHL7DJcLFrAukC41b8cXY0cZRwz2KsU83YxfZYcctcTG6mFxEsihHYuJCtn3rgMHF2EF8aXIE4UC5rKmhkG2rPYflj4mjhns0V8M90o04KddjSJYdb7qGLHzq1RO9e0tojc7kqoYPdi6TI6wPrDwTn3J+Wdqx1FXlT6rzN8Nllk3PQF8DUJ4qe/LJJ508ofbqV7+6QCNPBL74xS8uGoA33nij22ijjfpQym8ASuNKfjdQmlhj8ZIPasjHTAT/Msss4+S1YGnoyX/La7C93+RbZ511igbdpEmT+twMaQDKBHmFWJ7Ok2uTTTZxRx11VNGkk6bdl770peLDHj25E088sZJKadC+9rWvdddee20xvueee7oDDzzQLbfccsXr28cff3zxhKI8tScfH3nTm95UqUeeHtxss82KD75Ig/Dwww93b37zmwtZmScfG5FmpXwkReIurzBbXqk2IMuN1KcL2UHjPm6ZmyO68SIcVbZCiwvL/EA+a268jI+Iz6rx0L8IoliUdSM+WJxMrDR8aewwc7X+M2tbEwsUc6SbwanlhMm/Mi7kA4prKh/ZWPj4YH1ifER8+rjX4GLsIjvsuM82i4vRpVkzCBfSzcRRk7sMDpG1XNuaNeTDzfKB5JvufSjPkV00zvCnyXutHwx/yBYz7qtVUN6z44yPTFwRDqYeY/ckH9eWPrA+MnmPdDP5hGSFk9B6H+nS+MjoFtlU528WV5ZPy0BfA3CLLbYomj3y2qg0lnqX/J6cNJVOOeUU97GPfawP4UknnVR8BEQaUPKE4Fi95KvG+++/f/HkXNUlzb8rr7yyeBpy8AptAMort9Ksk6f46i75krI0HKWBV3fNnj3b7brrrsWTmlWXPMkpTwaKLd8lH3rZY489nLwSXHXJK7+XXXZZ7e8iamKdagPS3LSYGwmyg8Z9XGpu4uxcTXGhyQfENYML4dDoQnFkCgKky1cQoLloHHGEbHe96GH998mjNYRsaQ72yLYvTmhNaXNA5uevAO8WRKMmjmguk18oJ3y6EI4gIgKFmOYFs/7EPMMX0o32yfIa0XCP5rLjDG4mJwLDW4gx3Fbp1cSRsY3yXqPLMm5IF8MXiqPGZ2YuwhHic34FuHtfAQ6JW93eyeYPK8/kHFPvs3p99w5GV5VsqvO3FmeeH5eBvgag/JaffPzjiCOOGHlSTcy/973vddOmTSs+LCGvrva+aDtjxoziN+TkKcGdd9659rfk4rpgp12+lvv1r3+9aPTJApFGmjT85Df0hJuq39sT66ENwB7S6dOnF00+aeBJM09+e1Gar/IbhHVP7A16KU/nnXXWWcUHPuQ3AZ9++unii72vf/3riyatvG4ccol98Vkafffff38xRb48/Na3vtUddthhxdOfMa5UG5Dl5s80CdANjuEUFaA+XezcKvn8BOBChlE+MQUB0lWOqzaOTL6h3GV8ZOwyfCC9rC5mbWtigXAh3QxOFEfEIZN/lk2CVD6ysfDxgbhEcW3KtczTHOx9uBBmxB/ipOl9C+FCec/wxfjYJVyWuC3XtmYN+eKK/GVjo1mPTF6jXLXUxeQ9WruIb4Y/ZIsZ99WvLNeWPjK6kL8+H1Gea3DEnItwa/YNDe6QWHT9j+FVPqQ6fyP+8ni7DPQ1AOUpOGn8yG/P3XXXXSPIbr311uJ35eQJNnldVP63fAFYGk/SiJLXg6+44gq3225hfw1v1+VsvQsMpNqALDf/VAdTVKgwPjE31sHDZO+/cwNwYUQQ9zIeWhAgXZoimtGN9gOm4ES6NAcaRjfrP7O2NWsK4UK6GZxoH9Hw6cOJfEB2U/nIxsLyEML4iPjUHOw1cUT8oTgze4HPR4SD8VGzZlCckG4mjqzPTbkerAlYHxm7bL5o+EL8MfdejS6UExr+NHmPYqHxmZmLcCD+yvUYkmXHY+UI8pmpx7qyXlHMGZxIlyaOiPsq3aH1PqOb9ZHRLbKpzt8sriyfloG+BuC///1v9773va/4EMjnP/959/KXv3wEjTyxJh+dkLHB6zOf+cyoD2OkdSNbG2sMpNqALDdS5tBmeRNibo7ILuJDU1xY5iDyuVzYIZ9COAm9iSNbDC6kiykwkY+a2DA5YWknpS5mbaPc9MUCxRzpZnBa5gSDC8miuKbykY2Fbz2yPjE+Ij7L48gnlBM+XQgH4oAZ99licTC6ED8+H7qEi8kDhJvJCU2Mmbkiy+Q98lETVw3XlvmGdDF8oVhofGbmIhwhPo/1V4AZH1Gex+SeWUMhPolMVexYH1h5JudEd+jZgdVb5z+jp0421fnbAmvWEY+BvgYgMiNfpv3e977nbr/99uLJP3lScOrUqcVXgPOVGWAYSLUBWW7+zKEN3eAYrtBNnbnxIj6qbOUnABcyHMJfaEGAdJXjyuYAoxvlIpMTSBeTqyl1MWs7ZiyQbgZnyj3IskmQyke0RjQ4EPeMbiYnkE8MLsauZq1WzfXZRrg0PqK5zP6FYsH4yOJCtpl7i+Xa9tllc8iHC/EVix/kA7KLxjX8MXxp/WDyC9lixn21CsoJdpzxkYkr8pepx9i9EtluOo78Z3AiXZo4sv4JltB6n9HN+sjoFtlU528WV5ZPywDVAEwLLVsbZgZSbUCWGylzaLO8CTE3R2QX8aEpLizzFfmsufEyPiI+q8ZDCwIUC6bAZHEysdLwpbHDzNX6z6xtlJsaLEg3g1ODA81lmhdMnovdVD4iXBocKHcZ3UxOIJ+YuDJ2kb/suGV+MboQPz4/EF9Id3k+iqN2nLm3+HAhHAxfmhxBONjYNOUH+cDitOSPyS+tHwx/yBYz7qtV0PpjxxkfUdytfER5bolDgxlxzdwfEY6YPovu0Hof4fTlEzM3RDbV+TsES5Zpj4HcAGyP+3FtOdUGZLn5a25KGhzops4UiQiHr4DS4GCTHdnS3HgZH1GhUjUeWhCgWDAFJouTiYeGL40dZq7Wf2Zto9zUYEG6GZwaHGiuDyfyAcU1lY9o/WlwWPqI+NQc7DVxRPwhDpretxAfTO4iH9C45R7NxBHhQuMMbh8uxg6KC5svGr4Y3CjfNLo0nDB2xQ7DF4oFYxvxh2wx475aheXa0kdGF/LX5yPi2hIHwunbY1AsLO+9MX0W3aH1viVfjK4q2VTnby3OPD8uA30NwEUXXdRNnDjR3XzzzW699dYLsjxz5kz3ile8opj33HPPBc3JQpmBVBuQ5eavuSlpcKCbetODVNU8TXFhmdXIZ82Nl/ERFSpV46EFAZMTiA8WJxMrDV8aO8xcrf/M2o4ZC6SbwanlxFfA+3AiH1BcU/mI1p8Gh6WPiM/yOPIJ5QSji7WFOAnNN8RHWz52CRcTG4TblxOMHRQXJj9EVpOrDG6GH+QDsovGfWuEsc3YCakTLWtQ5AdrK/8G4MLf0tPGvWlskF20xqzyvin+unmCO7TeZ2wjvhhdVbKpzt9anHl+XAb6GoDSxJMv+spXf9dff/0gy/fdd1/xW4Ayr+oDIUFKstC4YyDVBmS5kWoOhBoczM0RFdkIR5Wt/BuAC1kN4S+0IEC6Qg/E2gIdbT5MTiBdTPGeUhezttn1aBlnBifaCxh+kc/MYRzZTeUjiosGh6WPMbn36dbwg/xH4wwuFieTq0i35R5ticsStw8XY8dyPxJdGr4Y3Mz6Y/NawwnjA8uX1g/NukC2mRpCOMoNwNwAlJypywNtvoXW+4wddm0zukU21fmbxZXl0zJg1gCU5qF8GCRfmYEQBlJtQJYbqeZAqMGBClC2IPLdDJlmj8YnlCPI53Jhx+JgfGQLdAYXgxvxweJE/KMCvutFD8Pt4OEIcRkzFkh3V/cg5jCOci+VjyhHNDgsfWRyAvnE5DbShcYRB03vW4iPtnzsEi4mNgi3b20zdlBc2Hxh9hzkY9NcRPcO1meGT0Z2ECc7l/UD1Q++GpTNA2QrNwBzAzBmvnW9Fq5aT6nO35q1nOfGZ0DdALz++uuLrwBPmjTJPfnkk/ERZwtDwUCqDUhb6PiKi9AxtkhExRbjE1v4appjlomJcDONthA+Q2/iiHsGF9KFCltfUcPoRnFLlRMxMbM+Mtwj3Gjcyhayg8atDsEaO9Z7JeMT2ieY/T5lvjGNEOQjo0sbZyY2miaU716CfEDjzNpNyb0lbg33TIzRmvHxh/xF9QSD01IXygkGF+KPWduMLlYWxQrpYzgp12Ms1wxOlBOMLuQ/U48hXMiW1Tjyn8GJdLFx1vhYzi8WF5PHGoxVc1Odv61xZ322DFQ2AG+77bag3wB89tln3UEHHeTOPfdct9FGG7mbbrrJFl3WNrQMpNqAUm3KyA4aZ24GjC7mxioYmOIiZnIi3Jobr8ZHxD2DC+nSHC4tY6Phi8HB8IH0srp88iG5KHiaPmnAxJnBaVkIMxyw3MfEyeyrDI6YPjJcD+7ZLC6fLaQLjaM1ysSmbAvxg+Lo04XmNsVcNS8m90xsEJ8a7hm+2HzRxDEWP8gHZBeN++4VjG3GTkjuMnHW2mZtNb0vMziZNYTihMaZegzhQrasxhGXDE6kS7OHs/4KltCHBxjdrI+MbpFNdf5mcWX5tAxMWHvttRf0TN57773Fb/mtttpqbrHFFvMikQ9+zJo1a+S136OPPtodf/zxadFna2OWgVQbkOVG2tXDN1sQiXxoURTrBocSFxUEGlxMAcUWExpclnFE/DLjGr40dpi5bJwY+ZBcZNaUJs5d3YOYwziKq2bPZuYiWQ3XGh/ZfNNw77Ol4Qf5j8YZXCxOhi+ku+wHihvacyxxWeL24WLsIP9RTvjmIxxsbJi4Its+XRpOGLtih8kvFAvGtoZ7hAPxV67HkCw7HitHkM9MPZaSe6auQVxb3nuZXEXcV+HODUCWtSzfFQYmTJgwYaQB2BTUq1/9averX/3KLbPMMk1V5HnjjIHcAAwPuOYmzs5liotwD3hJhLtc2LE3eI2PyJYGF1NAIRw84/UzNHwxOCx9YnUxBSfKTVTcauLM4NTgQHN9HLDcI1uxcgjh1HCNMDO6Ub5pDvaaOCL+EAdN1wHiA+UTwxfjY5dwWeL28cXYQXFh80UTRwY3iqtGl4YTxq7YYfhCsWBsM7LILhr31Sos1wxuyxzR+JgSB8JZHkdcItyMLjbOjB9VunMDUMNgntsmAxP233//kQbgD3/4w+IJwN12280tu+yytbhEZokllnArrbSS23rrrd3OO+/s5CMg+coMhDKQG4ChTFW/liuzQ75qxdxYB4vE3n/HuMEh7xFuGW+Ky1cksoVKWwUBwon4ZcY1fGnsMHO1RZ+Pz5Bc9K1HJlYaW8gOGvfxzeDS2Knag5g8YGwjWSYnGIzIR4brQV3IJ7ROmCYBa4vhyMcB4qctH7uEi4kNwu3LCcYOiguTH2zeIx+t9j7kA+ILjZf1M7IsX1o/NDiRbTZWoW+7aPIT5Rcbq6Y+psTBxAn5j3Br8gnZZvxoq97XYKyam+r8bY0767NlQP0REFs4Wdt4YSDVBmS5+WsOhBoczM0RFTEIR5Wtpo02TS4jn2W8KS6NjyH8NcXFFn0iH9IE1sRh8ODQ++8UPmpwozihdeIrOFFuMrqRLGML+YzGNfnnaxKwcbTEyfiEYqE5hGh0oxzQcO/TjeKAxtm4h645xAfimuGL8bFLuCxx+/hi7KC4sPmiiSODG8VVo0vDCWN38D7Ozk2Jk80DtG/kBmD+CnCsWllzDtHkuXZuqvO3FmeeH5eBvgbgMcccUzwB+LGPfcxNmTIlruWsfVwzkGoD0hY6oYc+ZAeNM8nA6ELFKyrs2rrBIdwaXFW6QxtaiHsNLqZZgXAw+YRkNXwh3RKlW0MAACAASURBVKHri9EzeNgJmevjMyQXfQUmEyuNLWQHjWvyjzmMo3hY4mR8QnuhZa5a5puGe1++oTigcRRnJjY+HxGOVD6itYvyi4kj63NTrgf3UtZHxi6bLxq+EH++ta7hANlF45o9iOELxSImTmSbGS/XY2j9seOxcoTxr7c+6+pXTa6yODRrncHJ5F6TWpDxu5xfLC7GjrVsqvO3Ne6sz5aBvgagreqsLTNQz0CqDchyU2YObZpiAuUN4xNzY626WbZ1g0O4NbiqdOcGYH3WafhCuaw50GgKTmZ9huSi6Gv6pIHVQQLtC2ic4RNxwsSdiQXSy/iIZDX7vQYn4tY3jnxCXDNNAtYW4iR0HSB+2vKxS7iY2CDcsdYBg7EqdzS5ytjW8INykR3X3C8ZvtBa1fCHdFuOl+tElmuNjyhnYvmI7DI+WWNkaiTLPSemz+X8imnHMhaiK9X52xp31mfLQG4A2vKZtQUykGoDstyUNTelVDhQkYNwVBUQoc2xwNAHiYUUMk1xxfQxVkGA+AgitaFQTL40BxqfOyjP0ToJbUaIHLKFxq1sITtonOEzZj5a4mR80uQEu7SYewniWnOw9+lGcUDjLCeh6wDxgeLI8MX42CVclriZXGVizmCs0quJI2MbxVWji+EL5TXSxfDF6LKURbrY8XI9xvKniSvKGdYPdB/LTwDWM8TEkY1LrHqfxcHKpzp/s7iyfFoGahuACxYscHfddZebOXOmmzNnjps/fz5Ett9++0GZLJAZEAZSbUCWm7+mEE6FAxU5CEdV4dK00abJdFRAaW68qXxEXDP8ID4YXazsMPCFfGbWNhsLJg+QbgYn2gsQJ+VxDS7GjsgyfGl8RHY0XCOfGd0M98gnxBfTJGBtIU5C8w3x0ZaPXcLFxAbhZnJVE2Nm7uA+gfxFPvpso7nIti+vWZ81upi1jXC15TPCVbX2mz6Zr/ER5QzrB8rP3ACsZ4iJIxsX0d3G+YjFOSif6vytxZnnx2VgVAPwueeecyeeeKI744wz3KOPPhpsXX47cN68ecHyWXB8M5BqA7Lc/DWFcCoczOGnKgOrCpc2bnCogNLceFP5GDPmlrrRTjQMfLE+hjYjBg+iIWsKFfMyHlrQMwdCTc6ErMcybsQ3wwGji/ERyWr2e4SZ0Y24Z3KAuT9o+EH+o3GfzwwfVeuTaYQgDph9IiX3lriZXEVx1eSqjz/kL5szTFyRbUufNbqYvEdxbMtnhKsqR3IDMH8ExKo28eUXsybYPLaWT3X+tsad9dky0NcAfPbZZ91OO+3krrvuOidPADKXNABDnhJkdGbZ4WUg1QZkuSlrCuFUOJhDRlV2pWr2oMxGBXtuAF5ZUJi/AlydSex6Y9Y2yk20Bn25j3QzODU40FyEE61vhgNGFxN3JKvhGmFmdDNcI5+YuCJdaBxxwOSAr3mBcPj4Y+c2xRxyry3LaHGh+T5bMfON8RHlD9PQYnxi1ojIarhGPjL5hnQxfDG6LGWRLna8XCeiuLLjVmuI9akKZ+gfDJlc1eJi1jqzPlkfWHnGb805hLFjLZvq/G2NO+uzZaCvAfiFL3zBffrTny4srLfeeu7QQw91m222mZs8ebKbOHEitLzmmmtCmSyQGRAGUm1Alps/c2jTFBMoQxifmBtrld22bnAIt6+wY/mL5SMTpyaYZU5uAFYzx3LPrG2Um5q1j3QzODU40FyEE+Wzb5yNHXPQYGQ1XCP/Gd0M1yx3Pt1IFxpHHDA54GteIBypfGTiJL4zOYDWIzvuWweMH4h7JsZsvvhyAvHB4EZ8aHSxPjP7l48DBnNdXRhaf2htaTnKTwDmJwBDc5XNtVhnBxYHK5/q/M3iyvJpGehrAG688cbuf//3f92WW27p/ud//sctvvjiadFka+OGgVQbkGXxEbNgZwLP+ISKV2S3rRscwl3GhXwIOQzEeM2ZiRPyAfGB5mvGq2yPNb6Q/8zaZmPB5AHSzeBEeY84sWoSMHZEluFL4yOyo+Ea+czoRjlh1RQY5F7DD/Ifjft8ZvioyidN48iHW4uLiaNlbBBuZAvFsm5cq1cTR8a2JT+MXcQrq4vhy9I2ixPZZsZ9dSLChcbbuj9W3fPyE4D1WcHEkcmt3r0lRi3M4mDlU52/WVxZPi0DfQ3AZZZZxs2dO9ddeuml7q1vfWtaJNnauGIg1QZkufkzh7aYwWR8QsUrwlkuoBi7SC8aR7h9hV0T3TFu4pZ8IT6Qz5rxKttjjS/kP7O22VgweYB0MzirDgryb02eGtXgQtzHxOmzjeKi4Rr5zOhG3PsOoiwOpkmA+EO2mdj4cCEcPv7YuU0xV81jcoBdI8gvX84w+WYZY1aXJlfb4oexi/hgdTF8WdpmcSLbzLivTkS40HgX1pBgKPuI1i7jE8MzkkV2EW7LexzCyoz7uGf0pJZNdf5O7Ve2xzHQ1wBcbrnl3FNPPeVmzJjh5GnAfGUGYjGQagNCNx7GP03BzthBsoxPzI217pASo9nD+ljlR5NGRq9gkv9f9iuGj0yctHyg+ZpxH/cxfbTEjHQxa5tdUwxHSDeDc9BnBgeai3Aivn3jljg1djRcI/8Z3QzXLHc+3UgXGkccMLEp22L4qNvve/s/8gGNl33Q4vLpQuuRHWdwMxwwMdfq9eUE4oOxjeKq0cXwhXxCuhi+GF2WskgXOy4+51eAu/8KMJPbzHqr2v/ZHEL3qRhnB0uMVbpSnb9j+5H16xjoawButdVW7vrrr3fTp093u+yyi05znp0Z8DCQagNibxZos+8dHJgblnUiMD6h4hVhKxdQjF2kF40j3L7CronuGDdxS74QH8hnzXiV7bHGF/I/VkOGLUBRnBmclnuUBhfiPibOpvs5ipt2bTNxRNyXfWRx+XQjXWicjbvPD1/zAuFI5SMTJ21+sT4z64D1o2mckQ9IL9PQ0viE5jJ+MLKM/0h2MN+0OJj5jGyIH4yMr05EuNB46H6F1jrjT5Vs2UfLXNXisrwvxdKl9dHHvVZ3zPmpzt8xfci69Qz0NQBPP/10d8ghh7gDDjjAnXXWWXrtWUNmoIaBVBsQcxNHwWIObUiXZpzxCRUECEdbNziE21fYhfgkMvkJQMTUf8arYpEbgOF/Vbdcr5o9iMExmBkh67G8psIyq1rKEqcPB7Kj4drSf8S95eFI01TR+MzkG8NH3f7Vy1VNDjCYq7jR5FdK3MhW07hr9WpylbGNZNG4Zn1q9i9ffjKY2dxF66JpvjSZ56sTEQdo3BdXdo9q4ltvjq9GT4kjVq5q84mJIxuHts5HLM5B+VTnby3OPD8uA30NwP/7v/9zO+64o7v22mvdeeed5/bee++41rP2cctAqg3IcvPXFOyWgWZ80hYAbd3gEG5fYYe4rtI91hpaTA4gPtD4MPDF+mhZ3DOxCsn7XvOCLYwZHEg3won4tjwsND1gIz7a2u8Rt5a4fLY0/GjiL3MZXCzOsjw7l8lbjW7N3Cr+NLgRlqax1urVxJGxjWTReNP9CfHK2B3MCXYuuh8w+YX8shz31YmIAzRuWSNofC77qLl3aDCguQyXaP+y1IVwo3Ef92hum+Opzt9t+phtYwb6GoAPPfSQmzNnTvEE4HXXXefe8Y53uP3228+tu+66bqmlloLaVl55ZSiTBTIDwkCqDYi9WTQtZCztoAxhbKGCIMRWjOZYiF2R8X3dLP8GYLMPOiDuUbEfq+hh8hr5wOpimirsmmKwIN0MThRHxGFbBxyGL42PyI6Ga4Zb5APKCV+cEA6fbg0/yC4aZ3CxOMvy7FymPtDo1sxFB2jLfENxZPhidTFxRD5rcKJYadanBpfPZwZzFQZmPiPL5gCSL9cqbA4wuNEezehCPlX5Mda/AszEhuWSlWf4j1ULMxiayKY6fzfBluekY6CvAfiCF7xgxPKCBQvchAkTgpGI7Lx584Lls+D4ZiDVBmS5+bd1IGRujkiW5aOtG1xIQZUbgLkBWLeLNslz0VWVUyG5WDdX/p3BorGF7KBx5rCJcGrubpY4GZ/Q3hnrII/sMlyz3Pl0I11oPFYOMHxUrT+mccT4qMXF5BfChcZ9tlg/msaZwVhlg4kjWmOx9gmNXcQry5+GL40fLE7kNzNerl9ZHxjcaM0wuhj/evtbbgDWs9YW92wcU8qnOn+n9Cnb4hnoawBOnDiR1/D/ZkgDcP78+Y3n54nji4FUG5Dl5u/TZWkHZQJjCxUmIbbyE4CIpepxJk7IgjaOSD9zACoX1TF9tMSMdDF+sLGw1K3Zgxgc6LDEcoD4L49b4mTyGvlshRFxgbjV5ADy0bJJgPxsGhvEj6WPTC5qcTH5hXChcZ8t1o+mcWYwVtnQ5CpjG8micSauDJeMXdGr4QutqaZrmfG3iWy5VmF9YPhFa4bRxfrpq8cQLtZWU3nW/5j3uKY+1O1BbZyPtD6kOn9rceb5cRnoawB+97vfVVmTV4fzlRkIYSDVBsTeeJoWMpZ2EH+MLW0B4CsuEE7NOMLtK+yQ3SrdMW7iTJyaYJY5TZ+CRPZ8h5ZYORGTL+QvYxvlJnvQQFyX42xZGCNOrHAxdkSWiYUl14wuDUbEB8ovyxzw2YrpI8sBk4sojkwjhOEAxQ3h8vnIzGXXEMLNcIDiyviIdDFxZPljcDL8MLKM/0h2MCe0OJj5jGyIH4yMr05EuNA4sycxuhj/enHNTwDWs9YW92wcU8qnOn+n9Cnb4hnoawDy0/OMzEAzBlJtQJabv+XBqxlr/5nF+ISKe4QjVrMnxK7I5N8ArI45kwOIazRelUNjrWHK+uiTZ9cUEytWN3NQRRxofGZ8RDg0upi5SBaNIz+ajqMcsLwP+Wy15T+6xyF+BnnX+MhwoMXFrGWEC437bLF+WOU5q6eMk/EX5RfKH3aciSvDgcZndm5XfGb46cW57o+kiAM03oU1NOgjWruMTyzXTP2AdMe8xyHbzHhb5yMGY5VsqvO3FmeeH5eB3ACMy2/WXsNAqg3I8oZneVPSJAbjEyoIEI62bnAIdxkX8gEVr7F8ZOKEfEB8oPma8SrbuQFY35xG+cYUykwOMbJsPqD8s7St0cXMRbJonOUwVF7DNYvZZ4vVFepfiBxzr0U4NT4i3UwTgNkXkF3tOIMb2QqJZ5WMVm95PquLkUeyaNzHdVPuZB5jd1CencvkrkZWw0ddjuUGYHitYs1/Tx+bb8z+jzCztpG+wfUcoxZmMDSRTXX+boItz0nHQG4ApuM6WyoxkGoDstz8LW9KmmRgfEKHSYRD5rdxg0O4y7iQD6ggjeUjEyfkA+IDzdeMV9mOkRMx+UL+M7bZWMTUHetwGbJmRKZreaDhGvmMcshqHOWX5X3IZ4vh0sr3kAMj4gfFkWkcMRywuHycIbtonIkHwm1py3K/YuKIciJVLCy5ZHVp+IrJH5OrrKyvTkT8oXFfLqM1xfqB8jO/AlzPEBNHNi6xzg4sDlY+1fmbxZXl0zJQ2wCUrwBfc8017rrrrnOzZs1yzzzzjDvuuOPciiuuOIJQPvoh/ycfD1lkkUXSIs/WxjQDqTYgy83f8uClCR7jk7YQaesGh3D7CjvEbZXurjUyUMHN5ADiA40PA1+sj6jglvHQnGFihfKewYV8ZsYRLsZHZFeji5mLZNE48qPpuIZrFrPPFqurqb9V85h7LcKp8RHpZpoADD/ILhrX2EL5x+iOuV+VcbJ8MPL/P3tnAu7XeO3/9yQ0BAlCEmqoJ40QQUISUv5SVZJGVK8xkiKGoI3S25aqqUiJS4fn1tBqKjHUUFO5pNcsoaYgSARBcHk0aAwpMSSS83/Wvj3n/n7n/H577bXX+649fffz9Lk3513vGj5r7fe332UPnCw3HlcjGpYSu2RHw4u7HgmZZy0j3AGY/FpFw9pnDUjWf85n6XnC6et4Pie9DpToDS1rtf8OHQf06wg0bADeeeed7oQTTnCLFi2q0z5//nw3cODA9r9dcsklkdzaa6/tFi9e7Lp3767zBrMrQ8BqAfK5+Pv8UdIkWhKT9mKe5mfxA8f5XeuXlGUj3SFilOSJi4Hjwc3XjJeBFxe/JFfSXITUHWpzyW34pAw4/r7i0LDmYpbEoJHl2Pr8HeJsaeLQzJXEyOU8LkbpXMkml9Mt0RWyNrka0MShiZGrH01DSxITJ8uN+1rbtDWg4aWxLeHD5Vw6HnedyPnFjcfllTunpHFw5xHuAGxOSJJHTV6s7Gh8bJtrtf/24St0hCPQqQE4Y8YMN2nSJLdq1arI6rrrrus+/PBD19LS4jo2AD///HO30UYbuaVLl7qrr77ajR8/Ppyn0FwqAlYLkM9FWbIpCZksSUzaC5HaCyiJXW38nN9xF3ac7Ua60QBMfgEVqiZ81pdUl0Seq02fmyWNX9x5IBnnYpb4ydnV6JLM5WS5cS6OtOMa1lKfOVtpY9DOk/zWcjHHxSidy23EadzHb4lPv7hccDXA+cLpbzau1Vs7X6pLIs/JcuNxjaK07GiexG5Heelcn79pmpilc+OuEzkG3LjVWsDFXBtjVudyEh9r10aNvDQvUnnOt1DrWVq7aeZZ7b/T+IY5dgTqGoCvvvqq23rrrd0XX3zhdtttN3fRRRe5QYMGRY/4NmoAkpvULLz88svdoYce6q688ko7z2Gp0ASsFiCfi79kUxIyOZKYuAsCzs+4iwturmac8zvuwo6z20i3j02b5iI5jc+SCypOv/Ritmi8uPhDnlMhddfGJbHD8eBqmTs/pfp9xSFhwMly45oYpedb7bnu83coZB41fCQxcnmKi1E6V5M3CQ+ffnF2uRrgfOH0NxvX6q2dL9UlkedkuXFfaxu3JnN50PDS2Jbw4WKQjsddJ3J+ceNWawEXc9w1Onduc7p9jUtZStZ/zkepbU5fqPUsrd0086z232l8wxw7AnUNwB/84AeOHuulx3yfeuop161bt8iTuAbgVVdd5SZOnBg1CufNm2fnOSwVmoDVAuRz8fepS5M8iR/aC4C4iwtNDNxczu+4C7s0uovW0JLUAMeDG2+Ui6Lxksbo8+Jekiuu7iV+cTFLxjm/JDFydjW6JHM5WW6ciyPtuIa11GfOVtoYtPMkG0Au5rgYpXMl5x+nW6Kro6xGN6fLqia0MdTOl+qSyHOy3Hgtb4ksdw5JdWl4cTWjqWUuTs143HUix48bl8Ss0cXFXxsjd+6G9EPCI0lMJNPo/Y3SGKTynG/Nxq3spPWvdp7V/tuHr9ARjkBdA5AafwsXLnR/+MMf3FFHHdVuNa4B+Mgjj7hdd93V9ezZ033wwQfhPIXmUhGwWoB8Lso+dWmSKfGDuyDg/Ii7uODmasY5v+Mu7Di7jXQXraElqQGOBzdeBl7SGCUXs1wuuPG4DaJmLhezZDzJ+djsgl1ih2QlMXfULZkrkZXGoJHXsJbGxNnSxKGZGxeH1Oc4eY4XNy5ZJyQ8OLvcuMaWlK/EVtxaJ9VT66eUh0Sek+XGfcas0aXhVdR1Nu46kcsbNy459zW6uPOiNkbu3A3ph4RHkpiaXU9IY5DKc741G7eyk9a/2nlW+28fvkJHOAJ1DcB11lkn+trvnDlz3I477thuNa4B+Oyzz7ohQ4ZEXwFevnx5OE+huVQErBYgn4uyT12aZEr84C4IOD/iLi64uZpxzu+4CzvObiPdaAA2p1YGXtKakFzMcucjNx63qdPM5WKWjCc5H5tdsEvskKwk5qJuTDX1FcdHyo7LqzR3vuQlMXIxx8UonSuJj9MtqQFNnXM+czWgiUMTo8RvqY8SeU6WG49b37kYffKr9VPicyMfJPMlshoezfy0+Aowd36GZBB3jc6d2755N9MnjV+y/nMxSG1z+nzFmNaOj3lW+28fvkJHOAJ1DUD6mu+nn34qagDed999bs8993Trr7++W7JkSThPoblUBKwWIJ+Lv09dmmRq/JDOjbu40MTAzeUuXGr94nQluThDA7A5xUa5KBovrkYk5wVXm1y9STZ1Gr+4mCXjXMwSPzm7Gl2SuRJZzmef4xrW0pg4Wz7jkuiSbAC5mONilM71FQOnJ6Rf3PpkVRNcjBJGUl0SeU6WG6+NQyIriZ+TpfFa21o/JPMlsknikMjEXSdyfnHjoX7HJfG15RVfAU5+/Srlm1ReUy9JbfiSs9p/+/IXesIQqGsAbrnllm7RokXummuucePGjWu3GHcH4M9//nM3ZcqU6C5Aem8gDhBIQsBqAfK5KPvUlYRRMxmNH9K5tRdQ0rk+Y2y0KWn2X3Y5u3G6fMYYUpdP3VXgJY3R58W9JFeazbfEDscjyyaBJg7JXImslJdGnquBOL+lMXG2NHFo5kpi5GKOi1E6VxITp1uyxnDno8QvqS5NHJoYuZhq/ZL6KJHnZLnx2jgkspL4OVka1/CS1kyomJPE2dE27gD082VyKXuNvGT95+z4POdCrmdcHD7HrfbfPn2GLv8E6hqAbV/03Weffdxtt93Wbq1ZA/C9996LPhhCd/796Ec/chdeeKF/D6GxlASsFiCfi79PXZqkavyQziX5EHd7cfFzG9Navzhd3MVrqBilrCUXFz51c/wa5SJETfiMSapLIs/VJldvofIsiYHLOReDlIHEniYOyVyJrMR/rSzHNuTmKC9MJDFyPsfxlM6V5JbTLVkHuPNR4pdUlyYOTYxcTJqGliQmTpYbr41DIiuJn5OlcQ0vac2EijlJnB1towHY+GMaUpaW8pL1n/PL5zkXcj3j4vA5brX/9ukzdPknUNcAfPzxx92IESNcS0uLmzFjhjvssMMii40agIsXL3b77befozldu3Z1zz//vOvfv79/D6GxlASsFiCfi79PXZqkavyQziX5EM0eLv4km2DcAWhzYdcoFyFqQlqbPi/GJLa52vS5WdL4xZ1jknFpzBLdGl6auRK2mnikczm/Qm6OONvSWNLKS2LkfC5iA5DjxsXMzZc0aHzaktjlYtA0tCQxcbLcuM+YNbo0vLhc+Pwt1thq9HuABqDNdaLvvJE+fAXYJ9X/02W1/w7jPbT6IlDXACSlxx57rJs2bVrUBDzooIPcgQce6A444IDo39dff33UDLz77rvdtddeG30whI4f//jH7oILLvDlE/RUgIDVAiS5OOOw+9TF2Qp1QSWNAQ3A9JmSspbk3KduLkI0AOsJSZthklxJdWs2hFze43RLYpLYIVmNbslciaw0Bo0855ekOcb5oak3TrdmXBKjlJekEcLplqzZGh4d52r8kuryacvneiXJozRmiZ8SPhJZrl6kujS8OF+yOg84v2qvX6U1IOWb5e9l0ncAcrzyMi5Z/zmfNXnkdEvWCYmu0LJW++/QcUC/jkCnBuDKlSujO/+uu+66qOnX7GhtbY2GDj30UHfFFVfEyupcxOwyErBagHwu/j51aXKq8UM6t/YCSjrXZ4xxTSipnThdPmMMqcunbo5fGXhJY5RsaLhccOO+Ng4SOxwPbrNkaUviq8QviazEB60s51fIzRFnWxtb0vmSGDmfG61f5AdtmqVzk/pPcpxuiS7ufAypK1QcWr2186W6JPKcLDcet76HzFtczUh81vgY+jzgfKu9fpWeQxpGcWsO57N0vDZGS7tSPyXykvWf06vJI6c71LktsZtG1mr/ncY3zLEj0KkB2Gb6z3/+s5s6daqbN29eQ2/ogyGnn366++53v2vnLSyVhoDVAuRz8fepS5NIjR/SuXEXF5oYuLnchUzchV0a3UV7pFWaR45J3HijXBSNFxe/hCdXm9KNRtxFpMYvLmbJuDRmiW4NL81cCVtNPNK5nF8hN0ecbWksaeUlMXI+x9WudK4kHk63RJemzjk7nJ/cOKe/2bhWb+18qS6JPCfLjcet72nZ0TyJ3Y7y0rmWfmpsNTpP8AgwHgGmukj7yqCk9Wh5TiX1qZmc1f5b6yfmhyXQtAHYZvbNN990TzzxhHv33Xcd3R3Yq1ev6Iu/AwYMCOsZtJeagNUC5HNR9qlLk1yNH9K5tY026VyfMcY1oaR2ytDQyjoXaAAm/7KeJFeaRpvEjo9zJtRFtSYOyVyJrJSXRp7zS9Ic4/zQ1BunWzMuiVHKS9M4ksTE+SXR1aix4ev84/zkxtPGodWryaPENifLjdfykchyXKW6NLw4X+LGpX5qbKEBODNCEOL6zGdeOF2S9V+ji5srGc+yziV+kqzV/lvqF+RtCbANQFt3YK0qBKwWIJ+Lsk9dmjxr/JDOJfksLia4jWmtX1KWjXSHiFHKWnIR7VM3x68MvKQx+syFJFdc3Uv84mKWjGv8ktjRympYa237ms/FEHJzxNn2FSOnRxIj53Nc7XJzOT/zcj6G9DMUI61eTUNLYpuT5cZrcyOR5XIq1aXhxfmS1XnA+RV3ncjx48YlMWt0SWIsyu90kphIBh8B4UilG7faf6fzDrOsCKABaEUaduoIWC1APn94ferSlIPGD+nc2gso6VyfMcY1oaR24nT5jDGkLp+6OX5l4CWN0efFvSRXmgt4iR2OR8dxjV9SWxp5CQOJrMYn6VzOr7hxbm5R8iqJkYs5rna5udLchWr2cHkL6WcoRlq9tfOluiTynCw3HqomJHbJBw2vkPWl0c3Nrb1+lZ5DUr5xedboksRYlN/pJDGRDBqAHKl041b773TeYZYVgboGID3i+/jjj0e2Bw0a5Hr06BHrx9KlS92CBQsima997WtWPsNOCQhYLUA+f3h96tKkUOOHdG7tBZR0rs8YG13YpH2nR5wunzGG1OVTN5enMvCSxhgnL73IluRKqjvU5pLbLEli4tj7HJf4JZH16SOni/MrbpybW5S8SmLkYo47p7i5XK4k64RGF5c3jW6OATee1rZWb+18qS6JPCfLjYdaoyV2yQcNr7Q57mhXoyfN3NrrV+k5JOUbl2eNLi7u2hg11w+cHctxyfrP+RWSfahzm4tJO261/9b6iflhCdQ1AO+++243evRot/7667s33njDde/ePdb6smXLpkkH7wAAIABJREFU3Oabb+4++OADd//997uRI0eG9RbaS0PAagHyufj71KVJpMYP6dy4iwtNDNxc7kIm7sIujW48AtycWqNcFI2XtCbi5LnalG40fG0cpOc2x8SXXxI7WlkJA4ms1i/JfM6vkJsjzrYkDo2sJEbO57jzlZsbKgaNXprr029OFzeeNhatXk1DS2Kbk+XGQzUJJHY71ox0btoc+65VqR9x14kcA27c5zWCNK6ONdXsekwTg8Yn7VzJ+s/ZsmJgZYeLN8m41f47iS+QyY5AXQPw6KOPdtOnT3fHHnus+93vfpfIq+9///vu97//vWhOIsUQKjUBqwXI56LsU5cmuRo/pHNrL6Ckc33G2GgThzsAw3/ZrNEFfKia8FlfUl0S+biGQqOaD6k71OayYxzSmDXnvmauhrXGrs+5XAwhN0ecbZ9xSjbQmjqPq92Q8RZFN+cnN562JrR6a+dLdUnkOVluXFO7ac8R7ndI4nPa/LbNs7TV6HcLXwG2uU7U1knS80RaT1L5tHFY2UnrX+08q/23D1+hIxyBugbg4MGD3fz5893111/vDjzwwERWb7755kiWvgz81FNPJZoDIRCwWoB8Lso+dWkqQOOHdG6oZg8XP9dwqPWL05WkmVG0O9qkeZQyirsYC1UTPmOS6pLIc7XJ1ZtkU6fxS5Nzbq7EL06Xz3GJXxJZnz5yuji/4sa5uVxtSudzsaQdt4oxZLxF0c35yY2HyHESnbV+SX2UyHOy3HjSxkaSmDW6NLykvmn81NhqtL6hAYgGINVF2hsGktajZB1IqjOUnNX+O5T/0OuHQF0DcIMNNoge56X3AA4dOjSRBWr6DRs2zPXu3du9/fbbieZACASsFiCfi7JPXZoK0PghnRuq2cPFzzVZav3idCXZ9KIB2Jxio1wUjRdXI5LzgqtNrt7ifJHqzmqjJeHFsfc5LvFLIuvTR04X55dVc4zzM+S4VYwca02MRdHN+cmNp2Wk1atpaElsc7LceKg1WmKXfNDwSpvjjnY1etLMjbtO5Phx46F+x6Vxxl2ja2KQ+uFTPuT679PPUOd2KB/b9Frtv0PHAf06AnUNQHrn3+effy5qAD755JNu+PDhrlu3bu7TTz/VeYPZlSFgtQD5/AH0qUuTaI0f0rlxFxeaGLi5XCMk7sIuje6iNbSkeeSYSC9mi8aLi1/Ck6vNjrZC6s7qAlQSE8fe57jEL4msTx85XZxfITdHnG3Od1/jVjHmJV4pN59+c7q4canvbfJavZqGlsQ2J8uNh1qjJXbJBw2vtDnuaFejJ83cuOtEjh83Lr1mIvkQd6HFXaNrYkjD29eckOu/Lx8113mhfEiq12r/ndQfyGVDoK4BSB/0oMK46qqr3IQJExJ5dM0117hDDz3UbbTRRu6tt95KNAdCIGC1APn8AfSpS1MBGj+kc+MuLjQxcHO5JkvchV0a3UVraEnzyDGRXswWjRcXv4QnV5uaC0Op7lCbS5+8OF0+xzV59OmHRhcXQ8jNEWdbE5dkrlWMeYlXwoZkffrN6eLGpb77ktc0tCQxcbLceKg1WmK3Y81I52pyZmmr0W8vHgEO03jU1AQ31+f6z9nyNZ5lnUtjsNp/S/2CvC2Bugbg/vvv7/7yl7+4vfbay915552JPBk1apS799573ZgxY9ztt9+eaA6EQMBqAfK5KPvUpakAjR/SuWgAps+UlLXEUkjdXAMrVE34jEmqSyIvbdKF1B1qc8nVoiQmTpfPcYlfElmfPnK6OL98bo6ktcz57mvcKkaOta94fOvx6Tenixv3HVtSfbV+SX2UyHOy3HioNVpiFw3AzlXF8ePG4+rUcl2Nux7TxJD0PAwh53P9D+FfI51FYm21/7ZiDzvpCNQ1AK+99lr33e9+17W0tLhf//rX7sQTT4zV+p//+Z/u3//93yN5+nrw4Ycfns4LzKocAasFyOei7FOXJuEaP6Rz4y4uNDFwc7kLqFq/OF1laGhxMUgZSOQb5QJ3AP7ff1XnziluPG6DqJkrybFUVuKXVLdGXuKXRFbjk3Qu55fPzRG3zkp99yVvFSPH2lc8vvX49JvTxY37ji2pvlq/pD5K5DlZbjxufU8aq4+Gg4aXpZ8aW42uk3AHIO4A9FlTzXRJ1gELf+JsWO2/s44T9uMJ1DUAV61aFX3Nl74ETE29Aw44wP3whz+M3vHXtWvXSNPKlSvdnDlz3G9+8xtHXwCmY+DAge7ZZ591Xbp0AW8QSETAagHyuSj71JUIUhMhjR/SuWgAps+UlLXEUkjdjS6i6W+1TT80ANEArK0JSe2GlJWcFxLZkD5z55tkXBoTGoAzI7wh3s0VsmakeY7zhdPFjYeMM6nfUh8l8pwsN14bg0SW4yrVhQZgPVGOHzeetDZJTqMrSR00ux4LaZfzSzMe53deY8qrX43yYLX/1tQA5oYnUNcAJHOvvvqq22WXXdw777wTNQHpoA980BeC6d//+Mc/og+F0NHa2ur69u3rHn74YbfFFluE9xYWSkPAagHyuSj71KVJpMYP6Vw0ANNnSspaYimkbq7hEKomfMYk1SWRlzZNQuoOtbnkalESE6fL57jEL4msTx85XZxfPjdH0lrmfPc1bhUjx9pXPL71+PSb08WN+44tqT5NQ0sSEyfLjYdaoyV2yQcNr6Q5aSQn9VNjq9G1C+4ALNd/4MiynuJqM69+NfLZav/t81yGLv8EOjUAycTbb7/tJk2a5GbO/N//Otrs+Pa3v+1+//vfR01AHCAgIWC1APlclH3qkrBqdFFDf0tz14I0hlDNHi5+bmNa6xeni+MXKkYpa0kcIXWXgZeUj0Seq02On+QiUuOXpJ6kshK/pLo18hK/JLIan6RzOb+smmNSv33KW8XIsfYZk09dPv3mdHHjPuOS6NI0tCQxcbLceG1MElmOhVSXhhfni+Q3TaNLOjfuOpHjx41LYtbo4mKOu34NaZfzSzPuc/3X+CGZWyTWVvtvCT/I2hNo2ABsc+P555+PmoBPP/20W7JkSfRnuhNwhx12cGPHjnVbbbWVvcewWAoCVguQz0XZpy5NEjV+SOfGXVxoYuDmck2WuAu7NLrz/khrx5ikeeSYSC9m885Lykciz9WmJldS3aE2l1y9SHhxunyOS/ySyPr0kdPF+eVzc6SpNy4OzbhVjBxrTQwh5/r0m9PFjYeMM+nvktRHiTwny42HWqMldsmHWnnpXE2OLW01+u3FHYDpbhbQ5Fw71+f6r/Ul6fws6zypj21yVvtvqV+QtyUQ2wC0dQXWqkTAagHyuSj71KXJtcYP6dzaRpt0rs8YG21U09wB2fFCuO3feW9oNbqwpb+lZSDJTRx7nzWRpS6JbWnTJKTuUJtLrj4kMXG6fI5L/JLI+vSR08X55XNzJK1lzndf41Yxcqx9xeNbj0+/OV3cuO/YkurTNLQkMXGy3HioNVpit+N1j3Ru0pw0krO01eg6CQ1Am+tETY1Irm+zrKe4GPPqVyOfrfbfPmsCuvwTqGsAHnPMMZGFUaNGuf3339+/NWgEgX8RsFqAfC7KPnVpCkHjh3QuyYdojnHxcxvTWr84XdzFRagYpawlcYTUXQZeUj4Sea42OX6Si0iNX5J6kspK/JLq1shL/JLIanySzuX8smqOSf32KW8VI8faZ0w+dfn0m9PFjfuMS6Kr1i+pjxJ5TpYbr41JIsuxkOrS8OJ8kfymaXRJ58ZdJ3L8uHFJzBpdXMxx168h7XJ+acZ9rv8aPyRzi8Taav8t4QdZewJ1DcC2L/3SY7+jR4+29wYWK0PAagEq0qKcNPmamKRz4y4ukvrrQ65R0yXt3W9xuqR8JBeBPji06fDpJ+dXEXlJ+UjkG/EghmnvNIjbIGr84vKqGZf4pbEjnSvxSyIr9UMjz/nlc3MkrWVNXJK5VjFyrCU+W8r69JvTxY1bxt1srZT6KJHnZLnxuPVdw05il+zUykvnWvqpsdVxbu31a6MxX7/bnO6QvOOu0UPa9Zknjl+oc8hnDEVibbX/9skXuvwTqGsA9unTJ3rX31NPPeUGDx7s3xo0gsC/CFgtQEValJMWhyYm6dy4i4uk/vqQi2tCSfXH6ZLyibPtU5fkAknKg5MvIi8pe4m8tGkSUndWF8aSmLj68jku8Usi69NHThfnV9w4N5dbR6TzuVjSjlvFmJd4pZx8+s3p4salvvuS1zS0JDFxstx4qDVaYpd80PDS5Ezqp8ZWo/Ut7X+Y0/gtvUbQxBx3ja6JQeOTdq7P9V/rS9L5RWJttf9Oyg5y2RCoawDuvvvu7sEHH3R/+ctfHH3hFwcIhCJgtQAVaVFOyloTk3Ru3MVFUn99yDW6oMIdgDbvdoljL62nuFrIUpfEtvTiPqTuUJtL7pyVxMTp8jku8Usi69NHThfnl8/NkbSWOd99jVvFyLH2FY9vPT795nRx475jS6pP09CSxMTJcuOh1miJXfJBwytpThrJSf3U2Oo4t/b6tdEY/S1tg1ByLROSQdw1eki7PvMkyU1eY8qrX43yZLX/Dlkj0K0nUNcA/OMf/+joPYD77befu+mmm/TaoQEEmhCwWoCKtCgnLRZNTNK5cRcXSf31Iddoo4oGIBqAzWorTZ3HbQbiNnGcLW5cozvU5pI7ZyUxcbp8jkv8ksj69JHTpfFLOhcNwJlROtL+lnC5DDUuzbOkWSHZjIeKL4leTUNLwo+T5cZDrdESu+SDhleSfPj6LdbYalS7aRt8Ur6+fsel8aMBKCUWRl5TL2E8aq7Vav9tHRfsyQjUNQBbW1vdHnvs4WbPnu3OOeccd9ppp8m0QRoEEhKwWoCKtCgnRFd3IZd0TpuclAcagFLC/ycvZS2xFFI3twEMVRM+Y5LqkshLmyYhdYfaXHK1KImJ0+VzXOKXRNanj5wujV/SudJa5nz3NR4Xh88Ypbp8xafV49NvThc3ro0l7XxNQ0sSEyfLjYdaoyV2yQcNr7Q56mhXoyfN3NprFe66Rjoe54/luhp3PSatkTSMQ8zxuf6H8K+RziKxttp/W7GHnXQE6hqAjzzyiPvkk0/cT37yEzd//ny39dZbu3HjxrntttvOrbfeeq7tIyHNTH3ta19L5wVmVY6A1QJUpEU5aRFoYpLOjbu4SOqvD7lGF1Rp79qI0yXlI7kI9MGhTYdPPzm/ishLykciL724D6mby12ocUlMoXzQXoSXIQbtplVay1a59LkBjIsxrzXAcfbpN6eLG+d8DTWuaWhJYuJkufHa+CWyHDepLg0vzpesroM4v2qvX6VrpZRvXJ41uiQx5nU952KQ5CYkS6mfoc5tjR9J5lrtv5P4ApnsCNQ1ALt06eJaWlpSeUPzvvjii1RzMal6BKwWoLz+WGgyrolJOrf2Ako6VxMjd0EQd2HH2S1iQ4vjwcWsGS8iL2mtSuSlF9khdWvyqpkriUljRzpX4pdEVuqHRl7jl3SutJY1cUnmxsXhM0apLkkMIWV9+s3p4sZDxhmnW9PQksTEyXLjoZoEErvkg4aXJsdSPzW2Gl0npX0EWOOH5boad42eJXuf/EKdQxofs7wm1/pttf/W+on5YQl0agCmNUcNwJUrV6adjnkVI2C1ABX1BzDpha+0bKQ84i4upLY18nFNKKneIja0srzYKCKvNHVOjJPcVSq9uJf4ItUtrX1f8pKYfNlMokfil0Q2iW1fMhq/pHPzWm/SOCS/l1k1QnzVR8dmjlYvx5ob19pPO1+TR0lMnCw3Hqp5IbHbsWakc9PmyHetSv2ovX7N0zWUNA5ufWu7bsnrei6NN64+LWtX4nde/WoUg9X+W8IPsvYE6hqA9913n8oDen9gUQ969PmSSy5xN954o3vllVfc8uXL3aabbur23ntvd8IJJ7jNNtvMW2gLFixwF110kbv33nvdW2+95dZee+3ocesJEya4o446yq222mqJbN15553uD3/4g5szZ477xz/+4TbccEM3fPjw6EMuo0ePjtUxceJEd+WVVyay89prr7mvfOUriWSTClktQEValJOy08QknYsGYNKsdJaTspZYCqmbu1AOVRM+Y5LqkshLL7JD6pbUjE9ZSUw+7XK6JH5JZDm7Psc1fknnSmvZZ5zcppbGkzTkOZ/iYpTy4mxZjfv0m9PFjVvFHPe7JPVRIs/JcuO1fktkOa5SXbXy0rmcL1bnstSP2msV7rpGqlsiH5J33PVYSLuS+KWycX7nNaa8+tWIvdX+W5p3yNsSqGsA2prOj7VFixZFjb6FCxc2dKpnz57u2muvdWPGjFE7ffnll7vJkye7zz//vKGunXfe2d1xxx2uV69eTW3Rx1qOO+64qPnX7KAm4O9///umj3SjAahOZWYKND800rlxFxeWABpt4tJuDuN0SflkdeHr008uj0XkJeUjkZc2TULq5nIXalwSUygfGumV+CWRzWsM2k1tGRlwTLJqhPisIZ9543Rx4z7jkujS5FESEyfLjdfGJJHlWEh1aXhxvmR1HcT5VXv9ysmGHJfmSuJL3DV6SLsSH6WycX7nNaa8+tWIPRqA0oosp3zlG4Aff/yxGzZsmHvxxRejDE+aNCn68Mmaa67pHnjgATd16lRHMt27d3ePPvpo9EGUtMddd90VNRFXrVrl+vTpE31leaeddnLvv/++mzZtmrvlllsi1bvttltkm97J2Oigeeedd140NGTIEHfyySe7fv36OWpkXnDBBe7pp5+OxkjuF7/4RUMdbQ3AjTfe2JFfcceAAQPc6quvnjbshvOsFqAiLcpJAWtiks6Nu7hI6q8PubgmlFR/ERtaHWOU5lHKqFa+iLykfCTyjXgQLx/vGpLq1uRVM1fCS2NHOlfil0RW6odGXuOXdK5UXhOXZK5Pv+LOKZ92JPFpZX36zenixrWxpJ2vaWhJYuJkufG439K0sdM8id2O8tK5ln5qbDW6Tkr7H4p9+xF3jaCxFXeNbplnTQyS69u8xpRXvxrlxWr/7bMmoMs/gco3AM866yx39tlnR2SpeXbSSSfVUaamHzXk6AMnu+++u7v//vtTZYHm02O+9Hhxjx493Ny5c6OmXe1BdwZeeuml0Z/o8dzDDjusky2aT3pI39ChQ92DDz4YNSvbDnqUeeTIke7JJ5+MHiWmxmZHOyTb1gDcfPPN3euvv54qJs0kqwWoSItyUp6amKRz4y4ukvrrQy6uCSXVX8SGluQCScqDky8irzR1nvQCXdqkk/gi1c3lLtS4JKZQPjTSK/FLIpvXGLTrQhkZcEw0jSPLOoiz5TNvnC5uPCsmmjxKYuJkufFaPhJZjqtUl4YX54tVrUr9qL1+lc71KS/NlcQ2GoASWuFkQ+bYt9dW+2/ffkOfXwJNG4B01xvdkUYNsLfffttRY4nuUqt9F94777zjli5d6rp16+aokVS0Y8WKFa53797uww8/jJpqzz33XMO77uhx28suuywKjxprO+64ozhUerfgQQcdFM2juwpPOeWUTjqI8SabbOI++OADN2jQIDd//vxOMrVNQsoNPTLc8XjsscfciBEjoj8ff/zx0fsGOx5oAIpTmJsJmh8a6Vw0ANOnXcpaYimk7o5+oAFYT0TapJPkSiIrqRffsnn1U+KXRNY3vzh9Gr+kc6XyVhx8+hV3vvq0Y8WG7Pj0m9PFjVvGXWtL09CSxMTJcuPNfNZyk9jtWDPSuRpfLW01unbBHYB+3qWqqQHp3LiaybKeQv1uS/lo5dEA1BIsx/yGDUBqdlGD6p///GcUJb1zjr7ySw2pgQMHtkd+zTXXRHepUQOQPmax3nrrFYrKPffc4/baa6/I5/PPP9/99Kc/beh/bUPt1FNPdeeee644TvrAB71HkI7Fixe7vn37NtRR22x86aWXXP/+/dvlKA/0YRJivdVWW7kXXnihqR80Tu80pIbiG2+80eldgGgAilOYmwmaH0DpXDQA06ddylpiKaTuRhfR9LfaL801++qcJAbOjqUuCU80AP02IDR51tSQJOc+feR0afySzpXKc777GvfpFxqA8VnhWHPjvnIu1YMG4MwIWdIGl4aXNDe18lnWT+31qyYG7VwrBtJrE21coeajARiK7P/qRQMwLN+iaO/UAKR3xv385z+Pmn703rdtttnGPfPMMw0bgPQuO2ow0Z2A1DQ8+uijixJ35OeZZ57ppkyZEv3/ze6mozF63Hbdddd1y5Ytix4Hnj17tjhOunPyzTffdPQ+vbb3DTZSct1117nx48dHQ9OnT3dHHHFEu9irr77a/jjvscceG33ko9lB420fCaF5W2yxRZ0oGoDiFOZmguZiQjoXDcD0aZeyllgKqbujH40uKtEArG+Ixm3EJLmSyErqxbdsXv2U+CWR9c0vTp/GL+lcqbwVB59+oQEYnzWONTduVRNxv0tSHyXynCw3Xuu3RJbjKtWFBiBHNNy4NFdpPUEDMC05/TyrHOs9RQPQB8My6KhrAD777LNuhx12iOKiD2HQo6Prr79+9FhsozsASe7EE0+M5A488ED35z//uVBMyOebbrop8pkeu6UmX7Nj++23d/PmzXMbbrihe/fdd0Vx0uPU9N4/aqruu+++7tZbb206nz7g0ZYDeh8hvZew7Zg5c6YbO3Zs9M/f/OY37oc//GFTPTT+ox/9KBqneR2/YNzWAFx77bXd4MGDo7s7P/300yjf9KGTffbZxx155JHRx09CHFb/BaJIi3JSzpqYpHPRAEyalc5yUtYSSyF1d/QDDcB6ItKLbEmuJLKSevEtm1c/JX5JZH3zi9On8Us6VypvxcGnX2gAxmeNY82NW9VE3O+S1EeJPCfLjdf6LZHluEp1oQHIEQ03Ls1VWk+s7KT1L+m8uDjyGmNe/WrE3Gr/nTTfkMuGQF0D8KijjnIzZsyI3iv38MMPtz82GtcApKbfIYccEt3ZFvdIajbhxVulOB9//HG31lprRV/6jTuo8UaNNDo+++yz6LHnpAfd8UfvGKSD3uF38cUXN526ZMmSqMlIBzVh6Y7AtoPu+Pve974X/ZPeKXjAAQc01UONTWpw0kHz6I7A2qOtARgXw5e//GV3ww03uK997WtJQ22XowUm7qDHoIcPHx6J0J2RdCdpiKNIi3LS+DUxSeeiAZg0K53lpKwllkLq7ugHGoD1RNAAxCPAknNVKqs5t6VzpfLSWNLK+/QLDcD4LHCsufG0OdbO0zS0JDFxstx4bZwSWY6PVJeGF+dL3LjUT42tRtcuSR+R9mmXu4YKZStL1j5jQgPQJ83OutAADMu3KNrrGoBf/epX3Wuvveb+9Kc/RU29tiOuAUjvx6MG0TrrrBN9EKRIBz3e/Pzzz7s+ffpEHzqJOw4++OCoGUYHNel69eqVONQnnniivdlF7xmk9w02O+guvLa77qjpePvtt7eLXnjhhe7kk0+O/v3f//3fbvTo0U310HjbXX+//OUv3Y9//OM6WXq0mBqTdKcf3XFIDKixSXcCXn755W7OnDmRPDVHH3roITdkyJDE8ZIg3TGa9EADMCmp/5XT/MhL56IBKMtNrbSUtcRSSN0d/UADsJ4IGoC6NUhS51JZyXkhkZX6oZHX+CWdK5XXxCWZ69MvNADjyXOsuXFJXn3Kahpakpg4WW481DWBxG7H60bpXE3eLG1p/Aw514qBlZ2QrLg9Tl5jzKtfjXKFBmDoCi6G/roGIDV7qAlEX7qtbfjENQDp/YDUQFpttdXc8uXLixH1v7zs16+fo/fj0Yc16EMZcQd97OTqq6+ORKQNK2qg0bsD6TjjjDPcOeec09QUvVexa9eu0fgee+zh7r333nZZel8hvbeQjvvuu8994xvfaKrn/vvvj+bTQfNOP/30Oln68nGzR57pUWWSP++886I5lF+qCUlTTyIr5SkpsiItyknj0sQknYsGYNKsdJaTspZYCqm7ox9oANYTQQMQDUDJuSqV1Zzb0rlSeWksaeV9+oUGYHwWONbceNoca+ehAYiPgGhryGq+1TlkZSc0t7g48hpjXv1qlCs0AENXcDH01zUAe/bsGT0KS3f1DRs2rD2CuAbgnXfeGd1ptsEGG4jfjZcUEX2Egz5Ioj3o8WZ69LXtqPIdgElY7rnnnu0NyL/97W9ul112STItksEjwIlRiQU1PzTSuXlpADZqSqV9tKOIDS2uKScuIsGEIvJKU+eEJElNoQGIBqDg9BGLSmu31oB0rlReHEzKCT79QgMQDUDN7ydXi9y45vyMy5zELunRNExTnsbRNKmfGlt5nWvFwMpOaM5oAIYljAZgWL5F0V7XABw0aFD0Hj96BLS2URbXAKRHS+mDE/Q+vUceeSRI3KEagFV+B2CSRNW+R/Dcc891p556apJpiWSsFqCy/CD6uojU8NDMTVQUAqHaxqRgWsML0lBNzpC8QurmNktF4CXlI5FHAzC/mzpNHqXrSCh5SQzcucr5qLHF6daM+/QLDUA0ADXnCVeL3LivazdNDGgAalYj/VxJjWisWdnR+JhkLhqASSill7Haf6f3EDMtCNQ1AH/wgx+4Sy65JHpcddasWe32mzUAX3/99eiLscuWLXOnnXZa7KOt2mDofXXaY6ONNnJ0l2PbQR/RuPnmm6N/hv4KML0jkQ7NV4DvuOOO6J19dGi/ApyEJb0fke6SpOP73/9+VBu+DqsFqCw/iL4uIjU8NHN91U2bHjQAZY//aPg32kC33Snnsyay1CWxjQYgGoCa84mbK6nFjrqkc6XynO++xn36hQZgfFY41ty4r5xL9dT6JfVRIs/JcuO+rt18nusSn6V50fqptZfH+Va8reyEZowGYFjCVvvvsFFAu5ZAXQOQmmzbbruto/fQnX322e3vjWvUAKR3/x100EHulVdeib6Iu2jRIrfxxhtr/TGdT+/To/fj0fHoo49GdzE2OugORHpfHjU6qTk6e/ZssZ+bbbZZ9O5A+lpyXDOTvvo7fvz4SP/06dMdfayj7aD3FdJ7C+n79LiTAAAgAElEQVSgr/rS132bHTT+hz/8IRqmeVtssYXY5wULFji6K5QONADF+IJN0PzIZzXXNww0ANEAjKspaZ1L5NEARAPQ93pWq09Six39kM6VyoeM2xcDjommcWQVP2fHZ944Xdw452uocU0efcYk0SWR5bhJdWl4cb74/C3W2MrrXGmu0sZhZSetf0nnoQGYlFQ6OTQA03Er26y6BiAFd9ZZZ0V38tFHHHbaaSdHd8n95Cc/if7961//2lEz7O67744+QkEfi6CDvk77ox/9qHBsKI5Ro0ZFftOXeekLvY0OeifiiBEjoqGf/exn7R/HkARMTT1q7tGxePFi17dv34bTjzvuOHfZZZdFYwsXLnRbbrlluxzx3mSTTdzf//53t9VWW0WPazc7tt5666jR+OUvfzlqPEo+ytGm88Ybb4yavHT84he/iO7y9HVYLUBl+UGs5a6JKau5vuqmTQ8agGgAxtWUtM4l8mgAogHoez3Lan2X1H3ImDvq9ulX3Pnq005Z+ITMhU9GmoaWz7xLdElkOVZSXRpenC8+f4s1tvI6V5qrtHFY2UnrX9J5aAAmJZVOzmr/nc47zLIi0KkBSIbpXW//8R//ETX4mjWO2pp/9LXYuK/aWgWSxg59tbh3795u6dKljhpmdMdbo3hrm3Jz5syp+0BKUrs33HCDO/jggyPxqVOnulNOOaXT1E8++SRq8NHjyAMHDoz86XjQnXi/+93voj83u2uxtmGpuXPvm9/8ZtTopYO+ZLzrrrsmDZeVs1qAyvKDWAtUE1NWc9mCEAqgAYgGoM9Nh+S8QAMQDUDhciUSl9RiR8XSuVJ5USAKYZ9+oQEYnwiONTeuSLNqqqah5TMmiS6JLAdHqkvDi/PF52+xxlZe50pzlTYOKztp/Us6Dw3ApKTSyVntv9N5h1lWBBo2AMk4NZHorji6S+6zzz6r82e11VZzu+++e3RHGD0SW+Sj9jHgCy64wJ100kl14VCTjWKkOx9HjhxZ927EWsG2xuHmm2/u6N2IHY8VK1ZETUZ6VLpHjx5u7ty57Y/ztslOnjzZXXrppdE/O36xuE3mpZdeit7LR/4MHTrUPfjgg27NNddsN/fpp59G/j755JOO8kTv8evfv3+dO5Rb8pPeidjooObuGWec4ejDH3Rsv/327umnn051F2Gz2rBagMryg1jLURNTVnN9rxFoAKIBmNWmAw1ANAB9r2dZre+a34O8MujoFxqA8ZniaoAbD1kHSdd4qY9S+aR+cCyyskt+oQHIZSfcuM+8+6rFcNHqNaMBqGcYp8Fq/x02CmjXEmjaAGxTTHfJPffcc+7dd991K1eudL169YreC7f22mtrbedi/kcffRQ10qixRscxxxzjxo0bFzXVHnjggehx348//jj6N33lePDgwQ395hqANOmvf/1r9BEPesdinz59oncsDh8+PLrjb9q0ae0fJKE77egjLF27dm1oix5DpuYsHUOGDIkeXaZ3A1Jzke7cpGYdHc0eV6bHvGn+6NGj3Z577hndbUjvOPz888/dvHnzoq9A052OdHTv3j3yZdiwYV7zZbUAWf3weoXDKNPElNVc33zQAEQDMKsLYWkDUFL7mvNTYkcrm1c/JX5JZLW8JPM1fknnSuUlcWhkffqFBmB8JjjW3Lgmz5q5moaWz5gkuiSyHBupLg0vzpesfos1flnOleYqrW9WdtL6l3QeGoBJSaWTs9p/p/MOs6wIsA1AK0eytEMfMhkzZox7+eWXG7pBd+xdc801buzYsU3dTNIApMnU6Dv++OMdNVYbHdQQnDlzpttggw2a2qIG4qRJk6KPhDQ7jjrqqOgjIPQBl44HNQDpIy/cQR8uufbaa90uu+zCiYrHrRagsvwg1gLWxJTVXHGBMBPQAEQDMKtNBxqAuAPQ93qW1fqu+T3IK4OOfpWxAeiTPVcD3LhPXyS6NA0tnzFJdElkORZSXRpenC9Z/RZr/LKcK81VWt+s7KT1L+k8NACTkkonZ7X/TucdZlkRqGsAvv/+++13+TVqHFk5lYUd+sLvJZdc4ujDF9QQpAbdpptuGjUGTzzxxOiR2bgjaQOQdNAdlb/97W+j9+vRBz3WWmut6PHgCRMmuKOPPjp6dDfJQXcUUpPviSeecEuWLImahnSnHn0B+Fvf+lZTFf/zP/8T3Y1IjzfTHX90d+d7770X2SUdO+ywQ3SnIn24ZI011kjiiljGagEqyw9iVhtEX3bFBcJMQAMQDcCsNh1oAKIB6Hs987XOSn/vpPIh4/bFoKOPaADGZ42rAW7cqibi8ir1USrv67cmK7vkPxqAWVWq3e+lz/rKjlY8r7zGmFe/GuXRav+dZQ3BNk+gZd68ea1TpkyJ3vVHj8PS8aUvfcn9v//3/9zJJ5/s6EMQOEDANwGrBahIi3JSxpqYspqbNLakcmgAogHoa1OWtOba5NAAtNvQaHOTVY1I/fbV/JKu71J5TVySuT79QgMQDUCuKSypTY2ukHXNxYAGIEco3LjPvBfxN01KFncASonJ5K323zKvIG1NoGXNNddspXe/tX3Vt82Btjva6F1xHT+MYe0k7JWPgNUCZPXDa5khTUxZzfXNBw1ANACzuhBGAxANQN/rGRqA9UQ1v1NcgyarRkjImtHo5lhz4xrbmrmaPPqMSaJLIsuxkerS8OJ8yeq3WOOX5VxprtL6ZmUnrX9J56EBmJRUOjmr/Xc67zDLikBLS0tLKxmjRz3p67L0GOiLL77oli5dGvlAjwI//PDDbqeddrLyCXYqQMBqASrLD2JWG0Rfdn2XNBqAaABmtelAAxANQN/rma91Vvp7J5UPGbcvBpIGoFU8ebbD1QA3nlVsmoZWVjH5tCvVpeGlybHUT42tvM61YmBlJzRnNADDErbaf4eNAtq1BFq6dOnSSh+loK/d0rvo6Pjiiy/cRRddFN35R3cGHnjgge7666/X2sJ8EGgnYLUAleUH0dfmSMNDM9d36aMBiAYgGoC+z6rk+vK0FqRdG8sQA9fs4jJaRgYck7zGzOUq1DjHgxsP5RenV+OXZi7nl9XvkjQGNAA1mdPNleYqrTUrO2n9SzoPDcCkpNLJWe2/03mHWVYEWsaMGdNKX51tdFAD8Fe/+pVbf/31o49M4AABXwSsFqCy/CCm3eRymyFJPvPEEg1ANACtNlrcOeTzvPCpS3JuS2Xz6qfEL4mslI9GXuOXdK5UXhOXZK5Pvzrq8qlbElNeZTke3HhWcWn80szVxOvTrlQXGoCazOnmSnOV1pqVnbT+JZ2HBmBSUunkrPbf6bzDLCsCLTfffHPrfvvt19DeSy+95LbaaitH7wNcvHix6927t5VfsFNyAlYLUFl+ENEArD8hNA3ARg2d18/fO/qzz3rxqYtrQoVcLhptoPPOy5K9T1s+dVnWREhbEt0SfhJZiQ9aWY1f0rlSeW1sSef79AsNwHjqHGtuPGlOfctp/NLM1cTh065UFxqAmszp5kpzldaalZ20/iWdhwZgUlLp5Kz23+m8wywrAi3PPPNM6/bbb9/QHj0KTF8EpgYgvRewf//+Vn7BTskJWC1AZflBRAMQDUBfNSBdWtAA7Fx79Je8N0GleZbI53VdlfglkZWw0cpq/JLOlcprY0s636dfaACiAdiRgM/6SlrTJOfTrlQXGoCSTPmVleYqrXUrO2n9SzoPDcCkpNLJWe2/03mHWVYEWhYsWNA6cODApvboIyDUAJw/f76Lk7NyGHbKQcBqASrLD6Kv5o+Gh2au76olX9oaMFrdtbp8xuhTV5YbGDQA0QDMsv4k57fknJPISnzQymr8ks6VymtjSzrfp19oAKIBmJf1K2Rdc+cWGoAcoXDjPvMe56WVnXCk/lczGoBhCVvtv8NGAe1aAmgAaglifioCVgtQWX4Q0QDs3ITx1QD0xdZyk2FZ12gAogFoWdupflD+NUlyXkhkNT5J52r8ks6VyktjSSvv0y80ANEAzMv6FbKuuXMNDUCOULhxn3lHA9Du/dfhKiJbzVb772yjhHWOABqAHCGMByFgtQBZ/fAGgdREqSamrOb65lN7155P3Ro+lpsMn35y/NAARAPQsra5evS1AbI8hyQxafySzpXKS+LQyPr0Cw1ANADzsn6FrGvufEMDkCMUbtxn3n39/oWLVq+5iHcA6qO202C1/7aLCJbSEGgZPnx461prrdV07qxZs6JHgIcOHeri5EjmvvvuS+MD5lSQgNUCZPXDa5lCTUxZzfXNBw1Au/8KigYgGoB52UBz64hkfZPIcnZ9jmv8ks6VyvuM02ojiwYgGoB5Wb98nm9SXWgAWq1ene1Ic5XWUys7af1LOg8NwKSk0slZ7b/TeYdZVgRaunTp0qo11traGjUJV65cqVWF+RUhYLUAleUHsbYsNDFlNdd3WaMBiAagVQOB2zxqzilOt+/zxpc+nzH78kmqJ68xaPySzpXKSxmnlffpFxqAaADmZZ0NWdfcuYYGIEco3LjPvGd13ROOjqxhasXSMl5rW1b7b+u4YE9GoKWlpUXdACSTaADKwFdd2moBKuOPhSamrOb6rnc0ANEAzOpCOGRDQXN++j7HsuJrFUdeWWv8ks6VyhcxNyHPVyseIe1wNcCNh/Qt1BqUVUw+7Up1oQGYVaX6/fpzqHMiOzpoAFqzt9p/W8cFezICLa10+x4OEDAmYLUASS+SjDGkMqeJKau5qQKNmYQGIBqAWV0Ih2woaM5P3+dYVnyt4sgra41f0rlS+SLmJuT5asUjpB2uBrjxkL6FWoOyismnXakuNACzqlQ0AKXk42pbWvdS21WQt9p/V4FlkWNEA7DI2Suw71YLUBl/LDQxZTXXd6miAYgGYKjNIVeraCjYbWi4XGjGNWuhxi43V+OXdK5UnvPd17hPv3C+xmeFY82N+8q5VI/GL81cqZ+18j7tSnWhAajJnG6uNFdprVnZSetf0nloACYllU7Oav+dzjvMsiKABqAVadipI2C1AJXlB9HXRaSGh2au7/IvQgPQd8y+akDqV6MN9Ovn7x2p8VkTedXVkRcaCn7zLq1HX/I+682XT77PKc6vKjDA+YoGILeGc+eJr3Gf55tGl2aulIWlLalvVvJWDKzshOaGBmBYwlb777BRQLuWABqAWoKYn4qA1QJUlh9EX80fDQ/N3FRFEjMJDUDcARhXUyFrFQ0FNAB9r2e+1nepXyHPE6kvoeRxvqIBiAZgPQHL897SVqg1RKvXioGVHS0Pbj4agBwh3bjV/lvnJWaHJoAGYGjC0N+QgNUCVJYfRF8bRA0PzVzfpwEagPloAPrMq8/68qmL2zyGtOWTr09dZYg5rzFY+mVpy2f9SXShAYgGILeGS+pJI+vzfNPo0syVxm9pS+qblbwVAys7obmhARiWsNX+O2wU0K4lgAagliDmpyJgtQCV5QcRDcD6MkMDEA3AuIUn5HmPhgLuAEz1o5dwUsjazUsjJCEKL2I4X9EALGPda9YJzVzpSWlpS+qblbwVAys7Vtwa2alCjKH5Wu2/Q8cB/ToCaADq+GF2SgJWC1AZfyw0MWU1N2WZNJ1W9Qagb56SZloR2GvqnGOLhgIagFyNaMZD1m4ZGyEca5yvaACWse4164RmLne+lZG1NOasGFjmVcsk7fwqxJiWTdJ5VvvvpP5ALhsCaABmw73yVq0WoDL+WGhiymqu74IvQhPKd8xZ6Wu0gW77CIhPnzS1aXnBjYYCGoA+696ydkP6nVfdOF/RACzjOab5vdTMlZ7nlrakvlnJWzGwsmPFrZGdKsQYmq/V/jt0HNCvI4AGoI4fZqckYLUAlfHHQhNTVnNTlknTaWgA+ibaXB8agPVs0FBAAzDk2adZo0P6VVTdOF/L2QDU1GMZzjFNDJq5Uu6WtqS+WclbMbCyY8UNDcAwpK3232G8h1ZfBNAA9EUSekQErBagMv4gamLKaq6oOBIIowGYAJInEU3NSFzwacenro4xoKGABqCkrqWyIWtX6gvky0+AqzduvIiEyhCTJgbNXGm+LW1JfbOSt2JgZceKGxqAYUhb7b/DeA+tvgigAeiLJPSICGABEuGqE9b8yGc1N320jWeiAeibaHN9mpqReOnTjk9daAB2zmJIvpKa0cjmNYa8+qVhjbn5JcDVGzee38iy/00LyUaTF81caUyWtqS+WclbMbCyY8UNDcAwpLH/DsO1aFrRACxaxkriLxag9InU/MhnNTd9tGgA+mYn1aepGYktn3Z86kIDEA1ASR1rZUPWrtY3zC8fAa7euPEiEilDTJoYNHOl+ba0JfXNSt6KgZUdK25oAIYhjf13GK5F01rXALz++uvdfvvt5770pS8VLQ74WzACWICySZjmAkEz13e0uAPQN9Hm+qzy7tOOT11oAKIBaHe2lePxaktesKUjwK2V3LjOejazyxCTJgbNXGnGLG1JfbOSt2JgZceKGxqAYUhj/x2Ga9G01jUAu3Tp4tZbbz03fvx4d+SRR7ohQ4YULR74WxACWICySZTmAkEz13e0aAD6JooGYFKiHc+DPJ0XSWPQypUh5rzGkFe/tDWD+fkkwNUbN57PqOK9KkNMmhg0c6X5trQl9c1K3oqBlR0rbmgAhiGN/XcYrkXT2qkBSAG0tLREcWy33XbuqKOOchMmTIgagzhAwBcBLEC+SMr0VOECQUakXhp8OtOzYmJlR1MfNBcNwHLcpZbXesurX9rzBvPzSYCrN248n1GhARhHwDKnlrbyWotWDKzsZMm5CjGG5ov9d2jCxdBf1wC844473IwZMxz93xUrVkQRUDOQHgn+zne+44444gi31157FSMyeJlrAliAskkPfjzLvzHwXVlWNWNlR8sHDUA0ALU1lJfNecg4oLsYBLh1lxsvRpTl+w99mrxo5krzbWlL6puVvBUDKztW3BrZqUKMofli/x2acDH0N/wIyHvvveeuuuoqd8UVV7j58+e3NwLp/9lkk03cxIkTo/9tscUWxYgSXuaOABagbFKCH080AKWVZ1UzVnak8XeURwMQDUBtDaEBGJIgdEsIcOsuNy6xlRfZMsSkiUEzV5pDS1tS36zkrRhY2bHiBjthCGD/HYZr0bSyXwGeO3eumz59urvuuuvcBx980N4MpDsDR44cGT0ivP/++7tu3boVLXb4myEBLEDZwMcFAhqA0sqzqhkrO9L40QDsTKwouSpio60MbLXnGObbEeDqjRu389SfpTLEpIlBM1eaBUtbUt+s5K0YWNmx4gY7YQhg/x2Ga9G0sg3AtoCWL1/ubr311ugR4XvuucetWrWqvRnYs2dPd8ghh0SPCA8dOrRoDOBvBgSwAGUAvcH7y7LxIr9WcQFVzmaPz4rDHYC4A9BnPXEN5pC2oBsEuN88bryIBMsQkyYGzVxpvi1tSX2zkrdiYGXHihvshCGA/XcYrkXTmrgBWBvYW2+95a688kp30UUXuXfeeae9EUj/z6BBg9z3vve96BHhNdZYo2g84K8RASxARqA7mMEFQjx38EEDkDsz0QBEA5CrEc041iANPcyVEuDqjRuX2suDfBli0sSgmSvNn6UtqW9W8lYMrOxYcYOdMASw/w7DtWhaxQ3ATz75xN14443RnYAPPfRQFG9ra2td3PR4cO/evd3FF18cPR6MAwQ6EsAClE1N4AIBDUBp5aFm6omhAYgGoPQcksjjfJPQgqyWAFdv3LjWfhbzyxCTJgbNXGm+LG1JfbOSt2JgZceKG+yEIYD9dxiuRdOauAH4t7/9LWr6UfNv2bJl7Y2/9dZbz02YMMEdeuih0QdD6H2BjzzySDROjcCZM2e60aNHF40L/A1MAAtQYMBN1OMCAQ1AaeWhZtAA7FgzZaiJvMaQV7+k6wbki0GAqzduvBhRxq/hVYvBMqeWtvKaRysGVnbyyhl+JSOA/XcyTmWXim0Atj3qS18DXrRoUXvTr+0DIEcffXTDD4BQA5Aagq+99prbZZdd2u8ULDtMxJecABag5Kx8SuICAQ1AaT2hZtAARANQetakl8f5lp4dZsoJcPXGjcstZj+jDDEVJYai+BmyKq0YWNkJyQq6wxPA/js84yJY6NQApI99/OUvf4nu9rvvvvuij320PeLbt29fd/jhhztq/PXr1y82PvpgyH777ed69OjhPvzwwyKwgI+GBLAAGcKuMYULBDQApZWHmkEDEA1A6VmTXh7nW3p2mCknwNUbNy63mP2MMsRUlBiK4mfIqrRiYGUnJCvoDk8A++/wjItgoa4BOHnyZHfddde5pUuXRr5T469r165u1KhRbtKkSW7s2LHRv5McL7/8shswYED0GPDKlSuTTIFMhQhgAcom2bhAQANQWnmoGTQA0QCUnjXp5XG+pWeHmXICXL1x43KL2c8oQ0xFiaEofoasSisGVnZCsoLu8ASw/w7PuAgW6hqAXbp0aff5K1/5ijvyyCOj/2288cbiWN544w232267OdL56quviudjQrkJYAHKJr+4QEADUFp5qBk0ANEAlJ416eVxvqVnh5lyAly9ceNyi9nPKENMRYmhKH6GrEorBlZ2QrKC7vAEsP8Oz7gIFuoagN26dXPf+c53okd899xzzyL4Dx8LSgALUEETV3K3cQHVOcFgggYgGoB2Cx/ONzvWsMR/0buM9ViGmIoSQ1H8DLkWWDGwshOSFXSHJ4D9d3jGRbBQ1wB87733XK9evYrgN3wsOAEsQAVPINyvDAFcVKIBiAag3emO882ONSxVswFYhrwXZZ0oip8ha8KKgZWdkKygOzwB7L/DMy6ChdivABchAPhYTAJYgIqZN3hdPQK4qEQDEA1Au/Me55sda1hCA7CoNVCUdaIofoasAysGVnZCsoLu8ASw/w7PuAgW0AAsQpZK6CMWoBImFSGVkgAuKtEARAPQ7tTG+WbHGpbQACxqDRRlnSiKnyHrwIqBlZ2QrKA7PAHsv8MzLoKFltmzZ7f6cpQ++oEDBJIQwAKUhBJkQCB7ArioRAMQDUC78xDnmx1rWEIDsKg1UJR1oih+hqwDKwZWdkKygu7wBLD/Ds+4CBZaunTp4qUB2NLS4r744osixAwfc0AAC1AOkgAXQCABAVxUogGIBmCCE8WTCM43TyChJhEBrt648URGIOSdQFHyUhQ/vSeoRqEVAys7IVlBd3gC2H+HZ1wECy0tLS3eGoArV64sQszwMQcEsADlIAlwAQQSEMBFJRqAaAAmOFE8ieB88wQSahIR4OqNG09kBELeCRQlL0Xx03uC0AAMiRS6FQSw/1bAK9HUllmzZnlpABKTkSNHlggNQglJAAtQSLrQDQL+COACHg1ANAD9nU+cJpxvHCGM+yTA1Rs37tMX6CofAdQP/5i9r6yDtS+S5daD/Xe585s0OnwEJCkpyHklgAXIK04oA4FgBHBRiQYgGoDBTq9OinG+2bGGJb45gXpElWgIoH74c0zDt3YuWPsiWW492H+XO79Jo0MDMCkpyHklgAXIK04oA4FgBHBRiQYgGoDBTi80AO3QwlIDAtz6zo0DKgjEEUD9oAGIMyRfBLD/zlc+svIGDcCsyFfcLhagihcAwgeBghLouKGp4ganDDHnNYa8+lXQ0xVuMwS4euPGARgE0ACMrwGrc8jKDiq+2ASw/y52/nx5jwagL5LQIyKABUiEC8IgAAI5IYAGoN0dDSFTntfNUl79CpkL6M6OAFdv3Hh2nsNyEQigfux+L8G6CGdE9j5i/519DvLgQV0D8JxzzlH5dOaZZ6rmY3J1CGABqk6uESkIlIkAGoB2G5oy1U3SWLCJS0oKcj4IcPXGjfvwATrKSwD1Y/d7CdblPY98Rob9t0+axdVV1wDs0qWLa2lpSR3NypUrU8/FxGoRwAJUrXwjWhAoCwE0AO02NGWpGUkc2MRJaEFWS4CrN25cax/zy00A9WP3ewnW5T6XfEWH/bcvksXW06kBqAln1apVmumYWyECWIAqlGyECgIlIoAGoN2GpkRlkzgUbOISo4KgBwJcvXHjHlyAihITQP3Y/V6CdYlPJI+hYf/tEWaBVeEdgAVOXpFdxwJU5OzBdxCoLgE0AO02NFWsMmziqpj17GLm6o0bz85zWC4CAdSP3e8lWBfhjMjeR+y/s89BHjxAAzAPWaigD1iAKph0hAwCJSCABqDdhqYE5SIOAZs4MTJMUBDg6o0bV5jG1AoQQP3Y/V6CdQVOKA8hYv/tAWIJVKABWIIkFjEELEBFzBp8BgEQQAPQbkNTxWrDJq6KWc8uZq7euPHsPIflIhBA/dj9XoJ1Ec6I7H3E/jv7HOTBAzQA85CFCvqABaiCSUfIIFACAmgA2m1oSlAu4hCwiRMjwwQFAa7euHGFaUytAAHUj12SwdqOdZEtYf9d5Oz58x0NQH8soUlAAAuQABZEQQAEckMADUA0AEMWIzZxIelCd0cCXL1x4yAKAnEEUD929QHWdqyLbAn77yJnz5/vTRuADzzwgLv11lvds88+65YsWeI+/fRT19ra2tRyS0uLW7RokT/PoKnUBLAAlTq9CA4ESksADUA0AEMWNzZxIelCNxqAqAFLAljP7GiDtR3rIlvC/rvI2fPne6cG4LvvvuvGjRvnZs+eHVlp1vSjhl/tGP175cqV/jyDplITwAJU6vQiOBAoLQE0ANEADFnc2MSFpAvdaACiBiwJYD2zow3WdqyLbAn77yJnz5/vdQ3AFStWuJ133tk988wzUXNvyJAhbuONN3YzZ8501OD77ne/6z744AM3d+5c9/e//z362w477OAGDRoUeTRjxgx/nkFTqQlgASp1ehEcCJSWABqAaACGLG5s4kLShW40AFEDlgSwntnRBms71kW2hP13kbPnz/e6BuC0adPcscceGzX2pk+f7g4//HC3YMECt+2220Z/q73D77bbbnOTJ0+OGoJXXXWV23///f15BU2lJ4AFqPQpRoAgUAkCVbzormLMVsUMtjVCVvgAACAASURBVFakYYcIcPXGjYMiCMQRQP3Y1QdY27EusiXsv4ucPX++1zUAR48e7e6++273rW99K7rrj45mDUAao3f+DR061H3xxRfRXYH9+/f35xk0lZoAFqBSpxfBgUBlCFTxoruKMVsVNNhakYYdNABRA6EJYD0LTfj/9IO1HesiW8L+u8jZ8+d7XQNwo402cvQOwD/96U/ukEMO6dQApEYf3QlYe5x11lnunHPOcd///vfdxRdf7M8zaCo1ASxApU4vggOByhCo4kV3FWO2KmiwtSINO2gAogZCE8B6FpowGoB2hMthCfvvcuRRG0VdA7Bbt27R3XwPP/xw9C5AOl5++WU3YMCAqPH3z3/+06211lp1Nh966CE3cuTI6O6/hQsXav3B/IoQwAJUkUQjTBAoOYEqbnCqGLNVGYOtFWnYQQMQNRCaANaz0ITRALQjXA5L2H+XI4/aKOoagOuss4775JNP3BNPPBF93IOOd955x9GdgdQAfOGFF9yWW25ZZ5Nkd9ppJ9e9e3f38ccfa/3B/IoQwAJUkUQjTBAoOYEqbnCqGLNVGYOtFWnYQQMQNRCaANaz0ITRALQjXA5L2H+XI4/aKOoagNtss4178cUX3R133BG9B7Dt6NmzZ9Tcu+KKK9yhhx5aZ5P+duSRR0Z3Bn700UdafzC/IgSwAFUk0QgTBEpOoIobnCrGbFXGYGtFGnbQAEQNhCaA9Sw0YTQA7QiXwxL23+XIozaKugYgNfeuvfZaN2XKFHfqqae2695nn32ij4LQXYH0eDA9KkzH0qVL3YgRI6JHf+ljII8//rjWH8yvCAEsQBVJNMIEgZITqOIGp4oxW5Ux2FqRhh00AFEDoQlgPQtNGA1AO8LlsIT9dznyqI2irgHYdjcfNfWo0dd2UPOPmoD0GHC/fv3cvvvuGz0qfPvttzsqJPr7b3/7Wzd58mStP5hfEQJYgCqSaIQJAiUnUMUNThVjtipjsLUiDTtoAKIGQhPAehaaMBqAdoTLYQn773LkURtFXQPwww8/dIMHD3atra3u/vvvj5p9bcfRRx/tpk+fHv2z7UvAJEfHqFGjojsEu3TpovUH8ytCAAtQRRKNMEGg5ASquMGpYsxWZQy2VqRhBw1A1EBoAljPQhNGA9COcDksYf9djjxqo6hrAHLKLr/8cvfHP/7RLViwIPpaMH3597DDDnMnnniiW2211bjpGAeBdgJYgFAMIAACZSBQxQ1OFWO2qlWwtSINO2gAogZCE8B6FpowGoB2hMthCfvvcuRRG4WoAag1hvkg0EYACxBqAQRAAASKSQCbunB5A9twbKG5MwGu3rhxMAWBOAKoH7v6AGs71kW2hP13kbPnz3c0AP2xhCYBASxAAlgQBQEQAIEcEcBGI1wywDYcW2hGAxA1YEsA65kdb7C2Y11kS9h/Fzl7/nxHA9AfS2gSEMACJIAFURAAARDIEQFsNMIlA2zDsYVmNABRA7YEsJ7Z8QZrO9ZFtoT9d5Gz58/3ugbgypUr3RNPPOEeeugh99JLL7kPPvjAffTRR65Hjx5u/fXXdwMGDHC77rqrGzp0aOk++EFfNb7kkkvcjTfe6F555RW3fPlyt+mmm7q9997bnXDCCW6zzTbzRp3eoXjRRRe5e++917311ltu7bXXdltvvbWbMGGCO+qoo2Lfp7hq1Sr34osvujlz5kT/o3zNmzcv8peOBx54wH39619P7Ktl3LVOYQFKnCIIggAIgECuCGCjES4dYBuOLTSjAYgasCWA9cyON1jbsS6yJey/i5w9f75HDUD6oMell17qfvnLX0YNKe6gxthJJ53kjjvuONe1a1dOPPfjixYtihp9CxcubOhrz5493bXXXuvGjBmjjoU+pDJ58mT3+eefN9S18847uzvuuMP16tWr4fiVV17pJk6c2NQPSQPQMu6ODmMBUpcSFIAACIBAJgSw0QiHHWzDsYVmNABRA7YEsJ7Z8QZrO9ZFtoT9d5Gz58/3liVLlrTut99+7m9/+1uktbW1ldXe0tISydCdZnTHHN0dWNTj448/dsOGDYvuqqNj0qRJbty4cW7NNdeM7qabOnWqI5nu3bu7Rx991G233XapQ73rrruiJiLdxdenTx932mmnuZ122sm9//77btq0ae6WW26JdO+2226R7S5dunSydcUVV7gjjjgi+vvqq6/uBg0aFH2Ref78+dHfkjYALeNuBAwLUOoywkQQAAEQyJQANhrh8INtOLbQ3JkAV2/cOJiCQBwB1I9dfYC1HesiW8L+u8jZ8+d7y0477dRKj5FS448ae3vuuaf75je/6XbYYYfoLjR6PJUeA16yZIl7+umn3T333OPuu+++dvkRI0a4Bx98sLCPBJ911lnu7LPPjohecMEF0Z2NtQc1/aghR0223Xff3d1///2p6NN8esyXHi+mR6rnzp3r+vXrV6eL7gykOzHpoDv9DjvssE626LHfxx57zA0fPtwNHjzYrbHGGq42hqQNQKu4m8HCApSqjDAJBEAABDIngI1GuBSAbTi20IwGIGrAlgDWMzveYG3HusiWsP8ucvb8+d7S0tLSSo0/aiZdffXVbuDAgaz25557LmpOPfPMM1HT8LzzznM//elP2Xl5E1ixYoXr3bu3+/DDD6PmHMXV6K47etT5sssui9x/8skn3Y477igOhe6UPOigg6J5dFfhKaec0kkHvY9vk002id69SHf2td3VxxmTNgAt40YDkMsexkEABECgWASw0QiXL7ANxxaa0QBEDdgSwHpmxxus7VgX2RIagEXOnj/fW7p06dI6ZMiQ6BFgupss6fHZZ5+5XXbZJborkJpoVFCrrbZa0um5kKO7Gffaa6/Il/PPP79pE5PuuKM7Hek49dRT3bnnniv2nz7wQe8RpGPx4sWub9++DXXUNhvpQyz9+/dnbUkbgJZxowHIpg8CIAACIFAoAthohEsX2IZjC81oAKIGbAlgPbPjDdZ2rItsCQ3AImfPn+8tXbt2baU7zegOOOnx/PPPu2233TaadvPNN7vvfOc7UhWZyp955pluypQpkQ/0qC99gKPRQY/vrrvuum7ZsmXR48CzZ88W+01fEX7zzTejLym3vW+wkZLrrrvOjR8/PhqaPn16+/v+4gxKG4CWcTfzGwuQuIQwAQRAAARyQQAbjXBpANtwbKG5MwGu3rhxMAWBOAKoH7v6AGs71kW2hP13kbPnz/eWUaNGtd55552pNY4ePTp6L+APf/hD96tf/Sq1niwmHnjgge6mm26KTNNjt9Tka3Zsv/32bt68eW7DDTd07777rshd+uAGvfeP3rO47777ultvvbXpfLqjkt6/SAe9j5DeS8gd0gagVdxxfmMB4rKKcRAAARDIJwFsNMLlBWzDsYVmNABRA7YEsJ7Z8QZrO9ZFtoT9d5Gz58/3lgsuuKC144cvJOovvPDC6NFZujNu1qxZkqmZy9Idf48//rhba621oi/9xh1jx451M2fOjETo8edu3bol9p/u+Gu7w5I+9HHxxRc3nUsfW6EmIx30NWK6I5A7pA1Ai7hpgYk76DFo+pAJHXRnJL37EAcIgAAIgED+CWCjES5HYBuOLTR3JsDVGzcOpiAQRwD1Y1cfYG3HusiW0AAscvb8+d5y5513to4aNSq1xrvuust961vfcptvvrl77bXXUuvJYuI222zj6DHmPn36uLfffjvWhYMPPtjdcMMNkQw16egLyUkP+spyW7OLmqX0vsFmx6effuq6d+8eDVPT8fbbb2fNSBuAFnHTx2GSHmgAJiUFORAAARDIngA2GuFyALbh2EJzZwJcvXHjYAoCcQRQP3b1AdZ2rItsCQ3AImfPn+8tjz/+eGtbcyqN2jlz5kTvzqPHZ99///00KjKb069fP/fqq6+6TTfd1L3xxhuxftBXj+kryXRIG1YPPfRQdIckHWeccYY755xzmtpatWqV69q1azS+xx57uHvvvZflI20AWsSNBiCbNgiAAAiAQCEJYKMRLm1gG44tNKMBiBqwJYD1zI43WNuxLrIlNACLnD1/vrcsWLCgdeDAgak1LliwIPoQCDWtVqxYkVpP3ET6CMfqq6+u1j1jxgw3ceLEdj0Wd8KRsSreAYhHgNXlCgUgAAIgkEsC2GiESwvYhmMLzWgAogZsCWA9s+MN1nasi2wJDcAiZ8+f794agHTH18qVK/15VqMpVAPQ4l14FEYV3wHIFQIWII4QxkEABEAgnwSw0QiXF7ANxxaa0QBEDdgSwHpmxxus7VgX2RL230XOnj/fC9EAbGuiacPeaKONXM+ePdvVHHDAAe7mm2+O/h36K8DrrLNOZCcPXwG2ijsuX1iAtNWM+SAAAiCQDQFsNMJxB9twbKEZDUDUgC0BrGd2vMHajnWRLWH/XeTs+fO9ZfLkya29e/dOrfHdd991l156qQt5B2Bq55iJZ555ppsyZUok9eijj0bvMmx00B2I9I7DZcuWRe/ymz17ttilzTbbLHp34IABA6I7Apsd9NXf8ePHR8PTp093RxxxBGtL+g5Ay7ibOY8FiE0rBEAABEAglwSw0QiXFrANxxaa0QBEDdgSwHpmxxus7VgX2RL230XOnj/fW7p06dKqVdfa2lrIBuDdd9/t2r6ATF/mpS/0Njoee+wxN2LEiGjoZz/7mTvvvPPEyKipR809OhYvXuz69u3bUMdxxx3nLrvssmhs4cKFbsstt2RtSRuAlnGjAcimDwIgAAIgUCgC2GiESxfYhmMLzWgAogZsCWA9s+MN1nasi2wJDcAiZ8+f7y0tLS3qBiC5U8Q7AJcvX+7o7selS5e6rbfe2tEHTRp9vba2KUdfPR42bJg4AzfccIM7+OCDo3lTp051p5xySicdn3zyidtkk02ix5HpwyzkT5JD2gC0jBsNwCQZhAwIgAAIFIcANhrhcgW24dhCMxqAqAFbAljP7HiDtR3rIltCA7DI2fPne8usWbO8NADJpZEjR/rzzEhT7eOwF1xwgTvppJPqLNOjwfTYLz0GTPHNmjWroWdtjcPNN9/cvf76651k6AvJ1GRctGiR69Gjh5s7d67r169fndzkyZOjx6np6PjF4jgc0gYg6fIVd9o0YQFKSw7zQAAEQCBbAthohOMPtuHYQjMagKgBWwJYz+x4g7Ud6yJbwv67yNnz53tLKz2/W+Hjo48+ckOHDnUvvfRSROGYY45x48aNc2uuuaZ74IEHosd9P/744+jfjzzyiBs8eHCqBiBN+utf/+r22Wcft2rVKtenTx93+umnu+HDh0d3/E2bNq39gyS77rpr1Gjs2rVrQ1tXXHFF3d9vvfVWd9ttt0V/o8eYt9pqq/bxr371q470dTx8xZ22dLAApSWHeSAAAiCQLQFsNMLxB9twbKEZDUDUgC0BrGe2vGENBDgC2H9zhKoxXvkGIKX5lVdecWPGjHEvv/xyw6zTHXvXXHONGzt2bNOq4O4AbJtIjb7jjz/e0WO4jQ5qCM6cOdNtsMEGrK0kJXr44Ye7jg3Dtnk+4k7iQyMZLEBpyWEeCIAACGRLAJu6cPzBNhxbaEYDEDVgSwDrmS1vWAMBjgD23xyhaoyjAfivPNMXfi+55BJ34403Rg1BatBtuummUWPwxBNPdPRob9yRtAFIOp577jn329/+1t13333u73//u1trrbWix4MnTJjgjj76aLfaaqslspWkROMagDRfG3cSH9AATEsJ80AABEAgfwSwqQuXE7ANxxaa0QBEDdgSwHpmyxvWQIAjgAYgR6ga42gAViPPuYsSC1DuUgKHQAAEQCARAWzqEmFKJQS2qbBhUkoCXL1x4ynNYlpFCKB+KpJohFkYAth/FyZVQR1FAzAoXihvRgALEGoDBEAABIpJAJu6cHkD23BsobkzAa7euHEwBYE4Aqgf1AcI5IsA9t/5ykdW3qABmBX5itvFAlTxAkD4IAAChSWATV241IFtOLbQjAYgasCWANYzW96wBgIcAey/OULVGEcDsBp5zl2UWIBylxI4BAIgAAKJCGBTlwhTKiGwTYUNk1IS4OqNG09pFtMqQgD1U5FEI8zCEMD+uzCpCuooGoBB8UJ5MwJYgFAbIAACIFBMAtjUhcsb2IZjC82dCXD1xo2DKQjEEUD9oD5AIF8EsP/OVz6y8gYNwKzIV9wuFqCKFwDCBwEQKCwBbOrCpQ5sw7GFZjQAUQO2BLCe2fKGNRDgCGD/zRGqxjgagNXIc+6ixAKUu5TAIRAAARBIRACbukSYUgmBbSpsmJSSAFdv3HhKs5hWEQKon4okGmEWhgD234VJVVBH0QAMihfKmxHAAoTaAAEQAIFiEsCmLlzewDYcW2juTICrN24cTEEgjgDqB/UBAvkigP13vvKRlTdoAGZFvuJ2sQBVvAAQPgiAQGEJYFMXLnVgG44tNKMBiBqwJYD1zJY3rIEARwD7b45QNcbRAKxGnnMXJRag3KUEDoEACIBAIgLY1CXClEoIbFNhw6SUBLh648ZTmsW0ihBA/VQk0QizMASw/y5MqoI6igZgULxQ3owAFiDUBgiAAAgUkwA2deHyBrbh2EJzZwJcvXHjYAoCcQRQP6gPEMgXAey/85WPrLxBAzAr8hW3iwWo4gWA8EEABApLAJu6cKkD23BsoRkNQNSALQGsZ7a8YQ0EOALYf3OEqjGOBmA18py7KLEA5S4lcAgEQAAEEhHApi4RplRCYJsKGyalJMDVGzee0iymVYQA6qciiUaYhSGA/XdhUhXUUTQAg+KF8mYEsAChNkAABECgmASwqQuXN7ANxxaaOxPg6o0bB1MQiCOA+kF9gEC+CGD/na98ZOUNGoBZka+4XSxAFS8AhA8CIFBYAtjUhUsd2IZjC81oAKIGbAlgPbPlDWsgwBHA/psjVI1xNACrkefcRYkFKHcpgUMgAAIgkIgANnWJMKUSAttU2DApJQGu3rjxlGYxrSIEUD8VSTTCLAwB7L8Lk6qgjqIBGBQvlDcjgAUItQECIAACxSSATV24vIFtOLbQ3JkAV2/cOJiCQBwB1A/qAwTyRQD773zlIytv0ADMinzF7WIBqngBIHwQAIHCEsCmLlzqwDYcW2hGAxA1YEsA65ktb1gDAY4A9t8coWqMowFYjTznLkosQLlLCRwCARAAgUQEsKlLhCmVENimwoZJKQlw9caNpzSLaRUhgPqpSKIRZmEIYP9dmFQFdRQNwKB4obwZASxAqA0QAAEQKCYBbOrC5Q1sw7GFZjkB1KOcGWb8HwHUD6oBBPJFAPvvfOUjK2/QAMyKfMXtYgGqeAEgfBAAgcISwKYuXOrANhxbaJYTQD3KmWEGGoCoARDIKwHsv/OaGVu/0AC05Q1r/yKABQilAAIgAALFJICmQLi8gW04ttAsJ4B6lDPDDDQAUQMgkFcC2H/nNTO2fqEBaMsb1tAARA2AAAiAQKEJoCkQLn1gG44tNMsJoB7lzDADDUDUAAjklQAagHnNjK1faADa8oY1NABRAyAAAiBQaAJoCoRLH9iGYwvNcgKoRzkzzEADEDUAAnklgAZgXjNj6xcagLa8YQ0NQNQACIAACBSaAJoC4dIHtuHYQrOcAOpRzgwz0ABEDYBAXgmgAZjXzNj6hQagLW9YQwMQNQACIAAChSaApkC49IFtOLbQLCeAepQzwww0AFEDIJBXAmgA5jUztn6hAWjLG9bQAEQNgAAIgEChCaApEC59YBuOLTTLCaAe5cwwAw1A1AAI5JUAGoB5zYytX2gA2vKGNTQAUQMgAAIgUGgCaAqESx/YhmMLzXICqEc5M8xAAxA1AAJ5JYAGYF4zY+sXGoC2vGENDUDUAAiAAAgUmgCaAuHSB7bh2EKznADqUc4MM9AARA2AQF4JoAGY18zY+oUGoC1vWEMDEDUAAiAAAoUmgKZAuPSBbTi20CwngHqUM8MMNABRAyCQVwJoAOY1M7Z+oQFoyxvW0ABEDYAACIBAoQmgKRAufWAbji00ywmgHuXMMAMNQNQACOSVABqAec2MrV9oANryhjU0AFEDIAACIFBoAmgKhEsf2IZjC81yAqhHOTPMQAMQNQACeSWABmBeM2PrFxqAtrxhDQ1A1AAIgAAIFJoAmgLh0ge24dhCs5wA6lHODDPQAEQNgEBeCaABmNfM2PqFBqAtb1hDAxA1AAIgAAKFJoCmQLj0gW04ttAsJ4B6lDPDDDQAUQMgkFcCaADmNTO2fqEBaMsb1tAARA2AAAiAQKEJoCkQLn1gG44tNMsJoB7lzDADDUDUAAjklQAagHnNjK1faADa8oY1NABRAyAAAiBQaAJoCoRLH9iGYwvNcgKoRzkzzEADEDUAAnklgAZgXjNj6xcagLa8YQ0NQNQACIAACBSaAJoC4dIHtuHYQrOcAOpRzgwz0ABEDYBAXgmgAZjXzNj6hQagLW9YQwMQNQACIAAChSaApkC49IFtOLbQDAIgYEsA65ktb1gDAY4AGoAcoWqMowFYjTznLkosQLlLCRwCARAAgUQEsKlLhCmVENimwoZJIAACOSSA9SyHSYFLlSaA/Xel098ePBqAqINMCGABygQ7jIIACICAmgA2dWqETRWAbTi20AwCIGBLAOuZLW9YAwGOAPbfHKFqjKMBWI085y5KLEC5SwkcAgEQAIFEBLCpS4QplRDYpsKGSSAAAjkkgPUsh0mBS5UmgP13pdPfHjwagKiDTAhgAcoEO4yCAAiAgJoANnVqhE0VgG04ttAMAiBgSwDrmS1vWAMBjgD23xyhaoyjAViNPOcuSixAuUsJHAIBEACBRASwqUuEKZUQ2KbChkkgAAI5JID1LIdJgUuVJoD9d6XT3x48GoCog0wIYAHKBDuMggAIgICaADZ1aoRNFYBtOLbQDAIgYEsA65ktb1gDAY4A9t8coWqMowFYjTznLkosQLlLCRwCARAAgUQEsKlLhCmVENimwoZJIAACOSSA9SyHSYFLlSaA/Xel098ePBqAqINMCGABygQ7jIIACICAmgA2dWqETRWAbTi20AwCIGBLAOuZLW9YAwGOAPbfHKFqjKMBWI085y5KLEC5SwkcAgEQAIFEBLCpS4QplRDYpsKGSSAAAjkkgPUsh0mBS5UmgP13pdPfHjwagKiDTAhgAcoEO4yCAAiAgJoANnVqhE0VgG04ttAMAiBgSwDrmS1vWAMBjgD23xyhaoyjAViNPOcuSixAuUsJHAIBEACBRASwqUuEKZUQ2KbChkkgAAI5JID1LIdJgUuVJoD9d6XT3x48GoCog0wIYAHKBDuMggAIgICaADZ1aoRNFYBtOLbQDAIgYEsA65ktb1gDAY4A9t8coWqMowFYjTznLkosQLlLCRwCARAAgUQEsKlLhCmVENimwoZJIAACOSSA9SyHSYFLlSaA/Xel098ePBqAqINMCGABygQ7jIIACICAmgA2dWqETRWAbTi20AwCIGBLAOuZLW9YAwGOAPbfHKFqjKMBWI085y5KLEC5SwkcAgEQAIFEBLCpS4QplRDYpsKGSSAAAjkkgPUsh0mBS5UmgP13pdPfHjwagKiDTAhgAcoEO4yCAAiAgJoANnVqhE0VgG04ttAMAiBgSwDrmS1vWAMBjgD23xyhaoyjAViNPOcuSixAuUsJHAIBEACBRASwqUuEKZUQ2KbChkkgAAI5JID1LIdJgUuVJoD9d6XT3x48GoCog0wIYAHKBDuMggAIgICaADZ1aoRQAAIgAAKlJ4DfitKnGAEWjAD23wVLWCB30QAMBBZq4wlgAUKFgAAIgEAxCWBTV8y8wWsQAAEQsCSA3wpL2rAFAjwB7L95RlWQQAOwClnOYYxYgHKYFLgEAiAAAgkIYFOXABJEQAAEQKDiBPBbUfECQPi5I4D9d+5SkolDaABmgh1GsQChBkAABECgmASwqStm3uA1CIAACFgSwG+FJW3YAgGeAPbfPKMqSKABWIUs5zBGLEA5TApcAgEQAIEEBLCpSwAJIiAAAiBQcQL4rah4ASD83BHA/jt3KcnEITQAM8EOo1iAUAMgAAIgUEwC2NQVM2/wGgRAAAQsCeC3wpI2bIEATwD7b55RFSTQAKxClnMYIxagHCYFLoEACIBAAgLY1CWABBEQAAEQqDgB/FZUvAAQfu4IYP+du5Rk4hAagJlgh1EsQKgBEAABECgmAWzqipk3eA0CIAAClgTwW2FJG7ZAgCeA/TfPqAoSaABWIcs5jBELUA6TApdAAARAIAEBbOoSQIIICIAACFScAH4rKl4ACD93BLD/zl1KMnEIDcBMsMMoFiDUAAiAAAgUkwA2dcXMG7wGARAAAUsC+K2wpA1bIMATwP6bZ1QFCTQAq5DlHMaIBSiHSYFLIAACIJCAADZ1CSBBBARAAARAAARAAARyRAD77xwlI0NX0ADMEH6VTWMBqnL2ETsIgECRCaABWOTswXcQAAEQAAEQAIEqEsD+u4pZ7xwzGoCog0wIYAHKBDuMggAIgICaABqAaoRQAAIgAAIgAAIgAAKmBLD/NsWdW2NoAOY2NeV2DAtQufOL6EAABMpLAA3A8uYWkYEACIAACIAACJSTAPbf5cyrNCo0AKXEIO+FABYgLxihBARAAATMCaABaI4cBkEABEAABEAABEBARQD7bxW+0kxGA7A0qSxWIFiAipUveAsCIAACbQTQAEQtgAAIgAAIgAAIgECxCGD/Xax8hfIWDcBQZKE3lgAWIBQICIAACBSTABqAxcwbvAYBEAABEAABEKguAey/q5v72sjRAEQdZEIAC1Am2GEUBEAABNQE0ABUI4QCEAABEAABEAABEDAlgP23Ke7cGkMDMLepKbdjWIDKnV9EBwIgUF4CaACWN7eIDARAAARAAARAoJwEsP8uZ16lUaEBKCUGeS8EsAB5wQglIAACIGBOAA1Ac+QwCAIgAAIgAAIgAAIqAth/q/CVZjIagP9K5SeffOIuueQSd+ONISa1EAAAIABJREFUN7pXXnnFLV++3G266aZu7733dieccILbbLPNvCV9wYIF7qKLLnL33nuve+utt9zaa6/ttt56azdhwgR31FFHudVWW62prVWrVrkXX3zRzZkzJ/rfE0884ebNmxf5S8cDDzzgvv71r7O+kszs2bNZORJobW1NJCcRwgIkoQVZEAABEMgPATQA85MLeAICIAACIAACIAACSQhg/52EUvll0AB0zi1atChq9C1cuLBhxnv27OmuvfZaN2bMGHVFXH755W7y5Mnu888/b6hr5513dnfccYfr1atXw/Err7zSTZw4sakfaACqUwQFIAACIAACMQTQAER5gAAIgAAIgAAIgECxCKABWKx8hfK28g3Ajz/+2A0bNiy6q46OSZMmuXHjxrk111wzuptu6tSpjmS6d+/uHn30UbfddtulzsVdd90VNRHpLr4+ffq40047ze20007u/fffd9OmTXO33HJLpHu33XaLbHfp0qWTrSuuuMIdccQR0d9XX311N2jQIPfFF1+4+fPnR3+TNgCHDh3qZsyYERsT2fB9YAHyTRT6QAAEQMCGABqANpxhBQRAAARAAARAAAR8EcD+2xfJYuupfAPwrLPOcmeffXaUxQsuuMCddNJJdRmlph815KjJtvvuu7v7778/VcZpPj3mS48X9+jRw82dO9f169evThfdGXjppZdGf6M7/Q477LBOtuix38cee8wNHz7cDR482K2xxhquNgZpA3DkyJFu1qxZqWLSTMICpKGHuSAAAiCQHQE0ALNjD8sgAAIgAAIgAAIgkIYA9t9pqJVvTqUbgCtWrHC9e/d2H374YdSce+655xredXfccce5yy67LMr+k08+6XbccUdxJdC7BQ866KBoHt1VeMopp3TSQe8h3GSTTdwHH3wQ3dnXdlcfZwwNQI4QxkEABEAABHwRQAPQF0noAQEQAAEQAAEQAAEbAmgA2nDOu5VKNwDvuecet9dee0U5Ov/8891Pf/rThvmiO+5GjBgRjZ166qnu3HPPFeeVPvBB7xGkY/Hixa5v374NddQ2G1966SXXv39/1hYagCwiCIAACIAACHgigAagJ5BQAwIgAAIgAAIgAAJGBNAANAKdczOVbgCeeeaZbsqUKVGK6FFf+gBHo4Me31133XXdsmXLoseBk349t1YXfUX4zTffdAMGDGh/32AjW9ddd50bP358NDR9+vT29/3F1REagDk/y+AeCIAACJSIABqAJUomQgEBEAABEAABEKgEATQAK5FmNshKNwAPPPBAd9NNN0WQ6LFbavI1O7bffns3b948t+GGG7p3332XBVsrQB8Roff+tba2un333dfdeuutTec//fTTbocddojG6X2E9F5C7tA0AOljJJtuumnUlKRHojfYYIPoEef999/fHXLIIdGHRkIcWIBCUIVOEAABEAhPAA3A8IxhAQRAAARAAARAAAR8EsD+2yfN4uqqdAOQ7vh7/PHH3VprrRV96TfuGDt2rJs5c2Yk8tlnn7lu3bolzjo11+gdg3TQhz4uvvjipnOXLFkSNRnpoK8R0x2B3KFpAMbpHjhwYNQgbfOd86N2nBaYuIMeg6YPmdBBd0bSuw9xgAAIgAAI5J8AGoD5zxE8BAEQAAEQAAEQAIGO+3O68Qf772rXRaUbgNtss417/vnnHd0F9/bbb8dWwsEHH+xuuOGGSIaadL169UpcOU888UR7s4veM0jvG2x2fPrpp6579+7RMDUdb7/9dtZOmgbgN77xjeiDJ2PGjHF0dyPF89FHH0VfJ6YPnrzwwguRXWJDXx6mR5glR0tLS2JxNAATo4IgCIAACGROAA3AzFMAB0AABEAABEAABEBARAB3AIpwlVa40g3Afv36uVdffTV6BPaNN96ITfJhhx3mrr766khG2rB66KGHoncH0nHGGWe4c845p6mtVatWua5du0bje+yxh7v33nvZ4kvTAKQvHzd75JkeBZ40aZK78sorI9v/9m//5m655RbWj1oBNABFuCAMAiAAAoUhgAZgYVIFR0EABEAABEAABEAgIoAGIAqBCBSiAUgf4fDxLroZM2a4iRMntme+yncAcuVPzLfddtv2D5bQgvHlL3+Zm9Y+jkeAE6OCIAiAAAgUigAagIVKF5wFARAAARAAARAAATQAUQMRgUo3AKv8DsAk9f/LX/4y+hAJHddcc03714mTzOVk8F8gOEIYBwEQAIF8EkADMJ95gVcgAAIgAAIgAAIg0IwA9t+ojcI0AMlR+pCG9thoo41cz54929UccMAB7uabb47+HforwOuss05kJy9fAU7C8q9//avbe++9I1H6GnFbMzDJXE4GCxBHCOMgAAIgkE8CaADmMy/wCgRAAARAAARAAATQAEQNxBEoxB2AoVJ45plnuilTpkTqH330UUd3BDY66HFYel/esmXLonf5zZ49W+wSfUSD3h04YMCA2GYmffV3/Pjxkf7p06e7I444grWV5h2ArFLnoq8e04dI0ABMQgsyIAACIFANAmgAViPPiBIEQAAEQAAEQKA8BHADTnlyqYmk0g3Au+++240aNSriR1/mpS/0Njoee+wxN2LEiGjoZz/7mTvvvPPEzKmpR809OhYvXuz69u3bUMdxxx0XfYWXjoULF7ott9yStRWqAXjhhRe6k08+ObL/pz/9yU2YMIH1JakAFqCkpCAHAiAAAvkigAZgvvIBb0AABEAABEAABECAI4D9N0eoGuOVbgAuX77c9e7d2y1dutRtvfXWbsGCBa7R12trm3Jz5sxxw4YNE1fHDTfc4A4++OBo3tSpU90pp5zSSccnn3ziNtlkk+hx5IEDB0b+JDlCNAA7fgSEvpJMX0v2dWAB8kUSekAABEDAlgAagLa8YQ0EQAAEQAAEQAAEtASw/9YSLMf8SjcAKYW1jwE3es8dPRpMj/1SQ2zkyJFu1qxZDTPf1jjcfPPN3euvv95JZsWKFVGTcdGiRa5Hjx5u7ty5rl+/fnVykydPdpdeemn0t45fLI4rN2kD8IEHHnBDhgyJHmtudJCvkyZNcldeeWU0vM8++7j/+q//8lrxWIC84oQyEAABEDAjgAagGWoYAgEQAAEQAAEQAAEvBLD/9oKx8Eoq3wD86KOP3NChQ91LL70UJfOYY45x48aNc2uuuaajRhk97vvxxx9H/37kkUfc4MGDUzUAaRJ9VIOaaatWrXJ9+vRxp59+uhs+fHh0x9+0adPaP0iy6667Ro3Grl27NrR1xRVX1P391ltvdbfddlv0N3qMeauttmof/+pXv+pIX+0xceLEyNa3v/1t9/Wvfz16LyE1JSnOp556KnoE+YUXXoim0B2S9Aj0Flts4bXYsQB5xQllIAACIGBGAA1AM9QwBAIgAAIgAAIgAAJeCGD/7QVj4ZVUvgFIGXzllVfcmDFj3Msvv9wwodQcu+aaa9o/iNFIiLsDsG0ONfqOP/54R48fNzqoIUgf39hggw2aFlejx5SbCR9++OGuY8OQGoBtd/fFVfC2227rrr/++uhxZN8HFiDfRKEPBEAABGwI/P/2zgTsqmn/44vKEDJWokwZGgyZIhUSdVGIzLNKhmSMjIUrs0wZbkn+XEODIYVUckmZbqYKDUgyK0OSMvyf7+rut/O+7zln733OPsPe6/N7Hs+9vHuvvdZnrbP3Xt/9GxAAi8OZq0AAAhCAAAQgAIGoCLD/jopkvNtBAPzf/KnC76BBg8yIESOsICiBTjnvJAyee+65RqG92SyoAKg2pk+fbu68804zceJE8+WXX5q11lrLhgeryEb37t1NzZo1A10ryNJLJwDKu2/cuHG28vHMmTPNd999ZxYuXGhWX31165koj8iuXbuaLl26ZPRCDHLtbMdwA8qXIOdDAAIQKA0BBMDScOeqEIAABCAAAQhAIFcC7L9zJZes8xAAkzWfsRkNN6DYTBUdhQAEIFCJAAIgCwICEIAABCAAAQjEiwD773jNV6F6iwBYKLK0m5UANyAWCAQgAIF4EkAAjOe80WsIQAACEIAABNwlwP7b3blPHTkCIOugJAS4AZUEOxeFAAQgkDcBBMC8EdIABCAAAQhAAAIQKCoB9t9FxV22F0MALNupSXbHuAEle34ZHQQgkFwCCIDJnVtGBgEIQAACEIBAMgmw/07mvIYdFQJgWGIcHwkBbkCRYKQRCEAAAkUngABYdORcEAIQgAAEIAABCORFgP13XvgSczICYGKmMl4D4QYUr/mitxCAAAQ8AgiArAUIQAACEIAABCAQLwLsv+M1X4XqLQJgocjSblYC3IBYIBCAAATiSQABMJ7zRq8hAAEIQAACEHCXAPtvd+c+deQIgKyDkhDgBlQS7FwUAhCAQN4EEADzRkgDEIAABCAAAQhAoKgE2H8XFXfZXgwBsGynJtkd4waU7PlldBCAQHIJIAAmd24ZGQQgAAEIQAACySTA/juZ8xp2VAiAYYlxfCQEuAFFgpFGIAABCBSdAAJg0ZFzQQhAAAIQgAAEIJAXAfbfeeFLzMkIgImZyngNhBtQvOaL3kIAAhDwCCAAshYgAAEIQAACEIBAvAiw/47XfBWqtwiAhSJLu1kJcANigUAAAhCIJwEEwHjOG72GAAQgAAEIQMBdAuy/3Z371JEjALIOSkKAG1BJsHNRCEAAAnkTQADMGyENQAACEIAABCAAgaISYP9dVNxlezEEwLKdmmR3jBtQsueX0UEAAsklgACY3LllZBCAAAQgAAEIJJMA++9kzmvYUSEAhiXG8ZEQ4AYUCUYagQAEIFB0AgiARUfOBSEAAQhAAAIQgEBeBNh/54UvMScjACZmKuM1EG5A8ZovegsBCEDAI4AAyFqAAAQgAAEIQAAC8SLA/jte81Wo3iIAFoos7WYlwA2IBQIBCEAgngQQAOM5b/QaAhCAAAQgAAF3CbD/dnfuU0eOAMg6KAkBbkAlwc5FIQABCORNAAEwb4Q0AAEIQAACEIAABIpKgP13UXGX7cUQAMt2apLdMW5AyZ5fRgcBCCSXAAJgcueWkUEAAhCAAAQgkEwC7L+TOa9hR4UAGJYYx0dCgBtQJBhpBAIQgEDRCSAAFh05F4QABCAAAQhAAAJ5EWD/nRe+xJyMAJiYqYzXQLgBxWu+6C0EIAABjwACIGsBAhCAAAQgAAEIxIsA++94zVeheosAWCiytJuVADcgFggEIACBeBJAAIznvNFrCEAAAhCAAATcJcD+2925Tx05AiDroCQEuAGVBDsXhQAEIJA3AQTAvBHSAAQgAAEIQAACECgqAfbfRcVdthdDACzbqUl2x7gBJXt+GR0EIJBcAgiAyZ1bRgYBCEAAAhCAQDIJsP9O5ryGHRUCYFhiHB8JAW5AkWCkEQhAAAJFJ4AAWHTkXBACEIAABCAAAQjkRYD9d174EnMyAmBipjJeA+EGFK/5orcQgAAEPAIIgKwFCEAAAhCAAAQgEC8C7L/jNV+F6i0CYKHI0m5WAtyAWCAQgAAE4kkAATCe80avIQABCEAAAhBwlwD7b3fnPnXkCICsg5IQ4AZUEuxcFAIQgEDeBBAA80ZIAxCAAAQgAAEIQKCoBNh/FxV32V4MAbBspybZHeMGlOz5ZXQQgEByCSAAJnduGRkEIAABCEAAAskkwP47mfMadlQIgGGJcXwkBLgBRYKRRiAAAQgUnQACYNGRc0EIQAACEIAABCCQFwH233nhS8zJCICJmcp4DYQbULzmi95CAAIQ8AggALIWIAABCEAAAhCAQLwIsP+O13wVqrcIgIUiS7tZCXADYoFAAAIQiCcBBMB4zhu9hgAEIAABCEDAXQLsv92d+9SRIwCyDkpCgBtQSbBzUQhAAAJ5E0AAzBshDUAAAhCAAAQgAIGiEmD/XVTcZXsxBMCynZpkd4wbULLnl9FBAALJJYAAmNy5ZWQQgAAEIAABCCSTAPvvZM5r2FEhAIYlxvGREOAGFAlGGoEABCBQdAIIgEVHzgUhAAEIQAACEIBAXgTYf+eFLzEnIwAmZirjNRBuQPGaL3oLAQhAwCOAAMhagAAEIAABCEAAAvEiwP47XvNVqN4iABaKLO1mJcANiAUCAQhAIJ4EEADjOW/0GgIQgAAEIAABdwmw/3Z37lNHjgDIOigJAW5AJcHORSEAAQjkTQABMG+ENAABCEAAAhCAAASKSoD9d1Fxl+3FEADLdmqS3TFuQMmeX0YHAQgklwACYHLnlpFBAAIQgAAEIJBMAuy/kzmvYUeFABiWGMdHQoAbUCQYaQQCEIBA0QkgABYdOReEAAQgAAEIQAACeRFg/50XvsScjACYmKmM10C4AcVrvugtBCAAAY8AAiBrAQIQgAAEIAABCMSLAPvveM1XoXqLAFgosrSblQA3IBYIBCAAgXgSQACM57zRawhAAAIQgAAE3CXA/tvduU8dOQIg66AkBLgBlQQ7F4UABCCQNwEEwLwR0gAEIAABCEAAAhAoKgH230XFXbYXQwAs26lJdse4ASV7fhkdBCCQXAIIgMmdW0YGAQhAAAIQgEAyCbD/Tua8hh0VAmBYYhwfCQFuQJFgpBEIQAACRSeAAFh05FwQAhCAAAQgAAEI5EWA/Xde+BJzMgJgYqYyXgPhBhSv+aK3EIAABDwCCICsBQhAAAIQgAAEIBAvAuy/4zVfheotAmChyNJuVgLcgFggEIAABOJJAAEwnvNGryEAAQhAAAIQcJcA+2935z515AiArIOSEOAGVBLsXBQCEIBA3gQQAPNGSAMQgAAEIAABCECgqATYfxcVd9leDAGwbKcm2R3jBpTs+WV0EIBAcgkgACZ3bhkZBCAAAQhAAALJJMD+O5nzGnZUCIBhiXF8JAS4AUWCkUYgAAEIFJ0AAmDRkXNBCEAAAhCAAAQgkBcB9t954UvMyQiAiZnKeA2EG1C85oveQgACEPAIIACyFiAAAQhAAAIQgEC8CLD/jtd8Faq3CICFIku7WQlwA2KBQAACEIgnAQTAeM4bvYYABCAAAQhAwF0C7L/dnfvUkSMAsg5KQoAbUEmwc1EIQAACeRNAAMwbIQ1AAAIQgAAEIACBohJg/11U3GV7MQTAsp2aZHeMG1Cy55fRQQACySWAAJjcuWVkEIAABCAAAQgkkwD772TOa9hRIQCGJcbxkRDgBhQJRhqBAAQgUHQCCIBFR84FIQABCEAAAhCAQF4E2H/nhS8xJyMAJmYq4zUQbkDxmi96CwEIQMAjgADIWoAABCAAAQhAAALxIsD+O17zVajeIgAWiiztZiXADYgFAgEIQCCeBBAA4zlv9BoCEIAABCAAAXcJsP92d+5TR44AyDooCQFuQCXBzkUhAAEI5E0AATBvhDQAAQhAAAIQgAAEikqA/XdRcZftxRAAy3Zqkt0xbkDJnl9GBwEIJJcAAmBy55aRQQACEIAABCCQTALsv5M5r2FHhQAYlhjHR0KAG1AkGGkEAhCAQNEJIAAWHTkXhAAEIAABCEAAAnkRYP+dF77EnIwAmJipjNdAuAHFa77oLQQgAAGPAAIgawECEIAABCAAAQjEiwD773jNV6F6iwBYKLK0m5UANyAWCAQgAIF4EkAAjOe80WsIQAACEIAABNwlwP7b3blPHTkCIOugJAS4AZUEOxeFAAQgAAEIQAACEIAABCAAAccIsP92bMIzDBcBkHVQEgLcgEqCnYtCAAIQgAAEIAABCEAAAhCAgGME2H87NuEIgEx4ORHgBlROs0FfIAABCEAAAhCAAAQgAAEIQCCpBNh/J3Vmw40LD8BwvDg6IgLcgCICSTMQgAAEIAABCEAAAhCAAAQgAIEsBNh/szxEAAGQdVASAtyASoKdi0IAAhCAAAQgAAEIQAACEICAYwTYfzs24RmGiwDIOigJAW5AJcHORSEAAQhAAAIQgAAEIAABCEDAMQLsvx2bcARAJrycCHADKqfZoC8QgAAEIAABCEAAAhCAAAQgkFQC7L+TOrPhxoUHYDheHB0RAW5AEYGkGQhAAAIQgAAEIAABCEAAAhCAQBYC7L9ZHiKAAMg6KAkBbkAlwc5FIQABCEAAAhCAAAQgAAEIQMAxAuy/HZvwDMNFAGQdlIQAN6CSYOeiEIAABCAAAQhAAAIQgAAEIOAYAfbfjk04AiATXk4EuAGV02zQFwhAAAIQgAAEIAABCEAAAhBIKgH230md2XDjwgMwHC+OjogAN6CIQNIMBCAAAQhAAAIQgAAEIAABCEAgCwH23ywPEUAA/N86WLJkiRk0aJAZMWKEmTNnjlm2bJlp1KiROfjgg03v3r3NZpttFtmKmTFjhrnrrrvMhAkTzIIFC8zaa69tmjZtao4//njTrVs3U7NmzYzXWrp0qRk3bpw998033zSzZ882v/zyi1lnnXXMdtttZzp27Gh69uxpGjRoEKi/xRx3aoe4AQWaHg6CAAQgAAEIQAACEIAABCAAAQjkRYD9d174EnMyAqAxZu7cuVbo+/jjj9NO7LrrrmseffRRc9BBB+U98Q888IA5++yzze+//562rT333NOMGTPGbLjhhtX+/v7775s2bdpYwS+bSQwcMmSIOeqoo7IeV8xxV+0IN6C8lxINQAACEIAABCAAAQhAAAIQgAAEfAmw//ZF5MQBzguAixcvNrvvvrv56KOP7IT36NHDHHPMMWbNNdc0kyZNMtdff73RMbVr1zZTp041O+64Y84LQ557EhH/+usvU79+fXP55ZebPfbYwyxcuNAMHjzYPPnkk7btvffe21571VVXrXStyZMnm7Zt29r/1rp1a9OpUyez2267WbHwu+++s+dL+Pvzzz9NjRo1zLPPPmsOPPDAtP0t5rjTdYAbUM7LiBMhAAEIQAACEIAABCAAAQhAAAKBCbD/Dowq0Qc6LwD279/fXH311XaSb7rpJtOnT59KEy7RT4LcH3/8Ydq1a2deeumlnBaEzleYr8KL69SpY6ZNm2YaN25cqS15Bt5zzz32vz300EPmpJNOqvT3KVOmmDvuuMP069fPNGvWLG0/nnnmGdOlSxfz999/2/YVIrzKKqtUO7ZY484EixtQTsuIkyAAAQhAAAIQgAAEIAABCEAAAqEIsP8OhSuxBzstAC5fvtzUq1fP/Pjjj1acmz59ejWvO838GWecYe6//367CN5++22z6667hl4Qyi3oheTKq7Bv377V2lA+voYNG5pFixaZ7bff3nzwwQehr6MTunbtakaNGmXPldC48847V2qnmONGAMxpCjkJAhCAAAQgAAEIQAACEIAABCAQCQEEwEgwxr4RpwXA8ePHmw4dOthJvOGGG8wll1ySdkJff/1106pVK/u3yy67zFx33XWhJ14FPpRHUPbVV1+ZjTfeOG0bqWLjrFmzzDbbbBP6Wipm0qtXL3uehEcJgqlWzHFn6jw3oNDTygkQgAAEIAABCEAAAhCAAAQgAIHQBNh/h0aWyBOcFgCvuuoqc+2119qJVaivCnCkM4XvrrfeeubXX3+14cD/+c9/Qi8GVRGeP3++rdTr5RtM18hjjz1mjjvuOPunoUOHmlNPPTX0tW677TZz4YUX2vPkCXj44YdXaqOY40YADD19nAABCEAAAhCAAAQgAAEIQAACEIiMAAJgZChj3ZDTAuCRRx5pRo4caSdQYbcS+TLZTjvtZFSFt27duubbb78NNekquKG8f8rLd+ihh5qnn3464/nvvPOO2WWXXezflY9QeQnDmq4xevRoe9qMGTOq5Qss1riz9ZsbUNhZ5XgIQAACEIAABCAAAQhAAAIQgEB4Auy/wzNL4hlOC4Dy+HvjjTfMWmutZSv9ZjNV3B07dqw9ZOnSpWb11VcPvB7k8accgzIV+rj77rsznvv9999bkVGmasTyCAxj7733ns1RqErAzZs3t3kNq1oxxq0bTDZTGHTLli3tIfKMVO5DDAIQgAAEIAABCEAAAhCAAAQgAIFoCSAARsszrq05LQBKIJs5c6apX7+++frrr7PO4dFHH22GDx9uj5FIt+GGGwae87feeqtC7FKeQeUbzGS//fabqV27tv2zRMdnn3028HV+//1306ZNG1uoRKaKwIcccki184sx7nSVhzMNBAEw8BRzIAQgAAEIQAACEIAABCAAAQhAIBQBBMBQuBJ7sNMCYOPGjc0nn3xiGjVqZD7//POsk3zSSSeZhx9+2B4TVrB69dVXbe5A2ZVXXmmuueaajNf666+/TI0aNezf27dvbyZMmBB48fXo0cMMGTLEHn/yySebYcOGpT23GONGAAw8bRwIAQhAAAIQgAAEIAABCEAAAhAoGAEEwIKhjVXDsRAAVYSjVq1aeYN98MEHzSmnnFLRTjE84XSxYngAXn/99bZCsUwhwCpUotDmdFaMcRMCnPdypQEIQAACEIAABCAAAQhAAAIQgEDeBBAA80aYiAacFgCLkQtPq6TQOQDvv/9+c8YZZ9gFqSrD8jj08gimW6XFGne2Xwg3oETcPxgEBCAAAQhAAAIQgAAEIAABCJQ5AfbfZT5BRepeLARAT0TLl0mDBg3MuuuuW9FM165dzahRo+y/F7oK8DrrrGOvE3UVYBUJOeGEE4xChzfffHMzefJk34IaxRo3AmC+K5bzIQABCEAAAhCAAAQgAAEIQAAC+RFAAMyPX1LOjo0AWAjgV111lbn22mtt01OnTjXyjEtnCkFeb731zK+//mpz+Sm8NqxtttlmNnegPPTkEZjJJOgdd9xx9s9Dhw41p556asZjR48ebY444gij/knclOef8vv5WTHHnakv3ID8Zom/QwACEIAABCAAAQhAAAIQgAAE8ifA/jt/hklowWkB8MUXXzQdO3a086jKvKrQm85ef/1106pVK/unSy+91AwYMCD03EvUk7gn++qrr8zGG2+ctg2F8iqkV/bxxx+bbbfdNu1xEydONAcffLBR5V9VJJYoqdx+QayY487UH25AQWaKYyAAAQhAAAIQgAAwumtqAAAgAElEQVQEIAABCEAAAvkRYP+dH7+knO20ALhs2TJTr14989NPP5mmTZuaGTNmmHTVa1NFuTfffNPsvvvuoed/+PDh5uijj7bnqWBH3759q7WxZMkSG76rcORmzZrZ/qSzKVOmmA4dOliPxDp16piXXnrJFv4IasUcNwJg0FnhOAhAAAIQgAAEIAABCEAAAhCAQPQEEACjZxrHFp0WADVhqeGwN910k+nTp0+leVRosMJ+FWa7zz77mJdffjntPHvCofLwffbZZ9WOWb58uRUZ586da0W7adOmVQvXPfvss80999xjz61asdhr8N133zXt2rUzP/74o63yO27cONO6devQay+qcYe+8P9O4AaUKznOgwAEIAABCEAAAhCAAAQgAAEIBCfA/js4qyQf6bwA+Msvv5jddtvNzJo1y87z6aefbo455hiz5pprmkmTJtlw38WLF9t/l+ddixYtchIAddJzzz1nOnfubAt21K9f31xxxRWmZcuW1uNv8ODBFQVJ2rRpY4XGGjVqVLqWxMO99trLfPvtt/a/Dxw40Oy///5Z16c8HPVPVYtq3Ln+OLgB5UqO8yAAAQhAAAIQgAAEIAABCEAAAsEJsP8OzirJRzovAGpy58yZYw466CAze/bstHMtj71///vfplOnThnXgp8HoHeihL5evXoZheGmMwmCY8eONRtttFG1Pw8bNixrUZB07fXr18/0798/7bWiGHeuPw55SW655Zb2dIVVq4gJBgEIQAACEIAABCAAAQhAAAIQgEC0BFSHQFqD7NNPPzVbbLFFtBegtVgQQAD83zQpn96gQYPMiBEjrCAoga5Ro0ZWGDz33HONQnuzWVABUG1Mnz7d3HnnnUaFPL788ksbyqvw4OOPP950797d1KxZM+2lohYAdZF8x53rKn/rrbcqbkC5tsF5EIAABCAAAQhAAAIQgAAEIAABCAQnkGtdg+BX4MhyJYAAWK4zk/B+IQAmfIIZHgQgAAEIQAACEIAABCAAAQiUHQEEwLKbkqJ1CAGwaKi5UCqBpUuXWq/HP//808yfP9/+SSHBmbwf582b5+uFGZRwkttSsRq5dPvxDMpKxyWZl8ch3RhzZekqL781lYknvPzIVf67eG266aaR/M5hv4Jt0N86vIKt1ao8FyxYwPM7GDp7VOo6C7o2MzXPmq1Mxo8nvIIvVD+WwVtacaTr7MPydJ2X3/riOZSe0N9//23feWQffvihWWONNfxQ8vcEEkAATOCkxmVIzZs3tzchrwDLtttum1EAVAGUxo0bRzK0JLcVlGcYkEnm5XFIN8ZcWbrKy29NZeIJLz9ylf8uXkpJEeS+6dcy7FcKgEF4wstvRaXnqY0qz+9g7HRU6jrL9TmU7dkWvCfV7z1xn0c/nvzGg68OP5bBW1pxpOvsw/J0nZff+qrKk+dQdWIzZszww8jfE0oAATChExuHYSEARv9yHfYFIsg6cfUlI1eWrvLyW0sIgNF9wEAA9FttK/8e5PcY9LcepK2gPUtyW2y8gq6C9MchAIbjF+a35PdbD9OWXy+T3pYfSz8+Vf+edF5+ImdYnq7z8ltfPIf8CBmDAOjPKKlHIAAmdWZjMC4EQATAfJZpoV9+wr6MeWMpdL9yZVbqfiEAIgAGXbvFXqtBf+vF7le58vLrFxsvP0LZ/44AGI5fmN+l3289TFt+vUx6W34s/fggAFYmEJZn0teXn2Dqt754DvkRQgD0J5TcIxAAkzu3ZT8yBEAEwHwWaaFffsK+jCEAZp9NBEAEwKC/90L/tqv2I+hvvdj9Kldefv1i4+VHCAGwVL8lv996qfrlt2LKsV9+LP3GhACIAOi3RvJZ9zyH/OgiAPoTSu4RCIDJndtYjOyLL74wjRo1sn1VMZCGDRvGot/l2kl4RjczsIyOpVqCZ3Q8YRkdS9ZmtCzhGS1PfuvwjJZAdK2xNqNjyX0zWpbwjJ4nLSaLAAJgsuYzdqPhBSLaKYNndDxhGR1LXsZgGS2BaFvjtw7PaAlE1xprMzqWPIdgGS2BaFvjtw7PaAnQGgQyE0AAZHWUlAAPvGjxwzM6nrCMjiUbL1hGSyDa1vitwzNaAtG1xtqMjiXPIVhGSyDa1vitwzNaArQGAQRA1kCZEuCBF+3EwDM6nrCMjiUbL1hGSyDa1vitwzNaAtG1xtqMjiXPIVhGSyDa1vitwzNaArQGAQRA1gAEIAABCEAAAhCAAAQgAAEIQAACEIAABJwkQAiwk9POoCEAAQhAAAIQgAAEIAABCEAAAhCAAARcIYAA6MpMM04IQAACEIAABCAAAQhAAAIQgAAEIAABJwkgADo57QwaAhCAAAQgAAEIQAACEIAABCAAAQhAwBUCCICuzDTjhAAEIAABCEAAAhCAAAQgAAEIQAACEHCSAAKgk9POoCEAAQhAAAIQgAAEIAABCEAAAhCAAARcIYAA6MpMM04IQAACEIAABCAAAQhAAAIQgAAEIAABJwkgADo57QwaAhCAAAQgAAEIQAACEIAABCAAAQhAwBUCCICuzDTjhAAEIAABCEAAAhCAAAQgAAEIQAACEHCSAAKgk9POoCEAAQhAAAIQgAAEIAABCEAAAhCAAARcIYAA6MpMM04IQAACEIAABCyBv//+2yxcuNAsWbLEbLLJJqZGjRqQCUBgwYIFZtNNNw1wJIdAAAIQgAAEIAABCJQbAQTAcpsR+gMBCEAAAhCAQOQE/vzzT/N///d/5sEHHzRvvfWWWbZsmVlllVXM+++/b5o1a1ZxvTFjxphXXnnFrLvuuubyyy+PvB9xbrBWrVqmQ4cO5rTTTjOHHHKI0b9jEIAABCAAAQhAAALxIIAAGI95in0vf/jhBzN16lTzySefmF9++cVoI+ZnV111ld8h/B0CECgjAquuuqrRPwMGDDAXX3xxGfWMrrhO4NtvvzWHHXaYeeONN6z3n2cSAD/44INKAuCMGTPMDjvsYMXB//73v6ZFixau46sYv37f4iLbcMMNzQknnGBOPfVUywuDAAQgAAEIQAACEChvAgiA5T0/se+dNl3nn3++GTlypPnjjz9CjSeISBiqQQ6GQBYC8gySbbfddmaPPfaAVQ4E1lhjDbN8+XIzefJk06pVqxxa4BQIRE/gr7/+MnvttZd58803rUDdtWtXs/fee5tevXpZMauqAKgetG7d2rz++uvmiiuuMFdffXX0nYppixdeeKH597//bfRsl3li4C677GK6d+9ujj32WFOnTp2Yjo5uQwAC6QjII1q2++67mzXXXDMQpKVLl9p7rkz3WwwCEIAABMqDAAJgecxDInuxaNEiK6TMnTu3ksdF0MFq04ZBoFgEPM+Wxx57zBx11FHFumyirrPVVluZefPmWW/fli1bJmpspRzMDTfcYE4++WTToEGDUnYjttceNmyYDVlVuOro0aNNx44d7Vi833w6AVDML7vsMtOuXTszceLE2I69EB3Xx7mxY8eaoUOHmueee67i457EQH0EOPzww61X4H777VeIyyeuzVw4eawVpr7NNtuYPffc065rrWmsOgF9gH7mmWfMhAkTzPTp023+T9kGG2xgtt9+e7P//vubQw891NSsWRN8aQh43v1V0yVkg6V3f61NnRvWAcCFSdAeaf3113dhqIwRAhAoMwIIgGU2IUnqziWXXGJuvvlmOyTlDLrgggvMrrvual+4PK+BJI23XMYiASb15XbzzTcvl66VdT/0Ivbzzz+bt99+2+y8885l3ddy7dwpp5xiHn74YTNo0CBzxhlnlGs3Y9cvbaC0MdUGv1u3bqZTp05sVEPMorhp43/22WebO++8s+LMbALguHHjzIEHHmgLhHzxxRchrubWod99953NqyiRVaHTMu/5vsUWW1ghUOJ1o0aN3AITYrTeOlRoetV3Iy9cPch/r1+/vrn11lutFya2ksDTTz9tzjnnHPPll19W/Md0XPWB5e6777apArDKBLLdKzOx8gRArV0ieqpT0scSPWOOO+44m0919dVXZ9lBAAIQKAoBBMCiYHbzIk2aNDGzZ882Bx98sPW6wApHYPz48eaee+4xkyZNsjkWU22dddaxXixnnXWWOeCAAwrXiZi3rBC29957z4hlLh4ZMR9+JN1XvjSF/m622WZm2rRphAJGQnWFp1qqsLLRRhuZE0880YorzZs3j+gqyW1Gwsj3339vJOrJ08ezbJvad955x36w0qbst99+Sy6cCEemwiryCnziiSfMjz/+WLFmJQCIu8RriSsUDqkMfd9997XC31dffWVmzZpVwU0e1XXr1rX/LqFVOZQ9kVCeVVrX+milc7w1qnauv/56crD+D/HAgQPNRRddZP/NYydhWuz07wpl/+yzzyqiVMRPIup5550X4S8j/k3lIgDq/V8pVfTxSgWXsMoEUvOprr322uaII46wYmD79u1xkgi5WPS83m233cxqq61m5syZ41upXtXsGzdubD1Tw3i1huwWh0OgbAkgAJbt1MS/Y7Vr1za///67DRHyQq7iP6ryGoFe+iUEPPXUUxUvuOl66HkPKDTroYceMpobrDKBa6+91vTr18+ce+65RpsGLDcC999/v82tprAqeQIq9xqWHwF5Vj3wwAM295qEAJn3m1ZOJgkrxxxzjJHYj1UnIBFPL/raJOy4444VB2Tb1Cp3lcIqle/q119/BWsIAnrujxo1ynoFvvTSS0bpPLz1Kk9rFQ45/fTTKxVeCdF8Ig/Vhyf9hsVJzyExqhoeqJBBeVhfc801VrDS/eAf//iHXdt6B1B+Rnmr1qhRw37MSq1snUhoPoNSDs82bdrY9ae8lKrorY8m+oCSavo4oMrgKl71008/WX7KY0su4JWUchEAtab17q9iQd5zy8V1mGnM+iiv/Ohaf6nPdInT8uKVGKiPUJg/gb59+5qbbrrJiqgjRozwP8EYm+pH/JXnV/dUDAIuEUAAdGm2izzWevXqGVX/pYpiYcDrpVZfCpWcWZsBfWXVvyv3WurXbXllKPxNmwRtLvbZZx+b04ow7MrzIk+KnXbayXphSLTGCzD8ulWeNZnEk5kzZ9o1ptA/iS7azGpjlcl0rEQuLDMB/YbHjBljN6vPP/98xW9aZ0io0suv5kC/cWwlgY033thuQHUflDe0Z9k2tRJaFLoqb1Z5CGHhCIiZ1qk+CIh91crLaq1z587mtttuM/J0c9kUKikPdHlGKn+qvPuymTyr5GktryqlrNh2223t4WKudiRinXnmmTac1WXzNvjKk/jaa6/5CqIffvih/WCldwEVCpInq6v2+eefVxq6vCb1jH7xxRd916c+AGhNX3nllTYSoG3btubll192FWXWcSs0Wp7pjz76qM1R6X1s8t7PdS/QxwAJgvJYw9IT0Mc67XUGDx5s34GCmJwh9EFA506ZMiXIKRwDgcQQQABMzFSW30AkRumh/+STT9rkyli0BO677z4b1qsXBYlVEk+0WU1nepnr0aOHDW/V8ffee6/1wMAqE1DogF785XGlFwN9gfXEKwRT/9WSGtKiozPlr6rakheaRZ4gf8beEQpd83KvSWyVeWt0yy23tC/BErA23XTT4I0m9EjdH//zn/+Y/v37202pZ9kEQOVm0mZXIavyZsP8CcgjXR4VEv68D1PePWCHHXawG1kVXBFPHav16okzTZs29b9AQo+QWCehVB4sXriq31B1rLxeVHn5X//6V8Xhl156qbnxxhuNeHo5Gf3aSurflb/zm2++Mdddd51lFcS84j/6iKqPga5a1Y91QZ/l6XiFEWVc5a1xL1myxChfpcRAPXu8winec10f93UPlbDtpQZwmVfq2PWe8/XXX1uhX4JeEJOHsAT/hg0bmqqCd5DzOQYCcSaAABjn2Svzvg8fPtyGtCjsVJsCLFoC8gB44403bN4LeQ1k867SlSWu6Bx5DCi0RedgKwmk8kuXjD0bK72gUeXOGM9LINd19emnn+Z6qtPnyePSy70m7x+Z1qQELuX9VIiwkoy7mnvt9ttvt0WotKmXKKJCVLJMAqAELDETQ3kJaNOFZSYg7wkx0zN/8eLF9kDdQ5XXSu8AEqlSq4LLw0reaRJmli5d6rzIKs8eee+JY9CwUz379TzXPVe5AT3zwi4V8urlYXR17corWl6SuXB1PfdnFNWkVeSid+/eRqIqFo6Aoqd0P1WYv97VUwVYvasqp6oiVbAVBLTWli9fHirizMvzq7yBeg5hEHCJAAKgS7NdgrEef/zx5vHHHw/1BbYE3YzlJddbbz1b8EMvCNpkBTGFtCiUQLnCPKEgyHkuHJPPCy9V7lxYIeU/Rr3E6mPLxRdfbL+GyzzvAeVhklegclyq2qVLJm8zhVLJo6dFixbWc1LFU6oKgPPnz7deWPKQ1oZL58i7Mp97Q1I5q6Kq54GqkFRP9NP/SsSS6Kfn0lprrZURgTirMrPr3lb5CFXa+MpzyDPl/lMVe9cFLPFQaPm8efNyEgCrCqtJ/R1nGpc+fKSaIiL0LFGu5Gxe5TpGa1LPGK1DfQTA8iOgNSyvQP2TWmmdiImVXLXeFBWhXKj62BnEnn32WRudppygOheDgEsEEABdmu0ij1UhQHpAKeRKX7CUzFYhlaoOHKQIxd57713kHsfrcgqdkreFPPr0ohXEvC9eeAdUp3X11VcHQZjxGCVuxyBQKgLyINKmTf9owyBLzbumf/c2Z9rEySPOJVN+IIUCe2KJqlN+9NFHlknr1q1tnjqvAqu46SOJwolUzAZbSUAJ1uXtJ08z5aH11pi8KlWQSsJf0MrUElfF1/UPKF6OSoXuBg0Bvvnmm80ll1xSTTyVt5sKXyj8VQVBXDalOVFqlDBVkTUHCqPWx5IhQ4a4jK/S2HMpAgK86Ah8/PHH5pFHHrGF1eTZ6/o9sypZL+WUhOqgv1v9xlWoSs//V199NbrJoiUIxIAAAmAMJimuXayaDyzMOAip9KelZN/62q9iAB06dPA/wRibV0RVA+UFo+TMGAQgEF8C8mxTPjUJMspxJzHGE2SUA0xhrBJllHdNG2F5BypMxtXQVnHw8tB5s+55SKaKpWInb2nEv+q/De+57qVJUFEViX5K9aFQqjCmQgHysnR9M6viPfJckYiq0F6/ZP/KVSsvSwkBVXNUKt9az5497UdBFWBz2SSa6MOz1qXyfXnFUjIx0QcA5Q/TPVIfVvWRAFtBQM8XmUL55bGKFZ6APNYfe+wx6/mnj/ee6d5LdfrK/G+99VbTp08fWwxRRQ5VeCabyUFFoqE+Yqn6tz6mYBBwiQACoEuzXeSx5hM25fqGIMhUeUnAtaFVKFYQO+mkk2zIcJik2EHa5RgIZCOg/IiLFi2yh6gasF7SsNwJyKPay7mmNAAybQrkWa0E4RJklNy6qslLUGKDNhMuCwRjx461FRe1yVfojzzVFSItJgofEqN8nl+5z2z5nyku8i5TgRmtMxWcydXE3fNS23zzzXNtJvbnyftk3333teOQCKhiNXquy8s/1ST4yQtI3urKEaa5kDAjDxbPFNKmSuEqEHbXXXfFnk2+A3jhhRds5InsqquuMnoH8nKAem3r2aR3KHlGSxDQO5KKAGEQKDYB5UfVhzqtQYlUqV7W+r3rg4tSK+kZJS91bAUBRUMp5F/3Rb0HSdRT4UOFo6ea0qSoaNLll19uKy7rXqAcqoqKwiDgEgEEQJdmu8hj9b4Y5nrZffbZJ9dTnTjv999/t0nA5QWocCC/kL6BAweaCy+80Hr/SUBQjiAMAoUioFw1qlQ9YcIEoxxhqUms5fWjJNbyVMHLKtgMyBtAm1QJf1VzrsnLRWKMNrp+mwKvSIBys3niYbAecBQEjFHepIMPPhiBNOLFoI9ySpfieaRqsy9xtV69evZKEqpVJClVENA5Clf1TB6V8lrTMRIBDzrooIh7Ga/mFPIvW7Bggb1niq3+8bjq/6tKsLh6zyc9myRwZzKdIw8j10xivVIiyHbaaadq4nRVHhKr33//ffufSeeTfbWoUI1+rxL9VNhD/y7z1qQ+TEn0U/5u1/L3hvmd6V1T9zwvN6KEQBVJFDP9bpW3Vh/9lAZEbFUUTdxVKA2DgGsEEABdm3HGGzsCemhlsu+//95+5dJDTSHB8srYfffd7abBe7lV7isJBwoH0sNQ+THk7ZLtJTd2kOhw2RDQ5lNitHLVpG5Wq3bQq1Lbq1cvo/ANPK4yT6EEF4Xvp/JUESAJfvr9a0MW1BQ+qFA4vKyDEuM4CBSHgML9zj///EoJ6dOFqOv5rsrWQYt/Faf35XeV1DQ0VfOhZuptOt46Vv/dC3t3sfjCuHHjrFek3h0///xz3zBgiSzy6l24cKH9CCjPNawygZdeesmKfk8++aSR51+q6KciNHq+yxNYedOxYAQmTZpkmemDqfe7TT3Tuw+okM3DDz9c4XkdrHWOgkByCCAAJmcuGUlCCdSoUcN3ZN6LabYDU48hx2J2pGL17rvvWu9KiazKtea3gVB4EWZsCKry0nm8VBBAeYNU6VP/TZ4sEqWnT59e8YLWtWtXm3MNS08gVRyVN4W8/cSsanhLEH76oKCNhe4BelnGIACB8iEg7x/lA5SXme6RqakTdC9V3qouXbrgwR9gyhRW7Ql6AQ4PfIiL903lk5X3+RlnnGHuueeeQKz0cU/HqhiLogGwygRS86nqLxJX9f4kb790KTzgF4yAwnzl9KBUH0p3ond4mar9ylGic+fOViQkCioYT45KJgEEwGTOK6NKEIFCeEbh/ZN5gaiKqnIseZVUgy4lF70CqrJRsmq9WGl97bjjjjbXijxS05m8VhUCrBc0Ha8v4Xi0pF9tqhLq5VxTiBqWPwF5XCgEOsjvdrPNNsv/grQAAQhAIKYElDpGRZT0oU4fn4KYPgQeeeSRFJ3LAEvv9irmobyzEv1UoI/8yEFWFsdAAAL5EkAAzJcg50OgwARUvbMQpi+6WGUCSgx8ww03+Hr76SwvJMhrQeGZrpvCfJT7U3moJPApz1w2UxJmhaWrWqNyfrroWRFkzaiIChuDIKSyH6P8h/JIUdEFz7PKr1VXvaWDeJ77sav6d1dZhuXE8RAoNwLyntI9880337SVlYOY0s7oA2DdunVtrkWsMgF5qal6+tprrw0aCEAAAkUlgABYVNzuXkzJqUePHh04pNLVRMvurpDSj/yNN96wRVW09lSgQoVVJOopZMDbuOoFWMLWvffea6uItmnTxowYMcKGt2IrQliU/Fui9SmnnBIIybBhw8xpp51mlNNO+YIwCBSCQO/evW1eSplfOH/q9V31lsbzvBCrkDYhEE8CKqigwnN6T9JHuyCmdyWl/1CopdKoYBCAAAQgUB4EEADLYx4S2wslAj777LNtstWqm650eetSK4UGCc1KLDgGVnQCEqz0RVbJl2fNmmU9rlTJdocddkhbMEEioNa2CjDopXi11VYrep/L7YKqQKvfvHL8STgNYtOmTbMbCqrSBqHFMbkQ8ELTda7yJh522GHWi2WDDTYIVHxG4deumdIgFML69etXiGZj3aaKKuRjhKgHp6eKwF9//bV9Tum5oxBMzJ+ACnp88cUXRilSlOYjiD3yyCPmpJNOsgXndC4WjIA8/lNzf+L9H4ybd5QiSZSvcurUqfa3LvFZFambNWtW0ZCiABTSXqdOncDrOVwvOBoC5U0AAbC85yfWvZOYp5wWqgCm/68QgoYNG9riCvKqkPeUHnIK/1u+fLn9b6pOqXxXMsIBYz39seu81p48VVWR9rzzzrP9zyYA6u/Kb6MKbqnnxG7gEXZ4++23Nx9++GGoqn8vv/yy2W+//ezLmVcYJMIuJa4pCtSEn1KFl+uFv1GjRkaVFxs3bhy+Ec6AQIEI5BNuTVi1/6Qo1+ctt9xihg4dalQEyTMJAKmiwOOPP26f5+uuu64ZPHiwf8MOHaG8f2Kj6AhVpA9iOlbv8apirwggLDMBvTcpPYX2S7Nnz65wmNDvW3l/DzjgAFuAJXW9wrMyAYn6+lindSpLdSip+lufMmWK3YOK70cffWQZYxBwiQACoEuzXeSxDh8+3Cb11w1WFVKvvPJKM3PmTFscIDWsSnnAhgwZYv+ur7FKHKwbMxacgB502uB6X7z0IJQHhyemqiV5VOofhXbxRbE6W8977YUXXrAvWzK9lKnyotarKovVqlWr0ol6qZU30R577GHZu27y7rn22mvNWWedZe6+++5AOFQpUN6Ul112mT0Xy0yAAjW5rY7111/fqOiHNvUKN8cgUE4E8gm3djVEPej8zZkzxxx44IHmk08+qRSFIm5VRQEV/tp6661t6g/lsuU9dCVliaNe9fibbrrJXHjhhVmnQB9F+/TpY9+dlObjxBNPDDplzh136aWXWoFa6y5Tegpx1H1CTAcMGOAcoyADVnXf5557zjJU6Pnee+9tuab7ras9Re/oo/N1111n+vbtG+QSHAOBxBBAAEzMVJbfQCSMSCBROfvJkyfbDmbzqFLYoDw1lBBXXoIKG8D8CUiwUn4rea+lWtWXW+W/0nHi+9VXXxnldMFWElBooDxRFZKqFwPZ/PnzjUJf9AKh/191TaqCrUIJlfvuu+++cx7nTz/9ZHloI6WqvkcddVRWJiNHjjTHHnusZayE4fK8wNIToEBN7itD9zyFASkn1c4775x7Q5wJgQIQkLDvZ/pQqmgJfSCVF5veq3r06GFPczFE3Y+X/q6cdfrgLI8qpZhQyg6JAp06dcooCnTo0MFMnDjRClwSurAVBCSqKK3He++9Z9np/V6REnvuuWfFh1GFrupD6MCBA22OZJmiAryoH1hWJ3DOOedYzz9P+GvatKn9oKyP9/pvKp6iwitynpCJvT6a3nHHHeBMIfDUU0+ZI444wvK5//77Tffu3e1fJZpmEgDlJKF/OnbsaJ5//nl4QsApAgiATk13cQercF8JTQq78F5Q/UIq9dKll6voRcwAACAASURBVIeLL77YVmPFshNQngttArwKtCqkoCIM6R54ehlu0KCBkUijnIz6moutJKDwQG2sFJLatm1b+4dly5bZjYP4Kuylffv2lZDpa6M2E8r/Jw9BzJjPPvvMHH300VZs0RdZ5VZUJcB69erZdakXWon92vTqA4HyMMlbWCIglp4ABWryWxleaHrqbzu/FjkbAqUhoI9U+pD3r3/9C5HKZwokkpx//vn2Ga4IiRYtWviKAnr/1Hto69at7TnYSgJ6touL3uv1LJcpKkK5VPXvP/zwg/2IKpN4pQ+m+vivvMpYdQKvvfaafdcUOwl/+k1L2E9nElYVAqwP+zpeazPTsS6y9hxO5Gma+kElmwA4ZswYc8ghhxjlUNXaxiDgEgEEQJdmu8hj9TyqUjddKq7QpEkT+wBbvHhxtQTMys+kvCHkA/OfLIW06KVBX131Vfuuu+6yX1uzPfAkFqpCa9WHpP/Vkn+E8lWOHz/e3HfffRWeFRq1Ng166erWrZt9QUu1448/3jz22GP2BVfz4bql5rJKV+SnKp8gx5DjylgRlQI1uf+6lIJCYT5KM9G/f//cG+JMuw7zMRUFwPIn0K5dO/PKK6/YkDd5sGDVCSiiRAKUQiz/+c9/VhyQ7R1J3n9KAaIPVioggFUm8O2335qePXvaj3fZwlW7dOliPdvEEUtPQPdCFUrZaqutAkVAeBEWn376qdG7Z7734iTNy6abbmp/r88++6w56KCDAv3WFXWij9NKPSUPawwCLhFAAHRptos8Vi/sSjdZ78urvhzqRq1NvXKzbLnllpV65d2QlY9NDzssMwGFDiisV2KpuK2++ur24Gwvt3phkJggoVBVsbCVBDyBQHkrVTXUs+uvv94o/FJcladO3m3KsaivjHrB1VrWl1nNheuWTy6rTOzIcWVscSQK1OT+69KzRM8gFZ16/fXX7UcoLDcC3vMll7MR83Ohlv4cL8eyNrvyZMGqE6hbt65ZuHChLUShj6SeZXtHUriqQl3x6s++ohSOLvFZaVC+//57e7AK/Ymdin5QVMH/F6n9jyqAp4as+p2lPLYSYBUxISEQW0EgXQofv/2Qt9/U3kkpQjAIuEQAAdCl2S7yWL1Na2pRBX0xlDCocEm9wCpnQ6o98cQTNicYX2T8J0vCn17C5JUm77QgL7de5SvlWtNmGFtJwAtP1/r84osvTJ06dewfJfZJMFWIgBf24p2l9azwF20aFPLuuimfSiFMxUVcNgrU5D/7ulcq3EebVRWb0XNGxUGwcATyEfkR88Oxzna0l38WT7XMlHIRBfSBQKGVChtW9WAMAoUioH2O0swox59yJwcxT7TS2ta7KbaCgCf2V03zkU3s9z6iKFRd7/wYBFwigADo0mwXeaxHHnmkLcd+8803mwsuuKDi6vvtt5+tsLbvvvvaZMueKZRVVdf0MFTiZokqWGYCnihQ9eUh2wNPCZyVBF9VgPXigVUmoHWpdShGEvY8U1GLE044wShnS6pJGFQ+Ra9oCDwhUAgCFKjJj6pCrGTaMCmETUKU/pHHil8xJB1XtcBSfr2J99m6F/qZV7BChYD0DiBBRR+qJKqQ69OPXrC/a6Ordym8VzLz8sICleBfxT08y/aO5HlY6Z6hKBWsOgGFWirfnyqr60OpiqCpaAUWjoBXnb6qh2q2VvSOqvB/PuJXpqRnjHIlV61Qne23rmieESNG2CrhY8eODTd5HA2BmBNAAIz5BJZz9++9915bdU05/VRAwTPlvFDuC22sJPipUqg2Zo8//rgNJ9B/l4eGwi2xzAS8EOswAqCX30bilhe2AePgBORFJE9BiYQKcaGiaHB22Y5UURCFpyuPJVadAAVq8lsVeK3lxy+fs5UjVTlnlY9twoQJ1byo82nb5XNPPfVUm4aC/LOZV4FCURWBctFFF5kbb7yx4sBsokCrVq3sR2ilApGAja0gIIFEReeUU/G7776rhkUeWHqfV4oZFUbD/Al4VZVVqOaWW27xP8EYu5Zvu+02++4pb0BsBQHl+FSuX4VV6x1dH01lmX7rui9onSqK5+677zZnnnkmKCHgFAEEQKemu7iD1VdCfYHVDVjCieeFoV4ob41uwOlCKvVgk6eVdwMvbq/jczUvxFovqXpZ9Szby61CKSWu8vIQn3lOak8VciHvSf2j+4Pszz//TOpw8xoXBWrywmckluRj2vhiuRM47bTTrFilPKnKl4rlTmD27Nnm1ltvtR6Ven/SxlUbWKw6ARU8U+Ezeakp+sHzPs30jqQUFvpHXJ966imbMsB1U65oCfjTp0+3KDIV/tDfvPf55s2bExkRYOFcccUVZsCAATbfpATW9u3bZz1LH/C1d9IHaDlI6F0eW0Hgxx9/tHtM5ftVUSS9V8oztepvXemn9BxSQTD9/wYNGlgPf/abrCTXCCAAujbjRR7vX3/9ZV8YUquDqgu///67/WKjFzSv0tp6661nK1upGIOXf63I3Y3V5byKvp07dzbPPPNMRd8zvdwqZEN5A+X5p5BshWZjECgmAYUGjhw50nr7KZTF20x41YARANPPBgVqirlKuVbUBPSxTxvXli1b2iIsWGUCqR9HM7HRu5Q2uV5eOt0z69evb6ZNm2Y3sVh1AnqeKJ3MRx99ZORFrY2/1qHeRyVWSdTabrvt7AdnhQ6qqIVMlUFZp8aMGjXKpj5RuhjvWa2UCUp5orWnkP7Fixebb775xhaVS81Jp9B0iTBdu3ZlaWYgoHfxrbfe2v6mtSb1Tq+PJfpA73mt63evyCjtlYYMGWLFP4X/KjxdAhe2koB+v4ceeqgRMwl68jr3HE0Uaab7p37reg/Veq5Vq5YZN26cTUeFQcA1AgiArs14GY5XVdr0UFMIQVWPwDLsbtl0SfkuFK4iZvJQUVi1LJ0AqOrLhx9+uM2RoReNmTNnOl2l7ZVXXol8HlOrDEbeeIwb1IuWQv8k+j399NMVmwRvQ6HiKVqbKgjUtm3bGI+0cF2nQE3h2NJy4Ql4lVXJW5WedS4h6nvuuad97kvAwjITkHdP69atK3J/SsCSAKD3JoULSrzyhCs9k1QQYOrUqVYwdNkklCh9jz7WyxRO3bt3b+ullm69SnQZP368TePhCakSAfXfFBqMpSeg9EjyNJXI6u1/5BGoND36d3249/J1a33qb6r6rbnBqhPQepPHqnL9ytJFmem/K/+v0lP4eV3CGAJJJYAAmNSZZVxOEOjZs6dR0mo95PSFS4VX9MVV/66cinpR0wvGo48+WvGSe+GFF9qv3S6bJ5JGxUC8JWJjKwlItFLYn9aeBGiZJ/ptttlmFWt1jz32AFsAAhSoCQCJQ8qSwOjRo81hhx1mC67IYwirTCBIiLqeWSr8JdFKni0tWrQAY0ACijKRd5Vfon8VCpGo6rpHpcQ8eU7qQ7FEvGHDhhkVTAhqevdULkAJV4o6kXdgLiJ30OvF/Th9IDn99NPN22+/nXUo8kxV6D9F57LPuAR9/Y4VGSWm8vyT6fkj70oJrkpFofspBgFXCSAAujrzjDsRBBTiIs8/fcnK5j3pCS/6MqaXOdc9LT0BMFs+mzALRDwJXzU2ObhyUsrbTzmXUkU/hfjrRUystF4lWGPREaBATXQsaSk6AsuXL7dVK6dMmWJFBW12MQiUgoA+SnmigDyE9MxWGKVEAYUO7rbbbqXoVtldc/jw4TavtPchWR+Ww1pqGzzvg9FTMTRFSyg0XZFRMnkCbr/99tbjTwIgFp6APs7rty4xG4MABFYQQABkJURC4JprromkHbsoV1nFfqlZf/31TZMmTexLmdzescwEnnjiCXP99dfbL63pTAVDlHBY+VywlWHSyhOiF/8DDjgg7y/UJ598spNoFSKkTZVEP3mb6kXLE1b1wqWcS1p3+t8111wTAdDJVVLaQWtt5mNeeoV82kjKuZ9//rnvUORBtGjRIut9oQIVXgEB5bLs27ev7/kcEIwA1dODceKocAT0vJbnvkQnPdNzNZ0/adIkKirnCpDzIAABCBSIAAJggcC61mzUIZWp/FQQROEb/fv3t8IglpnA/PnzjTYFVb9ukyeoMjPlovKSqUtwVkLr4447zuYOIbwi2C9s8uTJVvQbMWKE+fnnn+1JXjEP5fzRJkJefmLtmXefwCMgGGOOioZAPs8nwvsrz0HVgl5BZkj3BeWrfemll/DCCAIsyzFUT88TYJXTlWNN9wd9cMZWEND7oopMqOhEkPD0TNwUhtmtWzdb6GLWrFnghUDBCOjDs/Y+r776ql1r+gCld3ztH+VFqTWt91I5lBCOXrBpoOEYEUAAjNFklXNXC31D1SZMGwh9TVTlJgwC+RBYunSp9VpTlTp94VaIgBcWrXALCYESBJUQHEtPoGoYtXL9qIq3/lGOv3SGAOi/mihQ488o7BH5PJ8I769MOyxLbb6U3+rKK6+0HsBYeAJUTw/PLNsZKvyh9fjkk09aoUAmoUDRAIpmyfT8irYX5dua0nVIPJGYstdee+XcURVTUQEW5Vr76aefcm6HEyGQiYDe3e+55x5zyy23mAULFviCUnGfPn362ByAuXzM8r0AB0AgJgQQAGMyUeXeTSWoj9KUPFgvZsrZIm8hfY3URuz2228355xzTpSXikVbXgibEqnrRRWLjoDy1incRWLgtGnTbMNaa9ro7rvvvjbHoqrUrrXWWtFdNAEteWLe2muvbe644w6b9NvPEAD9CK0MT/c/MtgReLAZM2/ePF9YElmUR1E5LCUMaOOrhOv63W+++ea+57tygAr7+FlqwQp9UGGj5Ues+t+pnh6OmQp97LLLLvYkiXtnnnlm2gY++eQTs/fee9vCVFVzAOteKfFr4sSJThdZ0T1PH0nfeOONvPIiKgVAy5YtrfCv+6vLFvU9kOe6sRWS9W6uaBRZkJze3od+vdsrekUfqDAIuEgAAdDFWY/ZmCUGqlT7a6+9Zjdl3s0+ZsPIq7uecPLBBx/YqmpVTSLWvffea//zVVddlde1XD75ww8/tGGtEgQVTi3TC4NeYLt06WLDWlUp0PUiKuLieQJ5LJo3b275yHOyYcOGaZcRAqD/r4sCNf6MCn2EPjrJC1jVVpWUnd97oYnTvkeA6um5rQXlQT722GNtvmh5Aqm4RzqTIJVabVUeQfL0V8VbLy2IwgX1rlWzZs3cOhPzs1RpWrk+VcjjiCOOyHk0o0aNMiogIo/Kzz77LOd2knBiWM9pvzG77pmukF95lyrs10s9o1zeyjupDwH6/evjtH7T33//vXnnnXfM+PHjrbjvHa+oMkVcRD03fnPH3yFQDgQQAMthFuiDL4HRo0cbeb8pT4u++rhmfgKgNg077LCD3ahSjTaa1fHyyy9bMVDeQF6OOy9foMSBG2+8MZoLxbQVCfLyBho5cqSt7uuJpWLUtm1bK6B07dq1kscqAqD/ZHuMKFDjz6qQR5x22ml2fQ8aNMiGC2EQKBQBqqfnT1Yef/fff7/p2LGjef7559M2OGbMGHPIIYfY9yS9S+pDnz7oyX777TfTq1cvo7x1+rv+dvTRR+ffsRi2cPDBB5sXXnjBPsOHDRuW8whUGE2RFQceeKAZO3Zszu0k4cR8cilq/BKtnnvuObv/8QQsl9/1VVBKnr76rbZo0cKus3TOEVXXjgpSKapH1eh17oABA8wll1yShCXGGCAQigACYChcHFwqAqpuq5u8NsfK+eCaIQCWbsYVCvP000/bFwx9QdT6kzizZMmS0nWqjK4sD13lU5RYUjWfoqoAazOhjYSqAMs7Qy9dFAHJPIEUqCmPxa0NsNasPIZef/318ugUvUgMAaqnRzuVig5RyOrNN99sLrjggrSNy0NQnoJ6Bg0dOtRIoEo1CSt6z5RIIPFPIqCLppxqEkOVb/u///2vURh/WNM7uwouSKS66667zFlnnRW2CY7/HwG9f/br16+imrrWqctelcuXL7dRJvLs23nnnW1UmN7Jg5re6eU9KK/AevXqGRVWctXbNygzjkseAQTA5M1pIke0cOFCK8DIzj333ESOMdugEABLN+WpGzUJgHr5QABMPx/yZHnkkUes5+R7771nD/LCJ5VbSXk9EQCzr2UK1JTut556ZXkIKJRIgqxXKKA8ela8XqggQlSm333t2rWt51WTJk2sOKAPAq4Z1dMLM+ONGze2Yab6CKWUMemsQYMGRgVA9CzS/6YrKKd8tueff75p2rSpzUHtoiniQTz13i2hSdW7FRYc1JRncb/99rNhxArFnDt3Lrmrg8JLOU4ef0rpI6FKJuFPa/iyyy4zPXr0cPL+KQ6KylF0ifZFCtXXbzWsKeRfUVMyhaorwgyDgEsEEABdmm3GGlsCCIDFnzoVtpHorBBXLzeQ9wImj7Ybbrih+J2K0RXlRaHwIXn7KeG6zBMD9RKr3EJ6iVO4MJaeAAVqSrcyvLQTEq0WL15cuo6U8Mrec6cQXVAxK21i+/fvb4VBV4zq6YWZaVWalVe+CnnttNNO1S4iUWrrrbe2z6BOnTpZr/V0ppxgKhDgsvAvLkOGDLHVu8VLudT0O+3evbut6JvJ9J40ePBgc/XVV9t3Jp2r3NRqBwtOQB+aJfy9+eab9iS9d8pTTaGqCnUP4+0W/KrxOVIevioIqfB9eernav/4xz9sVM95551nbr311lyb4TwIxJIAAmAsp41Ou0YAAbA4M64iIBL9VAlUYQHey5c2qCoCotwh8i4gaXDw+fjrr7+sV4a8ArXpUq4lmScG6sVWbCUIZvLcCH615B5JgZriza28fNu1a2emTJlidtxxR5svyEUr9H1O9wAlYp80aVJab6wkMqd6emFmVYW6lI5C4fq77757tYvoQ9Txxx9vnzsKp8xULM1LN6OQQLXnsvXp08cKI96zWoxVQVme0RtvvLGtkK6PI6rALC81iad6vnvVWCWs3HbbbS4jDDV2fXRWXjvlV/bePeVBqXlQSLZLH0qygVNxLnlS6yO82ORqShcgUVVrWjm/MQi4RAAB0KXZZqyxJYAAWLip+/bbb62XmoS/1FALMZcIINHv8MMPty+7WH4E5BWgHExirRc4b6OgDYb+cTG/Zy5EKVATjppC0fxMQrVCfVUh9O67767It6Rk43379vU7PZF/14Y0SpOgIsYKrdQ9d86cOfZ3L2+Oc845J8pLlW1bVE8vzNSomu+XX35pPzRJ6KtqvXv3tr9rrbdnn33W5vdMZxJf5JUurzev+FdhehyPVlUESSKLUlPIslVE957nyv170003OfObzncm9aFJgrQ+hMjEUWHq8nSTiKq1iK0ksNVWW5l58+bZoigq+pOrjRs3zhao2Xzzzc2nn36aazOcB4FYEkAAjOW00WnXCCAARjvjVQt7KFG19/KqhNcK8dUmYpNNNon2wrRWQUD5mrRZU85ATwhwuapdLkuDAjXBqNWoUSPYgSlH6X4g7zTlv9KGFouWgMRAefxKcFEBB30QcMGonl6YWVZYr6r/HnrooTZHWKrpt+yJBroXqHiAQnzTmQp/nHDCCTYH3uzZswvT2Zi1qg8oAwcOtB/ulBcwk22wwQb23Ul5urfYYouYjbL43X3rrbes8KcICZnWqUKsJfpJ/Mu0Rovf0/K6orwif/zxRzN16lRbpCtXU4j1nnvuacXWbOs61/Y5DwLlTAABsJxnh75B4H8EPAFQ+T8UMlnV5MWmym1eeEsQcJlCYIKcG/djlH/q119/rXjpUjiLKgTq5VVVALHiEtCmWJuL++67r7gXjvnVKFATbALDhrJqI6u8VQrHUtgbVhgCXp5FFQb54YcfCnORMm2V6unRToxyz/Xs2dO+Az344IPWc98zeaPJi1d/O+CAA7LmDZMnqrze5CE4ZsyYaDuZgNbkvasCXxJR5dEvwUqCjPIu5lItOAFIQg9BKSUUhu6tLwl/ijBRmK+8LfX8wTITUPEeeeyrAEizZs1yRqW1rEIg+iigtB8YBFwigADo0mwz1tgSKEQydpe9rTyeSqZ8yCGH2GTCuXgJpS6o1A1HbBcaHY8FAQrUhJumhx56yPcE3RO0mVW1S21k870f+F6QA4yXb03sXQ7/p3p6/j8GFQBp3ry5rTwrU5VpFf1Q7lQJVhJZJADKS1DP+3SmY1T1VqHEKmRxxRVX5N8xWoDA/whIcJLw99RTT9n/ovWmD0z6sC+BeqONNoJVAAJ+EVEBmrCHeAKg7gsu74eC8uK4ZBFAAEzWfDKahBII68Hih8H1B17Ugir56/xWHH/PlwAFavIlyPnlRkBhV/L8lSlsEDM29yTV03NbCQrpk7in3H2pueq89B7dunWzVWoz2dixY03nzp3tufJKV3ggBoEoCBx33HFm+PDhVvTTP0orIS/zSy+91BZUwYITQAAMzoojIZCJAAIgawMCMSAQdTJ2DVmVtFw1BFVXZz5e46ZATbzmi95CICoCVE/PjeTcuXPNZZddZiTmyStQpiT/Cu09//zzsxaxkOAnEbFBgwZmwYIFuXWAsyCQhkDqO2fdunXtB4+GDRvmxcrVqBO/lEhBoaamTsIDMCg1jksKAQTApMwk44AABAITQFANjIoDi0yAAjVFBs7lIFDmBKieHn6CJKAqtHq11VYzyjEZxLy8wDVr1qTwTxBgHBOYAFEngVH5HhglSy81AAKgL3YOSBgBBMCETSjDgQAEIACB+BKgQE1+c3fNNdfk10DK2QoFrF27thUQmjRpYvOKSVDAIFAqAlRPLxV5rguB3AkQdZI7u6pnwjI6lrTkLgEEQHfnnpFDAAIQgECZEaBATX4TEqV3QNWeSJzt0aOH6d+/vxUGMQiUkgDV00tJn2tDIDgBok6Cs/I7EpZ+hPg7BPwJIAD6M+IICEAAAhCAQFEIRC1guVagJmrvgKqTLp6tWrUykyZNMrVq1SrKmuAiEIAABCAAAQhAAAIQiIIAAmAUFGkDAhCAAAQgEAGBqAUs1yp+R+0dsGzZMrNo0SIzY8YM89hjj5k5c+bYQgK33367LSyAQQACEIAABCAAAQhAIC4EEADjMlP0EwIQgAAEEk8gagFLwFyu+B3lgpEY2L59e6PQy7322stMnjw5yuZpCwIQgAAEIAABCEAAAgUlgABYULw0DgEIQAACEIBAUgiMHj3aHHbYYbYwyA8//JCUYTEOCEAAAhCAAAQgAAEHCCAAOjDJDBECEIAABCAAgfwJvP/++6ZFixZGodp//PFH/g3SAgQgAAEIQAACEIAABIpEAAGwSKC5DAQgAAEIQAAC8SawcOFC8/DDD9tBnHvuufEeDL2HAAQgAAEIQAACEHCKAAKgU9PNYCEAAQhAAAIQgAAEIAABCEAAAhCAAARcI4AA6NqMM14IQAACEIAABCAAAQhAAAIQgAAEIAABpwggADo13QwWAhCAAAQgAAEIQAACEIAABCAAAQhAwDUCCICuzTjjhQAEIAABCEAAAhCAAAQgAAEIQAACEHCKAAKgU9PNYCEAAQhAAAIQgAAEIAABCEAAAhCAAARcI4AA6NqMM14IQAACEIAABCAAAQhAAAIQgAAEIAABpwggADo13QwWAhCAAAQgAAEIQAACEIAABCAAAQhAwDUCCICuzTjjhQAEIAABCEAAAhCAAAQgAAEIQAACEHCKAAKgU9PNYCEAAQhAAAIQgAAEIAABCEAAAhCAAARcI4AA6NqMM14IQAACEIAABCAAAQhAAAIQgAAEIAABpwggADo13QwWAhCAAAQgAAEIQAACEIAABCAAAQhAwDUCCICuzTjjhQAEIAABCEAAAhCAAAQgAAEIQAACEHCKAAKgU9PNYCEAAQhAAAIQSBKBl19+2bRr167akGrUqGHq1Klj1l13XdOoUSOz6667mjZt2pjOnTub1VZbLUkIGAsEIAABCEAAAhCAQAACCIABIHEIBCAAAQhAAAIQKEcCmQTATH2tW7eu6d27t+nbt6+pWbNmwYa0yiqr2Lb79etn+vfvX7Dr0DAEIAABCEAAAhCAQDACCIDBOHEUBCAAAQhAAAIQKDsCqQLgmWeeac4666yKPi5evNgsWrTIvP/++2bixIlmwoQJ5u+//7Z/b9mypRkzZoyRIFgIQwAsBFXahAAEIAABCEAAArkTQADMnR1nQgACEIAABCAAgZISSBUA/bztZsyYYU488UTzzjvv2D4rJFjCYCFCghEAS7osuDgEIAABCEAAAhCoRgABkEUBAQhAAAIQgAAEYkogjACoIf7222+mdevWFSLgwIEDzXnnnRf56BEAI0dKgxCAAAQgAAEIQCAvAgiAeeHjZAhAAAIQgAAEIFA6AmEFQPVUnoA77LCDDQfedNNNzaeffmpq1apVMQiFDT/99NPWO3DatGnm888/N8uWLTMbbLCB2WmnncwRRxxhTjnllLSeg1tssYWZN29eViAnn3yyGTZsWLVjvvjiCzNo0CAzbtw42yeJlfXq1TOtWrUyZ5xxRtpiJ6Ujz5UhAAEIQAACEIBAvAggAMZrvugtBCAAAQhAAAIQqCCQiwCokzt27GhefPFF285rr71m9tprr4o2g4h4O++8s3nuuefMxhtvXGk2gpybTgB84IEHzDnnnGNFv0zWrVs3c9999xW0eAlLCwIQgAAEIAABCCSVAAJgUmeWcUEAAhCAAAQgkHgCuQqAN998s7n44ostnxtuuMFccsklFawaNWpkPQM7depkJPTVr1/fegDKK++RRx4xL7zwgj12n332Mbp+qs2aNcseKw9DWdXCJPpv66+/vm3fs6FDhxqJe7Ltt9/e9OzZ0163du3a9poSByU2yi644AJz6623Jn5eGSAEIAABCEAAAhCImgACYNREaQ8CEIAABCAAAQgUiUCuAqDCe/fff3/by9NOO82KbJ7Nnj3bbLPNNhlH8OCDD9pzZKos3L59+2rHBs0BOH/+fNOkSROzZMkSI8/AIUOGpPXwu/zyy82AAQPMqquuJRMz4wAAAalJREFUaj788EOz7bbbFokwl4EABCAAAQhAAALJIIAAmIx5ZBQQgAAEIAABCDhIIFcB8N1337VedrIuXbqYJ598MhS9XXbZxRYS6dWrl7nrrrtyFgAvuugi69G3ySabmLlz55o11lgjbT/++OMPo/DiBQsWGImB//znP0P1l4MhAAEIQAACEICA6wQQAF1fAYwfAhCAAAQgAIHYEshVAJwzZ06Fl588AcePH5+WgQqFfPPNN+bnn3+2ob2e9e3b14wdO9a0bdvWvPLKKzkLgPI0VF8U9qv8ftnsyCOPNCNHjjT77befLVCCQQACEIAABCAAAQgEJ4AAGJwVR0IAAhCAAAQgAIGyIpCrACjvPXnxyQ4//HAzatSoSuOSuHfvvfdace+XX37JOOamTZuamTNn5iQA/vTTT2a99dYLzbNZs2a2kjEGAQhAAAIQgAAEIBCcAAJgcFYcCQEIQAACEIAABMqKQK4CoDz+OnToYMfSvXt3M3jwYPv/5fHXo0ePSjkBsw1YYbkq1FHVguQAVK7BXHL5ZbpmWU0MnYEABCAAAQhAAAJlRuD/AWJc4lAfNMVZAAAAAElFTkSuQmCC\" width=\"640\">"
      ],
      "text/plain": [
       "<IPython.core.display.HTML object>"
      ]
     },
     "metadata": {},
     "output_type": "display_data"
    }
   ],
   "source": [
    "graph_2 = gold.plot.bar()\n",
    "plt.ylabel('Daily Percentage Change')\n",
    "plt.xlabel('Date')\n",
    "plt.title('Gold')\n",
    "graph_2.xaxis.set_major_locator(ticker.MultipleLocator(22.00))\n",
    "graph_2.xaxis.set_minor_locator(ticker.MultipleLocator(0.5))\n",
    "graph_2.xaxis.set_major_formatter(ticker.FixedFormatter(month))\n",
    "graph_2.xaxis.set_minor_formatter(ticker.FixedFormatter(minors))"
   ]
  },
  {
   "cell_type": "code",
   "execution_count": 117,
   "metadata": {
    "colab": {
     "base_uri": "https://localhost:8080/",
     "height": 17
    },
    "colab_type": "code",
    "executionInfo": {
     "elapsed": 931,
     "status": "ok",
     "timestamp": 1576133729355,
     "user": {
      "displayName": "Hyunsoo Kim",
      "photoUrl": "",
      "userId": "13555375600564903636"
     },
     "user_tz": 300
    },
    "id": "TWECZnqOLEaI",
    "outputId": "6ed86aee-5574-4d96-cb3b-604a0dc50400"
   },
   "outputs": [
    {
     "data": {
      "application/javascript": [
       "/* Put everything inside the global mpl namespace */\n",
       "window.mpl = {};\n",
       "\n",
       "\n",
       "mpl.get_websocket_type = function() {\n",
       "    if (typeof(WebSocket) !== 'undefined') {\n",
       "        return WebSocket;\n",
       "    } else if (typeof(MozWebSocket) !== 'undefined') {\n",
       "        return MozWebSocket;\n",
       "    } else {\n",
       "        alert('Your browser does not have WebSocket support. ' +\n",
       "              'Please try Chrome, Safari or Firefox ≥ 6. ' +\n",
       "              'Firefox 4 and 5 are also supported but you ' +\n",
       "              'have to enable WebSockets in about:config.');\n",
       "    };\n",
       "}\n",
       "\n",
       "mpl.figure = function(figure_id, websocket, ondownload, parent_element) {\n",
       "    this.id = figure_id;\n",
       "\n",
       "    this.ws = websocket;\n",
       "\n",
       "    this.supports_binary = (this.ws.binaryType != undefined);\n",
       "\n",
       "    if (!this.supports_binary) {\n",
       "        var warnings = document.getElementById(\"mpl-warnings\");\n",
       "        if (warnings) {\n",
       "            warnings.style.display = 'block';\n",
       "            warnings.textContent = (\n",
       "                \"This browser does not support binary websocket messages. \" +\n",
       "                    \"Performance may be slow.\");\n",
       "        }\n",
       "    }\n",
       "\n",
       "    this.imageObj = new Image();\n",
       "\n",
       "    this.context = undefined;\n",
       "    this.message = undefined;\n",
       "    this.canvas = undefined;\n",
       "    this.rubberband_canvas = undefined;\n",
       "    this.rubberband_context = undefined;\n",
       "    this.format_dropdown = undefined;\n",
       "\n",
       "    this.image_mode = 'full';\n",
       "\n",
       "    this.root = $('<div/>');\n",
       "    this._root_extra_style(this.root)\n",
       "    this.root.attr('style', 'display: inline-block');\n",
       "\n",
       "    $(parent_element).append(this.root);\n",
       "\n",
       "    this._init_header(this);\n",
       "    this._init_canvas(this);\n",
       "    this._init_toolbar(this);\n",
       "\n",
       "    var fig = this;\n",
       "\n",
       "    this.waiting = false;\n",
       "\n",
       "    this.ws.onopen =  function () {\n",
       "            fig.send_message(\"supports_binary\", {value: fig.supports_binary});\n",
       "            fig.send_message(\"send_image_mode\", {});\n",
       "            if (mpl.ratio != 1) {\n",
       "                fig.send_message(\"set_dpi_ratio\", {'dpi_ratio': mpl.ratio});\n",
       "            }\n",
       "            fig.send_message(\"refresh\", {});\n",
       "        }\n",
       "\n",
       "    this.imageObj.onload = function() {\n",
       "            if (fig.image_mode == 'full') {\n",
       "                // Full images could contain transparency (where diff images\n",
       "                // almost always do), so we need to clear the canvas so that\n",
       "                // there is no ghosting.\n",
       "                fig.context.clearRect(0, 0, fig.canvas.width, fig.canvas.height);\n",
       "            }\n",
       "            fig.context.drawImage(fig.imageObj, 0, 0);\n",
       "        };\n",
       "\n",
       "    this.imageObj.onunload = function() {\n",
       "        fig.ws.close();\n",
       "    }\n",
       "\n",
       "    this.ws.onmessage = this._make_on_message_function(this);\n",
       "\n",
       "    this.ondownload = ondownload;\n",
       "}\n",
       "\n",
       "mpl.figure.prototype._init_header = function() {\n",
       "    var titlebar = $(\n",
       "        '<div class=\"ui-dialog-titlebar ui-widget-header ui-corner-all ' +\n",
       "        'ui-helper-clearfix\"/>');\n",
       "    var titletext = $(\n",
       "        '<div class=\"ui-dialog-title\" style=\"width: 100%; ' +\n",
       "        'text-align: center; padding: 3px;\"/>');\n",
       "    titlebar.append(titletext)\n",
       "    this.root.append(titlebar);\n",
       "    this.header = titletext[0];\n",
       "}\n",
       "\n",
       "\n",
       "\n",
       "mpl.figure.prototype._canvas_extra_style = function(canvas_div) {\n",
       "\n",
       "}\n",
       "\n",
       "\n",
       "mpl.figure.prototype._root_extra_style = function(canvas_div) {\n",
       "\n",
       "}\n",
       "\n",
       "mpl.figure.prototype._init_canvas = function() {\n",
       "    var fig = this;\n",
       "\n",
       "    var canvas_div = $('<div/>');\n",
       "\n",
       "    canvas_div.attr('style', 'position: relative; clear: both; outline: 0');\n",
       "\n",
       "    function canvas_keyboard_event(event) {\n",
       "        return fig.key_event(event, event['data']);\n",
       "    }\n",
       "\n",
       "    canvas_div.keydown('key_press', canvas_keyboard_event);\n",
       "    canvas_div.keyup('key_release', canvas_keyboard_event);\n",
       "    this.canvas_div = canvas_div\n",
       "    this._canvas_extra_style(canvas_div)\n",
       "    this.root.append(canvas_div);\n",
       "\n",
       "    var canvas = $('<canvas/>');\n",
       "    canvas.addClass('mpl-canvas');\n",
       "    canvas.attr('style', \"left: 0; top: 0; z-index: 0; outline: 0\")\n",
       "\n",
       "    this.canvas = canvas[0];\n",
       "    this.context = canvas[0].getContext(\"2d\");\n",
       "\n",
       "    var backingStore = this.context.backingStorePixelRatio ||\n",
       "\tthis.context.webkitBackingStorePixelRatio ||\n",
       "\tthis.context.mozBackingStorePixelRatio ||\n",
       "\tthis.context.msBackingStorePixelRatio ||\n",
       "\tthis.context.oBackingStorePixelRatio ||\n",
       "\tthis.context.backingStorePixelRatio || 1;\n",
       "\n",
       "    mpl.ratio = (window.devicePixelRatio || 1) / backingStore;\n",
       "\n",
       "    var rubberband = $('<canvas/>');\n",
       "    rubberband.attr('style', \"position: absolute; left: 0; top: 0; z-index: 1;\")\n",
       "\n",
       "    var pass_mouse_events = true;\n",
       "\n",
       "    canvas_div.resizable({\n",
       "        start: function(event, ui) {\n",
       "            pass_mouse_events = false;\n",
       "        },\n",
       "        resize: function(event, ui) {\n",
       "            fig.request_resize(ui.size.width, ui.size.height);\n",
       "        },\n",
       "        stop: function(event, ui) {\n",
       "            pass_mouse_events = true;\n",
       "            fig.request_resize(ui.size.width, ui.size.height);\n",
       "        },\n",
       "    });\n",
       "\n",
       "    function mouse_event_fn(event) {\n",
       "        if (pass_mouse_events)\n",
       "            return fig.mouse_event(event, event['data']);\n",
       "    }\n",
       "\n",
       "    rubberband.mousedown('button_press', mouse_event_fn);\n",
       "    rubberband.mouseup('button_release', mouse_event_fn);\n",
       "    // Throttle sequential mouse events to 1 every 20ms.\n",
       "    rubberband.mousemove('motion_notify', mouse_event_fn);\n",
       "\n",
       "    rubberband.mouseenter('figure_enter', mouse_event_fn);\n",
       "    rubberband.mouseleave('figure_leave', mouse_event_fn);\n",
       "\n",
       "    canvas_div.on(\"wheel\", function (event) {\n",
       "        event = event.originalEvent;\n",
       "        event['data'] = 'scroll'\n",
       "        if (event.deltaY < 0) {\n",
       "            event.step = 1;\n",
       "        } else {\n",
       "            event.step = -1;\n",
       "        }\n",
       "        mouse_event_fn(event);\n",
       "    });\n",
       "\n",
       "    canvas_div.append(canvas);\n",
       "    canvas_div.append(rubberband);\n",
       "\n",
       "    this.rubberband = rubberband;\n",
       "    this.rubberband_canvas = rubberband[0];\n",
       "    this.rubberband_context = rubberband[0].getContext(\"2d\");\n",
       "    this.rubberband_context.strokeStyle = \"#000000\";\n",
       "\n",
       "    this._resize_canvas = function(width, height) {\n",
       "        // Keep the size of the canvas, canvas container, and rubber band\n",
       "        // canvas in synch.\n",
       "        canvas_div.css('width', width)\n",
       "        canvas_div.css('height', height)\n",
       "\n",
       "        canvas.attr('width', width * mpl.ratio);\n",
       "        canvas.attr('height', height * mpl.ratio);\n",
       "        canvas.attr('style', 'width: ' + width + 'px; height: ' + height + 'px;');\n",
       "\n",
       "        rubberband.attr('width', width);\n",
       "        rubberband.attr('height', height);\n",
       "    }\n",
       "\n",
       "    // Set the figure to an initial 600x600px, this will subsequently be updated\n",
       "    // upon first draw.\n",
       "    this._resize_canvas(600, 600);\n",
       "\n",
       "    // Disable right mouse context menu.\n",
       "    $(this.rubberband_canvas).bind(\"contextmenu\",function(e){\n",
       "        return false;\n",
       "    });\n",
       "\n",
       "    function set_focus () {\n",
       "        canvas.focus();\n",
       "        canvas_div.focus();\n",
       "    }\n",
       "\n",
       "    window.setTimeout(set_focus, 100);\n",
       "}\n",
       "\n",
       "mpl.figure.prototype._init_toolbar = function() {\n",
       "    var fig = this;\n",
       "\n",
       "    var nav_element = $('<div/>');\n",
       "    nav_element.attr('style', 'width: 100%');\n",
       "    this.root.append(nav_element);\n",
       "\n",
       "    // Define a callback function for later on.\n",
       "    function toolbar_event(event) {\n",
       "        return fig.toolbar_button_onclick(event['data']);\n",
       "    }\n",
       "    function toolbar_mouse_event(event) {\n",
       "        return fig.toolbar_button_onmouseover(event['data']);\n",
       "    }\n",
       "\n",
       "    for(var toolbar_ind in mpl.toolbar_items) {\n",
       "        var name = mpl.toolbar_items[toolbar_ind][0];\n",
       "        var tooltip = mpl.toolbar_items[toolbar_ind][1];\n",
       "        var image = mpl.toolbar_items[toolbar_ind][2];\n",
       "        var method_name = mpl.toolbar_items[toolbar_ind][3];\n",
       "\n",
       "        if (!name) {\n",
       "            // put a spacer in here.\n",
       "            continue;\n",
       "        }\n",
       "        var button = $('<button/>');\n",
       "        button.addClass('ui-button ui-widget ui-state-default ui-corner-all ' +\n",
       "                        'ui-button-icon-only');\n",
       "        button.attr('role', 'button');\n",
       "        button.attr('aria-disabled', 'false');\n",
       "        button.click(method_name, toolbar_event);\n",
       "        button.mouseover(tooltip, toolbar_mouse_event);\n",
       "\n",
       "        var icon_img = $('<span/>');\n",
       "        icon_img.addClass('ui-button-icon-primary ui-icon');\n",
       "        icon_img.addClass(image);\n",
       "        icon_img.addClass('ui-corner-all');\n",
       "\n",
       "        var tooltip_span = $('<span/>');\n",
       "        tooltip_span.addClass('ui-button-text');\n",
       "        tooltip_span.html(tooltip);\n",
       "\n",
       "        button.append(icon_img);\n",
       "        button.append(tooltip_span);\n",
       "\n",
       "        nav_element.append(button);\n",
       "    }\n",
       "\n",
       "    var fmt_picker_span = $('<span/>');\n",
       "\n",
       "    var fmt_picker = $('<select/>');\n",
       "    fmt_picker.addClass('mpl-toolbar-option ui-widget ui-widget-content');\n",
       "    fmt_picker_span.append(fmt_picker);\n",
       "    nav_element.append(fmt_picker_span);\n",
       "    this.format_dropdown = fmt_picker[0];\n",
       "\n",
       "    for (var ind in mpl.extensions) {\n",
       "        var fmt = mpl.extensions[ind];\n",
       "        var option = $(\n",
       "            '<option/>', {selected: fmt === mpl.default_extension}).html(fmt);\n",
       "        fmt_picker.append(option);\n",
       "    }\n",
       "\n",
       "    // Add hover states to the ui-buttons\n",
       "    $( \".ui-button\" ).hover(\n",
       "        function() { $(this).addClass(\"ui-state-hover\");},\n",
       "        function() { $(this).removeClass(\"ui-state-hover\");}\n",
       "    );\n",
       "\n",
       "    var status_bar = $('<span class=\"mpl-message\"/>');\n",
       "    nav_element.append(status_bar);\n",
       "    this.message = status_bar[0];\n",
       "}\n",
       "\n",
       "mpl.figure.prototype.request_resize = function(x_pixels, y_pixels) {\n",
       "    // Request matplotlib to resize the figure. Matplotlib will then trigger a resize in the client,\n",
       "    // which will in turn request a refresh of the image.\n",
       "    this.send_message('resize', {'width': x_pixels, 'height': y_pixels});\n",
       "}\n",
       "\n",
       "mpl.figure.prototype.send_message = function(type, properties) {\n",
       "    properties['type'] = type;\n",
       "    properties['figure_id'] = this.id;\n",
       "    this.ws.send(JSON.stringify(properties));\n",
       "}\n",
       "\n",
       "mpl.figure.prototype.send_draw_message = function() {\n",
       "    if (!this.waiting) {\n",
       "        this.waiting = true;\n",
       "        this.ws.send(JSON.stringify({type: \"draw\", figure_id: this.id}));\n",
       "    }\n",
       "}\n",
       "\n",
       "\n",
       "mpl.figure.prototype.handle_save = function(fig, msg) {\n",
       "    var format_dropdown = fig.format_dropdown;\n",
       "    var format = format_dropdown.options[format_dropdown.selectedIndex].value;\n",
       "    fig.ondownload(fig, format);\n",
       "}\n",
       "\n",
       "\n",
       "mpl.figure.prototype.handle_resize = function(fig, msg) {\n",
       "    var size = msg['size'];\n",
       "    if (size[0] != fig.canvas.width || size[1] != fig.canvas.height) {\n",
       "        fig._resize_canvas(size[0], size[1]);\n",
       "        fig.send_message(\"refresh\", {});\n",
       "    };\n",
       "}\n",
       "\n",
       "mpl.figure.prototype.handle_rubberband = function(fig, msg) {\n",
       "    var x0 = msg['x0'] / mpl.ratio;\n",
       "    var y0 = (fig.canvas.height - msg['y0']) / mpl.ratio;\n",
       "    var x1 = msg['x1'] / mpl.ratio;\n",
       "    var y1 = (fig.canvas.height - msg['y1']) / mpl.ratio;\n",
       "    x0 = Math.floor(x0) + 0.5;\n",
       "    y0 = Math.floor(y0) + 0.5;\n",
       "    x1 = Math.floor(x1) + 0.5;\n",
       "    y1 = Math.floor(y1) + 0.5;\n",
       "    var min_x = Math.min(x0, x1);\n",
       "    var min_y = Math.min(y0, y1);\n",
       "    var width = Math.abs(x1 - x0);\n",
       "    var height = Math.abs(y1 - y0);\n",
       "\n",
       "    fig.rubberband_context.clearRect(\n",
       "        0, 0, fig.canvas.width / mpl.ratio, fig.canvas.height / mpl.ratio);\n",
       "\n",
       "    fig.rubberband_context.strokeRect(min_x, min_y, width, height);\n",
       "}\n",
       "\n",
       "mpl.figure.prototype.handle_figure_label = function(fig, msg) {\n",
       "    // Updates the figure title.\n",
       "    fig.header.textContent = msg['label'];\n",
       "}\n",
       "\n",
       "mpl.figure.prototype.handle_cursor = function(fig, msg) {\n",
       "    var cursor = msg['cursor'];\n",
       "    switch(cursor)\n",
       "    {\n",
       "    case 0:\n",
       "        cursor = 'pointer';\n",
       "        break;\n",
       "    case 1:\n",
       "        cursor = 'default';\n",
       "        break;\n",
       "    case 2:\n",
       "        cursor = 'crosshair';\n",
       "        break;\n",
       "    case 3:\n",
       "        cursor = 'move';\n",
       "        break;\n",
       "    }\n",
       "    fig.rubberband_canvas.style.cursor = cursor;\n",
       "}\n",
       "\n",
       "mpl.figure.prototype.handle_message = function(fig, msg) {\n",
       "    fig.message.textContent = msg['message'];\n",
       "}\n",
       "\n",
       "mpl.figure.prototype.handle_draw = function(fig, msg) {\n",
       "    // Request the server to send over a new figure.\n",
       "    fig.send_draw_message();\n",
       "}\n",
       "\n",
       "mpl.figure.prototype.handle_image_mode = function(fig, msg) {\n",
       "    fig.image_mode = msg['mode'];\n",
       "}\n",
       "\n",
       "mpl.figure.prototype.updated_canvas_event = function() {\n",
       "    // Called whenever the canvas gets updated.\n",
       "    this.send_message(\"ack\", {});\n",
       "}\n",
       "\n",
       "// A function to construct a web socket function for onmessage handling.\n",
       "// Called in the figure constructor.\n",
       "mpl.figure.prototype._make_on_message_function = function(fig) {\n",
       "    return function socket_on_message(evt) {\n",
       "        if (evt.data instanceof Blob) {\n",
       "            /* FIXME: We get \"Resource interpreted as Image but\n",
       "             * transferred with MIME type text/plain:\" errors on\n",
       "             * Chrome.  But how to set the MIME type?  It doesn't seem\n",
       "             * to be part of the websocket stream */\n",
       "            evt.data.type = \"image/png\";\n",
       "\n",
       "            /* Free the memory for the previous frames */\n",
       "            if (fig.imageObj.src) {\n",
       "                (window.URL || window.webkitURL).revokeObjectURL(\n",
       "                    fig.imageObj.src);\n",
       "            }\n",
       "\n",
       "            fig.imageObj.src = (window.URL || window.webkitURL).createObjectURL(\n",
       "                evt.data);\n",
       "            fig.updated_canvas_event();\n",
       "            fig.waiting = false;\n",
       "            return;\n",
       "        }\n",
       "        else if (typeof evt.data === 'string' && evt.data.slice(0, 21) == \"data:image/png;base64\") {\n",
       "            fig.imageObj.src = evt.data;\n",
       "            fig.updated_canvas_event();\n",
       "            fig.waiting = false;\n",
       "            return;\n",
       "        }\n",
       "\n",
       "        var msg = JSON.parse(evt.data);\n",
       "        var msg_type = msg['type'];\n",
       "\n",
       "        // Call the  \"handle_{type}\" callback, which takes\n",
       "        // the figure and JSON message as its only arguments.\n",
       "        try {\n",
       "            var callback = fig[\"handle_\" + msg_type];\n",
       "        } catch (e) {\n",
       "            console.log(\"No handler for the '\" + msg_type + \"' message type: \", msg);\n",
       "            return;\n",
       "        }\n",
       "\n",
       "        if (callback) {\n",
       "            try {\n",
       "                // console.log(\"Handling '\" + msg_type + \"' message: \", msg);\n",
       "                callback(fig, msg);\n",
       "            } catch (e) {\n",
       "                console.log(\"Exception inside the 'handler_\" + msg_type + \"' callback:\", e, e.stack, msg);\n",
       "            }\n",
       "        }\n",
       "    };\n",
       "}\n",
       "\n",
       "// from http://stackoverflow.com/questions/1114465/getting-mouse-location-in-canvas\n",
       "mpl.findpos = function(e) {\n",
       "    //this section is from http://www.quirksmode.org/js/events_properties.html\n",
       "    var targ;\n",
       "    if (!e)\n",
       "        e = window.event;\n",
       "    if (e.target)\n",
       "        targ = e.target;\n",
       "    else if (e.srcElement)\n",
       "        targ = e.srcElement;\n",
       "    if (targ.nodeType == 3) // defeat Safari bug\n",
       "        targ = targ.parentNode;\n",
       "\n",
       "    // jQuery normalizes the pageX and pageY\n",
       "    // pageX,Y are the mouse positions relative to the document\n",
       "    // offset() returns the position of the element relative to the document\n",
       "    var x = e.pageX - $(targ).offset().left;\n",
       "    var y = e.pageY - $(targ).offset().top;\n",
       "\n",
       "    return {\"x\": x, \"y\": y};\n",
       "};\n",
       "\n",
       "/*\n",
       " * return a copy of an object with only non-object keys\n",
       " * we need this to avoid circular references\n",
       " * http://stackoverflow.com/a/24161582/3208463\n",
       " */\n",
       "function simpleKeys (original) {\n",
       "  return Object.keys(original).reduce(function (obj, key) {\n",
       "    if (typeof original[key] !== 'object')\n",
       "        obj[key] = original[key]\n",
       "    return obj;\n",
       "  }, {});\n",
       "}\n",
       "\n",
       "mpl.figure.prototype.mouse_event = function(event, name) {\n",
       "    var canvas_pos = mpl.findpos(event)\n",
       "\n",
       "    if (name === 'button_press')\n",
       "    {\n",
       "        this.canvas.focus();\n",
       "        this.canvas_div.focus();\n",
       "    }\n",
       "\n",
       "    var x = canvas_pos.x * mpl.ratio;\n",
       "    var y = canvas_pos.y * mpl.ratio;\n",
       "\n",
       "    this.send_message(name, {x: x, y: y, button: event.button,\n",
       "                             step: event.step,\n",
       "                             guiEvent: simpleKeys(event)});\n",
       "\n",
       "    /* This prevents the web browser from automatically changing to\n",
       "     * the text insertion cursor when the button is pressed.  We want\n",
       "     * to control all of the cursor setting manually through the\n",
       "     * 'cursor' event from matplotlib */\n",
       "    event.preventDefault();\n",
       "    return false;\n",
       "}\n",
       "\n",
       "mpl.figure.prototype._key_event_extra = function(event, name) {\n",
       "    // Handle any extra behaviour associated with a key event\n",
       "}\n",
       "\n",
       "mpl.figure.prototype.key_event = function(event, name) {\n",
       "\n",
       "    // Prevent repeat events\n",
       "    if (name == 'key_press')\n",
       "    {\n",
       "        if (event.which === this._key)\n",
       "            return;\n",
       "        else\n",
       "            this._key = event.which;\n",
       "    }\n",
       "    if (name == 'key_release')\n",
       "        this._key = null;\n",
       "\n",
       "    var value = '';\n",
       "    if (event.ctrlKey && event.which != 17)\n",
       "        value += \"ctrl+\";\n",
       "    if (event.altKey && event.which != 18)\n",
       "        value += \"alt+\";\n",
       "    if (event.shiftKey && event.which != 16)\n",
       "        value += \"shift+\";\n",
       "\n",
       "    value += 'k';\n",
       "    value += event.which.toString();\n",
       "\n",
       "    this._key_event_extra(event, name);\n",
       "\n",
       "    this.send_message(name, {key: value,\n",
       "                             guiEvent: simpleKeys(event)});\n",
       "    return false;\n",
       "}\n",
       "\n",
       "mpl.figure.prototype.toolbar_button_onclick = function(name) {\n",
       "    if (name == 'download') {\n",
       "        this.handle_save(this, null);\n",
       "    } else {\n",
       "        this.send_message(\"toolbar_button\", {name: name});\n",
       "    }\n",
       "};\n",
       "\n",
       "mpl.figure.prototype.toolbar_button_onmouseover = function(tooltip) {\n",
       "    this.message.textContent = tooltip;\n",
       "};\n",
       "mpl.toolbar_items = [[\"Home\", \"Reset original view\", \"fa fa-home icon-home\", \"home\"], [\"Back\", \"Back to previous view\", \"fa fa-arrow-left icon-arrow-left\", \"back\"], [\"Forward\", \"Forward to next view\", \"fa fa-arrow-right icon-arrow-right\", \"forward\"], [\"\", \"\", \"\", \"\"], [\"Pan\", \"Pan axes with left mouse, zoom with right\", \"fa fa-arrows icon-move\", \"pan\"], [\"Zoom\", \"Zoom to rectangle\", \"fa fa-square-o icon-check-empty\", \"zoom\"], [\"\", \"\", \"\", \"\"], [\"Download\", \"Download plot\", \"fa fa-floppy-o icon-save\", \"download\"]];\n",
       "\n",
       "mpl.extensions = [\"eps\", \"jpeg\", \"pdf\", \"png\", \"ps\", \"raw\", \"svg\", \"tif\"];\n",
       "\n",
       "mpl.default_extension = \"png\";var comm_websocket_adapter = function(comm) {\n",
       "    // Create a \"websocket\"-like object which calls the given IPython comm\n",
       "    // object with the appropriate methods. Currently this is a non binary\n",
       "    // socket, so there is still some room for performance tuning.\n",
       "    var ws = {};\n",
       "\n",
       "    ws.close = function() {\n",
       "        comm.close()\n",
       "    };\n",
       "    ws.send = function(m) {\n",
       "        //console.log('sending', m);\n",
       "        comm.send(m);\n",
       "    };\n",
       "    // Register the callback with on_msg.\n",
       "    comm.on_msg(function(msg) {\n",
       "        //console.log('receiving', msg['content']['data'], msg);\n",
       "        // Pass the mpl event to the overridden (by mpl) onmessage function.\n",
       "        ws.onmessage(msg['content']['data'])\n",
       "    });\n",
       "    return ws;\n",
       "}\n",
       "\n",
       "mpl.mpl_figure_comm = function(comm, msg) {\n",
       "    // This is the function which gets called when the mpl process\n",
       "    // starts-up an IPython Comm through the \"matplotlib\" channel.\n",
       "\n",
       "    var id = msg.content.data.id;\n",
       "    // Get hold of the div created by the display call when the Comm\n",
       "    // socket was opened in Python.\n",
       "    var element = $(\"#\" + id);\n",
       "    var ws_proxy = comm_websocket_adapter(comm)\n",
       "\n",
       "    function ondownload(figure, format) {\n",
       "        window.open(figure.imageObj.src);\n",
       "    }\n",
       "\n",
       "    var fig = new mpl.figure(id, ws_proxy,\n",
       "                           ondownload,\n",
       "                           element.get(0));\n",
       "\n",
       "    // Call onopen now - mpl needs it, as it is assuming we've passed it a real\n",
       "    // web socket which is closed, not our websocket->open comm proxy.\n",
       "    ws_proxy.onopen();\n",
       "\n",
       "    fig.parent_element = element.get(0);\n",
       "    fig.cell_info = mpl.find_output_cell(\"<div id='\" + id + \"'></div>\");\n",
       "    if (!fig.cell_info) {\n",
       "        console.error(\"Failed to find cell for figure\", id, fig);\n",
       "        return;\n",
       "    }\n",
       "\n",
       "    var output_index = fig.cell_info[2]\n",
       "    var cell = fig.cell_info[0];\n",
       "\n",
       "};\n",
       "\n",
       "mpl.figure.prototype.handle_close = function(fig, msg) {\n",
       "    var width = fig.canvas.width/mpl.ratio\n",
       "    fig.root.unbind('remove')\n",
       "\n",
       "    // Update the output cell to use the data from the current canvas.\n",
       "    fig.push_to_output();\n",
       "    var dataURL = fig.canvas.toDataURL();\n",
       "    // Re-enable the keyboard manager in IPython - without this line, in FF,\n",
       "    // the notebook keyboard shortcuts fail.\n",
       "    IPython.keyboard_manager.enable()\n",
       "    $(fig.parent_element).html('<img src=\"' + dataURL + '\" width=\"' + width + '\">');\n",
       "    fig.close_ws(fig, msg);\n",
       "}\n",
       "\n",
       "mpl.figure.prototype.close_ws = function(fig, msg){\n",
       "    fig.send_message('closing', msg);\n",
       "    // fig.ws.close()\n",
       "}\n",
       "\n",
       "mpl.figure.prototype.push_to_output = function(remove_interactive) {\n",
       "    // Turn the data on the canvas into data in the output cell.\n",
       "    var width = this.canvas.width/mpl.ratio\n",
       "    var dataURL = this.canvas.toDataURL();\n",
       "    this.cell_info[1]['text/html'] = '<img src=\"' + dataURL + '\" width=\"' + width + '\">';\n",
       "}\n",
       "\n",
       "mpl.figure.prototype.updated_canvas_event = function() {\n",
       "    // Tell IPython that the notebook contents must change.\n",
       "    IPython.notebook.set_dirty(true);\n",
       "    this.send_message(\"ack\", {});\n",
       "    var fig = this;\n",
       "    // Wait a second, then push the new image to the DOM so\n",
       "    // that it is saved nicely (might be nice to debounce this).\n",
       "    setTimeout(function () { fig.push_to_output() }, 1000);\n",
       "}\n",
       "\n",
       "mpl.figure.prototype._init_toolbar = function() {\n",
       "    var fig = this;\n",
       "\n",
       "    var nav_element = $('<div/>');\n",
       "    nav_element.attr('style', 'width: 100%');\n",
       "    this.root.append(nav_element);\n",
       "\n",
       "    // Define a callback function for later on.\n",
       "    function toolbar_event(event) {\n",
       "        return fig.toolbar_button_onclick(event['data']);\n",
       "    }\n",
       "    function toolbar_mouse_event(event) {\n",
       "        return fig.toolbar_button_onmouseover(event['data']);\n",
       "    }\n",
       "\n",
       "    for(var toolbar_ind in mpl.toolbar_items){\n",
       "        var name = mpl.toolbar_items[toolbar_ind][0];\n",
       "        var tooltip = mpl.toolbar_items[toolbar_ind][1];\n",
       "        var image = mpl.toolbar_items[toolbar_ind][2];\n",
       "        var method_name = mpl.toolbar_items[toolbar_ind][3];\n",
       "\n",
       "        if (!name) { continue; };\n",
       "\n",
       "        var button = $('<button class=\"btn btn-default\" href=\"#\" title=\"' + name + '\"><i class=\"fa ' + image + ' fa-lg\"></i></button>');\n",
       "        button.click(method_name, toolbar_event);\n",
       "        button.mouseover(tooltip, toolbar_mouse_event);\n",
       "        nav_element.append(button);\n",
       "    }\n",
       "\n",
       "    // Add the status bar.\n",
       "    var status_bar = $('<span class=\"mpl-message\" style=\"text-align:right; float: right;\"/>');\n",
       "    nav_element.append(status_bar);\n",
       "    this.message = status_bar[0];\n",
       "\n",
       "    // Add the close button to the window.\n",
       "    var buttongrp = $('<div class=\"btn-group inline pull-right\"></div>');\n",
       "    var button = $('<button class=\"btn btn-mini btn-primary\" href=\"#\" title=\"Stop Interaction\"><i class=\"fa fa-power-off icon-remove icon-large\"></i></button>');\n",
       "    button.click(function (evt) { fig.handle_close(fig, {}); } );\n",
       "    button.mouseover('Stop Interaction', toolbar_mouse_event);\n",
       "    buttongrp.append(button);\n",
       "    var titlebar = this.root.find($('.ui-dialog-titlebar'));\n",
       "    titlebar.prepend(buttongrp);\n",
       "}\n",
       "\n",
       "mpl.figure.prototype._root_extra_style = function(el){\n",
       "    var fig = this\n",
       "    el.on(\"remove\", function(){\n",
       "\tfig.close_ws(fig, {});\n",
       "    });\n",
       "}\n",
       "\n",
       "mpl.figure.prototype._canvas_extra_style = function(el){\n",
       "    // this is important to make the div 'focusable\n",
       "    el.attr('tabindex', 0)\n",
       "    // reach out to IPython and tell the keyboard manager to turn it's self\n",
       "    // off when our div gets focus\n",
       "\n",
       "    // location in version 3\n",
       "    if (IPython.notebook.keyboard_manager) {\n",
       "        IPython.notebook.keyboard_manager.register_events(el);\n",
       "    }\n",
       "    else {\n",
       "        // location in version 2\n",
       "        IPython.keyboard_manager.register_events(el);\n",
       "    }\n",
       "\n",
       "}\n",
       "\n",
       "mpl.figure.prototype._key_event_extra = function(event, name) {\n",
       "    var manager = IPython.notebook.keyboard_manager;\n",
       "    if (!manager)\n",
       "        manager = IPython.keyboard_manager;\n",
       "\n",
       "    // Check for shift+enter\n",
       "    if (event.shiftKey && event.which == 13) {\n",
       "        this.canvas_div.blur();\n",
       "        // select the cell after this one\n",
       "        var index = IPython.notebook.find_cell_index(this.cell_info[0]);\n",
       "        IPython.notebook.select(index + 1);\n",
       "    }\n",
       "}\n",
       "\n",
       "mpl.figure.prototype.handle_save = function(fig, msg) {\n",
       "    fig.ondownload(fig, null);\n",
       "}\n",
       "\n",
       "\n",
       "mpl.find_output_cell = function(html_output) {\n",
       "    // Return the cell and output element which can be found *uniquely* in the notebook.\n",
       "    // Note - this is a bit hacky, but it is done because the \"notebook_saving.Notebook\"\n",
       "    // IPython event is triggered only after the cells have been serialised, which for\n",
       "    // our purposes (turning an active figure into a static one), is too late.\n",
       "    var cells = IPython.notebook.get_cells();\n",
       "    var ncells = cells.length;\n",
       "    for (var i=0; i<ncells; i++) {\n",
       "        var cell = cells[i];\n",
       "        if (cell.cell_type === 'code'){\n",
       "            for (var j=0; j<cell.output_area.outputs.length; j++) {\n",
       "                var data = cell.output_area.outputs[j];\n",
       "                if (data.data) {\n",
       "                    // IPython >= 3 moved mimebundle to data attribute of output\n",
       "                    data = data.data;\n",
       "                }\n",
       "                if (data['text/html'] == html_output) {\n",
       "                    return [cell, data, j];\n",
       "                }\n",
       "            }\n",
       "        }\n",
       "    }\n",
       "}\n",
       "\n",
       "// Register the function which deals with the matplotlib target/channel.\n",
       "// The kernel may be null if the page has been refreshed.\n",
       "if (IPython.notebook.kernel != null) {\n",
       "    IPython.notebook.kernel.comm_manager.register_target('matplotlib', mpl.mpl_figure_comm);\n",
       "}\n"
      ],
      "text/plain": [
       "<IPython.core.display.Javascript object>"
      ]
     },
     "metadata": {},
     "output_type": "display_data"
    },
    {
     "data": {
      "text/html": [
       "<img src=\"data:image/png;base64,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\" width=\"640\">"
      ],
      "text/plain": [
       "<IPython.core.display.HTML object>"
      ]
     },
     "metadata": {},
     "output_type": "display_data"
    }
   ],
   "source": [
    "graph_3 = bitcoin.plot.bar()\n",
    "plt.ylabel('Daily Percentage Change')\n",
    "plt.xlabel('Date')\n",
    "plt.title('Bitcoin')\n",
    "graph_3.xaxis.set_major_locator(ticker.MultipleLocator(32.00))\n",
    "graph_3.xaxis.set_minor_locator(ticker.MultipleLocator(0.5))\n",
    "graph_3.xaxis.set_major_formatter(ticker.FixedFormatter(month))\n",
    "graph_3.xaxis.set_minor_formatter(ticker.FixedFormatter(minors))"
   ]
  },
  {
   "cell_type": "code",
   "execution_count": 118,
   "metadata": {
    "colab": {},
    "colab_type": "code",
    "id": "eYBAvwgKLPIO"
   },
   "outputs": [],
   "source": [
    "graph_4 = platinum.plot.bar()\n",
    "plt.ylabel('Daily Percentage Change')\n",
    "plt.xlabel('Date')\n",
    "plt.title('Platinum')\n",
    "graph_4.xaxis.set_major_locator(ticker.MultipleLocator(22.00))\n",
    "graph_4.xaxis.set_minor_locator(ticker.MultipleLocator(0.5))\n",
    "graph_4.xaxis.set_major_formatter(ticker.FixedFormatter(month))\n",
    "graph_4.xaxis.set_minor_formatter(ticker.FixedFormatter(minors))"
   ]
  },
  {
   "cell_type": "code",
   "execution_count": 119,
   "metadata": {
    "colab": {},
    "colab_type": "code",
    "id": "CSNgt2dsLTnb"
   },
   "outputs": [],
   "source": [
    "graph_5 = corn.plot.bar()\n",
    "plt.ylabel('Daily Percentage Change')\n",
    "plt.xlabel('Date')\n",
    "plt.title('Corn')\n",
    "graph_5.xaxis.set_major_locator(ticker.MultipleLocator(22.00))\n",
    "graph_5.xaxis.set_minor_locator(ticker.MultipleLocator(0.5))\n",
    "graph_5.xaxis.set_major_formatter(ticker.FixedFormatter(month))\n",
    "graph_5.xaxis.set_minor_formatter(ticker.FixedFormatter(minors))"
   ]
  },
  {
   "cell_type": "markdown",
   "metadata": {
    "colab_type": "text",
    "id": "z7PoHfmDLu8i"
   },
   "source": [
    "6. Calculate and display the mean, standard deviation, variance, min, and max for each set of data."
   ]
  },
  {
   "cell_type": "code",
   "execution_count": 120,
   "metadata": {
    "colab": {
     "base_uri": "https://localhost:8080/",
     "height": 170
    },
    "colab_type": "code",
    "executionInfo": {
     "elapsed": 275,
     "status": "ok",
     "timestamp": 1576133738271,
     "user": {
      "displayName": "Hyunsoo Kim",
      "photoUrl": "",
      "userId": "13555375600564903636"
     },
     "user_tz": 300
    },
    "id": "kesO36EdL2jR",
    "outputId": "9030b469-fdf3-444c-e48d-6adc939a3069"
   },
   "outputs": [
    {
     "data": {
      "text/plain": [
       "count    257.000000\n",
       "mean       0.000710\n",
       "std        0.014767\n",
       "min       -0.049859\n",
       "25%       -0.007612\n",
       "50%        0.000000\n",
       "75%        0.009193\n",
       "max        0.045093\n",
       "Name: New York 9:30, dtype: float64"
      ]
     },
     "execution_count": 120,
     "metadata": {},
     "output_type": "execute_result"
    }
   ],
   "source": [
    "palladium.describe()"
   ]
  },
  {
   "cell_type": "code",
   "execution_count": 121,
   "metadata": {
    "colab": {
     "base_uri": "https://localhost:8080/",
     "height": 34
    },
    "colab_type": "code",
    "executionInfo": {
     "elapsed": 395,
     "status": "ok",
     "timestamp": 1576133739270,
     "user": {
      "displayName": "Hyunsoo Kim",
      "photoUrl": "",
      "userId": "13555375600564903636"
     },
     "user_tz": 300
    },
    "id": "5_MPcYW0sUns",
    "outputId": "b61623ed-f952-4f50-fe8c-1ae8ec857094"
   },
   "outputs": [
    {
     "data": {
      "text/plain": [
       "0.00021806309723579944"
      ]
     },
     "execution_count": 121,
     "metadata": {},
     "output_type": "execute_result"
    }
   ],
   "source": [
    "palladium.var()"
   ]
  },
  {
   "cell_type": "code",
   "execution_count": 122,
   "metadata": {
    "colab": {
     "base_uri": "https://localhost:8080/",
     "height": 297
    },
    "colab_type": "code",
    "executionInfo": {
     "elapsed": 353,
     "status": "ok",
     "timestamp": 1576133739849,
     "user": {
      "displayName": "Hyunsoo Kim",
      "photoUrl": "",
      "userId": "13555375600564903636"
     },
     "user_tz": 300
    },
    "id": "FeSspVQQL9Xm",
    "outputId": "a8021c43-a39c-4c51-dd12-9a38486fbe6a"
   },
   "outputs": [
    {
     "data": {
      "text/html": [
       "<div>\n",
       "<style scoped>\n",
       "    .dataframe tbody tr th:only-of-type {\n",
       "        vertical-align: middle;\n",
       "    }\n",
       "\n",
       "    .dataframe tbody tr th {\n",
       "        vertical-align: top;\n",
       "    }\n",
       "\n",
       "    .dataframe thead th {\n",
       "        text-align: right;\n",
       "    }\n",
       "</style>\n",
       "<table border=\"1\" class=\"dataframe\">\n",
       "  <thead>\n",
       "    <tr style=\"text-align: right;\">\n",
       "      <th></th>\n",
       "      <th>Value</th>\n",
       "    </tr>\n",
       "  </thead>\n",
       "  <tbody>\n",
       "    <tr>\n",
       "      <th>count</th>\n",
       "      <td>260.000000</td>\n",
       "    </tr>\n",
       "    <tr>\n",
       "      <th>mean</th>\n",
       "      <td>-0.000020</td>\n",
       "    </tr>\n",
       "    <tr>\n",
       "      <th>std</th>\n",
       "      <td>0.005593</td>\n",
       "    </tr>\n",
       "    <tr>\n",
       "      <th>min</th>\n",
       "      <td>-0.018828</td>\n",
       "    </tr>\n",
       "    <tr>\n",
       "      <th>25%</th>\n",
       "      <td>-0.003559</td>\n",
       "    </tr>\n",
       "    <tr>\n",
       "      <th>50%</th>\n",
       "      <td>-0.000232</td>\n",
       "    </tr>\n",
       "    <tr>\n",
       "      <th>75%</th>\n",
       "      <td>0.003128</td>\n",
       "    </tr>\n",
       "    <tr>\n",
       "      <th>max</th>\n",
       "      <td>0.016305</td>\n",
       "    </tr>\n",
       "  </tbody>\n",
       "</table>\n",
       "</div>"
      ],
      "text/plain": [
       "            Value\n",
       "count  260.000000\n",
       "mean    -0.000020\n",
       "std      0.005593\n",
       "min     -0.018828\n",
       "25%     -0.003559\n",
       "50%     -0.000232\n",
       "75%      0.003128\n",
       "max      0.016305"
      ]
     },
     "execution_count": 122,
     "metadata": {},
     "output_type": "execute_result"
    }
   ],
   "source": [
    "gold.describe()"
   ]
  },
  {
   "cell_type": "code",
   "execution_count": 123,
   "metadata": {
    "colab": {
     "base_uri": "https://localhost:8080/",
     "height": 51
    },
    "colab_type": "code",
    "executionInfo": {
     "elapsed": 426,
     "status": "ok",
     "timestamp": 1576133740666,
     "user": {
      "displayName": "Hyunsoo Kim",
      "photoUrl": "",
      "userId": "13555375600564903636"
     },
     "user_tz": 300
    },
    "id": "gAx031GEsaf_",
    "outputId": "d2ada7bc-6b72-493d-ec3c-88c93a622f0d"
   },
   "outputs": [
    {
     "data": {
      "text/plain": [
       "Value    0.000031\n",
       "dtype: float64"
      ]
     },
     "execution_count": 123,
     "metadata": {},
     "output_type": "execute_result"
    }
   ],
   "source": [
    "gold.var()"
   ]
  },
  {
   "cell_type": "code",
   "execution_count": 124,
   "metadata": {
    "colab": {
     "base_uri": "https://localhost:8080/",
     "height": 297
    },
    "colab_type": "code",
    "executionInfo": {
     "elapsed": 293,
     "status": "ok",
     "timestamp": 1576133741307,
     "user": {
      "displayName": "Hyunsoo Kim",
      "photoUrl": "",
      "userId": "13555375600564903636"
     },
     "user_tz": 300
    },
    "id": "8ClzbSDhMFK8",
    "outputId": "16871fa1-b959-48c9-cad2-9dcac9aa8b0c"
   },
   "outputs": [
    {
     "data": {
      "text/html": [
       "<div>\n",
       "<style scoped>\n",
       "    .dataframe tbody tr th:only-of-type {\n",
       "        vertical-align: middle;\n",
       "    }\n",
       "\n",
       "    .dataframe tbody tr th {\n",
       "        vertical-align: top;\n",
       "    }\n",
       "\n",
       "    .dataframe thead th {\n",
       "        text-align: right;\n",
       "    }\n",
       "</style>\n",
       "<table border=\"1\" class=\"dataframe\">\n",
       "  <thead>\n",
       "    <tr style=\"text-align: right;\">\n",
       "      <th></th>\n",
       "      <th>Value</th>\n",
       "    </tr>\n",
       "  </thead>\n",
       "  <tbody>\n",
       "    <tr>\n",
       "      <th>count</th>\n",
       "      <td>364.000000</td>\n",
       "    </tr>\n",
       "    <tr>\n",
       "      <th>mean</th>\n",
       "      <td>-0.002716</td>\n",
       "    </tr>\n",
       "    <tr>\n",
       "      <th>std</th>\n",
       "      <td>0.041286</td>\n",
       "    </tr>\n",
       "    <tr>\n",
       "      <th>min</th>\n",
       "      <td>-0.202052</td>\n",
       "    </tr>\n",
       "    <tr>\n",
       "      <th>25%</th>\n",
       "      <td>-0.020114</td>\n",
       "    </tr>\n",
       "    <tr>\n",
       "      <th>50%</th>\n",
       "      <td>0.000150</td>\n",
       "    </tr>\n",
       "    <tr>\n",
       "      <th>75%</th>\n",
       "      <td>0.014583</td>\n",
       "    </tr>\n",
       "    <tr>\n",
       "      <th>max</th>\n",
       "      <td>0.133803</td>\n",
       "    </tr>\n",
       "  </tbody>\n",
       "</table>\n",
       "</div>"
      ],
      "text/plain": [
       "            Value\n",
       "count  364.000000\n",
       "mean    -0.002716\n",
       "std      0.041286\n",
       "min     -0.202052\n",
       "25%     -0.020114\n",
       "50%      0.000150\n",
       "75%      0.014583\n",
       "max      0.133803"
      ]
     },
     "execution_count": 124,
     "metadata": {},
     "output_type": "execute_result"
    }
   ],
   "source": [
    "bitcoin.describe()"
   ]
  },
  {
   "cell_type": "code",
   "execution_count": 125,
   "metadata": {
    "colab": {
     "base_uri": "https://localhost:8080/",
     "height": 51
    },
    "colab_type": "code",
    "executionInfo": {
     "elapsed": 445,
     "status": "ok",
     "timestamp": 1576133742270,
     "user": {
      "displayName": "Hyunsoo Kim",
      "photoUrl": "",
      "userId": "13555375600564903636"
     },
     "user_tz": 300
    },
    "id": "0pKXYLBwsgpL",
    "outputId": "9df78f98-f512-4b69-c228-3b52bf9bf74d"
   },
   "outputs": [
    {
     "data": {
      "text/plain": [
       "Value    0.001705\n",
       "dtype: float64"
      ]
     },
     "execution_count": 125,
     "metadata": {},
     "output_type": "execute_result"
    }
   ],
   "source": [
    "bitcoin.var()"
   ]
  },
  {
   "cell_type": "code",
   "execution_count": 126,
   "metadata": {
    "colab": {
     "base_uri": "https://localhost:8080/",
     "height": 170
    },
    "colab_type": "code",
    "executionInfo": {
     "elapsed": 302,
     "status": "ok",
     "timestamp": 1576133742897,
     "user": {
      "displayName": "Hyunsoo Kim",
      "photoUrl": "",
      "userId": "13555375600564903636"
     },
     "user_tz": 300
    },
    "id": "btyr-fopMIcl",
    "outputId": "6109f2e6-a4c0-4418-e4f6-3314a4cb0289"
   },
   "outputs": [
    {
     "data": {
      "text/plain": [
       "count    251.000000\n",
       "mean      -0.000639\n",
       "std        0.009715\n",
       "min       -0.038462\n",
       "25%       -0.006938\n",
       "50%       -0.001182\n",
       "75%        0.004460\n",
       "max        0.032581\n",
       "Name: USD PM, dtype: float64"
      ]
     },
     "execution_count": 126,
     "metadata": {},
     "output_type": "execute_result"
    }
   ],
   "source": [
    "platinum.describe()"
   ]
  },
  {
   "cell_type": "code",
   "execution_count": 127,
   "metadata": {
    "colab": {
     "base_uri": "https://localhost:8080/",
     "height": 34
    },
    "colab_type": "code",
    "executionInfo": {
     "elapsed": 363,
     "status": "ok",
     "timestamp": 1576133743717,
     "user": {
      "displayName": "Hyunsoo Kim",
      "photoUrl": "",
      "userId": "13555375600564903636"
     },
     "user_tz": 300
    },
    "id": "3CjnrGpwsjiq",
    "outputId": "f37d6cb5-8365-40d2-90bf-d2236fe39e0f"
   },
   "outputs": [
    {
     "data": {
      "text/plain": [
       "9.437298324976734e-05"
      ]
     },
     "execution_count": 127,
     "metadata": {},
     "output_type": "execute_result"
    }
   ],
   "source": [
    "platinum.var()"
   ]
  },
  {
   "cell_type": "code",
   "execution_count": 128,
   "metadata": {
    "colab": {
     "base_uri": "https://localhost:8080/",
     "height": 170
    },
    "colab_type": "code",
    "executionInfo": {
     "elapsed": 422,
     "status": "ok",
     "timestamp": 1576133744449,
     "user": {
      "displayName": "Hyunsoo Kim",
      "photoUrl": "",
      "userId": "13555375600564903636"
     },
     "user_tz": 300
    },
    "id": "AWAsZUyvMLBT",
    "outputId": "14536314-0d07-4c8d-9944-11c2fe631a45"
   },
   "outputs": [
    {
     "data": {
      "text/plain": [
       "count    250.000000\n",
       "mean       0.000245\n",
       "std        0.012670\n",
       "min       -0.042424\n",
       "25%       -0.005984\n",
       "50%        0.000000\n",
       "75%        0.007890\n",
       "max        0.054878\n",
       "Name: Cash Price, dtype: float64"
      ]
     },
     "execution_count": 128,
     "metadata": {},
     "output_type": "execute_result"
    }
   ],
   "source": [
    "corn.describe()"
   ]
  },
  {
   "cell_type": "code",
   "execution_count": 129,
   "metadata": {
    "colab": {
     "base_uri": "https://localhost:8080/",
     "height": 34
    },
    "colab_type": "code",
    "executionInfo": {
     "elapsed": 347,
     "status": "ok",
     "timestamp": 1576133745003,
     "user": {
      "displayName": "Hyunsoo Kim",
      "photoUrl": "",
      "userId": "13555375600564903636"
     },
     "user_tz": 300
    },
    "id": "irrDuEpesoN0",
    "outputId": "9c2d0a9b-4c2e-4de6-ac0b-c22ea4756ba4"
   },
   "outputs": [
    {
     "data": {
      "text/plain": [
       "0.00016051866337383217"
      ]
     },
     "execution_count": 129,
     "metadata": {},
     "output_type": "execute_result"
    }
   ],
   "source": [
    "corn.var()"
   ]
  },
  {
   "cell_type": "code",
   "execution_count": 130,
   "metadata": {
    "colab": {
     "base_uri": "https://localhost:8080/",
     "height": 170
    },
    "colab_type": "code",
    "executionInfo": {
     "elapsed": 420,
     "status": "ok",
     "timestamp": 1576133745754,
     "user": {
      "displayName": "Hyunsoo Kim",
      "photoUrl": "",
      "userId": "13555375600564903636"
     },
     "user_tz": 300
    },
    "id": "o5WVF8CqMPL9",
    "outputId": "13465f21-40de-4bc0-f73b-0a6535b3965e"
   },
   "outputs": [
    {
     "data": {
      "text/plain": [
       "count    250.000000\n",
       "mean      -0.000189\n",
       "std        0.018109\n",
       "min       -0.066331\n",
       "25%       -0.009023\n",
       "50%        0.000518\n",
       "75%        0.009298\n",
       "max        0.070422\n",
       "Name: 4. close, dtype: float64"
      ]
     },
     "execution_count": 130,
     "metadata": {},
     "output_type": "execute_result"
    }
   ],
   "source": [
    "sp500_close.describe()"
   ]
  },
  {
   "cell_type": "code",
   "execution_count": 131,
   "metadata": {
    "colab": {
     "base_uri": "https://localhost:8080/",
     "height": 34
    },
    "colab_type": "code",
    "executionInfo": {
     "elapsed": 236,
     "status": "ok",
     "timestamp": 1576133746180,
     "user": {
      "displayName": "Hyunsoo Kim",
      "photoUrl": "",
      "userId": "13555375600564903636"
     },
     "user_tz": 300
    },
    "id": "U8_tR6G5ssNb",
    "outputId": "5a0a16c1-6408-424b-e745-2bb09c46e5d6"
   },
   "outputs": [
    {
     "data": {
      "text/plain": [
       "0.0003279354188889505"
      ]
     },
     "execution_count": 131,
     "metadata": {},
     "output_type": "execute_result"
    }
   ],
   "source": [
    "sp500_close.var()"
   ]
  },
  {
   "cell_type": "markdown",
   "metadata": {
    "colab_type": "text",
    "id": "sfYfgEt9V0kC"
   },
   "source": [
    "Regression Analysis"
   ]
  },
  {
   "cell_type": "markdown",
   "metadata": {
    "colab_type": "text",
    "id": "sfYfgEt9V0kC"
   },
   "source": [
    "7. Using scikit-learn, perform five linear regressions for each of the five assets against the S&P 500. Y should be % change S&P 500. X should be % change for each asset."
   ]
  },
  {
   "cell_type": "code",
   "execution_count": 132,
   "metadata": {
    "colab": {},
    "colab_type": "code",
    "id": "Ip7ctDG2V-vR"
   },
   "outputs": [],
   "source": [
    "from sklearn import linear_model\n",
    "from sklearn.metrics import mean_squared_error, r2_score\n",
    "reg = linear_model.LinearRegression()"
   ]
  },
  {
   "cell_type": "code",
   "execution_count": 133,
   "metadata": {
    "colab": {},
    "colab_type": "code",
    "id": "uTkZskdlXRd_"
   },
   "outputs": [],
   "source": [
    "# linear palladium vs sp500\n",
    "dfpalladium = pd.DataFrame(palladium).astype(float)\n",
    "dfpalladium.columns = ['% change Palladium']\n",
    "dfsp500 = pd.DataFrame(sp500_close)\n",
    "dfsp500.columns = ['% change S&P 500']\n",
    "regpalladium = reg.fit(dfpalladium[1:len(dfsp500)][['% change Palladium']], dfsp500[1:][['% change S&P 500']])\n",
    "palladium_pred = reg.predict(dfpalladium[1:][['% change Palladium']])"
   ]
  },
  {
   "cell_type": "code",
   "execution_count": 134,
   "metadata": {
    "colab": {},
    "colab_type": "code",
    "id": "kgX4Sm_dX_Cx"
   },
   "outputs": [],
   "source": [
    "# linear gold vs sp500\n",
    "gold.columns = ['% change Gold']\n",
    "reggold = reg.fit(gold[1:len(dfsp500)][['% change Gold']], dfsp500[1:][['% change S&P 500']])\n",
    "gold_pred = reg.predict(gold[1:][['% change Gold']])"
   ]
  },
  {
   "cell_type": "code",
   "execution_count": 135,
   "metadata": {
    "colab": {},
    "colab_type": "code",
    "id": "iyfG5XgogMIZ"
   },
   "outputs": [],
   "source": [
    "# linear bitcoin vs sp500\n",
    "bitcoin.columns = ['% change Bitcoin']\n",
    "regbitcoin = reg.fit(bitcoin[1:len(dfsp500)][['% change Bitcoin']], dfsp500[1:][['% change S&P 500']])\n",
    "bitcoin_pred = reg.predict(bitcoin[1:][['% change Bitcoin']])"
   ]
  },
  {
   "cell_type": "code",
   "execution_count": 136,
   "metadata": {
    "colab": {},
    "colab_type": "code",
    "id": "6ZXK38N52EK5"
   },
   "outputs": [],
   "source": [
    "# linear platinum vs sp500\n",
    "dfplatinum = pd.DataFrame(platinum)\n",
    "dfplatinum.columns = ['% change Platinum']\n",
    "regplatinum = reg.fit(dfplatinum[1:len(dfsp500)][['% change Platinum']], dfsp500[1:][['% change S&P 500']])\n",
    "platinum_pred = reg.predict(dfplatinum[1:][['% change Platinum']])"
   ]
  },
  {
   "cell_type": "code",
   "execution_count": 137,
   "metadata": {
    "colab": {},
    "colab_type": "code",
    "id": "gh3wV9eJ6ntT"
   },
   "outputs": [],
   "source": [
    "# linear corn vs sp500\n",
    "dfcorn = pd.DataFrame(corn)\n",
    "dfcorn.columns = ['% change Corn']\n",
    "regcorn = reg.fit(dfcorn[1:][['% change Corn']], dfsp500[1:][['% change S&P 500']])\n",
    "corn_pred = reg.predict(dfcorn[1:][['% change Corn']])"
   ]
  },
  {
   "cell_type": "markdown",
   "metadata": {
    "colab_type": "text",
    "id": "0csIVdp0AfID"
   },
   "source": [
    "8. For each regression, plot the samples and the linear model. Label the Y axis as S&P 500 and the X axis as each asset."
   ]
  },
  {
   "cell_type": "code",
   "execution_count": 138,
   "metadata": {
    "colab": {
     "base_uri": "https://localhost:8080/",
     "height": 34
    },
    "colab_type": "code",
    "executionInfo": {
     "elapsed": 300,
     "status": "ok",
     "timestamp": 1576133751686,
     "user": {
      "displayName": "Hyunsoo Kim",
      "photoUrl": "",
      "userId": "13555375600564903636"
     },
     "user_tz": 300
    },
    "id": "fOmVthO98Ivh",
    "outputId": "b47708c8-c963-4618-b948-3f469eb02dd7"
   },
   "outputs": [
    {
     "data": {
      "text/plain": [
       "[<matplotlib.lines.Line2D at 0x29ecd5fa8d0>]"
      ]
     },
     "execution_count": 138,
     "metadata": {},
     "output_type": "execute_result"
    }
   ],
   "source": [
    "# palladium\n",
    "plt.xlabel('Palladium')\n",
    "plt.ylabel('S&P 500')\n",
    "plt.scatter(dfpalladium[:len(dfsp500)]['% change Palladium'], dfsp500['% change S&P 500'])\n",
    "plt.plot(dfpalladium[1:]['% change Palladium'], palladium_pred)"
   ]
  },
  {
   "cell_type": "code",
   "execution_count": 139,
   "metadata": {
    "colab": {
     "base_uri": "https://localhost:8080/",
     "height": 34
    },
    "colab_type": "code",
    "executionInfo": {
     "elapsed": 615,
     "status": "ok",
     "timestamp": 1576133752502,
     "user": {
      "displayName": "Hyunsoo Kim",
      "photoUrl": "",
      "userId": "13555375600564903636"
     },
     "user_tz": 300
    },
    "id": "e4ByL0Yk_-1H",
    "outputId": "8ee6cf45-6159-4bac-c2cf-26f7a388100f"
   },
   "outputs": [
    {
     "data": {
      "text/plain": [
       "[<matplotlib.lines.Line2D at 0x29ec91bf8d0>]"
      ]
     },
     "execution_count": 139,
     "metadata": {},
     "output_type": "execute_result"
    }
   ],
   "source": [
    "# gold\n",
    "plt.xlabel('Gold')\n",
    "plt.ylabel('S&P 500')\n",
    "plt.scatter(gold[:len(dfsp500)]['% change Gold'], dfsp500['% change S&P 500'])\n",
    "plt.plot(gold[1:]['% change Gold'], gold_pred)"
   ]
  },
  {
   "cell_type": "code",
   "execution_count": 140,
   "metadata": {
    "colab": {
     "base_uri": "https://localhost:8080/",
     "height": 34
    },
    "colab_type": "code",
    "executionInfo": {
     "elapsed": 288,
     "status": "ok",
     "timestamp": 1576133752716,
     "user": {
      "displayName": "Hyunsoo Kim",
      "photoUrl": "",
      "userId": "13555375600564903636"
     },
     "user_tz": 300
    },
    "id": "H-RoRhclBL05",
    "outputId": "1de88963-58bc-406b-aea1-4c8ad540e14e"
   },
   "outputs": [
    {
     "data": {
      "text/plain": [
       "[<matplotlib.lines.Line2D at 0x29ec91bfb38>]"
      ]
     },
     "execution_count": 140,
     "metadata": {},
     "output_type": "execute_result"
    }
   ],
   "source": [
    "# bitcoin\n",
    "plt.xlabel('Bitcoin')\n",
    "plt.ylabel('S&P 500')\n",
    "plt.scatter(bitcoin[:len(dfsp500)]['% change Bitcoin'], dfsp500['% change S&P 500'])\n",
    "plt.plot(bitcoin[1:]['% change Bitcoin'], bitcoin_pred)"
   ]
  },
  {
   "cell_type": "code",
   "execution_count": 141,
   "metadata": {
    "colab": {
     "base_uri": "https://localhost:8080/",
     "height": 34
    },
    "colab_type": "code",
    "executionInfo": {
     "elapsed": 299,
     "status": "ok",
     "timestamp": 1576133753294,
     "user": {
      "displayName": "Hyunsoo Kim",
      "photoUrl": "",
      "userId": "13555375600564903636"
     },
     "user_tz": 300
    },
    "id": "59Hi-cvmBaQQ",
    "outputId": "1a0f10f8-4f16-4517-8936-cb5e63dcc843"
   },
   "outputs": [
    {
     "data": {
      "text/plain": [
       "[<matplotlib.lines.Line2D at 0x29ec9591d30>]"
      ]
     },
     "execution_count": 141,
     "metadata": {},
     "output_type": "execute_result"
    }
   ],
   "source": [
    "# platinum\n",
    "plt.xlabel('Platinum')\n",
    "plt.ylabel('S&P 500')\n",
    "plt.scatter(dfplatinum[:len(dfsp500)]['% change Platinum'], dfsp500['% change S&P 500'])\n",
    "plt.plot(dfplatinum[1:]['% change Platinum'], platinum_pred)"
   ]
  },
  {
   "cell_type": "code",
   "execution_count": 142,
   "metadata": {
    "colab": {
     "base_uri": "https://localhost:8080/",
     "height": 34
    },
    "colab_type": "code",
    "executionInfo": {
     "elapsed": 402,
     "status": "ok",
     "timestamp": 1576133753931,
     "user": {
      "displayName": "Hyunsoo Kim",
      "photoUrl": "",
      "userId": "13555375600564903636"
     },
     "user_tz": 300
    },
    "id": "3pOC2ITuBrhR",
    "outputId": "8f010691-bdac-4722-d1ac-395f4c0bc45a"
   },
   "outputs": [
    {
     "data": {
      "text/plain": [
       "[<matplotlib.lines.Line2D at 0x29ec95919e8>]"
      ]
     },
     "execution_count": 142,
     "metadata": {},
     "output_type": "execute_result"
    }
   ],
   "source": [
    "# corn\n",
    "plt.xlabel('Corn')\n",
    "plt.ylabel('S&P 500')\n",
    "plt.scatter(dfcorn['% change Corn'], dfsp500['% change S&P 500'])\n",
    "plt.plot(dfcorn[1:]['% change Corn'], corn_pred)"
   ]
  },
  {
   "cell_type": "markdown",
   "metadata": {
    "colab_type": "text",
    "id": "3HJ44jl_ItMR"
   },
   "source": [
    "9. Calculate and display the intercept, coefficient (slope), R2, and the Mean squared error."
   ]
  },
  {
   "cell_type": "code",
   "execution_count": 143,
   "metadata": {
    "colab": {
     "base_uri": "https://localhost:8080/",
     "height": 85
    },
    "colab_type": "code",
    "executionInfo": {
     "elapsed": 349,
     "status": "ok",
     "timestamp": 1576133755003,
     "user": {
      "displayName": "Hyunsoo Kim",
      "photoUrl": "",
      "userId": "13555375600564903636"
     },
     "user_tz": 300
    },
    "id": "7ZAYzTlQI0a3",
    "outputId": "d5d9bf78-e368-449b-d2d8-1334042416b2"
   },
   "outputs": [
    {
     "name": "stdout",
     "output_type": "stream",
     "text": [
      "Intercept:  [-0.00020476]\n",
      "Coefficient:  [[0.06570859]]\n",
      "R2:  0.012595748550440766\n",
      "Mean Squared error:  0.00032250960750459455\n"
     ]
    }
   ],
   "source": [
    "# palladium\n",
    "print(\"Intercept: \", regpalladium.intercept_)\n",
    "print(\"Coefficient: \", regpalladium.coef_)\n",
    "print('R2: ', r2_score(dfsp500[1:]['% change S&P 500'], palladium_pred[:len(dfsp500) - 1]))\n",
    "print(\"Mean Squared error: \", mean_squared_error(dfsp500[1:]['% change S&P 500'], palladium_pred[:len(dfsp500) - 1]))"
   ]
  },
  {
   "cell_type": "code",
   "execution_count": 144,
   "metadata": {
    "colab": {
     "base_uri": "https://localhost:8080/",
     "height": 85
    },
    "colab_type": "code",
    "executionInfo": {
     "elapsed": 262,
     "status": "ok",
     "timestamp": 1576133755518,
     "user": {
      "displayName": "Hyunsoo Kim",
      "photoUrl": "",
      "userId": "13555375600564903636"
     },
     "user_tz": 300
    },
    "id": "XSRxUFaaJNEP",
    "outputId": "d116d912-263d-46d5-ec9c-96e43c2cc3ff"
   },
   "outputs": [
    {
     "name": "stdout",
     "output_type": "stream",
     "text": [
      "Intercept: [-0.00020476]\n",
      "Coefficient: [[0.06570859]]\n",
      "R2:  0.0005518037364126149\n",
      "Mean Squared error:  0.00032644344504790764\n"
     ]
    }
   ],
   "source": [
    "# gold\n",
    "print(\"Intercept:\",reggold.intercept_)\n",
    "print(\"Coefficient:\",reggold.coef_)\n",
    "print('R2: ', r2_score(dfsp500[1:]['% change S&P 500'], gold_pred[:len(dfsp500) - 1]))\n",
    "print(\"Mean Squared error: \", mean_squared_error(dfsp500[1:]['% change S&P 500'], gold_pred[:len(dfsp500) - 1]))"
   ]
  },
  {
   "cell_type": "code",
   "execution_count": 145,
   "metadata": {
    "colab": {
     "base_uri": "https://localhost:8080/",
     "height": 85
    },
    "colab_type": "code",
    "executionInfo": {
     "elapsed": 284,
     "status": "ok",
     "timestamp": 1576133756194,
     "user": {
      "displayName": "Hyunsoo Kim",
      "photoUrl": "",
      "userId": "13555375600564903636"
     },
     "user_tz": 300
    },
    "id": "3KJK2BYUJbll",
    "outputId": "de074ad6-35dc-4fe8-ec4b-f4ca5d7ce673"
   },
   "outputs": [
    {
     "name": "stdout",
     "output_type": "stream",
     "text": [
      "Intercept: [-0.00020476]\n",
      "Coefficient: [[0.06570859]]\n",
      "R2:  0.0052390503906040164\n",
      "Mean Squared error:  0.00032491247930970944\n"
     ]
    }
   ],
   "source": [
    "# bitcoin\n",
    "print(\"Intercept:\",regbitcoin.intercept_)\n",
    "print(\"Coefficient:\",regbitcoin.coef_)\n",
    "print('R2: ', r2_score(dfsp500[1:]['% change S&P 500'], bitcoin_pred[:len(dfsp500) - 1]))\n",
    "print(\"Mean Squared error: \", mean_squared_error(dfsp500[1:]['% change S&P 500'], bitcoin_pred[:len(dfsp500) - 1]))"
   ]
  },
  {
   "cell_type": "code",
   "execution_count": 146,
   "metadata": {
    "colab": {
     "base_uri": "https://localhost:8080/",
     "height": 85
    },
    "colab_type": "code",
    "executionInfo": {
     "elapsed": 351,
     "status": "ok",
     "timestamp": 1576133756973,
     "user": {
      "displayName": "Hyunsoo Kim",
      "photoUrl": "",
      "userId": "13555375600564903636"
     },
     "user_tz": 300
    },
    "id": "0w-Q5lrAJq4D",
    "outputId": "dedfa22b-86d2-43db-d08e-a3e55ddfcb98"
   },
   "outputs": [
    {
     "name": "stdout",
     "output_type": "stream",
     "text": [
      "Intercept: [-0.00020476]\n",
      "Coefficient: [[0.06570859]]\n",
      "R2:  8.071768990747241e-05\n",
      "Mean Squared error:  0.00032659731290470104\n"
     ]
    }
   ],
   "source": [
    "# platinum\n",
    "print(\"Intercept:\",regplatinum.intercept_)\n",
    "print(\"Coefficient:\",regplatinum.coef_)\n",
    "print('R2: ', r2_score(dfsp500[1:]['% change S&P 500'], platinum_pred[:len(dfsp500) - 1]))\n",
    "print(\"Mean Squared error: \", mean_squared_error(dfsp500[1:]['% change S&P 500'], platinum_pred[:len(dfsp500) - 1]))"
   ]
  },
  {
   "cell_type": "code",
   "execution_count": 147,
   "metadata": {
    "colab": {
     "base_uri": "https://localhost:8080/",
     "height": 85
    },
    "colab_type": "code",
    "executionInfo": {
     "elapsed": 178,
     "status": "ok",
     "timestamp": 1576133757422,
     "user": {
      "displayName": "Hyunsoo Kim",
      "photoUrl": "",
      "userId": "13555375600564903636"
     },
     "user_tz": 300
    },
    "id": "jyxB1mDCJ6QZ",
    "outputId": "5bf5f330-fb00-48c9-aebc-203c276c4897"
   },
   "outputs": [
    {
     "name": "stdout",
     "output_type": "stream",
     "text": [
      "Intercept: [-0.00020476]\n",
      "Coefficient: [[0.06570859]]\n",
      "R2:  0.00211339929941301\n",
      "Mean Squared error:  0.0003259333909628003\n"
     ]
    }
   ],
   "source": [
    "# corn\n",
    "print(\"Intercept:\",regcorn.intercept_)\n",
    "print(\"Coefficient:\",regcorn.coef_)\n",
    "print('R2: ', r2_score(dfsp500[1:]['% change S&P 500'], corn_pred))\n",
    "print(\"Mean Squared error: \", mean_squared_error(dfsp500[1:]['% change S&P 500'], corn_pred))"
   ]
  },
  {
   "cell_type": "markdown",
   "metadata": {
    "colab_type": "text",
    "id": "z_nJNGjevJH8"
   },
   "source": [
    "10. Which asset is highly correlated with the S&P 500 and which asset is the least correlated?"
   ]
  },
  {
   "cell_type": "code",
   "execution_count": 148,
   "metadata": {
    "colab": {},
    "colab_type": "code",
    "id": "QQpc6521vScT"
   },
   "outputs": [],
   "source": [
    "a = palladium.corr(sp500_close)"
   ]
  },
  {
   "cell_type": "code",
   "execution_count": 149,
   "metadata": {
    "colab": {},
    "colab_type": "code",
    "id": "yYXtwnnzBrag"
   },
   "outputs": [],
   "source": [
    "b = platinum.corr(sp500_close)"
   ]
  },
  {
   "cell_type": "code",
   "execution_count": 150,
   "metadata": {
    "colab": {},
    "colab_type": "code",
    "id": "0yeWDxY4WL3I"
   },
   "outputs": [],
   "source": [
    "c = corn.corr(sp500_close)"
   ]
  },
  {
   "cell_type": "code",
   "execution_count": 151,
   "metadata": {
    "colab": {},
    "colab_type": "code",
    "id": "-mpkd5bjVjbn"
   },
   "outputs": [],
   "source": [
    "d = gold['% change Gold'].corr(sp500_close)"
   ]
  },
  {
   "cell_type": "code",
   "execution_count": 152,
   "metadata": {
    "colab": {},
    "colab_type": "code",
    "id": "f0la1rRBWELn"
   },
   "outputs": [],
   "source": [
    "e = bitcoin['% change Bitcoin'].corr(sp500_close)"
   ]
  },
  {
   "cell_type": "code",
   "execution_count": 153,
   "metadata": {
    "colab": {
     "base_uri": "https://localhost:8080/",
     "height": 204
    },
    "colab_type": "code",
    "executionInfo": {
     "elapsed": 377,
     "status": "ok",
     "timestamp": 1576133762705,
     "user": {
      "displayName": "Hyunsoo Kim",
      "photoUrl": "",
      "userId": "13555375600564903636"
     },
     "user_tz": 300
    },
    "id": "DeF7kvTjXiHD",
    "outputId": "06a470f6-d386-4536-a019-4169eb2cce63"
   },
   "outputs": [
    {
     "data": {
      "text/html": [
       "<div>\n",
       "<style scoped>\n",
       "    .dataframe tbody tr th:only-of-type {\n",
       "        vertical-align: middle;\n",
       "    }\n",
       "\n",
       "    .dataframe tbody tr th {\n",
       "        vertical-align: top;\n",
       "    }\n",
       "\n",
       "    .dataframe thead th {\n",
       "        text-align: right;\n",
       "    }\n",
       "</style>\n",
       "<table border=\"1\" class=\"dataframe\">\n",
       "  <thead>\n",
       "    <tr style=\"text-align: right;\">\n",
       "      <th></th>\n",
       "      <th>Correlation with S&amp;P 500</th>\n",
       "    </tr>\n",
       "  </thead>\n",
       "  <tbody>\n",
       "    <tr>\n",
       "      <th>Bitcoin</th>\n",
       "      <td>-0.101840</td>\n",
       "    </tr>\n",
       "    <tr>\n",
       "      <th>Corn</th>\n",
       "      <td>0.033147</td>\n",
       "    </tr>\n",
       "    <tr>\n",
       "      <th>Gold</th>\n",
       "      <td>0.071102</td>\n",
       "    </tr>\n",
       "    <tr>\n",
       "      <th>Palladium</th>\n",
       "      <td>0.150514</td>\n",
       "    </tr>\n",
       "    <tr>\n",
       "      <th>Platinum</th>\n",
       "      <td>0.046991</td>\n",
       "    </tr>\n",
       "  </tbody>\n",
       "</table>\n",
       "</div>"
      ],
      "text/plain": [
       "           Correlation with S&P 500\n",
       "Bitcoin                   -0.101840\n",
       "Corn                       0.033147\n",
       "Gold                       0.071102\n",
       "Palladium                  0.150514\n",
       "Platinum                   0.046991"
      ]
     },
     "execution_count": 153,
     "metadata": {},
     "output_type": "execute_result"
    }
   ],
   "source": [
    "dt = {'Correlation with S&P 500':[e, c, d, a, b]}\n",
    "combinecorr= pd.DataFrame(dt, columns=['Correlation with S&P 500'], index = ['Bitcoin', 'Corn', 'Gold', 'Palladium', 'Platinum'])\n",
    "combinecorr"
   ]
  },
  {
   "cell_type": "code",
   "execution_count": 154,
   "metadata": {
    "colab": {
     "base_uri": "https://localhost:8080/",
     "height": 51
    },
    "colab_type": "code",
    "executionInfo": {
     "elapsed": 286,
     "status": "ok",
     "timestamp": 1576133763412,
     "user": {
      "displayName": "Hyunsoo Kim",
      "photoUrl": "",
      "userId": "13555375600564903636"
     },
     "user_tz": 300
    },
    "id": "jxTJt_wsfOc8",
    "outputId": "f82be9b9-e5e7-457d-a39a-0576c5139639"
   },
   "outputs": [
    {
     "name": "stdout",
     "output_type": "stream",
     "text": [
      "the higly correlated is Correlation with S&P 500    Palladium\n",
      "dtype: object\n"
     ]
    }
   ],
   "source": [
    "print(\"the higly correlated is\", combinecorr.idxmax(axis=0, skipna=True))"
   ]
  },
  {
   "cell_type": "code",
   "execution_count": 155,
   "metadata": {
    "colab": {
     "base_uri": "https://localhost:8080/",
     "height": 51
    },
    "colab_type": "code",
    "executionInfo": {
     "elapsed": 136,
     "status": "ok",
     "timestamp": 1576133764233,
     "user": {
      "displayName": "Hyunsoo Kim",
      "photoUrl": "",
      "userId": "13555375600564903636"
     },
     "user_tz": 300
    },
    "id": "L2wS3HXXmSju",
    "outputId": "3f000789-33a1-46e1-99b4-d9770043286f"
   },
   "outputs": [
    {
     "name": "stdout",
     "output_type": "stream",
     "text": [
      "the least correlated is Correlation with S&P 500    Bitcoin\n",
      "dtype: object\n"
     ]
    }
   ],
   "source": [
    "print(\"the least correlated is\", combinecorr.idxmin(axis=0, skipna=True))"
   ]
  }
 ],
 "metadata": {
  "colab": {
   "collapsed_sections": [],
   "name": "Python Project.ipynb",
   "provenance": []
  },
  "kernelspec": {
   "display_name": "Python 3",
   "language": "python",
   "name": "python3"
  },
  "language_info": {
   "codemirror_mode": {
    "name": "ipython",
    "version": 3
   },
   "file_extension": ".py",
   "mimetype": "text/x-python",
   "name": "python",
   "nbconvert_exporter": "python",
   "pygments_lexer": "ipython3",
   "version": "3.7.3"
  }
 },
 "nbformat": 4,
 "nbformat_minor": 1
}
